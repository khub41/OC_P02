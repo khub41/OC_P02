{
 "cells": [
  {
   "cell_type": "markdown",
   "metadata": {},
   "source": [
    "# OpenClassrooms Parcours Data Scientist\n",
    "## Hugo REBEIX\n",
    "# Projet 2 : Analysez des données de systèmes éducatifs"
   ]
  },
  {
   "cell_type": "markdown",
   "metadata": {},
   "source": [
    "____________________________________________________________________________________________________________________________________________________________________\n",
    "### Contexte\n",
    "Vous êtes Data Scientist dans une start-up de la EdTech, nommée academy, qui propose des contenus de formation en ligne pour un public de niveau lycée et université.\n",
    "Mark, votre manager, vous a convié à une réunion pour vous présenter le projet d’expansion à l’international de l’entreprise. Il vous confie une première mission d’analyse exploratoire, pour déterminer si les données sur l’éducation de la banque mondiale permettent d’informer le projet d’expansion.\n",
    "### Source de données\n",
    "La source de données est la banque mondiale de la Data qui fournit de nombreux indicateurs sur des sujets tels que la santé, l'éducation, l'agriculture, l'accès à internet etc...\n",
    "### Objectifs \n",
    "#### Quels sont les pays avec un fort potentiel de clients pour nos services ?\n",
    "#### Pour chacun de ces pays, quelle sera l’évolution de ce potentiel de clients ?\n",
    "#### Dans quels pays l'entreprise doit-elle opérer en priorité ?\n",
    "### Missions:\n",
    "#### Valider la qualité de ce jeu de données (comporte-t-il beaucoup de données manquantes, dupliquées ?)\n",
    "#### Décrire les informations contenues dans le jeu de données (nombre de colonnes ? nombre de lignes ?)\n",
    "#### Sélectionner les informations qui semblent pertinentes pour répondre à la problématique (quelles sont les colonnes contenant des informations qui peuvent être utiles pour répondre à la problématique de l’entreprise ?)\n",
    "#### Déterminer des ordres de grandeurs des indicateurs statistiques classiques pour les différentes zones géographiques et pays du monde (moyenne/médiane/écart-type par pays et par continent ou bloc géographique)\n",
    "___________________________________________________________________________________________________________________________________________________________________"
   ]
  },
  {
   "cell_type": "markdown",
   "metadata": {},
   "source": [
    "NB : la donnée exploitée a fait l'objet de jointures dans un autre notebook présent dans le même repository [Voir le notebook](./data_merging)\n",
    "Dans ce notebook, nous étudierons la donnée brute afin de comprendre sa structure pour en tirer les informations générales sur son remplisage. Nous procederons ainsi à un nettoyage. Ensuite nous identifierons des indicateurs clés pour selectionner certains pays et observer les perspectives de marché.\n",
    "For more details, see [Analyse préliminaire](###section_1)"
   ]
  },
  {
   "cell_type": "markdown",
   "metadata": {},
   "source": [
    "## Sommaire\n",
    "#### Analyse preliminaire\n",
    "#### Cleaning [go](#cleaning)\n",
    "#### Analyse des indicateurs\n",
    "#### Conclusion"
   ]
  },
  {
   "cell_type": "code",
   "execution_count": 1,
   "metadata": {},
   "outputs": [],
   "source": [
    "import pandas as pd\n",
    "import matplotlib.pyplot as plt\n",
    "import seaborn as sns\n",
    "import numpy as np"
   ]
  },
  {
   "cell_type": "code",
   "execution_count": 2,
   "metadata": {},
   "outputs": [
    {
     "name": "stderr",
     "output_type": "stream",
     "text": [
      "C:\\Users\\S053567\\AppData\\Roaming\\Python\\Python38\\site-packages\\IPython\\core\\interactiveshell.py:3145: DtypeWarning: Columns (95,96,97,98,100,102,103,104,105,106,107,108,109,110,111,112,113,114,115,116,117,120,122) have mixed types.Specify dtype option on import or set low_memory=False.\n",
      "  has_raised = await self.run_ast_nodes(code_ast.body, cell_name,\n"
     ]
    }
   ],
   "source": [
    "data = pd.read_csv('data/data_raw.csv')"
   ]
  },
  {
   "cell_type": "markdown",
   "metadata": {},
   "source": [
    "<a id=’section_1’></a>\n",
    "## Analyse préliminaire"
   ]
  },
  {
   "cell_type": "code",
   "execution_count": 3,
   "metadata": {},
   "outputs": [
    {
     "data": {
      "text/plain": [
       "(870492, 124)"
      ]
     },
     "execution_count": 3,
     "metadata": {},
     "output_type": "execute_result"
    }
   ],
   "source": [
    "data.shape"
   ]
  },
  {
   "cell_type": "code",
   "execution_count": 4,
   "metadata": {},
   "outputs": [],
   "source": [
    "describe = data.describe(include='all')"
   ]
  },
  {
   "cell_type": "code",
   "execution_count": 5,
   "metadata": {},
   "outputs": [
    {
     "data": {
      "text/html": [
       "<div>\n",
       "<style scoped>\n",
       "    .dataframe tbody tr th:only-of-type {\n",
       "        vertical-align: middle;\n",
       "    }\n",
       "\n",
       "    .dataframe tbody tr th {\n",
       "        vertical-align: top;\n",
       "    }\n",
       "\n",
       "    .dataframe thead th {\n",
       "        text-align: right;\n",
       "    }\n",
       "</style>\n",
       "<table border=\"1\" class=\"dataframe\">\n",
       "  <thead>\n",
       "    <tr style=\"text-align: right;\">\n",
       "      <th></th>\n",
       "      <th>Unnamed: 0</th>\n",
       "      <th>Country Name</th>\n",
       "      <th>Country Code</th>\n",
       "      <th>Indicator Name_x</th>\n",
       "      <th>Indicator Code</th>\n",
       "      <th>1970</th>\n",
       "      <th>1971</th>\n",
       "      <th>1972</th>\n",
       "      <th>1973</th>\n",
       "      <th>1974</th>\n",
       "      <th>...</th>\n",
       "      <th>Latest household survey</th>\n",
       "      <th>Source of most recent Income and expenditure data</th>\n",
       "      <th>Vital registration complete</th>\n",
       "      <th>Latest agricultural census</th>\n",
       "      <th>Latest industrial data</th>\n",
       "      <th>Latest trade data</th>\n",
       "      <th>Latest water withdrawal data</th>\n",
       "      <th>Unnamed: 31</th>\n",
       "      <th>DESCRIPTION</th>\n",
       "      <th>Unnamed: 3</th>\n",
       "    </tr>\n",
       "  </thead>\n",
       "  <tbody>\n",
       "    <tr>\n",
       "      <th>count</th>\n",
       "      <td>870492.000000</td>\n",
       "      <td>870492</td>\n",
       "      <td>870492</td>\n",
       "      <td>870492</td>\n",
       "      <td>870492</td>\n",
       "      <td>7.148000e+04</td>\n",
       "      <td>3.444300e+04</td>\n",
       "      <td>3.451400e+04</td>\n",
       "      <td>3.446700e+04</td>\n",
       "      <td>3.467500e+04</td>\n",
       "      <td>...</td>\n",
       "      <td>509292</td>\n",
       "      <td>577920</td>\n",
       "      <td>400932</td>\n",
       "      <td>512904.0</td>\n",
       "      <td>386484.000000</td>\n",
       "      <td>668220.000000</td>\n",
       "      <td>646548.0</td>\n",
       "      <td>0.0</td>\n",
       "      <td>613</td>\n",
       "      <td>0.0</td>\n",
       "    </tr>\n",
       "    <tr>\n",
       "      <th>unique</th>\n",
       "      <td>NaN</td>\n",
       "      <td>241</td>\n",
       "      <td>241</td>\n",
       "      <td>3612</td>\n",
       "      <td>3612</td>\n",
       "      <td>NaN</td>\n",
       "      <td>NaN</td>\n",
       "      <td>NaN</td>\n",
       "      <td>NaN</td>\n",
       "      <td>NaN</td>\n",
       "      <td>...</td>\n",
       "      <td>60</td>\n",
       "      <td>75</td>\n",
       "      <td>2</td>\n",
       "      <td>44.0</td>\n",
       "      <td>NaN</td>\n",
       "      <td>NaN</td>\n",
       "      <td>21.0</td>\n",
       "      <td>NaN</td>\n",
       "      <td>97</td>\n",
       "      <td>NaN</td>\n",
       "    </tr>\n",
       "    <tr>\n",
       "      <th>top</th>\n",
       "      <td>NaN</td>\n",
       "      <td>North America</td>\n",
       "      <td>MKD</td>\n",
       "      <td>PASEC: Percentage of 2nd grade students correc...</td>\n",
       "      <td>PRJ.ATT.4064.1.MF</td>\n",
       "      <td>NaN</td>\n",
       "      <td>NaN</td>\n",
       "      <td>NaN</td>\n",
       "      <td>NaN</td>\n",
       "      <td>NaN</td>\n",
       "      <td>...</td>\n",
       "      <td>Demographic and Health Survey (DHS), 2013</td>\n",
       "      <td>Integrated household survey (IHS), 2012</td>\n",
       "      <td>Yes</td>\n",
       "      <td>2010.0</td>\n",
       "      <td>NaN</td>\n",
       "      <td>NaN</td>\n",
       "      <td>2005.0</td>\n",
       "      <td>NaN</td>\n",
       "      <td>Data sources : United Nations World Population...</td>\n",
       "      <td>NaN</td>\n",
       "    </tr>\n",
       "    <tr>\n",
       "      <th>freq</th>\n",
       "      <td>NaN</td>\n",
       "      <td>3612</td>\n",
       "      <td>3612</td>\n",
       "      <td>241</td>\n",
       "      <td>241</td>\n",
       "      <td>NaN</td>\n",
       "      <td>NaN</td>\n",
       "      <td>NaN</td>\n",
       "      <td>NaN</td>\n",
       "      <td>NaN</td>\n",
       "      <td>...</td>\n",
       "      <td>36120</td>\n",
       "      <td>54180</td>\n",
       "      <td>397320</td>\n",
       "      <td>82920.0</td>\n",
       "      <td>NaN</td>\n",
       "      <td>NaN</td>\n",
       "      <td>144480.0</td>\n",
       "      <td>NaN</td>\n",
       "      <td>154</td>\n",
       "      <td>NaN</td>\n",
       "    </tr>\n",
       "    <tr>\n",
       "      <th>mean</th>\n",
       "      <td>435245.500000</td>\n",
       "      <td>NaN</td>\n",
       "      <td>NaN</td>\n",
       "      <td>NaN</td>\n",
       "      <td>NaN</td>\n",
       "      <td>1.997095e+09</td>\n",
       "      <td>4.388745e+09</td>\n",
       "      <td>4.739394e+09</td>\n",
       "      <td>5.264671e+09</td>\n",
       "      <td>5.565835e+09</td>\n",
       "      <td>...</td>\n",
       "      <td>NaN</td>\n",
       "      <td>NaN</td>\n",
       "      <td>NaN</td>\n",
       "      <td>NaN</td>\n",
       "      <td>2008.102804</td>\n",
       "      <td>2010.994595</td>\n",
       "      <td>NaN</td>\n",
       "      <td>NaN</td>\n",
       "      <td>NaN</td>\n",
       "      <td>NaN</td>\n",
       "    </tr>\n",
       "    <tr>\n",
       "      <th>std</th>\n",
       "      <td>251289.539602</td>\n",
       "      <td>NaN</td>\n",
       "      <td>NaN</td>\n",
       "      <td>NaN</td>\n",
       "      <td>NaN</td>\n",
       "      <td>1.218514e+11</td>\n",
       "      <td>1.833238e+11</td>\n",
       "      <td>1.944465e+11</td>\n",
       "      <td>2.091105e+11</td>\n",
       "      <td>2.144020e+11</td>\n",
       "      <td>...</td>\n",
       "      <td>NaN</td>\n",
       "      <td>NaN</td>\n",
       "      <td>NaN</td>\n",
       "      <td>NaN</td>\n",
       "      <td>2.604581</td>\n",
       "      <td>2.562723</td>\n",
       "      <td>NaN</td>\n",
       "      <td>NaN</td>\n",
       "      <td>NaN</td>\n",
       "      <td>NaN</td>\n",
       "    </tr>\n",
       "    <tr>\n",
       "      <th>min</th>\n",
       "      <td>0.000000</td>\n",
       "      <td>NaN</td>\n",
       "      <td>NaN</td>\n",
       "      <td>NaN</td>\n",
       "      <td>NaN</td>\n",
       "      <td>-1.435564e+00</td>\n",
       "      <td>-1.594625e+00</td>\n",
       "      <td>-3.056522e+00</td>\n",
       "      <td>-4.032582e+00</td>\n",
       "      <td>-4.213563e+00</td>\n",
       "      <td>...</td>\n",
       "      <td>NaN</td>\n",
       "      <td>NaN</td>\n",
       "      <td>NaN</td>\n",
       "      <td>NaN</td>\n",
       "      <td>2000.000000</td>\n",
       "      <td>1995.000000</td>\n",
       "      <td>NaN</td>\n",
       "      <td>NaN</td>\n",
       "      <td>NaN</td>\n",
       "      <td>NaN</td>\n",
       "    </tr>\n",
       "    <tr>\n",
       "      <th>25%</th>\n",
       "      <td>217622.750000</td>\n",
       "      <td>NaN</td>\n",
       "      <td>NaN</td>\n",
       "      <td>NaN</td>\n",
       "      <td>NaN</td>\n",
       "      <td>8.700000e-01</td>\n",
       "      <td>1.045615e+01</td>\n",
       "      <td>1.076718e+01</td>\n",
       "      <td>1.116327e+01</td>\n",
       "      <td>1.131197e+01</td>\n",
       "      <td>...</td>\n",
       "      <td>NaN</td>\n",
       "      <td>NaN</td>\n",
       "      <td>NaN</td>\n",
       "      <td>NaN</td>\n",
       "      <td>2007.000000</td>\n",
       "      <td>2011.000000</td>\n",
       "      <td>NaN</td>\n",
       "      <td>NaN</td>\n",
       "      <td>NaN</td>\n",
       "      <td>NaN</td>\n",
       "    </tr>\n",
       "    <tr>\n",
       "      <th>50%</th>\n",
       "      <td>435245.500000</td>\n",
       "      <td>NaN</td>\n",
       "      <td>NaN</td>\n",
       "      <td>NaN</td>\n",
       "      <td>NaN</td>\n",
       "      <td>6.570000e+00</td>\n",
       "      <td>7.207677e+01</td>\n",
       "      <td>7.685992e+01</td>\n",
       "      <td>7.963683e+01</td>\n",
       "      <td>8.090797e+01</td>\n",
       "      <td>...</td>\n",
       "      <td>NaN</td>\n",
       "      <td>NaN</td>\n",
       "      <td>NaN</td>\n",
       "      <td>NaN</td>\n",
       "      <td>2009.000000</td>\n",
       "      <td>2012.000000</td>\n",
       "      <td>NaN</td>\n",
       "      <td>NaN</td>\n",
       "      <td>NaN</td>\n",
       "      <td>NaN</td>\n",
       "    </tr>\n",
       "    <tr>\n",
       "      <th>75%</th>\n",
       "      <td>652868.250000</td>\n",
       "      <td>NaN</td>\n",
       "      <td>NaN</td>\n",
       "      <td>NaN</td>\n",
       "      <td>NaN</td>\n",
       "      <td>6.387674e+01</td>\n",
       "      <td>6.452600e+04</td>\n",
       "      <td>6.653125e+04</td>\n",
       "      <td>6.973650e+04</td>\n",
       "      <td>7.127600e+04</td>\n",
       "      <td>...</td>\n",
       "      <td>NaN</td>\n",
       "      <td>NaN</td>\n",
       "      <td>NaN</td>\n",
       "      <td>NaN</td>\n",
       "      <td>2010.000000</td>\n",
       "      <td>2012.000000</td>\n",
       "      <td>NaN</td>\n",
       "      <td>NaN</td>\n",
       "      <td>NaN</td>\n",
       "      <td>NaN</td>\n",
       "    </tr>\n",
       "    <tr>\n",
       "      <th>max</th>\n",
       "      <td>870491.000000</td>\n",
       "      <td>NaN</td>\n",
       "      <td>NaN</td>\n",
       "      <td>NaN</td>\n",
       "      <td>NaN</td>\n",
       "      <td>1.903929e+13</td>\n",
       "      <td>1.986457e+13</td>\n",
       "      <td>2.100916e+13</td>\n",
       "      <td>2.238367e+13</td>\n",
       "      <td>2.282991e+13</td>\n",
       "      <td>...</td>\n",
       "      <td>NaN</td>\n",
       "      <td>NaN</td>\n",
       "      <td>NaN</td>\n",
       "      <td>NaN</td>\n",
       "      <td>2010.000000</td>\n",
       "      <td>2012.000000</td>\n",
       "      <td>NaN</td>\n",
       "      <td>NaN</td>\n",
       "      <td>NaN</td>\n",
       "      <td>NaN</td>\n",
       "    </tr>\n",
       "  </tbody>\n",
       "</table>\n",
       "<p>11 rows × 124 columns</p>\n",
       "</div>"
      ],
      "text/plain": [
       "           Unnamed: 0   Country Name Country Code  \\\n",
       "count   870492.000000         870492       870492   \n",
       "unique            NaN            241          241   \n",
       "top               NaN  North America          MKD   \n",
       "freq              NaN           3612         3612   \n",
       "mean    435245.500000            NaN          NaN   \n",
       "std     251289.539602            NaN          NaN   \n",
       "min          0.000000            NaN          NaN   \n",
       "25%     217622.750000            NaN          NaN   \n",
       "50%     435245.500000            NaN          NaN   \n",
       "75%     652868.250000            NaN          NaN   \n",
       "max     870491.000000            NaN          NaN   \n",
       "\n",
       "                                         Indicator Name_x     Indicator Code  \\\n",
       "count                                              870492             870492   \n",
       "unique                                               3612               3612   \n",
       "top     PASEC: Percentage of 2nd grade students correc...  PRJ.ATT.4064.1.MF   \n",
       "freq                                                  241                241   \n",
       "mean                                                  NaN                NaN   \n",
       "std                                                   NaN                NaN   \n",
       "min                                                   NaN                NaN   \n",
       "25%                                                   NaN                NaN   \n",
       "50%                                                   NaN                NaN   \n",
       "75%                                                   NaN                NaN   \n",
       "max                                                   NaN                NaN   \n",
       "\n",
       "                1970          1971          1972          1973          1974  \\\n",
       "count   7.148000e+04  3.444300e+04  3.451400e+04  3.446700e+04  3.467500e+04   \n",
       "unique           NaN           NaN           NaN           NaN           NaN   \n",
       "top              NaN           NaN           NaN           NaN           NaN   \n",
       "freq             NaN           NaN           NaN           NaN           NaN   \n",
       "mean    1.997095e+09  4.388745e+09  4.739394e+09  5.264671e+09  5.565835e+09   \n",
       "std     1.218514e+11  1.833238e+11  1.944465e+11  2.091105e+11  2.144020e+11   \n",
       "min    -1.435564e+00 -1.594625e+00 -3.056522e+00 -4.032582e+00 -4.213563e+00   \n",
       "25%     8.700000e-01  1.045615e+01  1.076718e+01  1.116327e+01  1.131197e+01   \n",
       "50%     6.570000e+00  7.207677e+01  7.685992e+01  7.963683e+01  8.090797e+01   \n",
       "75%     6.387674e+01  6.452600e+04  6.653125e+04  6.973650e+04  7.127600e+04   \n",
       "max     1.903929e+13  1.986457e+13  2.100916e+13  2.238367e+13  2.282991e+13   \n",
       "\n",
       "        ...                    Latest household survey  \\\n",
       "count   ...                                     509292   \n",
       "unique  ...                                         60   \n",
       "top     ...  Demographic and Health Survey (DHS), 2013   \n",
       "freq    ...                                      36120   \n",
       "mean    ...                                        NaN   \n",
       "std     ...                                        NaN   \n",
       "min     ...                                        NaN   \n",
       "25%     ...                                        NaN   \n",
       "50%     ...                                        NaN   \n",
       "75%     ...                                        NaN   \n",
       "max     ...                                        NaN   \n",
       "\n",
       "        Source of most recent Income and expenditure data  \\\n",
       "count                                              577920   \n",
       "unique                                                 75   \n",
       "top               Integrated household survey (IHS), 2012   \n",
       "freq                                                54180   \n",
       "mean                                                  NaN   \n",
       "std                                                   NaN   \n",
       "min                                                   NaN   \n",
       "25%                                                   NaN   \n",
       "50%                                                   NaN   \n",
       "75%                                                   NaN   \n",
       "max                                                   NaN   \n",
       "\n",
       "        Vital registration complete  Latest agricultural census  \\\n",
       "count                        400932                    512904.0   \n",
       "unique                            2                        44.0   \n",
       "top                             Yes                      2010.0   \n",
       "freq                         397320                     82920.0   \n",
       "mean                            NaN                         NaN   \n",
       "std                             NaN                         NaN   \n",
       "min                             NaN                         NaN   \n",
       "25%                             NaN                         NaN   \n",
       "50%                             NaN                         NaN   \n",
       "75%                             NaN                         NaN   \n",
       "max                             NaN                         NaN   \n",
       "\n",
       "        Latest industrial data  Latest trade data  \\\n",
       "count            386484.000000      668220.000000   \n",
       "unique                     NaN                NaN   \n",
       "top                        NaN                NaN   \n",
       "freq                       NaN                NaN   \n",
       "mean               2008.102804        2010.994595   \n",
       "std                   2.604581           2.562723   \n",
       "min                2000.000000        1995.000000   \n",
       "25%                2007.000000        2011.000000   \n",
       "50%                2009.000000        2012.000000   \n",
       "75%                2010.000000        2012.000000   \n",
       "max                2010.000000        2012.000000   \n",
       "\n",
       "        Latest water withdrawal data  Unnamed: 31  \\\n",
       "count                       646548.0          0.0   \n",
       "unique                          21.0          NaN   \n",
       "top                           2005.0          NaN   \n",
       "freq                        144480.0          NaN   \n",
       "mean                             NaN          NaN   \n",
       "std                              NaN          NaN   \n",
       "min                              NaN          NaN   \n",
       "25%                              NaN          NaN   \n",
       "50%                              NaN          NaN   \n",
       "75%                              NaN          NaN   \n",
       "max                              NaN          NaN   \n",
       "\n",
       "                                              DESCRIPTION  Unnamed: 3  \n",
       "count                                                 613         0.0  \n",
       "unique                                                 97         NaN  \n",
       "top     Data sources : United Nations World Population...         NaN  \n",
       "freq                                                  154         NaN  \n",
       "mean                                                  NaN         NaN  \n",
       "std                                                   NaN         NaN  \n",
       "min                                                   NaN         NaN  \n",
       "25%                                                   NaN         NaN  \n",
       "50%                                                   NaN         NaN  \n",
       "75%                                                   NaN         NaN  \n",
       "max                                                   NaN         NaN  \n",
       "\n",
       "[11 rows x 124 columns]"
      ]
     },
     "execution_count": 5,
     "metadata": {},
     "output_type": "execute_result"
    }
   ],
   "source": [
    "describe"
   ]
  },
  {
   "cell_type": "markdown",
   "metadata": {},
   "source": [
    "Faisons un état des lieux du set de données non nettoyé"
   ]
  },
  {
   "cell_type": "code",
   "execution_count": 6,
   "metadata": {},
   "outputs": [
    {
     "data": {
      "text/plain": [
       "870492"
      ]
     },
     "execution_count": 6,
     "metadata": {},
     "output_type": "execute_result"
    }
   ],
   "source": [
    "nb_rows = len(data)\n",
    "nb_rows"
   ]
  },
  {
   "cell_type": "code",
   "execution_count": 7,
   "metadata": {},
   "outputs": [],
   "source": [
    "counts = describe.iloc[0]"
   ]
  },
  {
   "cell_type": "code",
   "execution_count": 8,
   "metadata": {},
   "outputs": [],
   "source": [
    "counts = np.array(counts)\n",
    "counts_freq = counts/nb_rows\n",
    "xlabel1 = data.columns[:int(len(data.columns)/2)]\n",
    "xlabel2 = data.columns[int(len(data.columns)/2):]\n",
    "counts_freq1 = counts_freq[:int(len(data.columns)/2)]\n",
    "counts_freq2 = counts_freq[int(len(data.columns)/2):]"
   ]
  },
  {
   "cell_type": "code",
   "execution_count": 9,
   "metadata": {},
   "outputs": [
    {
     "data": {
      "text/plain": [
       "<BarContainer object of 62 artists>"
      ]
     },
     "execution_count": 9,
     "metadata": {},
     "output_type": "execute_result"
    },
    {
     "data": {
      "image/png": "[encoded data removed]",
      "text/plain": [
       "<Figure size 1440x216 with 1 Axes>"
      ]
     },
     "metadata": {
      "needs_background": "light"
     },
     "output_type": "display_data"
    }
   ],
   "source": [
    "fig = plt.figure(figsize=(20,3))\n",
    "plt.style.use('seaborn')\n",
    "plt.title(\"Taux de remplissage par colonnes\", fontsize=18)\n",
    "plt.xticks(rotation=90, fontsize=14)\n",
    "plt.grid(False, axis='y')\n",
    "plt.bar(xlabel1, counts_freq1, align='center')"
   ]
  },
  {
   "cell_type": "code",
   "execution_count": 10,
   "metadata": {},
   "outputs": [
    {
     "data": {
      "text/plain": [
       "<BarContainer object of 62 artists>"
      ]
     },
     "execution_count": 10,
     "metadata": {},
     "output_type": "execute_result"
    },
    {
     "data": {
      "image/png": "[encoded data removed]",
      "text/plain": [
       "<Figure size 1440x216 with 1 Axes>"
      ]
     },
     "metadata": {},
     "output_type": "display_data"
    }
   ],
   "source": [
    "fig = plt.figure(figsize=(20,3))\n",
    "plt.style.use('seaborn')\n",
    "plt.title(\"Taux de remplissage par colonnes\", fontsize=18)\n",
    "plt.xticks(rotation=90, fontsize=14)\n",
    "plt.grid(False, axis='y')\n",
    "plt.bar(xlabel2, counts_freq2, align='center')"
   ]
  },
  {
   "cell_type": "code",
   "execution_count": 11,
   "metadata": {},
   "outputs": [],
   "source": [
    "cells_total = data.size\n",
    "filled_cells = counts.sum()\n",
    "empty_cells = cells_total - filled_cells"
   ]
  },
  {
   "cell_type": "code",
   "execution_count": 12,
   "metadata": {},
   "outputs": [
    {
     "data": {
      "image/png": "[encoded data removed]",
      "text/plain": [
       "<Figure size 432x432 with 1 Axes>"
      ]
     },
     "metadata": {},
     "output_type": "display_data"
    }
   ],
   "source": [
    "fig = plt.figure(figsize=(6,6))\n",
    "plt.title('Repartition remplissage', fontsize=16)\n",
    "plt.pie([empty_cells, filled_cells], labels=['Cellules vides', 'Cellules renseignées'], colors=['#EE7352', '#68C385'], autopct='%1.1f%%', textprops={'fontsize': 14})\n",
    "plt.axis('equal')\n",
    "plt.show()"
   ]
  },
  {
   "cell_type": "markdown",
   "metadata": {},
   "source": [
    "### Explorons le taux de remplissage des colonnes années"
   ]
  },
  {
   "cell_type": "markdown",
   "metadata": {},
   "source": [
    "Il y a deux types de données pour les indicateurs par années. Il y a les données collectées (passé) et les données pour le future qui sont des predictions"
   ]
  },
  {
   "cell_type": "code",
   "execution_count": 13,
   "metadata": {},
   "outputs": [],
   "source": [
    "years = np.array(['1970', '1971', '1972', '1973', '1974', '1975', '1976', '1977', '1978',\n",
    "       '1979', '1980', '1981', '1982', '1983', '1984', '1985', '1986', '1987',\n",
    "       '1988', '1989', '1990', '1991', '1992', '1993', '1994', '1995', '1996',\n",
    "       '1997', '1998', '1999', '2000', '2001', '2002', '2003', '2004', '2005',\n",
    "       '2006', '2007', '2008', '2009', '2010', '2011', '2012', '2013', '2014',\n",
    "       '2015', '2016', '2017', '2020', '2025', '2030', '2035', '2040', '2045',\n",
    "       '2050', '2055', '2060', '2065', '2070', '2075', '2080', '2085', '2090',\n",
    "       '2095', '2100'])"
   ]
  },
  {
   "cell_type": "code",
   "execution_count": 14,
   "metadata": {},
   "outputs": [],
   "source": [
    "describe = data[years].describe()"
   ]
  },
  {
   "cell_type": "code",
   "execution_count": 15,
   "metadata": {},
   "outputs": [
    {
     "data": {
      "text/html": [
       "<div>\n",
       "<style scoped>\n",
       "    .dataframe tbody tr th:only-of-type {\n",
       "        vertical-align: middle;\n",
       "    }\n",
       "\n",
       "    .dataframe tbody tr th {\n",
       "        vertical-align: top;\n",
       "    }\n",
       "\n",
       "    .dataframe thead th {\n",
       "        text-align: right;\n",
       "    }\n",
       "</style>\n",
       "<table border=\"1\" class=\"dataframe\">\n",
       "  <thead>\n",
       "    <tr style=\"text-align: right;\">\n",
       "      <th></th>\n",
       "      <th>1970</th>\n",
       "      <th>1971</th>\n",
       "      <th>1972</th>\n",
       "      <th>1973</th>\n",
       "      <th>1974</th>\n",
       "      <th>1975</th>\n",
       "      <th>1976</th>\n",
       "      <th>1977</th>\n",
       "      <th>1978</th>\n",
       "      <th>1979</th>\n",
       "      <th>...</th>\n",
       "      <th>2055</th>\n",
       "      <th>2060</th>\n",
       "      <th>2065</th>\n",
       "      <th>2070</th>\n",
       "      <th>2075</th>\n",
       "      <th>2080</th>\n",
       "      <th>2085</th>\n",
       "      <th>2090</th>\n",
       "      <th>2095</th>\n",
       "      <th>2100</th>\n",
       "    </tr>\n",
       "  </thead>\n",
       "  <tbody>\n",
       "    <tr>\n",
       "      <th>count</th>\n",
       "      <td>7.148000e+04</td>\n",
       "      <td>3.444300e+04</td>\n",
       "      <td>3.451400e+04</td>\n",
       "      <td>3.446700e+04</td>\n",
       "      <td>3.467500e+04</td>\n",
       "      <td>8.618600e+04</td>\n",
       "      <td>3.629500e+04</td>\n",
       "      <td>3.646100e+04</td>\n",
       "      <td>3.647900e+04</td>\n",
       "      <td>3.562900e+04</td>\n",
       "      <td>...</td>\n",
       "      <td>5.143600e+04</td>\n",
       "      <td>5.143600e+04</td>\n",
       "      <td>5.143600e+04</td>\n",
       "      <td>5.143600e+04</td>\n",
       "      <td>5.143600e+04</td>\n",
       "      <td>5.143600e+04</td>\n",
       "      <td>5.143600e+04</td>\n",
       "      <td>5.143600e+04</td>\n",
       "      <td>5.143600e+04</td>\n",
       "      <td>5.143600e+04</td>\n",
       "    </tr>\n",
       "    <tr>\n",
       "      <th>mean</th>\n",
       "      <td>1.997095e+09</td>\n",
       "      <td>4.388745e+09</td>\n",
       "      <td>4.739394e+09</td>\n",
       "      <td>5.264671e+09</td>\n",
       "      <td>5.565835e+09</td>\n",
       "      <td>2.344362e+09</td>\n",
       "      <td>5.919418e+09</td>\n",
       "      <td>6.311390e+09</td>\n",
       "      <td>6.872114e+09</td>\n",
       "      <td>7.683021e+09</td>\n",
       "      <td>...</td>\n",
       "      <td>7.145788e+02</td>\n",
       "      <td>7.224868e+02</td>\n",
       "      <td>7.271290e+02</td>\n",
       "      <td>7.283779e+02</td>\n",
       "      <td>7.266484e+02</td>\n",
       "      <td>7.228327e+02</td>\n",
       "      <td>7.176899e+02</td>\n",
       "      <td>7.113072e+02</td>\n",
       "      <td>7.034274e+02</td>\n",
       "      <td>6.940296e+02</td>\n",
       "    </tr>\n",
       "    <tr>\n",
       "      <th>std</th>\n",
       "      <td>1.218514e+11</td>\n",
       "      <td>1.833238e+11</td>\n",
       "      <td>1.944465e+11</td>\n",
       "      <td>2.091105e+11</td>\n",
       "      <td>2.144020e+11</td>\n",
       "      <td>1.383962e+11</td>\n",
       "      <td>2.251490e+11</td>\n",
       "      <td>2.360692e+11</td>\n",
       "      <td>2.510883e+11</td>\n",
       "      <td>2.704629e+11</td>\n",
       "      <td>...</td>\n",
       "      <td>2.136851e+04</td>\n",
       "      <td>2.215845e+04</td>\n",
       "      <td>2.287990e+04</td>\n",
       "      <td>2.352338e+04</td>\n",
       "      <td>2.408149e+04</td>\n",
       "      <td>2.455897e+04</td>\n",
       "      <td>2.496587e+04</td>\n",
       "      <td>2.530183e+04</td>\n",
       "      <td>2.556069e+04</td>\n",
       "      <td>2.574189e+04</td>\n",
       "    </tr>\n",
       "    <tr>\n",
       "      <th>min</th>\n",
       "      <td>-1.435564e+00</td>\n",
       "      <td>-1.594625e+00</td>\n",
       "      <td>-3.056522e+00</td>\n",
       "      <td>-4.032582e+00</td>\n",
       "      <td>-4.213563e+00</td>\n",
       "      <td>-3.658569e+00</td>\n",
       "      <td>-2.950945e+00</td>\n",
       "      <td>-3.174870e+00</td>\n",
       "      <td>-3.558749e+00</td>\n",
       "      <td>-2.973612e+00</td>\n",
       "      <td>...</td>\n",
       "      <td>-1.830000e+00</td>\n",
       "      <td>-1.630000e+00</td>\n",
       "      <td>-1.440000e+00</td>\n",
       "      <td>-1.260000e+00</td>\n",
       "      <td>-1.090000e+00</td>\n",
       "      <td>-9.200000e-01</td>\n",
       "      <td>-7.800000e-01</td>\n",
       "      <td>-6.500000e-01</td>\n",
       "      <td>-5.500000e-01</td>\n",
       "      <td>-4.500000e-01</td>\n",
       "    </tr>\n",
       "    <tr>\n",
       "      <th>25%</th>\n",
       "      <td>8.700000e-01</td>\n",
       "      <td>1.045615e+01</td>\n",
       "      <td>1.076718e+01</td>\n",
       "      <td>1.116327e+01</td>\n",
       "      <td>1.131197e+01</td>\n",
       "      <td>1.400000e+00</td>\n",
       "      <td>1.090664e+01</td>\n",
       "      <td>1.094854e+01</td>\n",
       "      <td>1.122621e+01</td>\n",
       "      <td>1.129145e+01</td>\n",
       "      <td>...</td>\n",
       "      <td>3.000000e-02</td>\n",
       "      <td>3.000000e-02</td>\n",
       "      <td>3.000000e-02</td>\n",
       "      <td>2.000000e-02</td>\n",
       "      <td>2.000000e-02</td>\n",
       "      <td>1.000000e-02</td>\n",
       "      <td>1.000000e-02</td>\n",
       "      <td>1.000000e-02</td>\n",
       "      <td>1.000000e-02</td>\n",
       "      <td>1.000000e-02</td>\n",
       "    </tr>\n",
       "    <tr>\n",
       "      <th>50%</th>\n",
       "      <td>6.570000e+00</td>\n",
       "      <td>7.207677e+01</td>\n",
       "      <td>7.685992e+01</td>\n",
       "      <td>7.963683e+01</td>\n",
       "      <td>8.090797e+01</td>\n",
       "      <td>1.000000e+01</td>\n",
       "      <td>7.923435e+01</td>\n",
       "      <td>7.883617e+01</td>\n",
       "      <td>8.004732e+01</td>\n",
       "      <td>8.322935e+01</td>\n",
       "      <td>...</td>\n",
       "      <td>2.300000e-01</td>\n",
       "      <td>2.300000e-01</td>\n",
       "      <td>2.300000e-01</td>\n",
       "      <td>2.300000e-01</td>\n",
       "      <td>2.300000e-01</td>\n",
       "      <td>2.300000e-01</td>\n",
       "      <td>2.300000e-01</td>\n",
       "      <td>2.300000e-01</td>\n",
       "      <td>2.300000e-01</td>\n",
       "      <td>2.200000e-01</td>\n",
       "    </tr>\n",
       "    <tr>\n",
       "      <th>75%</th>\n",
       "      <td>6.387674e+01</td>\n",
       "      <td>6.452600e+04</td>\n",
       "      <td>6.653125e+04</td>\n",
       "      <td>6.973650e+04</td>\n",
       "      <td>7.127600e+04</td>\n",
       "      <td>8.009500e+01</td>\n",
       "      <td>6.440950e+04</td>\n",
       "      <td>6.504500e+04</td>\n",
       "      <td>6.682050e+04</td>\n",
       "      <td>7.146500e+04</td>\n",
       "      <td>...</td>\n",
       "      <td>7.500000e+00</td>\n",
       "      <td>7.505000e+00</td>\n",
       "      <td>7.500000e+00</td>\n",
       "      <td>7.300000e+00</td>\n",
       "      <td>7.100000e+00</td>\n",
       "      <td>6.722500e+00</td>\n",
       "      <td>6.080000e+00</td>\n",
       "      <td>5.462500e+00</td>\n",
       "      <td>4.680000e+00</td>\n",
       "      <td>4.032500e+00</td>\n",
       "    </tr>\n",
       "    <tr>\n",
       "      <th>max</th>\n",
       "      <td>1.903929e+13</td>\n",
       "      <td>1.986457e+13</td>\n",
       "      <td>2.100916e+13</td>\n",
       "      <td>2.238367e+13</td>\n",
       "      <td>2.282991e+13</td>\n",
       "      <td>2.300634e+13</td>\n",
       "      <td>2.424128e+13</td>\n",
       "      <td>2.521383e+13</td>\n",
       "      <td>2.622101e+13</td>\n",
       "      <td>2.730873e+13</td>\n",
       "      <td>...</td>\n",
       "      <td>2.813670e+06</td>\n",
       "      <td>2.951569e+06</td>\n",
       "      <td>3.070879e+06</td>\n",
       "      <td>3.169711e+06</td>\n",
       "      <td>3.246239e+06</td>\n",
       "      <td>3.301586e+06</td>\n",
       "      <td>3.337871e+06</td>\n",
       "      <td>3.354746e+06</td>\n",
       "      <td>3.351887e+06</td>\n",
       "      <td>3.330484e+06</td>\n",
       "    </tr>\n",
       "  </tbody>\n",
       "</table>\n",
       "<p>8 rows × 65 columns</p>\n",
       "</div>"
      ],
      "text/plain": [
       "               1970          1971          1972          1973          1974  \\\n",
       "count  7.148000e+04  3.444300e+04  3.451400e+04  3.446700e+04  3.467500e+04   \n",
       "mean   1.997095e+09  4.388745e+09  4.739394e+09  5.264671e+09  5.565835e+09   \n",
       "std    1.218514e+11  1.833238e+11  1.944465e+11  2.091105e+11  2.144020e+11   \n",
       "min   -1.435564e+00 -1.594625e+00 -3.056522e+00 -4.032582e+00 -4.213563e+00   \n",
       "25%    8.700000e-01  1.045615e+01  1.076718e+01  1.116327e+01  1.131197e+01   \n",
       "50%    6.570000e+00  7.207677e+01  7.685992e+01  7.963683e+01  8.090797e+01   \n",
       "75%    6.387674e+01  6.452600e+04  6.653125e+04  6.973650e+04  7.127600e+04   \n",
       "max    1.903929e+13  1.986457e+13  2.100916e+13  2.238367e+13  2.282991e+13   \n",
       "\n",
       "               1975          1976          1977          1978          1979  \\\n",
       "count  8.618600e+04  3.629500e+04  3.646100e+04  3.647900e+04  3.562900e+04   \n",
       "mean   2.344362e+09  5.919418e+09  6.311390e+09  6.872114e+09  7.683021e+09   \n",
       "std    1.383962e+11  2.251490e+11  2.360692e+11  2.510883e+11  2.704629e+11   \n",
       "min   -3.658569e+00 -2.950945e+00 -3.174870e+00 -3.558749e+00 -2.973612e+00   \n",
       "25%    1.400000e+00  1.090664e+01  1.094854e+01  1.122621e+01  1.129145e+01   \n",
       "50%    1.000000e+01  7.923435e+01  7.883617e+01  8.004732e+01  8.322935e+01   \n",
       "75%    8.009500e+01  6.440950e+04  6.504500e+04  6.682050e+04  7.146500e+04   \n",
       "max    2.300634e+13  2.424128e+13  2.521383e+13  2.622101e+13  2.730873e+13   \n",
       "\n",
       "       ...          2055          2060          2065          2070  \\\n",
       "count  ...  5.143600e+04  5.143600e+04  5.143600e+04  5.143600e+04   \n",
       "mean   ...  7.145788e+02  7.224868e+02  7.271290e+02  7.283779e+02   \n",
       "std    ...  2.136851e+04  2.215845e+04  2.287990e+04  2.352338e+04   \n",
       "min    ... -1.830000e+00 -1.630000e+00 -1.440000e+00 -1.260000e+00   \n",
       "25%    ...  3.000000e-02  3.000000e-02  3.000000e-02  2.000000e-02   \n",
       "50%    ...  2.300000e-01  2.300000e-01  2.300000e-01  2.300000e-01   \n",
       "75%    ...  7.500000e+00  7.505000e+00  7.500000e+00  7.300000e+00   \n",
       "max    ...  2.813670e+06  2.951569e+06  3.070879e+06  3.169711e+06   \n",
       "\n",
       "               2075          2080          2085          2090          2095  \\\n",
       "count  5.143600e+04  5.143600e+04  5.143600e+04  5.143600e+04  5.143600e+04   \n",
       "mean   7.266484e+02  7.228327e+02  7.176899e+02  7.113072e+02  7.034274e+02   \n",
       "std    2.408149e+04  2.455897e+04  2.496587e+04  2.530183e+04  2.556069e+04   \n",
       "min   -1.090000e+00 -9.200000e-01 -7.800000e-01 -6.500000e-01 -5.500000e-01   \n",
       "25%    2.000000e-02  1.000000e-02  1.000000e-02  1.000000e-02  1.000000e-02   \n",
       "50%    2.300000e-01  2.300000e-01  2.300000e-01  2.300000e-01  2.300000e-01   \n",
       "75%    7.100000e+00  6.722500e+00  6.080000e+00  5.462500e+00  4.680000e+00   \n",
       "max    3.246239e+06  3.301586e+06  3.337871e+06  3.354746e+06  3.351887e+06   \n",
       "\n",
       "               2100  \n",
       "count  5.143600e+04  \n",
       "mean   6.940296e+02  \n",
       "std    2.574189e+04  \n",
       "min   -4.500000e-01  \n",
       "25%    1.000000e-02  \n",
       "50%    2.200000e-01  \n",
       "75%    4.032500e+00  \n",
       "max    3.330484e+06  \n",
       "\n",
       "[8 rows x 65 columns]"
      ]
     },
     "execution_count": 15,
     "metadata": {},
     "output_type": "execute_result"
    }
   ],
   "source": [
    "describe"
   ]
  },
  {
   "cell_type": "code",
   "execution_count": 16,
   "metadata": {},
   "outputs": [],
   "source": [
    "years = years.astype(int)"
   ]
  },
  {
   "cell_type": "code",
   "execution_count": 17,
   "metadata": {},
   "outputs": [],
   "source": [
    "filter_past = years < 2020\n",
    "filter_future = years > 2019"
   ]
  },
  {
   "cell_type": "code",
   "execution_count": 18,
   "metadata": {},
   "outputs": [],
   "source": [
    "years_past = years[filter_past]\n",
    "years_future = years[filter_future]"
   ]
  },
  {
   "cell_type": "code",
   "execution_count": 19,
   "metadata": {},
   "outputs": [],
   "source": [
    "counts_past = describe[years_past.astype(str)].iloc[0]\n",
    "counts_future = describe[years_future.astype(str)].iloc[0]"
   ]
  },
  {
   "cell_type": "code",
   "execution_count": 20,
   "metadata": {},
   "outputs": [
    {
     "data": {
      "text/plain": [
       "<matplotlib.legend.Legend at 0x28e2ef2a250>"
      ]
     },
     "execution_count": 20,
     "metadata": {},
     "output_type": "execute_result"
    },
    {
     "data": {
      "image/png": "[encoded data removed]",
      "text/plain": [
       "<Figure size 1440x576 with 1 Axes>"
      ]
     },
     "metadata": {},
     "output_type": "display_data"
    }
   ],
   "source": [
    "fig = plt.figure(figsize=(20,8))\n",
    "plt.title(\"Nombre d'indicateurs par an\", fontsize=25)\n",
    "plt.axis([1970, 2050, 0, 200000])\n",
    "\n",
    "plt.bar(years_past, counts_past, color='g', label='Données passées')\n",
    "plt.bar(years_future, counts_future, color='orange', width=1, label='Données prédites')\n",
    "plt.xticks(years[years < 2050], rotation=90, fontsize=14)\n",
    "plt.yticks(fontsize=18)\n",
    "plt.legend(fontsize=18)"
   ]
  },
  {
   "cell_type": "markdown",
   "metadata": {},
   "source": [
    "Pas de données sures après 2017. Les predicitions ont commencées en 2020. On voit que beaucoup d'indicateurs ne sont rensignés que tous les 5 ans, tout comme les prédictions"
   ]
  },
  {
   "cell_type": "markdown",
   "metadata": {},
   "source": [
    "## Cleaning"
   ]
  },
  {
   "cell_type": "markdown",
   "metadata": {},
   "source": [
    "Retirons les colonnes vides"
   ]
  },
  {
   "cell_type": "code",
   "execution_count": 21,
   "metadata": {},
   "outputs": [],
   "source": [
    "describe = data.describe(include='all')\n",
    "counts = describe.iloc[0]"
   ]
  },
  {
   "cell_type": "code",
   "execution_count": 22,
   "metadata": {},
   "outputs": [
    {
     "data": {
      "text/plain": [
       "Unnamed: 0                      870492\n",
       "Country Name                    870492\n",
       "Country Code                    870492\n",
       "Indicator Name_x                870492\n",
       "Indicator Code                  870492\n",
       "                                 ...  \n",
       "Latest trade data               668220\n",
       "Latest water withdrawal data    646548\n",
       "Unnamed: 31                          0\n",
       "DESCRIPTION                        613\n",
       "Unnamed: 3                           0\n",
       "Name: count, Length: 124, dtype: object"
      ]
     },
     "execution_count": 22,
     "metadata": {},
     "output_type": "execute_result"
    }
   ],
   "source": [
    "counts"
   ]
  },
  {
   "cell_type": "code",
   "execution_count": 23,
   "metadata": {},
   "outputs": [],
   "source": [
    "useless_cols = counts[counts/len(data) < 0.25]"
   ]
  },
  {
   "cell_type": "code",
   "execution_count": 24,
   "metadata": {},
   "outputs": [
    {
     "data": {
      "text/plain": [
       "Index(['1970', '1971', '1972', '1973', '1974', '1975', '1976', '1977', '1978',\n",
       "       '1979', '1980', '1981', '1982', '1983', '1984', '1985', '1986', '1987',\n",
       "       '1988', '1989', '1990', '1991', '1992', '1993', '1994', '1995', '1996',\n",
       "       '1997', '1998', '1999', '2000', '2001', '2002', '2003', '2004', '2005',\n",
       "       '2006', '2007', '2008', '2009', '2011', '2012', '2013', '2014', '2015',\n",
       "       '2016', '2017', '2020', '2025', '2030', '2035', '2040', '2045', '2050',\n",
       "       '2055', '2060', '2065', '2070', '2075', '2080', '2085', '2090', '2095',\n",
       "       '2100', 'Unnamed: 69', 'Unit of measure', 'Periodicity', 'Base Period',\n",
       "       'Other notes', 'Aggregation method', 'Limitations and exceptions',\n",
       "       'Notes from original source', 'General comments',\n",
       "       'Statistical concept and methodology', 'Development relevance',\n",
       "       'Related source links', 'Other web links', 'Related indicators',\n",
       "       'License Type', 'Unnamed: 20', 'National accounts reference year',\n",
       "       'Other groups', 'Alternative conversion factor', 'Unnamed: 31',\n",
       "       'DESCRIPTION', 'Unnamed: 3'],\n",
       "      dtype='object')"
      ]
     },
     "execution_count": 24,
     "metadata": {},
     "output_type": "execute_result"
    }
   ],
   "source": [
    "useless_cols.index"
   ]
  },
  {
   "cell_type": "markdown",
   "metadata": {},
   "source": [
    "Je ne veux pas retirer les colonnes concernant les années car c'est là ou se situe la valeur ajoutée"
   ]
  },
  {
   "cell_type": "code",
   "execution_count": 25,
   "metadata": {},
   "outputs": [
    {
     "data": {
      "text/plain": [
       "1970                              71480\n",
       "1971                              34443\n",
       "1972                              34514\n",
       "1973                              34467\n",
       "1974                              34675\n",
       "                                  ...  \n",
       "Other groups                     209496\n",
       "Alternative conversion factor    169764\n",
       "Unnamed: 31                           0\n",
       "DESCRIPTION                         613\n",
       "Unnamed: 3                            0\n",
       "Name: count, Length: 86, dtype: object"
      ]
     },
     "execution_count": 25,
     "metadata": {},
     "output_type": "execute_result"
    }
   ],
   "source": [
    "useless_cols"
   ]
  },
  {
   "cell_type": "code",
   "execution_count": 26,
   "metadata": {},
   "outputs": [],
   "source": [
    "useless_cols = pd.DataFrame(useless_cols)"
   ]
  },
  {
   "cell_type": "code",
   "execution_count": 27,
   "metadata": {},
   "outputs": [],
   "source": [
    "useless_cols['index'] = useless_cols.index"
   ]
  },
  {
   "cell_type": "code",
   "execution_count": 28,
   "metadata": {},
   "outputs": [],
   "source": [
    "year_test = lambda name : not name.isdigit()\n",
    "useless_cols = useless_cols[useless_cols['index'].map(year_test)]"
   ]
  },
  {
   "cell_type": "code",
   "execution_count": 29,
   "metadata": {},
   "outputs": [
    {
     "data": {
      "text/html": [
       "<div>\n",
       "<style scoped>\n",
       "    .dataframe tbody tr th:only-of-type {\n",
       "        vertical-align: middle;\n",
       "    }\n",
       "\n",
       "    .dataframe tbody tr th {\n",
       "        vertical-align: top;\n",
       "    }\n",
       "\n",
       "    .dataframe thead th {\n",
       "        text-align: right;\n",
       "    }\n",
       "</style>\n",
       "<table border=\"1\" class=\"dataframe\">\n",
       "  <thead>\n",
       "    <tr style=\"text-align: right;\">\n",
       "      <th></th>\n",
       "      <th>count</th>\n",
       "      <th>index</th>\n",
       "    </tr>\n",
       "  </thead>\n",
       "  <tbody>\n",
       "    <tr>\n",
       "      <th>Unnamed: 69</th>\n",
       "      <td>0</td>\n",
       "      <td>Unnamed: 69</td>\n",
       "    </tr>\n",
       "    <tr>\n",
       "      <th>Unit of measure</th>\n",
       "      <td>0</td>\n",
       "      <td>Unit of measure</td>\n",
       "    </tr>\n",
       "    <tr>\n",
       "      <th>Periodicity</th>\n",
       "      <td>23859</td>\n",
       "      <td>Periodicity</td>\n",
       "    </tr>\n",
       "    <tr>\n",
       "      <th>Base Period</th>\n",
       "      <td>75674</td>\n",
       "      <td>Base Period</td>\n",
       "    </tr>\n",
       "    <tr>\n",
       "      <th>Other notes</th>\n",
       "      <td>132068</td>\n",
       "      <td>Other notes</td>\n",
       "    </tr>\n",
       "    <tr>\n",
       "      <th>Aggregation method</th>\n",
       "      <td>11327</td>\n",
       "      <td>Aggregation method</td>\n",
       "    </tr>\n",
       "    <tr>\n",
       "      <th>Limitations and exceptions</th>\n",
       "      <td>3374</td>\n",
       "      <td>Limitations and exceptions</td>\n",
       "    </tr>\n",
       "    <tr>\n",
       "      <th>Notes from original source</th>\n",
       "      <td>0</td>\n",
       "      <td>Notes from original source</td>\n",
       "    </tr>\n",
       "    <tr>\n",
       "      <th>General comments</th>\n",
       "      <td>3374</td>\n",
       "      <td>General comments</td>\n",
       "    </tr>\n",
       "    <tr>\n",
       "      <th>Statistical concept and methodology</th>\n",
       "      <td>5543</td>\n",
       "      <td>Statistical concept and methodology</td>\n",
       "    </tr>\n",
       "    <tr>\n",
       "      <th>Development relevance</th>\n",
       "      <td>723</td>\n",
       "      <td>Development relevance</td>\n",
       "    </tr>\n",
       "    <tr>\n",
       "      <th>Related source links</th>\n",
       "      <td>51815</td>\n",
       "      <td>Related source links</td>\n",
       "    </tr>\n",
       "    <tr>\n",
       "      <th>Other web links</th>\n",
       "      <td>0</td>\n",
       "      <td>Other web links</td>\n",
       "    </tr>\n",
       "    <tr>\n",
       "      <th>Related indicators</th>\n",
       "      <td>0</td>\n",
       "      <td>Related indicators</td>\n",
       "    </tr>\n",
       "    <tr>\n",
       "      <th>License Type</th>\n",
       "      <td>0</td>\n",
       "      <td>License Type</td>\n",
       "    </tr>\n",
       "    <tr>\n",
       "      <th>Unnamed: 20</th>\n",
       "      <td>0</td>\n",
       "      <td>Unnamed: 20</td>\n",
       "    </tr>\n",
       "    <tr>\n",
       "      <th>National accounts reference year</th>\n",
       "      <td>115584</td>\n",
       "      <td>National accounts reference year</td>\n",
       "    </tr>\n",
       "    <tr>\n",
       "      <th>Other groups</th>\n",
       "      <td>209496</td>\n",
       "      <td>Other groups</td>\n",
       "    </tr>\n",
       "    <tr>\n",
       "      <th>Alternative conversion factor</th>\n",
       "      <td>169764</td>\n",
       "      <td>Alternative conversion factor</td>\n",
       "    </tr>\n",
       "    <tr>\n",
       "      <th>Unnamed: 31</th>\n",
       "      <td>0</td>\n",
       "      <td>Unnamed: 31</td>\n",
       "    </tr>\n",
       "    <tr>\n",
       "      <th>DESCRIPTION</th>\n",
       "      <td>613</td>\n",
       "      <td>DESCRIPTION</td>\n",
       "    </tr>\n",
       "    <tr>\n",
       "      <th>Unnamed: 3</th>\n",
       "      <td>0</td>\n",
       "      <td>Unnamed: 3</td>\n",
       "    </tr>\n",
       "  </tbody>\n",
       "</table>\n",
       "</div>"
      ],
      "text/plain": [
       "                                      count  \\\n",
       "Unnamed: 69                               0   \n",
       "Unit of measure                           0   \n",
       "Periodicity                           23859   \n",
       "Base Period                           75674   \n",
       "Other notes                          132068   \n",
       "Aggregation method                    11327   \n",
       "Limitations and exceptions             3374   \n",
       "Notes from original source                0   \n",
       "General comments                       3374   \n",
       "Statistical concept and methodology    5543   \n",
       "Development relevance                   723   \n",
       "Related source links                  51815   \n",
       "Other web links                           0   \n",
       "Related indicators                        0   \n",
       "License Type                              0   \n",
       "Unnamed: 20                               0   \n",
       "National accounts reference year     115584   \n",
       "Other groups                         209496   \n",
       "Alternative conversion factor        169764   \n",
       "Unnamed: 31                               0   \n",
       "DESCRIPTION                             613   \n",
       "Unnamed: 3                                0   \n",
       "\n",
       "                                                                   index  \n",
       "Unnamed: 69                                                  Unnamed: 69  \n",
       "Unit of measure                                          Unit of measure  \n",
       "Periodicity                                                  Periodicity  \n",
       "Base Period                                                  Base Period  \n",
       "Other notes                                                  Other notes  \n",
       "Aggregation method                                    Aggregation method  \n",
       "Limitations and exceptions                    Limitations and exceptions  \n",
       "Notes from original source                    Notes from original source  \n",
       "General comments                                        General comments  \n",
       "Statistical concept and methodology  Statistical concept and methodology  \n",
       "Development relevance                              Development relevance  \n",
       "Related source links                                Related source links  \n",
       "Other web links                                          Other web links  \n",
       "Related indicators                                    Related indicators  \n",
       "License Type                                                License Type  \n",
       "Unnamed: 20                                                  Unnamed: 20  \n",
       "National accounts reference year        National accounts reference year  \n",
       "Other groups                                                Other groups  \n",
       "Alternative conversion factor              Alternative conversion factor  \n",
       "Unnamed: 31                                                  Unnamed: 31  \n",
       "DESCRIPTION                                                  DESCRIPTION  \n",
       "Unnamed: 3                                                    Unnamed: 3  "
      ]
     },
     "execution_count": 29,
     "metadata": {},
     "output_type": "execute_result"
    }
   ],
   "source": [
    "useless_cols"
   ]
  },
  {
   "cell_type": "markdown",
   "metadata": {},
   "source": [
    "Je pense que la colonne 'Statistical concept and methodology' peut tout de même être pertinente"
   ]
  },
  {
   "cell_type": "code",
   "execution_count": 30,
   "metadata": {},
   "outputs": [],
   "source": [
    "useless_cols = useless_cols.drop(index='Statistical concept and methodology')"
   ]
  },
  {
   "cell_type": "code",
   "execution_count": 31,
   "metadata": {},
   "outputs": [],
   "source": [
    "data = data.drop(columns=useless_cols.index)"
   ]
  },
  {
   "cell_type": "code",
   "execution_count": 32,
   "metadata": {},
   "outputs": [
    {
     "data": {
      "text/plain": [
       "(870492, 103)"
      ]
     },
     "execution_count": 32,
     "metadata": {},
     "output_type": "execute_result"
    }
   ],
   "source": [
    "data.shape"
   ]
  },
  {
   "cell_type": "code",
   "execution_count": 33,
   "metadata": {},
   "outputs": [
    {
     "data": {
      "text/plain": [
       "Index(['Unnamed: 0', 'Country Name', 'Country Code', 'Indicator Name_x',\n",
       "       'Indicator Code', '1970', '1971', '1972', '1973', '1974',\n",
       "       ...\n",
       "       'Government Accounting concept', 'IMF data dissemination standard',\n",
       "       'Latest population census', 'Latest household survey',\n",
       "       'Source of most recent Income and expenditure data',\n",
       "       'Vital registration complete', 'Latest agricultural census',\n",
       "       'Latest industrial data', 'Latest trade data',\n",
       "       'Latest water withdrawal data'],\n",
       "      dtype='object', length=103)"
      ]
     },
     "execution_count": 33,
     "metadata": {},
     "output_type": "execute_result"
    }
   ],
   "source": [
    "cols = data.columns\n",
    "cols"
   ]
  },
  {
   "cell_type": "code",
   "execution_count": 34,
   "metadata": {},
   "outputs": [],
   "source": [
    "indicateurs = data['Indicator Name_x'].unique()"
   ]
  },
  {
   "cell_type": "code",
   "execution_count": 35,
   "metadata": {},
   "outputs": [
    {
     "data": {
      "text/plain": [
       "array(['Adjusted net enrolment rate, lower secondary, both sexes (%)',\n",
       "       'Adjusted net enrolment rate, lower secondary, female (%)',\n",
       "       'Adjusted net enrolment rate, lower secondary, gender parity index (GPI)',\n",
       "       'Adjusted net enrolment rate, lower secondary, male (%)',\n",
       "       'Adjusted net enrolment rate, primary, both sexes (%)'],\n",
       "      dtype=object)"
      ]
     },
     "execution_count": 35,
     "metadata": {},
     "output_type": "execute_result"
    }
   ],
   "source": [
    "indicateurs[:5]"
   ]
  },
  {
   "cell_type": "code",
   "execution_count": 36,
   "metadata": {},
   "outputs": [
    {
     "name": "stdout",
     "output_type": "stream",
     "text": [
      "Index(['Unnamed: 0', 'Country Name', 'Country Code', 'Indicator Name_x',\n",
      "       'Indicator Code', '1970', '1971', '1972', '1973', '1974',\n",
      "       ...\n",
      "       'Government Accounting concept', 'IMF data dissemination standard',\n",
      "       'Latest population census', 'Latest household survey',\n",
      "       'Source of most recent Income and expenditure data',\n",
      "       'Vital registration complete', 'Latest agricultural census',\n",
      "       'Latest industrial data', 'Latest trade data',\n",
      "       'Latest water withdrawal data'],\n",
      "      dtype='object', length=103)\n"
     ]
    }
   ],
   "source": [
    "print(data.columns)"
   ]
  },
  {
   "cell_type": "markdown",
   "metadata": {},
   "source": [
    "Il reste encore beaucoup trop de colonnes."
   ]
  },
  {
   "cell_type": "code",
   "execution_count": 37,
   "metadata": {},
   "outputs": [],
   "source": [
    "kpi_columns = data[['Indicator Name_x', 'Indicator Name_y']]"
   ]
  },
  {
   "cell_type": "code",
   "execution_count": 38,
   "metadata": {},
   "outputs": [
    {
     "data": {
      "text/html": [
       "<div>\n",
       "<style scoped>\n",
       "    .dataframe tbody tr th:only-of-type {\n",
       "        vertical-align: middle;\n",
       "    }\n",
       "\n",
       "    .dataframe tbody tr th {\n",
       "        vertical-align: top;\n",
       "    }\n",
       "\n",
       "    .dataframe thead th {\n",
       "        text-align: right;\n",
       "    }\n",
       "</style>\n",
       "<table border=\"1\" class=\"dataframe\">\n",
       "  <thead>\n",
       "    <tr style=\"text-align: right;\">\n",
       "      <th></th>\n",
       "      <th>Indicator Name_x</th>\n",
       "      <th>Indicator Name_y</th>\n",
       "    </tr>\n",
       "  </thead>\n",
       "  <tbody>\n",
       "    <tr>\n",
       "      <th>0</th>\n",
       "      <td>Adjusted net enrolment rate, lower secondary, ...</td>\n",
       "      <td>Adjusted net enrolment rate, lower secondary, ...</td>\n",
       "    </tr>\n",
       "    <tr>\n",
       "      <th>1</th>\n",
       "      <td>Adjusted net enrolment rate, lower secondary, ...</td>\n",
       "      <td>Adjusted net enrolment rate, lower secondary, ...</td>\n",
       "    </tr>\n",
       "    <tr>\n",
       "      <th>2</th>\n",
       "      <td>Adjusted net enrolment rate, lower secondary, ...</td>\n",
       "      <td>Adjusted net enrolment rate, lower secondary, ...</td>\n",
       "    </tr>\n",
       "    <tr>\n",
       "      <th>3</th>\n",
       "      <td>Adjusted net enrolment rate, lower secondary, ...</td>\n",
       "      <td>Adjusted net enrolment rate, lower secondary, ...</td>\n",
       "    </tr>\n",
       "    <tr>\n",
       "      <th>4</th>\n",
       "      <td>Adjusted net enrolment rate, primary, both sex...</td>\n",
       "      <td>Adjusted net enrolment rate, primary, both sex...</td>\n",
       "    </tr>\n",
       "    <tr>\n",
       "      <th>...</th>\n",
       "      <td>...</td>\n",
       "      <td>...</td>\n",
       "    </tr>\n",
       "    <tr>\n",
       "      <th>870487</th>\n",
       "      <td>Youth illiterate population, 15-24 years, % fe...</td>\n",
       "      <td>Youth illiterate population, 15-24 years, % fe...</td>\n",
       "    </tr>\n",
       "    <tr>\n",
       "      <th>870488</th>\n",
       "      <td>Youth literacy rate, population 15-24 years, b...</td>\n",
       "      <td>Youth literacy rate, population 15-24 years, b...</td>\n",
       "    </tr>\n",
       "    <tr>\n",
       "      <th>870489</th>\n",
       "      <td>Youth literacy rate, population 15-24 years, f...</td>\n",
       "      <td>Youth literacy rate, population 15-24 years, f...</td>\n",
       "    </tr>\n",
       "    <tr>\n",
       "      <th>870490</th>\n",
       "      <td>Youth literacy rate, population 15-24 years, g...</td>\n",
       "      <td>Youth literacy rate, population 15-24 years, g...</td>\n",
       "    </tr>\n",
       "    <tr>\n",
       "      <th>870491</th>\n",
       "      <td>Youth literacy rate, population 15-24 years, m...</td>\n",
       "      <td>Youth literacy rate, population 15-24 years, m...</td>\n",
       "    </tr>\n",
       "  </tbody>\n",
       "</table>\n",
       "<p>870492 rows × 2 columns</p>\n",
       "</div>"
      ],
      "text/plain": [
       "                                         Indicator Name_x  \\\n",
       "0       Adjusted net enrolment rate, lower secondary, ...   \n",
       "1       Adjusted net enrolment rate, lower secondary, ...   \n",
       "2       Adjusted net enrolment rate, lower secondary, ...   \n",
       "3       Adjusted net enrolment rate, lower secondary, ...   \n",
       "4       Adjusted net enrolment rate, primary, both sex...   \n",
       "...                                                   ...   \n",
       "870487  Youth illiterate population, 15-24 years, % fe...   \n",
       "870488  Youth literacy rate, population 15-24 years, b...   \n",
       "870489  Youth literacy rate, population 15-24 years, f...   \n",
       "870490  Youth literacy rate, population 15-24 years, g...   \n",
       "870491  Youth literacy rate, population 15-24 years, m...   \n",
       "\n",
       "                                         Indicator Name_y  \n",
       "0       Adjusted net enrolment rate, lower secondary, ...  \n",
       "1       Adjusted net enrolment rate, lower secondary, ...  \n",
       "2       Adjusted net enrolment rate, lower secondary, ...  \n",
       "3       Adjusted net enrolment rate, lower secondary, ...  \n",
       "4       Adjusted net enrolment rate, primary, both sex...  \n",
       "...                                                   ...  \n",
       "870487  Youth illiterate population, 15-24 years, % fe...  \n",
       "870488  Youth literacy rate, population 15-24 years, b...  \n",
       "870489  Youth literacy rate, population 15-24 years, f...  \n",
       "870490  Youth literacy rate, population 15-24 years, g...  \n",
       "870491  Youth literacy rate, population 15-24 years, m...  \n",
       "\n",
       "[870492 rows x 2 columns]"
      ]
     },
     "execution_count": 38,
     "metadata": {},
     "output_type": "execute_result"
    }
   ],
   "source": [
    "kpi_columns"
   ]
  },
  {
   "cell_type": "code",
   "execution_count": 39,
   "metadata": {},
   "outputs": [
    {
     "data": {
      "text/html": [
       "<div>\n",
       "<style scoped>\n",
       "    .dataframe tbody tr th:only-of-type {\n",
       "        vertical-align: middle;\n",
       "    }\n",
       "\n",
       "    .dataframe tbody tr th {\n",
       "        vertical-align: top;\n",
       "    }\n",
       "\n",
       "    .dataframe thead th {\n",
       "        text-align: right;\n",
       "    }\n",
       "</style>\n",
       "<table border=\"1\" class=\"dataframe\">\n",
       "  <thead>\n",
       "    <tr style=\"text-align: right;\">\n",
       "      <th></th>\n",
       "      <th>Indicator Name_x</th>\n",
       "      <th>Indicator Name_y</th>\n",
       "    </tr>\n",
       "  </thead>\n",
       "  <tbody>\n",
       "    <tr>\n",
       "      <th>count</th>\n",
       "      <td>870492</td>\n",
       "      <td>870492</td>\n",
       "    </tr>\n",
       "    <tr>\n",
       "      <th>unique</th>\n",
       "      <td>3612</td>\n",
       "      <td>3612</td>\n",
       "    </tr>\n",
       "    <tr>\n",
       "      <th>top</th>\n",
       "      <td>PASEC: Percentage of 2nd grade students correc...</td>\n",
       "      <td>PASEC: Percentage of 2nd grade students correc...</td>\n",
       "    </tr>\n",
       "    <tr>\n",
       "      <th>freq</th>\n",
       "      <td>241</td>\n",
       "      <td>241</td>\n",
       "    </tr>\n",
       "  </tbody>\n",
       "</table>\n",
       "</div>"
      ],
      "text/plain": [
       "                                         Indicator Name_x  \\\n",
       "count                                              870492   \n",
       "unique                                               3612   \n",
       "top     PASEC: Percentage of 2nd grade students correc...   \n",
       "freq                                                  241   \n",
       "\n",
       "                                         Indicator Name_y  \n",
       "count                                              870492  \n",
       "unique                                               3612  \n",
       "top     PASEC: Percentage of 2nd grade students correc...  \n",
       "freq                                                  241  "
      ]
     },
     "execution_count": 39,
     "metadata": {},
     "output_type": "execute_result"
    }
   ],
   "source": [
    "kpi_columns.describe()"
   ]
  },
  {
   "cell_type": "code",
   "execution_count": 40,
   "metadata": {},
   "outputs": [],
   "source": [
    "data = data.drop(columns=['Indicator Name_y'])"
   ]
  },
  {
   "cell_type": "code",
   "execution_count": 41,
   "metadata": {},
   "outputs": [
    {
     "data": {
      "text/plain": [
       "0              0\n",
       "1              1\n",
       "2              2\n",
       "3              3\n",
       "4              4\n",
       "           ...  \n",
       "870487    870487\n",
       "870488    870488\n",
       "870489    870489\n",
       "870490    870490\n",
       "870491    870491\n",
       "Name: Unnamed: 0, Length: 870492, dtype: int64"
      ]
     },
     "execution_count": 41,
     "metadata": {},
     "output_type": "execute_result"
    }
   ],
   "source": [
    "data['Unnamed: 0']"
   ]
  },
  {
   "cell_type": "markdown",
   "metadata": {},
   "source": [
    "c'est une copie des index"
   ]
  },
  {
   "cell_type": "code",
   "execution_count": 42,
   "metadata": {},
   "outputs": [],
   "source": [
    "data = data.drop(columns=['Unnamed: 0'])"
   ]
  },
  {
   "cell_type": "markdown",
   "metadata": {},
   "source": [
    "## Evaluons le contenu de chacunes des cols"
   ]
  },
  {
   "cell_type": "code",
   "execution_count": 43,
   "metadata": {},
   "outputs": [],
   "source": [
    "useless_cols_manual = []"
   ]
  },
  {
   "cell_type": "code",
   "execution_count": 44,
   "metadata": {},
   "outputs": [
    {
     "data": {
      "text/plain": [
       "'Topic'"
      ]
     },
     "execution_count": 44,
     "metadata": {},
     "output_type": "execute_result"
    }
   ],
   "source": [
    "data.columns[69]"
   ]
  },
  {
   "cell_type": "code",
   "execution_count": 45,
   "metadata": {},
   "outputs": [
    {
     "data": {
      "text/plain": [
       "0         Secondary\n",
       "1         Secondary\n",
       "2         Secondary\n",
       "3         Secondary\n",
       "4           Primary\n",
       "            ...    \n",
       "870487     Literacy\n",
       "870488     Literacy\n",
       "870489     Literacy\n",
       "870490     Literacy\n",
       "870491     Literacy\n",
       "Name: Topic, Length: 870492, dtype: object"
      ]
     },
     "execution_count": 45,
     "metadata": {},
     "output_type": "execute_result"
    }
   ],
   "source": [
    "data.Topic"
   ]
  },
  {
   "cell_type": "code",
   "execution_count": 46,
   "metadata": {},
   "outputs": [
    {
     "data": {
      "text/plain": [
       "array(['Secondary', 'Primary', 'Literacy', 'Teachers', 'EMIS',\n",
       "       'Expenditures', 'Attainment', 'Education Equality', 'Background',\n",
       "       'Learning Outcomes', 'Early Childhood Education', 'Tertiary',\n",
       "       'Post-Secondary/Non-Tertiary',\n",
       "       'Economic Policy & Debt: National accounts: US$ at constant 2010 prices: Aggregate indicators',\n",
       "       'Economic Policy & Debt: National accounts: US$ at current prices: Aggregate indicators',\n",
       "       'Economic Policy & Debt: Purchasing power parity',\n",
       "       'Economic Policy & Debt: National accounts: Atlas GNI & GNI per capita',\n",
       "       'Pre-Primary', 'Infrastructure: Communications',\n",
       "       'Social Protection & Labor: Labor force structure',\n",
       "       'Health: Mortality', 'Health: Population: Dynamics', 'Population',\n",
       "       'Health: Population: Structure', 'Health: Risk factors',\n",
       "       'Early Child Development (SABER)',\n",
       "       'Education Management Information Systems (SABER)',\n",
       "       'Engaging the Private Sector (SABER)',\n",
       "       'School Autonomy and Accountability (SABER)',\n",
       "       'School Finance (SABER)',\n",
       "       'School Health and School Feeding (SABER)',\n",
       "       'Student Assessment (SABER)', 'Teachers (SABER)',\n",
       "       'Tertiary Education (SABER)', 'Workforce Development (SABER)',\n",
       "       'Laber', 'Social Protection & Labor: Unemployment'], dtype=object)"
      ]
     },
     "execution_count": 46,
     "metadata": {},
     "output_type": "execute_result"
    }
   ],
   "source": [
    "data.Topic.unique()"
   ]
  },
  {
   "cell_type": "markdown",
   "metadata": {},
   "source": [
    "Topic est interessant"
   ]
  },
  {
   "cell_type": "code",
   "execution_count": 47,
   "metadata": {},
   "outputs": [
    {
     "data": {
      "text/plain": [
       "'Short definition'"
      ]
     },
     "execution_count": 47,
     "metadata": {},
     "output_type": "execute_result"
    }
   ],
   "source": [
    "data.columns[70]"
   ]
  },
  {
   "cell_type": "code",
   "execution_count": 48,
   "metadata": {},
   "outputs": [
    {
     "data": {
      "text/plain": [
       "'Long definition'"
      ]
     },
     "execution_count": 48,
     "metadata": {},
     "output_type": "execute_result"
    }
   ],
   "source": [
    "data.columns[71]"
   ]
  },
  {
   "cell_type": "markdown",
   "metadata": {},
   "source": [
    "Je ne garde que la longue définition"
   ]
  },
  {
   "cell_type": "code",
   "execution_count": 49,
   "metadata": {},
   "outputs": [],
   "source": [
    "useless_cols_manual.append(data.columns[70])"
   ]
  },
  {
   "cell_type": "code",
   "execution_count": 50,
   "metadata": {},
   "outputs": [
    {
     "data": {
      "text/plain": [
       "['Short definition']"
      ]
     },
     "execution_count": 50,
     "metadata": {},
     "output_type": "execute_result"
    }
   ],
   "source": [
    "useless_cols_manual"
   ]
  },
  {
   "cell_type": "code",
   "execution_count": 51,
   "metadata": {},
   "outputs": [
    {
     "data": {
      "text/plain": [
       "'Source'"
      ]
     },
     "execution_count": 51,
     "metadata": {},
     "output_type": "execute_result"
    }
   ],
   "source": [
    "data.columns[72]"
   ]
  },
  {
   "cell_type": "code",
   "execution_count": 52,
   "metadata": {},
   "outputs": [
    {
     "data": {
      "text/plain": [
       "0         UNESCO Institute for Statistics\n",
       "1         UNESCO Institute for Statistics\n",
       "2         UNESCO Institute for Statistics\n",
       "3         UNESCO Institute for Statistics\n",
       "4         UNESCO Institute for Statistics\n",
       "                       ...               \n",
       "870487    UNESCO Institute for Statistics\n",
       "870488    UNESCO Institute for Statistics\n",
       "870489    UNESCO Institute for Statistics\n",
       "870490    UNESCO Institute for Statistics\n",
       "870491    UNESCO Institute for Statistics\n",
       "Name: Source, Length: 870492, dtype: object"
      ]
     },
     "execution_count": 52,
     "metadata": {},
     "output_type": "execute_result"
    }
   ],
   "source": [
    "data.Source"
   ]
  },
  {
   "cell_type": "code",
   "execution_count": 53,
   "metadata": {},
   "outputs": [
    {
     "data": {
      "text/plain": [
       "'Statistical concept and methodology'"
      ]
     },
     "execution_count": 53,
     "metadata": {},
     "output_type": "execute_result"
    }
   ],
   "source": [
    "data.columns[73]"
   ]
  },
  {
   "cell_type": "code",
   "execution_count": 54,
   "metadata": {},
   "outputs": [
    {
     "data": {
      "text/plain": [
       "0         NaN\n",
       "1         NaN\n",
       "2         NaN\n",
       "3         NaN\n",
       "4         NaN\n",
       "         ... \n",
       "870487    NaN\n",
       "870488    NaN\n",
       "870489    NaN\n",
       "870490    NaN\n",
       "870491    NaN\n",
       "Name: Statistical concept and methodology, Length: 870492, dtype: object"
      ]
     },
     "execution_count": 54,
     "metadata": {},
     "output_type": "execute_result"
    }
   ],
   "source": [
    "data['Statistical concept and methodology']"
   ]
  },
  {
   "cell_type": "code",
   "execution_count": 55,
   "metadata": {},
   "outputs": [
    {
     "data": {
      "text/plain": [
       "array([nan,\n",
       "       'The standard definition of unemployed persons is those individuals without work in a recent past period, and currently available for and seeking for employment. But there may be persons who do not actively \"seek\" work because they view job opportunities as limited, or because they have restricted labour mobility, or face discrimination, or structural, social or cultural barriers. NEET rates capture more broadly untapped potential youth, including such individuals who want to work but are not seeking work (often called the \"hidden unemployed\" or \"discouraged workers\").\\n\\nYouth are defined as persons ages 15 to 24; young adults are those ages 25 to 29; and adults are those ages 25 and above. However, countries vary somewhat in their operational definitions. In particular, the lower age limit for young people is usually determined by the minimum age for leaving school, where this exists.',\n",
       "       'TIMSS'], dtype=object)"
      ]
     },
     "execution_count": 55,
     "metadata": {},
     "output_type": "execute_result"
    }
   ],
   "source": [
    "data['Statistical concept and methodology'].unique()"
   ]
  },
  {
   "cell_type": "code",
   "execution_count": 56,
   "metadata": {},
   "outputs": [],
   "source": [
    "useless_cols_manual.append(data.columns[73])"
   ]
  },
  {
   "cell_type": "code",
   "execution_count": 57,
   "metadata": {},
   "outputs": [
    {
     "data": {
      "text/plain": [
       "'Short Name'"
      ]
     },
     "execution_count": 57,
     "metadata": {},
     "output_type": "execute_result"
    }
   ],
   "source": [
    "data.columns[74]"
   ]
  },
  {
   "cell_type": "code",
   "execution_count": 58,
   "metadata": {},
   "outputs": [
    {
     "data": {
      "text/plain": [
       "0         Arab World\n",
       "1         Arab World\n",
       "2         Arab World\n",
       "3         Arab World\n",
       "4         Arab World\n",
       "             ...    \n",
       "870487      Zimbabwe\n",
       "870488      Zimbabwe\n",
       "870489      Zimbabwe\n",
       "870490      Zimbabwe\n",
       "870491      Zimbabwe\n",
       "Name: Short Name, Length: 870492, dtype: object"
      ]
     },
     "execution_count": 58,
     "metadata": {},
     "output_type": "execute_result"
    }
   ],
   "source": [
    "data['Short Name']"
   ]
  },
  {
   "cell_type": "code",
   "execution_count": 59,
   "metadata": {},
   "outputs": [
    {
     "data": {
      "text/plain": [
       "0         Arab World\n",
       "1         Arab World\n",
       "2         Arab World\n",
       "3         Arab World\n",
       "4         Arab World\n",
       "             ...    \n",
       "870487      Zimbabwe\n",
       "870488      Zimbabwe\n",
       "870489      Zimbabwe\n",
       "870490      Zimbabwe\n",
       "870491      Zimbabwe\n",
       "Name: Country Name, Length: 870492, dtype: object"
      ]
     },
     "execution_count": 59,
     "metadata": {},
     "output_type": "execute_result"
    }
   ],
   "source": [
    "data['Country Name']"
   ]
  },
  {
   "cell_type": "markdown",
   "metadata": {},
   "source": [
    "C'est un doublon"
   ]
  },
  {
   "cell_type": "code",
   "execution_count": 60,
   "metadata": {},
   "outputs": [],
   "source": [
    "useless_cols_manual.append(data.columns[74])"
   ]
  },
  {
   "cell_type": "code",
   "execution_count": 61,
   "metadata": {},
   "outputs": [
    {
     "data": {
      "text/plain": [
       "'Table Name'"
      ]
     },
     "execution_count": 61,
     "metadata": {},
     "output_type": "execute_result"
    }
   ],
   "source": [
    "data.columns[75]"
   ]
  },
  {
   "cell_type": "code",
   "execution_count": 62,
   "metadata": {},
   "outputs": [
    {
     "data": {
      "text/plain": [
       "0         Arab World\n",
       "1         Arab World\n",
       "2         Arab World\n",
       "3         Arab World\n",
       "4         Arab World\n",
       "             ...    \n",
       "870487      Zimbabwe\n",
       "870488      Zimbabwe\n",
       "870489      Zimbabwe\n",
       "870490      Zimbabwe\n",
       "870491      Zimbabwe\n",
       "Name: Table Name, Length: 870492, dtype: object"
      ]
     },
     "execution_count": 62,
     "metadata": {},
     "output_type": "execute_result"
    }
   ],
   "source": [
    "data[data.columns[75]]"
   ]
  },
  {
   "cell_type": "markdown",
   "metadata": {},
   "source": [
    "encore un doublon "
   ]
  },
  {
   "cell_type": "code",
   "execution_count": 63,
   "metadata": {},
   "outputs": [],
   "source": [
    "useless_cols_manual.append(data.columns[75])"
   ]
  },
  {
   "cell_type": "code",
   "execution_count": 64,
   "metadata": {},
   "outputs": [
    {
     "data": {
      "text/plain": [
       "'Long Name'"
      ]
     },
     "execution_count": 64,
     "metadata": {},
     "output_type": "execute_result"
    }
   ],
   "source": [
    "data.columns[76]"
   ]
  },
  {
   "cell_type": "code",
   "execution_count": 65,
   "metadata": {},
   "outputs": [
    {
     "data": {
      "text/plain": [
       "0                   Arab World\n",
       "1                   Arab World\n",
       "2                   Arab World\n",
       "3                   Arab World\n",
       "4                   Arab World\n",
       "                  ...         \n",
       "870487    Republic of Zimbabwe\n",
       "870488    Republic of Zimbabwe\n",
       "870489    Republic of Zimbabwe\n",
       "870490    Republic of Zimbabwe\n",
       "870491    Republic of Zimbabwe\n",
       "Name: Long Name, Length: 870492, dtype: object"
      ]
     },
     "execution_count": 65,
     "metadata": {},
     "output_type": "execute_result"
    }
   ],
   "source": [
    "data[data.columns[76]]"
   ]
  },
  {
   "cell_type": "markdown",
   "metadata": {},
   "source": [
    "encore un doublon"
   ]
  },
  {
   "cell_type": "code",
   "execution_count": 66,
   "metadata": {},
   "outputs": [],
   "source": [
    "useless_cols_manual.append(data.columns[76])"
   ]
  },
  {
   "cell_type": "code",
   "execution_count": 67,
   "metadata": {},
   "outputs": [
    {
     "data": {
      "text/plain": [
       "0         1A\n",
       "1         1A\n",
       "2         1A\n",
       "3         1A\n",
       "4         1A\n",
       "          ..\n",
       "870487    ZW\n",
       "870488    ZW\n",
       "870489    ZW\n",
       "870490    ZW\n",
       "870491    ZW\n",
       "Name: 2-alpha code, Length: 870492, dtype: object"
      ]
     },
     "execution_count": 67,
     "metadata": {},
     "output_type": "execute_result"
    }
   ],
   "source": [
    "data[data.columns[77]]"
   ]
  },
  {
   "cell_type": "code",
   "execution_count": 68,
   "metadata": {},
   "outputs": [],
   "source": [
    "useless_cols_manual.append(data.columns[77])"
   ]
  },
  {
   "cell_type": "code",
   "execution_count": 69,
   "metadata": {},
   "outputs": [
    {
     "data": {
      "text/plain": [
       "0                 NaN\n",
       "1                 NaN\n",
       "2                 NaN\n",
       "3                 NaN\n",
       "4                 NaN\n",
       "             ...     \n",
       "870487    U.S. dollar\n",
       "870488    U.S. dollar\n",
       "870489    U.S. dollar\n",
       "870490    U.S. dollar\n",
       "870491    U.S. dollar\n",
       "Name: Currency Unit, Length: 870492, dtype: object"
      ]
     },
     "execution_count": 69,
     "metadata": {},
     "output_type": "execute_result"
    }
   ],
   "source": [
    "data[data.columns[78]]"
   ]
  },
  {
   "cell_type": "code",
   "execution_count": 70,
   "metadata": {},
   "outputs": [],
   "source": [
    "useless_cols_manual.append(data.columns[78])"
   ]
  },
  {
   "cell_type": "code",
   "execution_count": 71,
   "metadata": {},
   "outputs": [
    {
     "data": {
      "text/plain": [
       "0         Arab World aggregate. Arab World is composed o...\n",
       "1         Arab World aggregate. Arab World is composed o...\n",
       "2         Arab World aggregate. Arab World is composed o...\n",
       "3         Arab World aggregate. Arab World is composed o...\n",
       "4         Arab World aggregate. Arab World is composed o...\n",
       "                                ...                        \n",
       "870487    Fiscal year end: June 30; reporting period for...\n",
       "870488    Fiscal year end: June 30; reporting period for...\n",
       "870489    Fiscal year end: June 30; reporting period for...\n",
       "870490    Fiscal year end: June 30; reporting period for...\n",
       "870491    Fiscal year end: June 30; reporting period for...\n",
       "Name: Special Notes, Length: 870492, dtype: object"
      ]
     },
     "execution_count": 71,
     "metadata": {},
     "output_type": "execute_result"
    }
   ],
   "source": [
    "data[data.columns[79]]"
   ]
  },
  {
   "cell_type": "code",
   "execution_count": 72,
   "metadata": {},
   "outputs": [
    {
     "data": {
      "text/plain": [
       "'Arab World aggregate. Arab World is composed of members of the League of Arab States.'"
      ]
     },
     "execution_count": 72,
     "metadata": {},
     "output_type": "execute_result"
    }
   ],
   "source": [
    "data[data.columns[79]].iloc[0]"
   ]
  },
  {
   "cell_type": "code",
   "execution_count": 73,
   "metadata": {},
   "outputs": [
    {
     "data": {
      "text/plain": [
       "'Fiscal year end: June 30; reporting period for national accounts data: CY. As of January 2009, multiple hard currencies, such as rand, pound sterling, euro and U.S. dollar are in use. Data are reported in U.S. dollars, the most-used currency.'"
      ]
     },
     "execution_count": 73,
     "metadata": {},
     "output_type": "execute_result"
    }
   ],
   "source": [
    "data[data.columns[79]][870466]"
   ]
  },
  {
   "cell_type": "markdown",
   "metadata": {},
   "source": [
    "Cette colonne contient des informations à propos du pays concerné par la ligne. Je décide de la garder pour l'instant"
   ]
  },
  {
   "cell_type": "code",
   "execution_count": 74,
   "metadata": {},
   "outputs": [
    {
     "data": {
      "text/plain": [
       "0                        NaN\n",
       "1                        NaN\n",
       "2                        NaN\n",
       "3                        NaN\n",
       "4                        NaN\n",
       "                 ...        \n",
       "870487    Sub-Saharan Africa\n",
       "870488    Sub-Saharan Africa\n",
       "870489    Sub-Saharan Africa\n",
       "870490    Sub-Saharan Africa\n",
       "870491    Sub-Saharan Africa\n",
       "Name: Region, Length: 870492, dtype: object"
      ]
     },
     "execution_count": 74,
     "metadata": {},
     "output_type": "execute_result"
    }
   ],
   "source": [
    "data[data.columns[80]]"
   ]
  },
  {
   "cell_type": "markdown",
   "metadata": {},
   "source": [
    "La région m'interesse dans l'idée de détecter des zones géographiques plus que des pays"
   ]
  },
  {
   "cell_type": "code",
   "execution_count": 75,
   "metadata": {},
   "outputs": [
    {
     "data": {
      "text/plain": [
       "0                NaN\n",
       "1                NaN\n",
       "2                NaN\n",
       "3                NaN\n",
       "4                NaN\n",
       "             ...    \n",
       "870487    Low income\n",
       "870488    Low income\n",
       "870489    Low income\n",
       "870490    Low income\n",
       "870491    Low income\n",
       "Name: Income Group, Length: 870492, dtype: object"
      ]
     },
     "execution_count": 75,
     "metadata": {},
     "output_type": "execute_result"
    }
   ],
   "source": [
    "data[data.columns[81]]"
   ]
  },
  {
   "cell_type": "code",
   "execution_count": 76,
   "metadata": {},
   "outputs": [
    {
     "data": {
      "text/plain": [
       "array([nan, 'Low income', 'Upper middle income', 'High income: nonOECD',\n",
       "       'Lower middle income', 'High income: OECD'], dtype=object)"
      ]
     },
     "execution_count": 76,
     "metadata": {},
     "output_type": "execute_result"
    }
   ],
   "source": [
    "data[data.columns[81]].unique()"
   ]
  },
  {
   "cell_type": "code",
   "execution_count": 77,
   "metadata": {},
   "outputs": [
    {
     "data": {
      "text/plain": [
       "0         1A\n",
       "1         1A\n",
       "2         1A\n",
       "3         1A\n",
       "4         1A\n",
       "          ..\n",
       "870487    ZW\n",
       "870488    ZW\n",
       "870489    ZW\n",
       "870490    ZW\n",
       "870491    ZW\n",
       "Name: WB-2 code, Length: 870492, dtype: object"
      ]
     },
     "execution_count": 77,
     "metadata": {},
     "output_type": "execute_result"
    }
   ],
   "source": [
    "data[data.columns[82]]"
   ]
  },
  {
   "cell_type": "code",
   "execution_count": 78,
   "metadata": {},
   "outputs": [],
   "source": [
    "useless_cols_manual.append(data.columns[82])"
   ]
  },
  {
   "cell_type": "code",
   "execution_count": 79,
   "metadata": {},
   "outputs": [
    {
     "data": {
      "text/plain": [
       "0          NaN\n",
       "1          NaN\n",
       "2          NaN\n",
       "3          NaN\n",
       "4          NaN\n",
       "          ... \n",
       "870487    2009\n",
       "870488    2009\n",
       "870489    2009\n",
       "870490    2009\n",
       "870491    2009\n",
       "Name: National accounts base year, Length: 870492, dtype: object"
      ]
     },
     "execution_count": 79,
     "metadata": {},
     "output_type": "execute_result"
    }
   ],
   "source": [
    "data[data.columns[83]]"
   ]
  },
  {
   "cell_type": "code",
   "execution_count": 80,
   "metadata": {},
   "outputs": [],
   "source": [
    "useless_cols_manual.append(data.columns[83])"
   ]
  },
  {
   "cell_type": "code",
   "execution_count": 81,
   "metadata": {},
   "outputs": [
    {
     "data": {
      "text/plain": [
       "0                                       NaN\n",
       "1                                       NaN\n",
       "2                                       NaN\n",
       "3                                       NaN\n",
       "4                                       NaN\n",
       "                        ...                \n",
       "870487    Value added at basic prices (VAB)\n",
       "870488    Value added at basic prices (VAB)\n",
       "870489    Value added at basic prices (VAB)\n",
       "870490    Value added at basic prices (VAB)\n",
       "870491    Value added at basic prices (VAB)\n",
       "Name: SNA price valuation, Length: 870492, dtype: object"
      ]
     },
     "execution_count": 81,
     "metadata": {},
     "output_type": "execute_result"
    }
   ],
   "source": [
    "data[data.columns[84]]"
   ]
  },
  {
   "cell_type": "code",
   "execution_count": 82,
   "metadata": {},
   "outputs": [
    {
     "data": {
      "text/plain": [
       "array([nan, 'Value added at basic prices (VAB)',\n",
       "       'Value added at producer prices (VAP)'], dtype=object)"
      ]
     },
     "execution_count": 82,
     "metadata": {},
     "output_type": "execute_result"
    }
   ],
   "source": [
    "data[data.columns[84]].unique()"
   ]
  },
  {
   "cell_type": "code",
   "execution_count": 83,
   "metadata": {},
   "outputs": [],
   "source": [
    "useless_cols_manual.append(data.columns[84])"
   ]
  },
  {
   "cell_type": "code",
   "execution_count": 84,
   "metadata": {},
   "outputs": [
    {
     "data": {
      "text/plain": [
       "0           NaN\n",
       "1           NaN\n",
       "2           NaN\n",
       "3           NaN\n",
       "4           NaN\n",
       "          ...  \n",
       "870487    Blend\n",
       "870488    Blend\n",
       "870489    Blend\n",
       "870490    Blend\n",
       "870491    Blend\n",
       "Name: Lending category, Length: 870492, dtype: object"
      ]
     },
     "execution_count": 84,
     "metadata": {},
     "output_type": "execute_result"
    }
   ],
   "source": [
    "data[data.columns[85]]"
   ]
  },
  {
   "cell_type": "code",
   "execution_count": 85,
   "metadata": {},
   "outputs": [
    {
     "data": {
      "text/plain": [
       "array([nan, 'IDA', 'IBRD', 'Blend'], dtype=object)"
      ]
     },
     "execution_count": 85,
     "metadata": {},
     "output_type": "execute_result"
    }
   ],
   "source": [
    "data[data.columns[85]].unique()"
   ]
  },
  {
   "cell_type": "markdown",
   "metadata": {},
   "source": [
    "Lending veut dire prêt. Cette donnée n'apporte rien"
   ]
  },
  {
   "cell_type": "code",
   "execution_count": 86,
   "metadata": {},
   "outputs": [],
   "source": [
    "useless_cols_manual.append(data.columns[85])"
   ]
  },
  {
   "cell_type": "code",
   "execution_count": 87,
   "metadata": {},
   "outputs": [
    {
     "data": {
      "text/plain": [
       "0                                                       NaN\n",
       "1                                                       NaN\n",
       "2                                                       NaN\n",
       "3                                                       NaN\n",
       "4                                                       NaN\n",
       "                                ...                        \n",
       "870487    Country uses the 1993 System of National Accou...\n",
       "870488    Country uses the 1993 System of National Accou...\n",
       "870489    Country uses the 1993 System of National Accou...\n",
       "870490    Country uses the 1993 System of National Accou...\n",
       "870491    Country uses the 1993 System of National Accou...\n",
       "Name: System of National Accounts, Length: 870492, dtype: object"
      ]
     },
     "execution_count": 87,
     "metadata": {},
     "output_type": "execute_result"
    }
   ],
   "source": [
    "data[data.columns[86]]"
   ]
  },
  {
   "cell_type": "code",
   "execution_count": 88,
   "metadata": {},
   "outputs": [],
   "source": [
    "useless_cols_manual.append(data.columns[86])"
   ]
  },
  {
   "cell_type": "code",
   "execution_count": 89,
   "metadata": {},
   "outputs": [
    {
     "data": {
      "text/plain": [
       "0          NaN\n",
       "1          NaN\n",
       "2          NaN\n",
       "3          NaN\n",
       "4          NaN\n",
       "          ... \n",
       "870487    2005\n",
       "870488    2005\n",
       "870489    2005\n",
       "870490    2005\n",
       "870491    2005\n",
       "Name: PPP survey year, Length: 870492, dtype: object"
      ]
     },
     "execution_count": 89,
     "metadata": {},
     "output_type": "execute_result"
    }
   ],
   "source": [
    "data[data.columns[87]]"
   ]
  },
  {
   "cell_type": "code",
   "execution_count": 90,
   "metadata": {},
   "outputs": [],
   "source": [
    "useless_cols_manual.append(data.columns[87])"
   ]
  },
  {
   "cell_type": "code",
   "execution_count": 91,
   "metadata": {},
   "outputs": [
    {
     "data": {
      "text/plain": [
       "0                                                  NaN\n",
       "1                                                  NaN\n",
       "2                                                  NaN\n",
       "3                                                  NaN\n",
       "4                                                  NaN\n",
       "                              ...                     \n",
       "870487    IMF Balance of Payments Manual, 6th edition.\n",
       "870488    IMF Balance of Payments Manual, 6th edition.\n",
       "870489    IMF Balance of Payments Manual, 6th edition.\n",
       "870490    IMF Balance of Payments Manual, 6th edition.\n",
       "870491    IMF Balance of Payments Manual, 6th edition.\n",
       "Name: Balance of Payments Manual in use, Length: 870492, dtype: object"
      ]
     },
     "execution_count": 91,
     "metadata": {},
     "output_type": "execute_result"
    }
   ],
   "source": [
    "data[data.columns[88]]"
   ]
  },
  {
   "cell_type": "code",
   "execution_count": 92,
   "metadata": {},
   "outputs": [],
   "source": [
    "useless_cols_manual.append(data.columns[88])"
   ]
  },
  {
   "cell_type": "code",
   "execution_count": 93,
   "metadata": {},
   "outputs": [
    {
     "data": {
      "text/plain": [
       "0            NaN\n",
       "1            NaN\n",
       "2            NaN\n",
       "3            NaN\n",
       "4            NaN\n",
       "           ...  \n",
       "870487    Actual\n",
       "870488    Actual\n",
       "870489    Actual\n",
       "870490    Actual\n",
       "870491    Actual\n",
       "Name: External debt Reporting status, Length: 870492, dtype: object"
      ]
     },
     "execution_count": 93,
     "metadata": {},
     "output_type": "execute_result"
    }
   ],
   "source": [
    "data[data.columns[89]]"
   ]
  },
  {
   "cell_type": "code",
   "execution_count": 94,
   "metadata": {},
   "outputs": [],
   "source": [
    "useless_cols_manual.append(data.columns[89])"
   ]
  },
  {
   "cell_type": "code",
   "execution_count": 95,
   "metadata": {},
   "outputs": [
    {
     "data": {
      "text/plain": [
       "0                          NaN\n",
       "1                          NaN\n",
       "2                          NaN\n",
       "3                          NaN\n",
       "4                          NaN\n",
       "                  ...         \n",
       "870487    General trade system\n",
       "870488    General trade system\n",
       "870489    General trade system\n",
       "870490    General trade system\n",
       "870491    General trade system\n",
       "Name: System of trade, Length: 870492, dtype: object"
      ]
     },
     "execution_count": 95,
     "metadata": {},
     "output_type": "execute_result"
    }
   ],
   "source": [
    "data[data.columns[90]]"
   ]
  },
  {
   "cell_type": "code",
   "execution_count": 96,
   "metadata": {},
   "outputs": [
    {
     "data": {
      "text/plain": [
       "array([nan, 'General trade system', 'Special trade system'], dtype=object)"
      ]
     },
     "execution_count": 96,
     "metadata": {},
     "output_type": "execute_result"
    }
   ],
   "source": [
    "data[data.columns[90]].unique()"
   ]
  },
  {
   "cell_type": "code",
   "execution_count": 97,
   "metadata": {},
   "outputs": [],
   "source": [
    "useless_cols_manual.append(data.columns[90])"
   ]
  },
  {
   "cell_type": "code",
   "execution_count": 98,
   "metadata": {},
   "outputs": [
    {
     "data": {
      "text/plain": [
       "0                                     NaN\n",
       "1                                     NaN\n",
       "2                                     NaN\n",
       "3                                     NaN\n",
       "4                                     NaN\n",
       "                       ...               \n",
       "870487    Consolidated central government\n",
       "870488    Consolidated central government\n",
       "870489    Consolidated central government\n",
       "870490    Consolidated central government\n",
       "870491    Consolidated central government\n",
       "Name: Government Accounting concept, Length: 870492, dtype: object"
      ]
     },
     "execution_count": 98,
     "metadata": {},
     "output_type": "execute_result"
    }
   ],
   "source": [
    "data[data.columns[91]]"
   ]
  },
  {
   "cell_type": "code",
   "execution_count": 99,
   "metadata": {},
   "outputs": [],
   "source": [
    "useless_cols_manual.append(data.columns[91])"
   ]
  },
  {
   "cell_type": "code",
   "execution_count": 100,
   "metadata": {},
   "outputs": [
    {
     "data": {
      "text/plain": [
       "0                                              NaN\n",
       "1                                              NaN\n",
       "2                                              NaN\n",
       "3                                              NaN\n",
       "4                                              NaN\n",
       "                            ...                   \n",
       "870487    General Data Dissemination System (GDDS)\n",
       "870488    General Data Dissemination System (GDDS)\n",
       "870489    General Data Dissemination System (GDDS)\n",
       "870490    General Data Dissemination System (GDDS)\n",
       "870491    General Data Dissemination System (GDDS)\n",
       "Name: IMF data dissemination standard, Length: 870492, dtype: object"
      ]
     },
     "execution_count": 100,
     "metadata": {},
     "output_type": "execute_result"
    }
   ],
   "source": [
    "data[data.columns[92]]"
   ]
  },
  {
   "cell_type": "code",
   "execution_count": 101,
   "metadata": {},
   "outputs": [
    {
     "data": {
      "text/plain": [
       "array([nan, 'General Data Dissemination System (GDDS)',\n",
       "       'Special Data Dissemination Standard (SDDS)'], dtype=object)"
      ]
     },
     "execution_count": 101,
     "metadata": {},
     "output_type": "execute_result"
    }
   ],
   "source": [
    "data[data.columns[92]].unique()"
   ]
  },
  {
   "cell_type": "code",
   "execution_count": 102,
   "metadata": {},
   "outputs": [],
   "source": [
    "useless_cols_manual.append(data.columns[92])"
   ]
  },
  {
   "cell_type": "code",
   "execution_count": 103,
   "metadata": {},
   "outputs": [
    {
     "data": {
      "text/plain": [
       "0          NaN\n",
       "1          NaN\n",
       "2          NaN\n",
       "3          NaN\n",
       "4          NaN\n",
       "          ... \n",
       "870487    2012\n",
       "870488    2012\n",
       "870489    2012\n",
       "870490    2012\n",
       "870491    2012\n",
       "Name: Latest population census, Length: 870492, dtype: object"
      ]
     },
     "execution_count": 103,
     "metadata": {},
     "output_type": "execute_result"
    }
   ],
   "source": [
    "data[data.columns[93]]"
   ]
  },
  {
   "cell_type": "code",
   "execution_count": 104,
   "metadata": {},
   "outputs": [
    {
     "data": {
      "text/plain": [
       "array([nan, 1979.0, 2011.0, 2008.0, '2008', '2010',\n",
       "       '2011. Population figures compiled from administrative registers.',\n",
       "       '1970', '2011', 2010, '2009', 2009, 2013, 2005, 2012, 2006, 2003,\n",
       "       '2003', 'Guernsey: 2009; Jersey: 2011.', '2012', 1984, 2007, 1998,\n",
       "       2002, '2006. Rolling census based on continuous sample survey.',\n",
       "       '2007', 1996, '2013',\n",
       "       '2011. The population censuses for 1986 and 1996 were based on a one-in-seven sample of the population, while that for 2006 was based on a one-in-ten sample of the population.',\n",
       "       1997, 2004, 1970, 1993, 1983.0, '1987', 1987, 2001, 1989],\n",
       "      dtype=object)"
      ]
     },
     "execution_count": 104,
     "metadata": {},
     "output_type": "execute_result"
    }
   ],
   "source": [
    "data[data.columns[93]].unique()"
   ]
  },
  {
   "cell_type": "markdown",
   "metadata": {},
   "source": [
    "Cette colonne est interessante mais elle necessite un nettoyage"
   ]
  },
  {
   "cell_type": "code",
   "execution_count": 105,
   "metadata": {},
   "outputs": [
    {
     "data": {
      "text/plain": [
       "0                                                  NaN\n",
       "1                                                  NaN\n",
       "2                                                  NaN\n",
       "3                                                  NaN\n",
       "4                                                  NaN\n",
       "                              ...                     \n",
       "870487    Demographic and Health Survey (DHS), 2010/11\n",
       "870488    Demographic and Health Survey (DHS), 2010/11\n",
       "870489    Demographic and Health Survey (DHS), 2010/11\n",
       "870490    Demographic and Health Survey (DHS), 2010/11\n",
       "870491    Demographic and Health Survey (DHS), 2010/11\n",
       "Name: Latest household survey, Length: 870492, dtype: object"
      ]
     },
     "execution_count": 105,
     "metadata": {},
     "output_type": "execute_result"
    }
   ],
   "source": [
    "data[data.columns[94]]"
   ]
  },
  {
   "cell_type": "code",
   "execution_count": 106,
   "metadata": {},
   "outputs": [],
   "source": [
    "useless_cols_manual.append(data.columns[94])"
   ]
  },
  {
   "cell_type": "code",
   "execution_count": 107,
   "metadata": {},
   "outputs": [
    {
     "data": {
      "text/plain": [
       "0                                                NaN\n",
       "1                                                NaN\n",
       "2                                                NaN\n",
       "3                                                NaN\n",
       "4                                                NaN\n",
       "                             ...                    \n",
       "870487    Integrated household survey (IHS), 2011/12\n",
       "870488    Integrated household survey (IHS), 2011/12\n",
       "870489    Integrated household survey (IHS), 2011/12\n",
       "870490    Integrated household survey (IHS), 2011/12\n",
       "870491    Integrated household survey (IHS), 2011/12\n",
       "Name: Source of most recent Income and expenditure data, Length: 870492, dtype: object"
      ]
     },
     "execution_count": 107,
     "metadata": {},
     "output_type": "execute_result"
    }
   ],
   "source": [
    "data[data.columns[95]]"
   ]
  },
  {
   "cell_type": "code",
   "execution_count": 108,
   "metadata": {},
   "outputs": [],
   "source": [
    "useless_cols_manual.append(data.columns[95])"
   ]
  },
  {
   "cell_type": "code",
   "execution_count": 109,
   "metadata": {},
   "outputs": [
    {
     "data": {
      "text/plain": [
       "0         NaN\n",
       "1         NaN\n",
       "2         NaN\n",
       "3         NaN\n",
       "4         NaN\n",
       "         ... \n",
       "870487    NaN\n",
       "870488    NaN\n",
       "870489    NaN\n",
       "870490    NaN\n",
       "870491    NaN\n",
       "Name: Vital registration complete, Length: 870492, dtype: object"
      ]
     },
     "execution_count": 109,
     "metadata": {},
     "output_type": "execute_result"
    }
   ],
   "source": [
    "data[data.columns[96]]"
   ]
  },
  {
   "cell_type": "code",
   "execution_count": 110,
   "metadata": {},
   "outputs": [
    {
     "data": {
      "text/plain": [
       "array([nan, 'Yes', 'Yes. Vital registration for Guernsey and Jersey.'],\n",
       "      dtype=object)"
      ]
     },
     "execution_count": 110,
     "metadata": {},
     "output_type": "execute_result"
    }
   ],
   "source": [
    "data[data.columns[96]].unique()"
   ]
  },
  {
   "cell_type": "markdown",
   "metadata": {},
   "source": [
    "Que des 'yes' ou NaN. On supprime"
   ]
  },
  {
   "cell_type": "code",
   "execution_count": 111,
   "metadata": {},
   "outputs": [],
   "source": [
    "useless_cols_manual.append(data.columns[96])"
   ]
  },
  {
   "cell_type": "code",
   "execution_count": 112,
   "metadata": {},
   "outputs": [
    {
     "data": {
      "text/plain": [
       "0         NaN\n",
       "1         NaN\n",
       "2         NaN\n",
       "3         NaN\n",
       "4         NaN\n",
       "         ... \n",
       "870487    NaN\n",
       "870488    NaN\n",
       "870489    NaN\n",
       "870490    NaN\n",
       "870491    NaN\n",
       "Name: Latest agricultural census, Length: 870492, dtype: object"
      ]
     },
     "execution_count": 112,
     "metadata": {},
     "output_type": "execute_result"
    }
   ],
   "source": [
    "data[data.columns[97]]"
   ]
  },
  {
   "cell_type": "code",
   "execution_count": 113,
   "metadata": {},
   "outputs": [],
   "source": [
    "useless_cols_manual.append(data.columns[97])"
   ]
  },
  {
   "cell_type": "code",
   "execution_count": 114,
   "metadata": {},
   "outputs": [
    {
     "data": {
      "text/plain": [
       "0        NaN\n",
       "1        NaN\n",
       "2        NaN\n",
       "3        NaN\n",
       "4        NaN\n",
       "          ..\n",
       "870487   NaN\n",
       "870488   NaN\n",
       "870489   NaN\n",
       "870490   NaN\n",
       "870491   NaN\n",
       "Name: Latest industrial data, Length: 870492, dtype: float64"
      ]
     },
     "execution_count": 114,
     "metadata": {},
     "output_type": "execute_result"
    }
   ],
   "source": [
    "data[data.columns[98]]"
   ]
  },
  {
   "cell_type": "code",
   "execution_count": 115,
   "metadata": {},
   "outputs": [],
   "source": [
    "useless_cols_manual.append(data.columns[98])"
   ]
  },
  {
   "cell_type": "code",
   "execution_count": 116,
   "metadata": {},
   "outputs": [
    {
     "data": {
      "text/plain": [
       "0            NaN\n",
       "1            NaN\n",
       "2            NaN\n",
       "3            NaN\n",
       "4            NaN\n",
       "           ...  \n",
       "870487    2012.0\n",
       "870488    2012.0\n",
       "870489    2012.0\n",
       "870490    2012.0\n",
       "870491    2012.0\n",
       "Name: Latest trade data, Length: 870492, dtype: float64"
      ]
     },
     "execution_count": 116,
     "metadata": {},
     "output_type": "execute_result"
    }
   ],
   "source": [
    "data[data.columns[99]]"
   ]
  },
  {
   "cell_type": "code",
   "execution_count": 117,
   "metadata": {},
   "outputs": [],
   "source": [
    "useless_cols_manual.append(data.columns[99])"
   ]
  },
  {
   "cell_type": "code",
   "execution_count": 118,
   "metadata": {},
   "outputs": [
    {
     "data": {
      "text/plain": [
       "0          NaN\n",
       "1          NaN\n",
       "2          NaN\n",
       "3          NaN\n",
       "4          NaN\n",
       "          ... \n",
       "870487    2002\n",
       "870488    2002\n",
       "870489    2002\n",
       "870490    2002\n",
       "870491    2002\n",
       "Name: Latest water withdrawal data, Length: 870492, dtype: object"
      ]
     },
     "execution_count": 118,
     "metadata": {},
     "output_type": "execute_result"
    }
   ],
   "source": [
    "data[data.columns[100]]"
   ]
  },
  {
   "cell_type": "code",
   "execution_count": 119,
   "metadata": {},
   "outputs": [],
   "source": [
    "useless_cols_manual.append(data.columns[100])"
   ]
  },
  {
   "cell_type": "code",
   "execution_count": 120,
   "metadata": {},
   "outputs": [
    {
     "data": {
      "text/plain": [
       "['Short definition',\n",
       " 'Statistical concept and methodology',\n",
       " 'Short Name',\n",
       " 'Table Name',\n",
       " 'Long Name',\n",
       " '2-alpha code',\n",
       " 'Currency Unit',\n",
       " 'WB-2 code',\n",
       " 'National accounts base year',\n",
       " 'SNA price valuation',\n",
       " 'Lending category',\n",
       " 'System of National Accounts',\n",
       " 'PPP survey year',\n",
       " 'Balance of Payments Manual in use',\n",
       " 'External debt Reporting status',\n",
       " 'System of trade',\n",
       " 'Government Accounting concept',\n",
       " 'IMF data dissemination standard',\n",
       " 'Latest household survey',\n",
       " 'Source of most recent Income and expenditure data',\n",
       " 'Vital registration complete',\n",
       " 'Latest agricultural census',\n",
       " 'Latest industrial data',\n",
       " 'Latest trade data',\n",
       " 'Latest water withdrawal data']"
      ]
     },
     "execution_count": 120,
     "metadata": {},
     "output_type": "execute_result"
    }
   ],
   "source": [
    "useless_cols_manual "
   ]
  },
  {
   "cell_type": "code",
   "execution_count": 121,
   "metadata": {},
   "outputs": [],
   "source": [
    "data = data.drop(columns=useless_cols_manual)"
   ]
  },
  {
   "cell_type": "code",
   "execution_count": 122,
   "metadata": {},
   "outputs": [
    {
     "data": {
      "text/plain": [
       "(870492, 76)"
      ]
     },
     "execution_count": 122,
     "metadata": {},
     "output_type": "execute_result"
    }
   ],
   "source": [
    "data.shape"
   ]
  },
  {
   "cell_type": "markdown",
   "metadata": {},
   "source": [
    "## Selections et analyses des indicateurs"
   ]
  },
  {
   "cell_type": "markdown",
   "metadata": {},
   "source": [
    "### Afin de faire une sélection des pays. Nous allons regarder certains critères :\n",
    "#### L'acces à internet\n",
    "#### La population du pays\n",
    "#### Le taux d'alpabetisation\n",
    "#### Le PIB"
   ]
  },
  {
   "cell_type": "code",
   "execution_count": 123,
   "metadata": {},
   "outputs": [
    {
     "data": {
      "text/plain": [
       "Index(['Country Name', 'Country Code', 'Indicator Name_x', 'Indicator Code',\n",
       "       '1970', '1971', '1972', '1973', '1974', '1975', '1976', '1977', '1978',\n",
       "       '1979', '1980', '1981', '1982', '1983', '1984', '1985', '1986', '1987',\n",
       "       '1988', '1989', '1990', '1991', '1992', '1993', '1994', '1995', '1996',\n",
       "       '1997', '1998', '1999', '2000', '2001', '2002', '2003', '2004', '2005',\n",
       "       '2006', '2007', '2008', '2009', '2010', '2011', '2012', '2013', '2014',\n",
       "       '2015', '2016', '2017', '2020', '2025', '2030', '2035', '2040', '2045',\n",
       "       '2050', '2055', '2060', '2065', '2070', '2075', '2080', '2085', '2090',\n",
       "       '2095', '2100', 'Topic', 'Long definition', 'Source', 'Special Notes',\n",
       "       'Region', 'Income Group', 'Latest population census'],\n",
       "      dtype='object')"
      ]
     },
     "execution_count": 123,
     "metadata": {},
     "output_type": "execute_result"
    }
   ],
   "source": [
    "data.columns"
   ]
  },
  {
   "cell_type": "code",
   "execution_count": 124,
   "metadata": {},
   "outputs": [],
   "source": [
    "data = data.rename(columns={'Indicator Name_x': 'Indicator_name'})"
   ]
  },
  {
   "cell_type": "code",
   "execution_count": 125,
   "metadata": {},
   "outputs": [
    {
     "data": {
      "text/plain": [
       "Index(['Country Name', 'Country Code', 'Indicator_name', 'Indicator Code',\n",
       "       '1970', '1971', '1972', '1973', '1974', '1975', '1976', '1977', '1978',\n",
       "       '1979', '1980', '1981', '1982', '1983', '1984', '1985', '1986', '1987',\n",
       "       '1988', '1989', '1990', '1991', '1992', '1993', '1994', '1995', '1996',\n",
       "       '1997', '1998', '1999', '2000', '2001', '2002', '2003', '2004', '2005',\n",
       "       '2006', '2007', '2008', '2009', '2010', '2011', '2012', '2013', '2014',\n",
       "       '2015', '2016', '2017', '2020', '2025', '2030', '2035', '2040', '2045',\n",
       "       '2050', '2055', '2060', '2065', '2070', '2075', '2080', '2085', '2090',\n",
       "       '2095', '2100', 'Topic', 'Long definition', 'Source', 'Special Notes',\n",
       "       'Region', 'Income Group', 'Latest population census'],\n",
       "      dtype='object')"
      ]
     },
     "execution_count": 125,
     "metadata": {},
     "output_type": "execute_result"
    }
   ],
   "source": [
    "data.columns"
   ]
  },
  {
   "cell_type": "code",
   "execution_count": 126,
   "metadata": {},
   "outputs": [
    {
     "data": {
      "text/plain": [
       "1"
      ]
     },
     "execution_count": 126,
     "metadata": {},
     "output_type": "execute_result"
    }
   ],
   "source": [
    "indicateurs_internet = []\n",
    "indicateurs = data['Long definition'].unique()\n",
    "for indicateur in indicateurs:\n",
    "    mots = indicateur.split(' ')\n",
    "    if 'internet' in [mot.lower() for mot in mots]:\n",
    "        indicateurs_internet.append(indicateur)\n",
    "len(indicateurs_internet)"
   ]
  },
  {
   "cell_type": "markdown",
   "metadata": {},
   "source": [
    "Un seul indicateur contient le mot internet. Recupérons le code et le nom de cet indicateur"
   ]
  },
  {
   "cell_type": "code",
   "execution_count": 127,
   "metadata": {},
   "outputs": [],
   "source": [
    "data_internet = data[data['Long definition'] == indicateurs_internet[0]]\n",
    "code_indic_internet = data_internet['Indicator Code'].unique()[0]\n",
    "nom_indic_internet = data_internet['Indicator_name'].unique()[0]\n",
    "definition_indic_internet = data_internet['Long definition'].unique()[0]"
   ]
  },
  {
   "cell_type": "code",
   "execution_count": 128,
   "metadata": {},
   "outputs": [
    {
     "data": {
      "text/plain": [
       "'IT.NET.USER.P2'"
      ]
     },
     "execution_count": 128,
     "metadata": {},
     "output_type": "execute_result"
    }
   ],
   "source": [
    "code_indic_internet"
   ]
  },
  {
   "cell_type": "code",
   "execution_count": 129,
   "metadata": {},
   "outputs": [
    {
     "data": {
      "text/plain": [
       "'Internet users (per 100 people)'"
      ]
     },
     "execution_count": 129,
     "metadata": {},
     "output_type": "execute_result"
    }
   ],
   "source": [
    "nom_indic_internet"
   ]
  },
  {
   "cell_type": "code",
   "execution_count": 130,
   "metadata": {},
   "outputs": [
    {
     "data": {
      "text/plain": [
       "'Internet users are individuals who have used the Internet (from any location) in the last 3 months. The Internet can be used via a computer, mobile phone, personal digital assistant, games machine, digital TV etc.'"
      ]
     },
     "execution_count": 130,
     "metadata": {},
     "output_type": "execute_result"
    }
   ],
   "source": [
    "definition_indic_internet"
   ]
  },
  {
   "cell_type": "markdown",
   "metadata": {},
   "source": [
    "#### Nous allons selectionner les pays dans lesquels plus de 75% de la population utilise internet selon le dernier relevé de cet indicateurs."
   ]
  },
  {
   "cell_type": "markdown",
   "metadata": {},
   "source": [
    "Regardons quand on été faits les derniers relevés"
   ]
  },
  {
   "cell_type": "code",
   "execution_count": 131,
   "metadata": {},
   "outputs": [
    {
     "data": {
      "text/plain": [
       "241"
      ]
     },
     "execution_count": 131,
     "metadata": {},
     "output_type": "execute_result"
    }
   ],
   "source": [
    "len(data_internet['Country Name'].unique())"
   ]
  },
  {
   "cell_type": "code",
   "execution_count": 132,
   "metadata": {},
   "outputs": [
    {
     "data": {
      "text/plain": [
       "241"
      ]
     },
     "execution_count": 132,
     "metadata": {},
     "output_type": "execute_result"
    }
   ],
   "source": [
    "len(data_internet['Country Code'].unique())"
   ]
  },
  {
   "cell_type": "code",
   "execution_count": 133,
   "metadata": {},
   "outputs": [],
   "source": [
    "data_internet_2020 = data_internet[['Country Name', '2020']]"
   ]
  },
  {
   "cell_type": "code",
   "execution_count": 134,
   "metadata": {},
   "outputs": [
    {
     "data": {
      "text/plain": [
       "Country Name      0\n",
       "2020            241\n",
       "dtype: int64"
      ]
     },
     "execution_count": 134,
     "metadata": {},
     "output_type": "execute_result"
    }
   ],
   "source": [
    "data_internet_2020.isnull().sum()"
   ]
  },
  {
   "cell_type": "markdown",
   "metadata": {},
   "source": [
    "Aucune infos pour 2020. Nous avions vu plus haut que 2020 est une année \"prédictive\"."
   ]
  },
  {
   "cell_type": "code",
   "execution_count": 135,
   "metadata": {},
   "outputs": [],
   "source": [
    "data_internet_2017 = data_internet[['Country Name', '2017']]"
   ]
  },
  {
   "cell_type": "code",
   "execution_count": 136,
   "metadata": {},
   "outputs": [
    {
     "data": {
      "text/plain": [
       "Country Name      0\n",
       "2017            241\n",
       "dtype: int64"
      ]
     },
     "execution_count": 136,
     "metadata": {},
     "output_type": "execute_result"
    }
   ],
   "source": [
    "data_internet_2017.isnull().sum()"
   ]
  },
  {
   "cell_type": "markdown",
   "metadata": {},
   "source": [
    "Pareil pour 2017"
   ]
  },
  {
   "cell_type": "code",
   "execution_count": 137,
   "metadata": {},
   "outputs": [],
   "source": [
    "data_internet_2016 = data_internet[['Country Name', '2016']]"
   ]
  },
  {
   "cell_type": "code",
   "execution_count": 138,
   "metadata": {},
   "outputs": [
    {
     "data": {
      "text/plain": [
       "Country Name     0\n",
       "2016            18\n",
       "dtype: int64"
      ]
     },
     "execution_count": 138,
     "metadata": {},
     "output_type": "execute_result"
    }
   ],
   "source": [
    "data_internet_2016.isnull().sum()"
   ]
  },
  {
   "cell_type": "markdown",
   "metadata": {},
   "source": [
    "Basons nous sur les données de 2016"
   ]
  },
  {
   "cell_type": "markdown",
   "metadata": {},
   "source": [
    "Filtrons les pays dont le taux d'internet user est de moins de 75%"
   ]
  },
  {
   "cell_type": "code",
   "execution_count": 139,
   "metadata": {},
   "outputs": [
    {
     "data": {
      "text/plain": [
       "59"
      ]
     },
     "execution_count": 139,
     "metadata": {},
     "output_type": "execute_result"
    }
   ],
   "source": [
    "pays_internet_suffisant = data_internet_2016[data_internet_2016['2016'] >= 75]['Country Name']\n",
    "len(pays_internet_suffisant)"
   ]
  },
  {
   "cell_type": "markdown",
   "metadata": {},
   "source": [
    "Quid des pays sans relevés? Regardons s'ils ont des relevés antérieurs"
   ]
  },
  {
   "cell_type": "code",
   "execution_count": 140,
   "metadata": {},
   "outputs": [],
   "source": [
    "pays_sans_releves_2016 = data_internet_2016[data_internet_2016['2016'].isnull()]['Country Name']"
   ]
  },
  {
   "cell_type": "code",
   "execution_count": 141,
   "metadata": {},
   "outputs": [
    {
     "data": {
      "text/plain": [
       "1343                     Arab World\n",
       "23015                European Union\n",
       "69971                  OECD members\n",
       "102479               American Samoa\n",
       "228899              Channel Islands\n",
       "268631                      Curacao\n",
       "423947                  Isle of Man\n",
       "456455    Korea, Dem. People’s Rep.\n",
       "463679                       Kosovo\n",
       "582875                        Nauru\n",
       "593711                New Caledonia\n",
       "611771     Northern Mariana Islands\n",
       "626219                        Palau\n",
       "676787                   San Marino\n",
       "705683    Sint Maarten (Dutch part)\n",
       "727355                  South Sudan\n",
       "745415     St. Martin (French part)\n",
       "810431     Turks and Caicos Islands\n",
       "Name: Country Name, dtype: object"
      ]
     },
     "execution_count": 141,
     "metadata": {},
     "output_type": "execute_result"
    }
   ],
   "source": [
    "pays_sans_releves_2016"
   ]
  },
  {
   "cell_type": "markdown",
   "metadata": {},
   "source": [
    "J'identifie ici la necessité d'avoir une fonction qui retrouve l'année du dernier relevé pour un indicateur et un pays donné. cela me servira pour analyser d'autres indicateurs"
   ]
  },
  {
   "cell_type": "code",
   "execution_count": 142,
   "metadata": {},
   "outputs": [],
   "source": [
    "years = ['1970', '1971', '1972', '1973', '1974', '1975', '1976', '1977', '1978',\n",
    "       '1979', '1980', '1981', '1982', '1983', '1984', '1985', '1986', '1987',\n",
    "       '1988', '1989', '1990', '1991', '1992', '1993', '1994', '1995', '1996',\n",
    "       '1997', '1998', '1999', '2000', '2001', '2002', '2003', '2004', '2005',\n",
    "       '2006', '2007', '2008', '2009', '2010', '2011', '2012', '2013', '2014',\n",
    "       '2015', '2016', '2017', '2020']\n",
    "\n",
    "def get_last_statement(indicateur, country):\n",
    "    \"\"\"Cette fonction prends un indicateur (code) et un pays et retourne l'année du dernier relevé\n",
    "    \"\"\"\n",
    "    data_focus = data[(data['Indicator Code'] == indicateur) & (data['Country Name'] == country)]\n",
    "    data_focus_bool = data_focus.isnull()\n",
    "    #print(country, indicateur, data_focus.shape)\n",
    "    last_statement = None\n",
    "    for year in years:\n",
    "        if not data_focus_bool[year].iloc[0]:\n",
    "            #print(year, data_focus[year].iloc[0])\n",
    "            last_statement = year\n",
    "    return last_statement"
   ]
  },
  {
   "cell_type": "code",
   "execution_count": 143,
   "metadata": {},
   "outputs": [
    {
     "data": {
      "text/plain": [
       "'2013'"
      ]
     },
     "execution_count": 143,
     "metadata": {},
     "output_type": "execute_result"
    }
   ],
   "source": [
    "get_last_statement(code_indic_internet, \"Arab World\")"
   ]
  },
  {
   "cell_type": "code",
   "execution_count": 144,
   "metadata": {},
   "outputs": [
    {
     "data": {
      "text/plain": [
       "'2013'"
      ]
     },
     "execution_count": 144,
     "metadata": {},
     "output_type": "execute_result"
    }
   ],
   "source": [
    "get_last_statement(code_indic_internet, \"European Union\")"
   ]
  },
  {
   "cell_type": "code",
   "execution_count": 145,
   "metadata": {},
   "outputs": [],
   "source": [
    "last_int_values = []\n",
    "last_int_years = []\n",
    "for country in data_internet[\"Country Name\"].unique():\n",
    "    last_int_year = get_last_statement(code_indic_internet, country)\n",
    "    if last_int_year == None:\n",
    "        last_int_years.append(np.nan)\n",
    "        last_int_values.append(np.nan)\n",
    "    else:\n",
    "        last_int_years.append(last_int_year)\n",
    "        last_int_value = data[(data['Indicator Code'] == code_indic_internet) & (data['Country Name'] == country)][last_int_year].iloc[0]\n",
    "        last_int_values.append(last_int_value)"
   ]
  },
  {
   "cell_type": "code",
   "execution_count": 146,
   "metadata": {},
   "outputs": [],
   "source": [
    "def data_qualification(date):\n",
    "    if date == np.nan:\n",
    "        return False\n",
    "    else:\n",
    "        if float(date) > 2009: #Les données d'avant 2010 sont trop anciennes\n",
    "            return True\n",
    "        else:\n",
    "            return False"
   ]
  },
  {
   "cell_type": "code",
   "execution_count": 147,
   "metadata": {},
   "outputs": [],
   "source": [
    "int_df = pd.DataFrame([data['Country Name'].unique(), last_int_years, last_int_values])"
   ]
  },
  {
   "cell_type": "code",
   "execution_count": 148,
   "metadata": {},
   "outputs": [],
   "source": [
    "int_df = int_df.T"
   ]
  },
  {
   "cell_type": "code",
   "execution_count": 149,
   "metadata": {},
   "outputs": [],
   "source": [
    "int_df = int_df.rename(columns={0: 'Country', 1: \"Last statement\", 2: \"Rate\"})"
   ]
  },
  {
   "cell_type": "code",
   "execution_count": 150,
   "metadata": {},
   "outputs": [],
   "source": [
    "int_df = int_df.set_index('Country')"
   ]
  },
  {
   "cell_type": "code",
   "execution_count": 151,
   "metadata": {},
   "outputs": [
    {
     "data": {
      "text/html": [
       "<div>\n",
       "<style scoped>\n",
       "    .dataframe tbody tr th:only-of-type {\n",
       "        vertical-align: middle;\n",
       "    }\n",
       "\n",
       "    .dataframe tbody tr th {\n",
       "        vertical-align: top;\n",
       "    }\n",
       "\n",
       "    .dataframe thead th {\n",
       "        text-align: right;\n",
       "    }\n",
       "</style>\n",
       "<table border=\"1\" class=\"dataframe\">\n",
       "  <thead>\n",
       "    <tr style=\"text-align: right;\">\n",
       "      <th></th>\n",
       "      <th>Last statement</th>\n",
       "      <th>Rate</th>\n",
       "    </tr>\n",
       "    <tr>\n",
       "      <th>Country</th>\n",
       "      <th></th>\n",
       "      <th></th>\n",
       "    </tr>\n",
       "  </thead>\n",
       "  <tbody>\n",
       "    <tr>\n",
       "      <th>Arab World</th>\n",
       "      <td>2013</td>\n",
       "      <td>36.8686</td>\n",
       "    </tr>\n",
       "    <tr>\n",
       "      <th>East Asia &amp; Pacific</th>\n",
       "      <td>2016</td>\n",
       "      <td>52.7963</td>\n",
       "    </tr>\n",
       "    <tr>\n",
       "      <th>East Asia &amp; Pacific (excluding high income)</th>\n",
       "      <td>2016</td>\n",
       "      <td>48.3866</td>\n",
       "    </tr>\n",
       "    <tr>\n",
       "      <th>Euro area</th>\n",
       "      <td>2016</td>\n",
       "      <td>80.4467</td>\n",
       "    </tr>\n",
       "    <tr>\n",
       "      <th>Europe &amp; Central Asia</th>\n",
       "      <td>2016</td>\n",
       "      <td>73.9148</td>\n",
       "    </tr>\n",
       "    <tr>\n",
       "      <th>...</th>\n",
       "      <td>...</td>\n",
       "      <td>...</td>\n",
       "    </tr>\n",
       "    <tr>\n",
       "      <th>Virgin Islands (U.S.)</th>\n",
       "      <td>2016</td>\n",
       "      <td>59.6083</td>\n",
       "    </tr>\n",
       "    <tr>\n",
       "      <th>West Bank and Gaza</th>\n",
       "      <td>2016</td>\n",
       "      <td>61.1784</td>\n",
       "    </tr>\n",
       "    <tr>\n",
       "      <th>Yemen, Rep.</th>\n",
       "      <td>2016</td>\n",
       "      <td>24.5792</td>\n",
       "    </tr>\n",
       "    <tr>\n",
       "      <th>Zambia</th>\n",
       "      <td>2016</td>\n",
       "      <td>25.5066</td>\n",
       "    </tr>\n",
       "    <tr>\n",
       "      <th>Zimbabwe</th>\n",
       "      <td>2016</td>\n",
       "      <td>23.12</td>\n",
       "    </tr>\n",
       "  </tbody>\n",
       "</table>\n",
       "<p>241 rows × 2 columns</p>\n",
       "</div>"
      ],
      "text/plain": [
       "                                            Last statement     Rate\n",
       "Country                                                            \n",
       "Arab World                                            2013  36.8686\n",
       "East Asia & Pacific                                   2016  52.7963\n",
       "East Asia & Pacific (excluding high income)           2016  48.3866\n",
       "Euro area                                             2016  80.4467\n",
       "Europe & Central Asia                                 2016  73.9148\n",
       "...                                                    ...      ...\n",
       "Virgin Islands (U.S.)                                 2016  59.6083\n",
       "West Bank and Gaza                                    2016  61.1784\n",
       "Yemen, Rep.                                           2016  24.5792\n",
       "Zambia                                                2016  25.5066\n",
       "Zimbabwe                                              2016    23.12\n",
       "\n",
       "[241 rows x 2 columns]"
      ]
     },
     "execution_count": 151,
     "metadata": {},
     "output_type": "execute_result"
    }
   ],
   "source": [
    "int_df"
   ]
  },
  {
   "cell_type": "code",
   "execution_count": 152,
   "metadata": {},
   "outputs": [],
   "source": [
    "int_df['Valid'] = int_df['Last statement'].map(data_qualification)"
   ]
  },
  {
   "cell_type": "code",
   "execution_count": 153,
   "metadata": {},
   "outputs": [
    {
     "data": {
      "text/plain": [
       "True     229\n",
       "False     12\n",
       "Name: Valid, dtype: int64"
      ]
     },
     "execution_count": 153,
     "metadata": {},
     "output_type": "execute_result"
    }
   ],
   "source": [
    "int_df['Valid'].value_counts()"
   ]
  },
  {
   "cell_type": "code",
   "execution_count": 154,
   "metadata": {},
   "outputs": [
    {
     "data": {
      "image/png": "[encoded data removed]",
      "text/plain": [
       "<Figure size 432x432 with 1 Axes>"
      ]
     },
     "metadata": {},
     "output_type": "display_data"
    }
   ],
   "source": [
    "fig = plt.figure(figsize=(6,6))\n",
    "plt.title(\"Qualification des données de l'indicateur internet\\nIT.NET.USER.P2\", fontsize=16)\n",
    "plt.pie(int_df['Valid'].value_counts(), labels=['Données valides', 'Données Manquantes ou obsolètes'], \n",
    "        colors=['#68C385', '#EE7352'], autopct='%1.1f%%', textprops={'fontsize': 14},\n",
    "        shadow=True, wedgeprops={'linewidth':1, 'edgecolor':'black'})\n",
    "plt.axis('equal')\n",
    "plt.show()"
   ]
  },
  {
   "cell_type": "markdown",
   "metadata": {},
   "source": [
    "### Grace a la fonction suivante nous obtenons les indicateurs statistiques standards sur les dernières données enregistrées"
   ]
  },
  {
   "cell_type": "code",
   "execution_count": 155,
   "metadata": {},
   "outputs": [],
   "source": [
    "def get_describe(df):\n",
    "    df_2 = df.copy()\n",
    "    cols = df_2.columns\n",
    "    df_2 = df_2.dropna()\n",
    "    df_2[cols[0]] = df_2[cols[0]].apply(float)\n",
    "    df_2[cols[1]] =  df_2[cols[1]].apply(float)\n",
    "    return df_2.describe()"
   ]
  },
  {
   "cell_type": "code",
   "execution_count": 156,
   "metadata": {},
   "outputs": [
    {
     "data": {
      "text/html": [
       "<div>\n",
       "<style scoped>\n",
       "    .dataframe tbody tr th:only-of-type {\n",
       "        vertical-align: middle;\n",
       "    }\n",
       "\n",
       "    .dataframe tbody tr th {\n",
       "        vertical-align: top;\n",
       "    }\n",
       "\n",
       "    .dataframe thead th {\n",
       "        text-align: right;\n",
       "    }\n",
       "</style>\n",
       "<table border=\"1\" class=\"dataframe\">\n",
       "  <thead>\n",
       "    <tr style=\"text-align: right;\">\n",
       "      <th></th>\n",
       "      <th>Last statement</th>\n",
       "      <th>Rate</th>\n",
       "    </tr>\n",
       "  </thead>\n",
       "  <tbody>\n",
       "    <tr>\n",
       "      <th>count</th>\n",
       "      <td>233.000000</td>\n",
       "      <td>233.000000</td>\n",
       "    </tr>\n",
       "    <tr>\n",
       "      <th>mean</th>\n",
       "      <td>2015.532189</td>\n",
       "      <td>50.112632</td>\n",
       "    </tr>\n",
       "    <tr>\n",
       "      <th>std</th>\n",
       "      <td>3.072408</td>\n",
       "      <td>28.359197</td>\n",
       "    </tr>\n",
       "    <tr>\n",
       "      <th>min</th>\n",
       "      <td>1990.000000</td>\n",
       "      <td>0.000000</td>\n",
       "    </tr>\n",
       "    <tr>\n",
       "      <th>25%</th>\n",
       "      <td>2016.000000</td>\n",
       "      <td>25.246250</td>\n",
       "    </tr>\n",
       "    <tr>\n",
       "      <th>50%</th>\n",
       "      <td>2016.000000</td>\n",
       "      <td>52.481808</td>\n",
       "    </tr>\n",
       "    <tr>\n",
       "      <th>75%</th>\n",
       "      <td>2016.000000</td>\n",
       "      <td>75.497623</td>\n",
       "    </tr>\n",
       "    <tr>\n",
       "      <th>max</th>\n",
       "      <td>2016.000000</td>\n",
       "      <td>98.240016</td>\n",
       "    </tr>\n",
       "  </tbody>\n",
       "</table>\n",
       "</div>"
      ],
      "text/plain": [
       "       Last statement        Rate\n",
       "count      233.000000  233.000000\n",
       "mean      2015.532189   50.112632\n",
       "std          3.072408   28.359197\n",
       "min       1990.000000    0.000000\n",
       "25%       2016.000000   25.246250\n",
       "50%       2016.000000   52.481808\n",
       "75%       2016.000000   75.497623\n",
       "max       2016.000000   98.240016"
      ]
     },
     "execution_count": 156,
     "metadata": {},
     "output_type": "execute_result"
    }
   ],
   "source": [
    "get_describe(int_df)"
   ]
  },
  {
   "cell_type": "code",
   "execution_count": 157,
   "metadata": {},
   "outputs": [],
   "source": [
    "last_statements = []\n",
    "no_statements = 0\n",
    "for country in data_internet['Country Name'].unique():\n",
    "    last_statement = get_last_statement(code_indic_internet, country)\n",
    "    if last_statement == None:\n",
    "        no_statements += 1\n",
    "    else:\n",
    "        last_statements.append(last_statement)"
   ]
  },
  {
   "cell_type": "code",
   "execution_count": 158,
   "metadata": {},
   "outputs": [],
   "source": [
    "last_statements = pd.Series(last_statements).value_counts()"
   ]
  },
  {
   "cell_type": "code",
   "execution_count": 159,
   "metadata": {},
   "outputs": [],
   "source": [
    "last_statements = last_statements.sort_values()"
   ]
  },
  {
   "cell_type": "code",
   "execution_count": 160,
   "metadata": {},
   "outputs": [
    {
     "data": {
      "text/plain": [
       "array(['2011', '2004', '2015', '2012', '2013', '1990', '2016'],\n",
       "      dtype=object)"
      ]
     },
     "execution_count": 160,
     "metadata": {},
     "output_type": "execute_result"
    }
   ],
   "source": [
    "last_statements.index.values"
   ]
  },
  {
   "cell_type": "code",
   "execution_count": 161,
   "metadata": {},
   "outputs": [
    {
     "data": {
      "text/html": [
       "\n",
       "    <div class=\"bk-root\">\n",
       "        <a href=\"https://bokeh.org\" target=\"_blank\" class=\"bk-logo bk-logo-small bk-logo-notebook\"></a>\n",
       "        <span id=\"1001\">Loading BokehJS ...</span>\n",
       "    </div>"
      ]
     },
     "metadata": {},
     "output_type": "display_data"
    },
    {
     "data": {
      "application/javascript": [
       "\n",
       "(function(root) {\n",
       "  function now() {\n",
       "    return new Date();\n",
       "  }\n",
       "\n",
       "  var force = true;\n",
       "\n",
       "  if (typeof root._bokeh_onload_callbacks === \"undefined\" || force === true) {\n",
       "    root._bokeh_onload_callbacks = [];\n",
       "    root._bokeh_is_loading = undefined;\n",
       "  }\n",
       "\n",
       "  var JS_MIME_TYPE = 'application/javascript';\n",
       "  var HTML_MIME_TYPE = 'text/html';\n",
       "  var EXEC_MIME_TYPE = 'application/vnd.bokehjs_exec.v0+json';\n",
       "  var CLASS_NAME = 'output_bokeh rendered_html';\n",
       "\n",
       "  /**\n",
       "   * Render data to the DOM node\n",
       "   */\n",
       "  function render(props, node) {\n",
       "    var script = document.createElement(\"script\");\n",
       "    node.appendChild(script);\n",
       "  }\n",
       "\n",
       "  /**\n",
       "   * Handle when an output is cleared or removed\n",
       "   */\n",
       "  function handleClearOutput(event, handle) {\n",
       "    var cell = handle.cell;\n",
       "\n",
       "    var id = cell.output_area._bokeh_element_id;\n",
       "    var server_id = cell.output_area._bokeh_server_id;\n",
       "    // Clean up Bokeh references\n",
       "    if (id != null && id in Bokeh.index) {\n",
       "      Bokeh.index[id].model.document.clear();\n",
       "      delete Bokeh.index[id];\n",
       "    }\n",
       "\n",
       "    if (server_id !== undefined) {\n",
       "      // Clean up Bokeh references\n",
       "      var cmd = \"from bokeh.io.state import curstate; print(curstate().uuid_to_server['\" + server_id + \"'].get_sessions()[0].document.roots[0]._id)\";\n",
       "      cell.notebook.kernel.execute(cmd, {\n",
       "        iopub: {\n",
       "          output: function(msg) {\n",
       "            var id = msg.content.text.trim();\n",
       "            if (id in Bokeh.index) {\n",
       "              Bokeh.index[id].model.document.clear();\n",
       "              delete Bokeh.index[id];\n",
       "            }\n",
       "          }\n",
       "        }\n",
       "      });\n",
       "      // Destroy server and session\n",
       "      var cmd = \"import bokeh.io.notebook as ion; ion.destroy_server('\" + server_id + \"')\";\n",
       "      cell.notebook.kernel.execute(cmd);\n",
       "    }\n",
       "  }\n",
       "\n",
       "  /**\n",
       "   * Handle when a new output is added\n",
       "   */\n",
       "  function handleAddOutput(event, handle) {\n",
       "    var output_area = handle.output_area;\n",
       "    var output = handle.output;\n",
       "\n",
       "    // limit handleAddOutput to display_data with EXEC_MIME_TYPE content only\n",
       "    if ((output.output_type != \"display_data\") || (!output.data.hasOwnProperty(EXEC_MIME_TYPE))) {\n",
       "      return\n",
       "    }\n",
       "\n",
       "    var toinsert = output_area.element.find(\".\" + CLASS_NAME.split(' ')[0]);\n",
       "\n",
       "    if (output.metadata[EXEC_MIME_TYPE][\"id\"] !== undefined) {\n",
       "      toinsert[toinsert.length - 1].firstChild.textContent = output.data[JS_MIME_TYPE];\n",
       "      // store reference to embed id on output_area\n",
       "      output_area._bokeh_element_id = output.metadata[EXEC_MIME_TYPE][\"id\"];\n",
       "    }\n",
       "    if (output.metadata[EXEC_MIME_TYPE][\"server_id\"] !== undefined) {\n",
       "      var bk_div = document.createElement(\"div\");\n",
       "      bk_div.innerHTML = output.data[HTML_MIME_TYPE];\n",
       "      var script_attrs = bk_div.children[0].attributes;\n",
       "      for (var i = 0; i < script_attrs.length; i++) {\n",
       "        toinsert[toinsert.length - 1].firstChild.setAttribute(script_attrs[i].name, script_attrs[i].value);\n",
       "        toinsert[toinsert.length - 1].firstChild.textContent = bk_div.children[0].textContent\n",
       "      }\n",
       "      // store reference to server id on output_area\n",
       "      output_area._bokeh_server_id = output.metadata[EXEC_MIME_TYPE][\"server_id\"];\n",
       "    }\n",
       "  }\n",
       "\n",
       "  function register_renderer(events, OutputArea) {\n",
       "\n",
       "    function append_mime(data, metadata, element) {\n",
       "      // create a DOM node to render to\n",
       "      var toinsert = this.create_output_subarea(\n",
       "        metadata,\n",
       "        CLASS_NAME,\n",
       "        EXEC_MIME_TYPE\n",
       "      );\n",
       "      this.keyboard_manager.register_events(toinsert);\n",
       "      // Render to node\n",
       "      var props = {data: data, metadata: metadata[EXEC_MIME_TYPE]};\n",
       "      render(props, toinsert[toinsert.length - 1]);\n",
       "      element.append(toinsert);\n",
       "      return toinsert\n",
       "    }\n",
       "\n",
       "    /* Handle when an output is cleared or removed */\n",
       "    events.on('clear_output.CodeCell', handleClearOutput);\n",
       "    events.on('delete.Cell', handleClearOutput);\n",
       "\n",
       "    /* Handle when a new output is added */\n",
       "    events.on('output_added.OutputArea', handleAddOutput);\n",
       "\n",
       "    /**\n",
       "     * Register the mime type and append_mime function with output_area\n",
       "     */\n",
       "    OutputArea.prototype.register_mime_type(EXEC_MIME_TYPE, append_mime, {\n",
       "      /* Is output safe? */\n",
       "      safe: true,\n",
       "      /* Index of renderer in `output_area.display_order` */\n",
       "      index: 0\n",
       "    });\n",
       "  }\n",
       "\n",
       "  // register the mime type if in Jupyter Notebook environment and previously unregistered\n",
       "  if (root.Jupyter !== undefined) {\n",
       "    var events = require('base/js/events');\n",
       "    var OutputArea = require('notebook/js/outputarea').OutputArea;\n",
       "\n",
       "    if (OutputArea.prototype.mime_types().indexOf(EXEC_MIME_TYPE) == -1) {\n",
       "      register_renderer(events, OutputArea);\n",
       "    }\n",
       "  }\n",
       "\n",
       "  \n",
       "  if (typeof (root._bokeh_timeout) === \"undefined\" || force === true) {\n",
       "    root._bokeh_timeout = Date.now() + 5000;\n",
       "    root._bokeh_failed_load = false;\n",
       "  }\n",
       "\n",
       "  var NB_LOAD_WARNING = {'data': {'text/html':\n",
       "     \"<div style='background-color: #fdd'>\\n\"+\n",
       "     \"<p>\\n\"+\n",
       "     \"BokehJS does not appear to have successfully loaded. If loading BokehJS from CDN, this \\n\"+\n",
       "     \"may be due to a slow or bad network connection. Possible fixes:\\n\"+\n",
       "     \"</p>\\n\"+\n",
       "     \"<ul>\\n\"+\n",
       "     \"<li>re-rerun `output_notebook()` to attempt to load from CDN again, or</li>\\n\"+\n",
       "     \"<li>use INLINE resources instead, as so:</li>\\n\"+\n",
       "     \"</ul>\\n\"+\n",
       "     \"<code>\\n\"+\n",
       "     \"from bokeh.resources import INLINE\\n\"+\n",
       "     \"output_notebook(resources=INLINE)\\n\"+\n",
       "     \"</code>\\n\"+\n",
       "     \"</div>\"}};\n",
       "\n",
       "  function display_loaded() {\n",
       "    var el = document.getElementById(\"1001\");\n",
       "    if (el != null) {\n",
       "      el.textContent = \"BokehJS is loading...\";\n",
       "    }\n",
       "    if (root.Bokeh !== undefined) {\n",
       "      if (el != null) {\n",
       "        el.textContent = \"BokehJS \" + root.Bokeh.version + \" successfully loaded.\";\n",
       "      }\n",
       "    } else if (Date.now() < root._bokeh_timeout) {\n",
       "      setTimeout(display_loaded, 100)\n",
       "    }\n",
       "  }\n",
       "\n",
       "\n",
       "  function run_callbacks() {\n",
       "    try {\n",
       "      root._bokeh_onload_callbacks.forEach(function(callback) {\n",
       "        if (callback != null)\n",
       "          callback();\n",
       "      });\n",
       "    } finally {\n",
       "      delete root._bokeh_onload_callbacks\n",
       "    }\n",
       "    console.debug(\"Bokeh: all callbacks have finished\");\n",
       "  }\n",
       "\n",
       "  function load_libs(css_urls, js_urls, callback) {\n",
       "    if (css_urls == null) css_urls = [];\n",
       "    if (js_urls == null) js_urls = [];\n",
       "\n",
       "    root._bokeh_onload_callbacks.push(callback);\n",
       "    if (root._bokeh_is_loading > 0) {\n",
       "      console.debug(\"Bokeh: BokehJS is being loaded, scheduling callback at\", now());\n",
       "      return null;\n",
       "    }\n",
       "    if (js_urls == null || js_urls.length === 0) {\n",
       "      run_callbacks();\n",
       "      return null;\n",
       "    }\n",
       "    console.debug(\"Bokeh: BokehJS not loaded, scheduling load and callback at\", now());\n",
       "    root._bokeh_is_loading = css_urls.length + js_urls.length;\n",
       "\n",
       "    function on_load() {\n",
       "      root._bokeh_is_loading--;\n",
       "      if (root._bokeh_is_loading === 0) {\n",
       "        console.debug(\"Bokeh: all BokehJS libraries/stylesheets loaded\");\n",
       "        run_callbacks()\n",
       "      }\n",
       "    }\n",
       "\n",
       "    function on_error() {\n",
       "      console.error(\"failed to load \" + url);\n",
       "    }\n",
       "\n",
       "    for (var i = 0; i < css_urls.length; i++) {\n",
       "      var url = css_urls[i];\n",
       "      const element = document.createElement(\"link\");\n",
       "      element.onload = on_load;\n",
       "      element.onerror = on_error;\n",
       "      element.rel = \"stylesheet\";\n",
       "      element.type = \"text/css\";\n",
       "      element.href = url;\n",
       "      console.debug(\"Bokeh: injecting link tag for BokehJS stylesheet: \", url);\n",
       "      document.body.appendChild(element);\n",
       "    }\n",
       "\n",
       "    const hashes = {\"https://cdn.bokeh.org/bokeh/release/bokeh-2.1.1.min.js\": \"kLr4fYcqcSpbuI95brIH3vnnYCquzzSxHPU6XGQCIkQRGJwhg0StNbj1eegrHs12\", \"https://cdn.bokeh.org/bokeh/release/bokeh-widgets-2.1.1.min.js\": \"xIGPmVtaOm+z0BqfSOMn4lOR6ciex448GIKG4eE61LsAvmGj48XcMQZtKcE/UXZe\", \"https://cdn.bokeh.org/bokeh/release/bokeh-tables-2.1.1.min.js\": \"Dc9u1wF/0zApGIWoBbH77iWEHtdmkuYWG839Uzmv8y8yBLXebjO9ZnERsde5Ln/P\", \"https://cdn.bokeh.org/bokeh/release/bokeh-gl-2.1.1.min.js\": \"cT9JaBz7GiRXdENrJLZNSC6eMNF3nh3fa5fTF51Svp+ukxPdwcU5kGXGPBgDCa2j\"};\n",
       "\n",
       "    for (var i = 0; i < js_urls.length; i++) {\n",
       "      var url = js_urls[i];\n",
       "      var element = document.createElement('script');\n",
       "      element.onload = on_load;\n",
       "      element.onerror = on_error;\n",
       "      element.async = false;\n",
       "      element.src = url;\n",
       "      if (url in hashes) {\n",
       "        element.crossOrigin = \"anonymous\";\n",
       "        element.integrity = \"sha384-\" + hashes[url];\n",
       "      }\n",
       "      console.debug(\"Bokeh: injecting script tag for BokehJS library: \", url);\n",
       "      document.head.appendChild(element);\n",
       "    }\n",
       "  };\n",
       "\n",
       "  function inject_raw_css(css) {\n",
       "    const element = document.createElement(\"style\");\n",
       "    element.appendChild(document.createTextNode(css));\n",
       "    document.body.appendChild(element);\n",
       "  }\n",
       "\n",
       "  \n",
       "  var js_urls = [\"https://cdn.bokeh.org/bokeh/release/bokeh-2.1.1.min.js\", \"https://cdn.bokeh.org/bokeh/release/bokeh-widgets-2.1.1.min.js\", \"https://cdn.bokeh.org/bokeh/release/bokeh-tables-2.1.1.min.js\", \"https://cdn.bokeh.org/bokeh/release/bokeh-gl-2.1.1.min.js\"];\n",
       "  var css_urls = [];\n",
       "  \n",
       "\n",
       "  var inline_js = [\n",
       "    function(Bokeh) {\n",
       "      Bokeh.set_log_level(\"info\");\n",
       "    },\n",
       "    function(Bokeh) {\n",
       "    \n",
       "    \n",
       "    }\n",
       "  ];\n",
       "\n",
       "  function run_inline_js() {\n",
       "    \n",
       "    if (root.Bokeh !== undefined || force === true) {\n",
       "      \n",
       "    for (var i = 0; i < inline_js.length; i++) {\n",
       "      inline_js[i].call(root, root.Bokeh);\n",
       "    }\n",
       "    if (force === true) {\n",
       "        display_loaded();\n",
       "      }} else if (Date.now() < root._bokeh_timeout) {\n",
       "      setTimeout(run_inline_js, 100);\n",
       "    } else if (!root._bokeh_failed_load) {\n",
       "      console.log(\"Bokeh: BokehJS failed to load within specified timeout.\");\n",
       "      root._bokeh_failed_load = true;\n",
       "    } else if (force !== true) {\n",
       "      var cell = $(document.getElementById(\"1001\")).parents('.cell').data().cell;\n",
       "      cell.output_area.append_execute_result(NB_LOAD_WARNING)\n",
       "    }\n",
       "\n",
       "  }\n",
       "\n",
       "  if (root._bokeh_is_loading === 0) {\n",
       "    console.debug(\"Bokeh: BokehJS loaded, going straight to plotting\");\n",
       "    run_inline_js();\n",
       "  } else {\n",
       "    load_libs(css_urls, js_urls, function() {\n",
       "      console.debug(\"Bokeh: BokehJS plotting callback run at\", now());\n",
       "      run_inline_js();\n",
       "    });\n",
       "  }\n",
       "}(window));"
      ],
      "application/vnd.bokehjs_load.v0+json": "\n(function(root) {\n  function now() {\n    return new Date();\n  }\n\n  var force = true;\n\n  if (typeof root._bokeh_onload_callbacks === \"undefined\" || force === true) {\n    root._bokeh_onload_callbacks = [];\n    root._bokeh_is_loading = undefined;\n  }\n\n  \n\n  \n  if (typeof (root._bokeh_timeout) === \"undefined\" || force === true) {\n    root._bokeh_timeout = Date.now() + 5000;\n    root._bokeh_failed_load = false;\n  }\n\n  var NB_LOAD_WARNING = {'data': {'text/html':\n     \"<div style='background-color: #fdd'>\\n\"+\n     \"<p>\\n\"+\n     \"BokehJS does not appear to have successfully loaded. If loading BokehJS from CDN, this \\n\"+\n     \"may be due to a slow or bad network connection. Possible fixes:\\n\"+\n     \"</p>\\n\"+\n     \"<ul>\\n\"+\n     \"<li>re-rerun `output_notebook()` to attempt to load from CDN again, or</li>\\n\"+\n     \"<li>use INLINE resources instead, as so:</li>\\n\"+\n     \"</ul>\\n\"+\n     \"<code>\\n\"+\n     \"from bokeh.resources import INLINE\\n\"+\n     \"output_notebook(resources=INLINE)\\n\"+\n     \"</code>\\n\"+\n     \"</div>\"}};\n\n  function display_loaded() {\n    var el = document.getElementById(\"1001\");\n    if (el != null) {\n      el.textContent = \"BokehJS is loading...\";\n    }\n    if (root.Bokeh !== undefined) {\n      if (el != null) {\n        el.textContent = \"BokehJS \" + root.Bokeh.version + \" successfully loaded.\";\n      }\n    } else if (Date.now() < root._bokeh_timeout) {\n      setTimeout(display_loaded, 100)\n    }\n  }\n\n\n  function run_callbacks() {\n    try {\n      root._bokeh_onload_callbacks.forEach(function(callback) {\n        if (callback != null)\n          callback();\n      });\n    } finally {\n      delete root._bokeh_onload_callbacks\n    }\n    console.debug(\"Bokeh: all callbacks have finished\");\n  }\n\n  function load_libs(css_urls, js_urls, callback) {\n    if (css_urls == null) css_urls = [];\n    if (js_urls == null) js_urls = [];\n\n    root._bokeh_onload_callbacks.push(callback);\n    if (root._bokeh_is_loading > 0) {\n      console.debug(\"Bokeh: BokehJS is being loaded, scheduling callback at\", now());\n      return null;\n    }\n    if (js_urls == null || js_urls.length === 0) {\n      run_callbacks();\n      return null;\n    }\n    console.debug(\"Bokeh: BokehJS not loaded, scheduling load and callback at\", now());\n    root._bokeh_is_loading = css_urls.length + js_urls.length;\n\n    function on_load() {\n      root._bokeh_is_loading--;\n      if (root._bokeh_is_loading === 0) {\n        console.debug(\"Bokeh: all BokehJS libraries/stylesheets loaded\");\n        run_callbacks()\n      }\n    }\n\n    function on_error() {\n      console.error(\"failed to load \" + url);\n    }\n\n    for (var i = 0; i < css_urls.length; i++) {\n      var url = css_urls[i];\n      const element = document.createElement(\"link\");\n      element.onload = on_load;\n      element.onerror = on_error;\n      element.rel = \"stylesheet\";\n      element.type = \"text/css\";\n      element.href = url;\n      console.debug(\"Bokeh: injecting link tag for BokehJS stylesheet: \", url);\n      document.body.appendChild(element);\n    }\n\n    const hashes = {\"https://cdn.bokeh.org/bokeh/release/bokeh-2.1.1.min.js\": \"kLr4fYcqcSpbuI95brIH3vnnYCquzzSxHPU6XGQCIkQRGJwhg0StNbj1eegrHs12\", \"https://cdn.bokeh.org/bokeh/release/bokeh-widgets-2.1.1.min.js\": \"xIGPmVtaOm+z0BqfSOMn4lOR6ciex448GIKG4eE61LsAvmGj48XcMQZtKcE/UXZe\", \"https://cdn.bokeh.org/bokeh/release/bokeh-tables-2.1.1.min.js\": \"Dc9u1wF/0zApGIWoBbH77iWEHtdmkuYWG839Uzmv8y8yBLXebjO9ZnERsde5Ln/P\", \"https://cdn.bokeh.org/bokeh/release/bokeh-gl-2.1.1.min.js\": \"cT9JaBz7GiRXdENrJLZNSC6eMNF3nh3fa5fTF51Svp+ukxPdwcU5kGXGPBgDCa2j\"};\n\n    for (var i = 0; i < js_urls.length; i++) {\n      var url = js_urls[i];\n      var element = document.createElement('script');\n      element.onload = on_load;\n      element.onerror = on_error;\n      element.async = false;\n      element.src = url;\n      if (url in hashes) {\n        element.crossOrigin = \"anonymous\";\n        element.integrity = \"sha384-\" + hashes[url];\n      }\n      console.debug(\"Bokeh: injecting script tag for BokehJS library: \", url);\n      document.head.appendChild(element);\n    }\n  };\n\n  function inject_raw_css(css) {\n    const element = document.createElement(\"style\");\n    element.appendChild(document.createTextNode(css));\n    document.body.appendChild(element);\n  }\n\n  \n  var js_urls = [\"https://cdn.bokeh.org/bokeh/release/bokeh-2.1.1.min.js\", \"https://cdn.bokeh.org/bokeh/release/bokeh-widgets-2.1.1.min.js\", \"https://cdn.bokeh.org/bokeh/release/bokeh-tables-2.1.1.min.js\", \"https://cdn.bokeh.org/bokeh/release/bokeh-gl-2.1.1.min.js\"];\n  var css_urls = [];\n  \n\n  var inline_js = [\n    function(Bokeh) {\n      Bokeh.set_log_level(\"info\");\n    },\n    function(Bokeh) {\n    \n    \n    }\n  ];\n\n  function run_inline_js() {\n    \n    if (root.Bokeh !== undefined || force === true) {\n      \n    for (var i = 0; i < inline_js.length; i++) {\n      inline_js[i].call(root, root.Bokeh);\n    }\n    if (force === true) {\n        display_loaded();\n      }} else if (Date.now() < root._bokeh_timeout) {\n      setTimeout(run_inline_js, 100);\n    } else if (!root._bokeh_failed_load) {\n      console.log(\"Bokeh: BokehJS failed to load within specified timeout.\");\n      root._bokeh_failed_load = true;\n    } else if (force !== true) {\n      var cell = $(document.getElementById(\"1001\")).parents('.cell').data().cell;\n      cell.output_area.append_execute_result(NB_LOAD_WARNING)\n    }\n\n  }\n\n  if (root._bokeh_is_loading === 0) {\n    console.debug(\"Bokeh: BokehJS loaded, going straight to plotting\");\n    run_inline_js();\n  } else {\n    load_libs(css_urls, js_urls, function() {\n      console.debug(\"Bokeh: BokehJS plotting callback run at\", now());\n      run_inline_js();\n    });\n  }\n}(window));"
     },
     "metadata": {},
     "output_type": "display_data"
    },
    {
     "data": {
      "text/html": [
       "\n",
       "\n",
       "\n",
       "\n",
       "\n",
       "\n",
       "  <div class=\"bk-root\" id=\"7bb6e701-7d40-4517-8fbc-e1a0a9f80b1f\" data-root-id=\"1003\"></div>\n"
      ]
     },
     "metadata": {},
     "output_type": "display_data"
    },
    {
     "data": {
      "application/javascript": [
       "(function(root) {\n",
       "  function embed_document(root) {\n",
       "    \n",
       "  var docs_json = {\"34ebfbc3-4870-4d86-b788-a5079046090d\":{\"roots\":{\"references\":[{\"attributes\":{\"below\":[{\"id\":\"1014\"}],\"center\":[{\"id\":\"1017\"},{\"id\":\"1020\"},{\"id\":\"1027\"}],\"left\":[{\"id\":\"1018\"}],\"plot_height\":350,\"renderers\":[{\"id\":\"1025\"}],\"title\":{\"id\":\"1004\"},\"toolbar\":{\"id\":\"1021\"},\"toolbar_location\":null,\"x_range\":{\"id\":\"1006\"},\"x_scale\":{\"id\":\"1010\"},\"y_range\":{\"id\":\"1008\"},\"y_scale\":{\"id\":\"1012\"}},\"id\":\"1003\",\"subtype\":\"Figure\",\"type\":\"Plot\"},{\"attributes\":{},\"id\":\"1031\",\"type\":\"BasicTickFormatter\"},{\"attributes\":{},\"id\":\"1033\",\"type\":\"UnionRenderers\"},{\"attributes\":{},\"id\":\"1034\",\"type\":\"Selection\"},{\"attributes\":{\"fill_color\":{\"value\":\"#b3de69\"},\"height\":{\"value\":0.5},\"line_color\":{\"value\":\"#1f77b4\"},\"right\":{\"field\":\"right\"},\"y\":{\"field\":\"y\"}},\"id\":\"1023\",\"type\":\"HBar\"},{\"attributes\":{\"text\":\"Aper\\u00e7u de la fraicheur des donn\\u00e9es de l'indicateur Internet users\"},\"id\":\"1004\",\"type\":\"Title\"},{\"attributes\":{\"source\":{\"id\":\"1002\"}},\"id\":\"1026\",\"type\":\"CDSView\"},{\"attributes\":{\"text\":\"here your text\",\"x\":100,\"y\":70},\"id\":\"1027\",\"type\":\"Label\"},{\"attributes\":{},\"id\":\"1012\",\"type\":\"CategoricalScale\"},{\"attributes\":{\"end\":50},\"id\":\"1006\",\"type\":\"Range1d\"},{\"attributes\":{},\"id\":\"1010\",\"type\":\"LinearScale\"},{\"attributes\":{\"factors\":[\"2011\",\"2004\",\"2015\",\"2012\",\"2013\",\"1990\",\"2016\"]},\"id\":\"1008\",\"type\":\"FactorRange\"},{\"attributes\":{\"formatter\":{\"id\":\"1031\"},\"ticker\":{\"id\":\"1015\"}},\"id\":\"1014\",\"type\":\"LinearAxis\"},{\"attributes\":{},\"id\":\"1015\",\"type\":\"BasicTicker\"},{\"attributes\":{\"axis\":{\"id\":\"1014\"},\"ticker\":null},\"id\":\"1017\",\"type\":\"Grid\"},{\"attributes\":{\"data\":{\"right\":[1,1,1,1,3,3,223],\"y\":[\"2011\",\"2004\",\"2015\",\"2012\",\"2013\",\"1990\",\"2016\"]},\"selected\":{\"id\":\"1034\"},\"selection_policy\":{\"id\":\"1033\"}},\"id\":\"1002\",\"type\":\"ColumnDataSource\"},{\"attributes\":{\"formatter\":{\"id\":\"1029\"},\"ticker\":{\"id\":\"1019\"}},\"id\":\"1018\",\"type\":\"CategoricalAxis\"},{\"attributes\":{},\"id\":\"1019\",\"type\":\"CategoricalTicker\"},{\"attributes\":{\"axis\":{\"id\":\"1018\"},\"dimension\":1,\"ticker\":null},\"id\":\"1020\",\"type\":\"Grid\"},{\"attributes\":{\"active_drag\":\"auto\",\"active_inspect\":\"auto\",\"active_multi\":null,\"active_scroll\":\"auto\",\"active_tap\":\"auto\"},\"id\":\"1021\",\"type\":\"Toolbar\"},{\"attributes\":{\"fill_alpha\":{\"value\":0.1},\"fill_color\":{\"value\":\"#b3de69\"},\"height\":{\"value\":0.5},\"line_alpha\":{\"value\":0.1},\"line_color\":{\"value\":\"#1f77b4\"},\"right\":{\"field\":\"right\"},\"y\":{\"field\":\"y\"}},\"id\":\"1024\",\"type\":\"HBar\"},{\"attributes\":{\"data_source\":{\"id\":\"1002\"},\"glyph\":{\"id\":\"1023\"},\"hover_glyph\":null,\"muted_glyph\":null,\"nonselection_glyph\":{\"id\":\"1024\"},\"selection_glyph\":null,\"view\":{\"id\":\"1026\"}},\"id\":\"1025\",\"type\":\"GlyphRenderer\"},{\"attributes\":{},\"id\":\"1029\",\"type\":\"CategoricalTickFormatter\"}],\"root_ids\":[\"1003\"]},\"title\":\"Bokeh Application\",\"version\":\"2.1.1\"}};\n",
       "  var render_items = [{\"docid\":\"34ebfbc3-4870-4d86-b788-a5079046090d\",\"root_ids\":[\"1003\"],\"roots\":{\"1003\":\"7bb6e701-7d40-4517-8fbc-e1a0a9f80b1f\"}}];\n",
       "  root.Bokeh.embed.embed_items_notebook(docs_json, render_items);\n",
       "\n",
       "  }\n",
       "  if (root.Bokeh !== undefined) {\n",
       "    embed_document(root);\n",
       "  } else {\n",
       "    var attempts = 0;\n",
       "    var timer = setInterval(function(root) {\n",
       "      if (root.Bokeh !== undefined) {\n",
       "        clearInterval(timer);\n",
       "        embed_document(root);\n",
       "      } else {\n",
       "        attempts++;\n",
       "        if (attempts > 100) {\n",
       "          clearInterval(timer);\n",
       "          console.log(\"Bokeh: ERROR: Unable to run BokehJS code because BokehJS library is missing\");\n",
       "        }\n",
       "      }\n",
       "    }, 10, root)\n",
       "  }\n",
       "})(window);"
      ],
      "application/vnd.bokehjs_exec.v0+json": ""
     },
     "metadata": {
      "application/vnd.bokehjs_exec.v0+json": {
       "id": "1003"
      }
     },
     "output_type": "display_data"
    }
   ],
   "source": [
    "from bokeh.io import show, output_notebook\n",
    "from bokeh.models import ColumnDataSource, Grid, HBar, Label\n",
    "from bokeh.plotting import figure\n",
    "\n",
    "\n",
    "output_notebook()\n",
    "\n",
    "# y= [float(statement) for statement in last_statements.index.values]\n",
    "y = list(last_statements.index.values)\n",
    "x = last_statements.values\n",
    "\n",
    "source = ColumnDataSource(data=dict(y=y, right=x,))\n",
    "\n",
    "plot = figure(x_range=(0,50), y_range=y, plot_height=350, title=\"Aperçu de la fraicheur des données de l'indicateur Internet users\",\n",
    "           toolbar_location=None, tools=\"\")\n",
    "\n",
    "plot.hbar(y=\"y\", right=\"right\", left=0, height=0.5, fill_color=\"#b3de69\", source=source)\n",
    "mytext = Label(x=100, y=70, text='here your text')\n",
    "plot.add_layout(mytext)\n",
    "\n",
    "show(plot)"
   ]
  },
  {
   "cell_type": "code",
   "execution_count": 162,
   "metadata": {},
   "outputs": [
    {
     "data": {
      "text/plain": [
       "pandas.core.series.Series"
      ]
     },
     "execution_count": 162,
     "metadata": {},
     "output_type": "execute_result"
    }
   ],
   "source": [
    "type(pays_internet_suffisant)"
   ]
  },
  {
   "cell_type": "code",
   "execution_count": 163,
   "metadata": {},
   "outputs": [
    {
     "name": "stdout",
     "output_type": "stream",
     "text": [
      "Arab World 36.8686015566291 2013\n",
      "European Union 75.4976231672564 2013\n",
      "OECD members 75.3900096548774 2013\n",
      "American Samoa 0.0 1990\n",
      "Korea, Dem. People’s Rep. 0.0 2012\n",
      "New Caledonia 74.00175279 2015\n",
      "Northern Mariana Islands 0.0 1990\n",
      "Palau 26.97033263 2004\n",
      "San Marino 49.6 2011\n",
      "Turks and Caicos Islands 0.0 1990\n",
      "['European Union', 'OECD members', 'New Caledonia']\n",
      "['Arab World', 'American Samoa', 'Channel Islands', 'Curacao', 'Isle of Man', 'Korea, Dem. People’s Rep.', 'Kosovo', 'Nauru', 'Northern Mariana Islands', 'Palau', 'San Marino', 'Sint Maarten (Dutch part)', 'South Sudan', 'St. Martin (French part)', 'Turks and Caicos Islands']\n"
     ]
    }
   ],
   "source": [
    "country_ok = []\n",
    "country_ko = []\n",
    "for country in pays_sans_releves_2016:\n",
    "    last_statement = get_last_statement(code_indic_internet, country)\n",
    "    if last_statement == None:\n",
    "        country_ko.append(country)\n",
    "    else:\n",
    "        last_value = data[(data['Indicator Code'] == code_indic_internet) & (data['Country Name'] == country)][last_statement].iloc[0]\n",
    "        print(country, last_value, last_statement)\n",
    "        if last_value >= 65: # Plus grande tolérance due à une plus grande ancienneté\n",
    "            country_ok.append(country)\n",
    "        else:\n",
    "            country_ko.append(country)\n",
    "print(country_ok)\n",
    "print(country_ko)\n",
    "country_ok = pd.Series(country_ok)\n",
    "pays_internet_suffisant = pays_internet_suffisant.append(country_ok)"
   ]
  },
  {
   "cell_type": "code",
   "execution_count": 164,
   "metadata": {},
   "outputs": [
    {
     "data": {
      "text/plain": [
       "62"
      ]
     },
     "execution_count": 164,
     "metadata": {},
     "output_type": "execute_result"
    }
   ],
   "source": [
    "len(pays_internet_suffisant)"
   ]
  },
  {
   "cell_type": "code",
   "execution_count": 165,
   "metadata": {},
   "outputs": [],
   "source": [
    "pays_selection = pays_internet_suffisant.copy()"
   ]
  },
  {
   "cell_type": "markdown",
   "metadata": {},
   "source": [
    "### Regardons maintenant la population de chacun de ces pays. En effet, si le pays est très peu peuplé il n'est pas necessaire de s'y implanter car cela demande un investissement important de s'y implanter (demarches légales, traduction eventuelles etc...)"
   ]
  },
  {
   "cell_type": "markdown",
   "metadata": {},
   "source": [
    "Après une recherche sur le site de la banque mondiale, je veux utiliser l'indicateut qui s'appelle : 'Population, total'"
   ]
  },
  {
   "cell_type": "code",
   "execution_count": 166,
   "metadata": {},
   "outputs": [],
   "source": [
    "code_indic_pop = 'SP.POP.TOTL'\n",
    "data_pop = data[data['Indicator Code'] == code_indic_pop]"
   ]
  },
  {
   "cell_type": "code",
   "execution_count": 167,
   "metadata": {},
   "outputs": [
    {
     "data": {
      "text/html": [
       "<div>\n",
       "<style scoped>\n",
       "    .dataframe tbody tr th:only-of-type {\n",
       "        vertical-align: middle;\n",
       "    }\n",
       "\n",
       "    .dataframe tbody tr th {\n",
       "        vertical-align: top;\n",
       "    }\n",
       "\n",
       "    .dataframe thead th {\n",
       "        text-align: right;\n",
       "    }\n",
       "</style>\n",
       "<table border=\"1\" class=\"dataframe\">\n",
       "  <thead>\n",
       "    <tr style=\"text-align: right;\">\n",
       "      <th></th>\n",
       "      <th>Country Name</th>\n",
       "      <th>Country Code</th>\n",
       "      <th>Indicator_name</th>\n",
       "      <th>Indicator Code</th>\n",
       "      <th>1970</th>\n",
       "      <th>1971</th>\n",
       "      <th>1972</th>\n",
       "      <th>1973</th>\n",
       "      <th>1974</th>\n",
       "      <th>1975</th>\n",
       "      <th>...</th>\n",
       "      <th>2090</th>\n",
       "      <th>2095</th>\n",
       "      <th>2100</th>\n",
       "      <th>Topic</th>\n",
       "      <th>Long definition</th>\n",
       "      <th>Source</th>\n",
       "      <th>Special Notes</th>\n",
       "      <th>Region</th>\n",
       "      <th>Income Group</th>\n",
       "      <th>Latest population census</th>\n",
       "    </tr>\n",
       "  </thead>\n",
       "  <tbody>\n",
       "    <tr>\n",
       "      <th>2490</th>\n",
       "      <td>Arab World</td>\n",
       "      <td>ARB</td>\n",
       "      <td>Population, total</td>\n",
       "      <td>SP.POP.TOTL</td>\n",
       "      <td>1.234009e+08</td>\n",
       "      <td>1.267261e+08</td>\n",
       "      <td>1.300956e+08</td>\n",
       "      <td>1.335924e+08</td>\n",
       "      <td>1.373274e+08</td>\n",
       "      <td>1.413761e+08</td>\n",
       "      <td>...</td>\n",
       "      <td>NaN</td>\n",
       "      <td>NaN</td>\n",
       "      <td>NaN</td>\n",
       "      <td>Health: Population: Structure</td>\n",
       "      <td>Total population is based on the de facto defi...</td>\n",
       "      <td>(1) United Nations Population Division. World ...</td>\n",
       "      <td>Arab World aggregate. Arab World is composed o...</td>\n",
       "      <td>NaN</td>\n",
       "      <td>NaN</td>\n",
       "      <td>NaN</td>\n",
       "    </tr>\n",
       "    <tr>\n",
       "      <th>6102</th>\n",
       "      <td>East Asia &amp; Pacific</td>\n",
       "      <td>EAS</td>\n",
       "      <td>Population, total</td>\n",
       "      <td>SP.POP.TOTL</td>\n",
       "      <td>1.288581e+09</td>\n",
       "      <td>1.322182e+09</td>\n",
       "      <td>1.354003e+09</td>\n",
       "      <td>1.384272e+09</td>\n",
       "      <td>1.414385e+09</td>\n",
       "      <td>1.441542e+09</td>\n",
       "      <td>...</td>\n",
       "      <td>NaN</td>\n",
       "      <td>NaN</td>\n",
       "      <td>NaN</td>\n",
       "      <td>Health: Population: Structure</td>\n",
       "      <td>Total population is based on the de facto defi...</td>\n",
       "      <td>(1) United Nations Population Division. World ...</td>\n",
       "      <td>East Asia and Pacific regional aggregate (incl...</td>\n",
       "      <td>NaN</td>\n",
       "      <td>NaN</td>\n",
       "      <td>NaN</td>\n",
       "    </tr>\n",
       "  </tbody>\n",
       "</table>\n",
       "<p>2 rows × 76 columns</p>\n",
       "</div>"
      ],
      "text/plain": [
       "             Country Name Country Code     Indicator_name Indicator Code  \\\n",
       "2490           Arab World          ARB  Population, total    SP.POP.TOTL   \n",
       "6102  East Asia & Pacific          EAS  Population, total    SP.POP.TOTL   \n",
       "\n",
       "              1970          1971          1972          1973          1974  \\\n",
       "2490  1.234009e+08  1.267261e+08  1.300956e+08  1.335924e+08  1.373274e+08   \n",
       "6102  1.288581e+09  1.322182e+09  1.354003e+09  1.384272e+09  1.414385e+09   \n",
       "\n",
       "              1975  ...  2090  2095  2100                          Topic  \\\n",
       "2490  1.413761e+08  ...   NaN   NaN   NaN  Health: Population: Structure   \n",
       "6102  1.441542e+09  ...   NaN   NaN   NaN  Health: Population: Structure   \n",
       "\n",
       "                                        Long definition  \\\n",
       "2490  Total population is based on the de facto defi...   \n",
       "6102  Total population is based on the de facto defi...   \n",
       "\n",
       "                                                 Source  \\\n",
       "2490  (1) United Nations Population Division. World ...   \n",
       "6102  (1) United Nations Population Division. World ...   \n",
       "\n",
       "                                          Special Notes  Region  Income Group  \\\n",
       "2490  Arab World aggregate. Arab World is composed o...     NaN           NaN   \n",
       "6102  East Asia and Pacific regional aggregate (incl...     NaN           NaN   \n",
       "\n",
       "      Latest population census  \n",
       "2490                       NaN  \n",
       "6102                       NaN  \n",
       "\n",
       "[2 rows x 76 columns]"
      ]
     },
     "execution_count": 167,
     "metadata": {},
     "output_type": "execute_result"
    }
   ],
   "source": [
    "data_pop.head(2)"
   ]
  },
  {
   "cell_type": "markdown",
   "metadata": {},
   "source": [
    "Arbitrairement, je vais eliminer les pays se situant en dessous du 25eme centile en terme de population."
   ]
  },
  {
   "cell_type": "code",
   "execution_count": 168,
   "metadata": {},
   "outputs": [
    {
     "name": "stdout",
     "output_type": "stream",
     "text": [
      "Help on function get_last_statement in module __main__:\n",
      "\n",
      "get_last_statement(indicateur, country)\n",
      "    Cette fonction prends un indicateur (code) et un pays et retourne l'année du dernier relevé\n",
      "\n"
     ]
    }
   ],
   "source": [
    "help(get_last_statement)"
   ]
  },
  {
   "cell_type": "code",
   "execution_count": 169,
   "metadata": {},
   "outputs": [],
   "source": [
    "last_pop_values = []\n",
    "last_pop_years = []\n",
    "for country in data_pop[\"Country Name\"].unique():\n",
    "    last_pop_year = get_last_statement(code_indic_pop, country)\n",
    "    if last_pop_year == None:\n",
    "        last_pop_years.append(np.nan)\n",
    "        last_pop_values.append(np.nan)\n",
    "    else:\n",
    "        last_pop_years.append(last_pop_year)\n",
    "        last_pop_value = data[(data['Indicator Code'] == code_indic_pop) & (data['Country Name'] == country)][last_pop_year].iloc[0]\n",
    "        last_pop_values.append(last_pop_value)"
   ]
  },
  {
   "cell_type": "code",
   "execution_count": 170,
   "metadata": {},
   "outputs": [],
   "source": [
    "pop_df = pd.DataFrame([data['Country Name'].unique(), last_pop_years, last_pop_values])"
   ]
  },
  {
   "cell_type": "code",
   "execution_count": 171,
   "metadata": {},
   "outputs": [],
   "source": [
    "pop_df = pop_df.T"
   ]
  },
  {
   "cell_type": "code",
   "execution_count": 172,
   "metadata": {},
   "outputs": [],
   "source": [
    "pop_df = pop_df.rename(columns={0: 'Country', 1: \"Last statement\", 2: \"Population\"})"
   ]
  },
  {
   "cell_type": "code",
   "execution_count": 173,
   "metadata": {},
   "outputs": [],
   "source": [
    "pop_df = pop_df.set_index('Country')"
   ]
  },
  {
   "cell_type": "code",
   "execution_count": 174,
   "metadata": {},
   "outputs": [
    {
     "data": {
      "text/html": [
       "<div>\n",
       "<style scoped>\n",
       "    .dataframe tbody tr th:only-of-type {\n",
       "        vertical-align: middle;\n",
       "    }\n",
       "\n",
       "    .dataframe tbody tr th {\n",
       "        vertical-align: top;\n",
       "    }\n",
       "\n",
       "    .dataframe thead th {\n",
       "        text-align: right;\n",
       "    }\n",
       "</style>\n",
       "<table border=\"1\" class=\"dataframe\">\n",
       "  <thead>\n",
       "    <tr style=\"text-align: right;\">\n",
       "      <th></th>\n",
       "      <th>Last statement</th>\n",
       "      <th>Population</th>\n",
       "    </tr>\n",
       "    <tr>\n",
       "      <th>Country</th>\n",
       "      <th></th>\n",
       "      <th></th>\n",
       "    </tr>\n",
       "  </thead>\n",
       "  <tbody>\n",
       "    <tr>\n",
       "      <th>Arab World</th>\n",
       "      <td>2013</td>\n",
       "      <td>3.69762e+08</td>\n",
       "    </tr>\n",
       "    <tr>\n",
       "      <th>East Asia &amp; Pacific</th>\n",
       "      <td>2016</td>\n",
       "      <td>2.29679e+09</td>\n",
       "    </tr>\n",
       "    <tr>\n",
       "      <th>East Asia &amp; Pacific (excluding high income)</th>\n",
       "      <td>2016</td>\n",
       "      <td>2.05143e+09</td>\n",
       "    </tr>\n",
       "    <tr>\n",
       "      <th>Euro area</th>\n",
       "      <td>2016</td>\n",
       "      <td>3.40895e+08</td>\n",
       "    </tr>\n",
       "    <tr>\n",
       "      <th>Europe &amp; Central Asia</th>\n",
       "      <td>2016</td>\n",
       "      <td>9.11995e+08</td>\n",
       "    </tr>\n",
       "    <tr>\n",
       "      <th>...</th>\n",
       "      <td>...</td>\n",
       "      <td>...</td>\n",
       "    </tr>\n",
       "    <tr>\n",
       "      <th>Virgin Islands (U.S.)</th>\n",
       "      <td>2016</td>\n",
       "      <td>102951</td>\n",
       "    </tr>\n",
       "    <tr>\n",
       "      <th>West Bank and Gaza</th>\n",
       "      <td>2016</td>\n",
       "      <td>4.55157e+06</td>\n",
       "    </tr>\n",
       "    <tr>\n",
       "      <th>Yemen, Rep.</th>\n",
       "      <td>2016</td>\n",
       "      <td>2.75842e+07</td>\n",
       "    </tr>\n",
       "    <tr>\n",
       "      <th>Zambia</th>\n",
       "      <td>2016</td>\n",
       "      <td>1.65914e+07</td>\n",
       "    </tr>\n",
       "    <tr>\n",
       "      <th>Zimbabwe</th>\n",
       "      <td>2016</td>\n",
       "      <td>1.61504e+07</td>\n",
       "    </tr>\n",
       "  </tbody>\n",
       "</table>\n",
       "<p>241 rows × 2 columns</p>\n",
       "</div>"
      ],
      "text/plain": [
       "                                            Last statement   Population\n",
       "Country                                                                \n",
       "Arab World                                            2013  3.69762e+08\n",
       "East Asia & Pacific                                   2016  2.29679e+09\n",
       "East Asia & Pacific (excluding high income)           2016  2.05143e+09\n",
       "Euro area                                             2016  3.40895e+08\n",
       "Europe & Central Asia                                 2016  9.11995e+08\n",
       "...                                                    ...          ...\n",
       "Virgin Islands (U.S.)                                 2016       102951\n",
       "West Bank and Gaza                                    2016  4.55157e+06\n",
       "Yemen, Rep.                                           2016  2.75842e+07\n",
       "Zambia                                                2016  1.65914e+07\n",
       "Zimbabwe                                              2016  1.61504e+07\n",
       "\n",
       "[241 rows x 2 columns]"
      ]
     },
     "execution_count": 174,
     "metadata": {},
     "output_type": "execute_result"
    }
   ],
   "source": [
    "pop_df"
   ]
  },
  {
   "cell_type": "code",
   "execution_count": 175,
   "metadata": {},
   "outputs": [],
   "source": [
    "pop_df['Valid'] = pop_df['Last statement'].map(data_qualification)"
   ]
  },
  {
   "cell_type": "code",
   "execution_count": 176,
   "metadata": {},
   "outputs": [
    {
     "data": {
      "text/plain": [
       "True     240\n",
       "False      1\n",
       "Name: Valid, dtype: int64"
      ]
     },
     "execution_count": 176,
     "metadata": {},
     "output_type": "execute_result"
    }
   ],
   "source": [
    "pop_df['Valid'].value_counts()"
   ]
  },
  {
   "cell_type": "code",
   "execution_count": 177,
   "metadata": {},
   "outputs": [
    {
     "data": {
      "image/png": "[encoded data removed]",
      "text/plain": [
       "<Figure size 432x432 with 1 Axes>"
      ]
     },
     "metadata": {},
     "output_type": "display_data"
    }
   ],
   "source": [
    "fig = plt.figure(figsize=(6,6))\n",
    "plt.title(\"Qualification des données de l'indicateur population\\n{}\".format(code_indic_pop), fontsize=16)\n",
    "plt.pie(pop_df['Valid'].value_counts(), labels=['Données valides', 'Données Manquantes ou obsolètes'], \n",
    "        colors=['#68C385', '#EE7352'], autopct='%1.1f%%', textprops={'fontsize': 14},\n",
    "        shadow=True, wedgeprops={'linewidth':1, 'edgecolor':'black'})\n",
    "plt.axis('equal')\n",
    "plt.show()"
   ]
  },
  {
   "cell_type": "code",
   "execution_count": 178,
   "metadata": {},
   "outputs": [
    {
     "data": {
      "text/html": [
       "<div>\n",
       "<style scoped>\n",
       "    .dataframe tbody tr th:only-of-type {\n",
       "        vertical-align: middle;\n",
       "    }\n",
       "\n",
       "    .dataframe tbody tr th {\n",
       "        vertical-align: top;\n",
       "    }\n",
       "\n",
       "    .dataframe thead th {\n",
       "        text-align: right;\n",
       "    }\n",
       "</style>\n",
       "<table border=\"1\" class=\"dataframe\">\n",
       "  <thead>\n",
       "    <tr style=\"text-align: right;\">\n",
       "      <th></th>\n",
       "      <th>Last statement</th>\n",
       "      <th>Population</th>\n",
       "    </tr>\n",
       "  </thead>\n",
       "  <tbody>\n",
       "    <tr>\n",
       "      <th>count</th>\n",
       "      <td>240.000000</td>\n",
       "      <td>2.400000e+02</td>\n",
       "    </tr>\n",
       "    <tr>\n",
       "      <th>mean</th>\n",
       "      <td>2015.891667</td>\n",
       "      <td>2.094884e+08</td>\n",
       "    </tr>\n",
       "    <tr>\n",
       "      <th>std</th>\n",
       "      <td>0.597006</td>\n",
       "      <td>8.119465e+08</td>\n",
       "    </tr>\n",
       "    <tr>\n",
       "      <th>min</th>\n",
       "      <td>2011.000000</td>\n",
       "      <td>1.109700e+04</td>\n",
       "    </tr>\n",
       "    <tr>\n",
       "      <th>25%</th>\n",
       "      <td>2016.000000</td>\n",
       "      <td>1.304528e+06</td>\n",
       "    </tr>\n",
       "    <tr>\n",
       "      <th>50%</th>\n",
       "      <td>2016.000000</td>\n",
       "      <td>8.741154e+06</td>\n",
       "    </tr>\n",
       "    <tr>\n",
       "      <th>75%</th>\n",
       "      <td>2016.000000</td>\n",
       "      <td>3.835572e+07</td>\n",
       "    </tr>\n",
       "    <tr>\n",
       "      <th>max</th>\n",
       "      <td>2016.000000</td>\n",
       "      <td>7.442136e+09</td>\n",
       "    </tr>\n",
       "  </tbody>\n",
       "</table>\n",
       "</div>"
      ],
      "text/plain": [
       "       Last statement    Population\n",
       "count      240.000000  2.400000e+02\n",
       "mean      2015.891667  2.094884e+08\n",
       "std          0.597006  8.119465e+08\n",
       "min       2011.000000  1.109700e+04\n",
       "25%       2016.000000  1.304528e+06\n",
       "50%       2016.000000  8.741154e+06\n",
       "75%       2016.000000  3.835572e+07\n",
       "max       2016.000000  7.442136e+09"
      ]
     },
     "execution_count": 178,
     "metadata": {},
     "output_type": "execute_result"
    }
   ],
   "source": [
    "get_describe(pop_df)"
   ]
  },
  {
   "cell_type": "code",
   "execution_count": 179,
   "metadata": {},
   "outputs": [],
   "source": [
    "last_statements = pd.Series(last_pop_years).value_counts()"
   ]
  },
  {
   "cell_type": "code",
   "execution_count": 180,
   "metadata": {},
   "outputs": [],
   "source": [
    "last_statements = last_statements.sort_values()"
   ]
  },
  {
   "cell_type": "code",
   "execution_count": 181,
   "metadata": {},
   "outputs": [
    {
     "data": {
      "text/html": [
       "\n",
       "    <div class=\"bk-root\">\n",
       "        <a href=\"https://bokeh.org\" target=\"_blank\" class=\"bk-logo bk-logo-small bk-logo-notebook\"></a>\n",
       "        <span id=\"1077\">Loading BokehJS ...</span>\n",
       "    </div>"
      ]
     },
     "metadata": {},
     "output_type": "display_data"
    },
    {
     "data": {
      "application/javascript": [
       "\n",
       "(function(root) {\n",
       "  function now() {\n",
       "    return new Date();\n",
       "  }\n",
       "\n",
       "  var force = true;\n",
       "\n",
       "  if (typeof root._bokeh_onload_callbacks === \"undefined\" || force === true) {\n",
       "    root._bokeh_onload_callbacks = [];\n",
       "    root._bokeh_is_loading = undefined;\n",
       "  }\n",
       "\n",
       "  var JS_MIME_TYPE = 'application/javascript';\n",
       "  var HTML_MIME_TYPE = 'text/html';\n",
       "  var EXEC_MIME_TYPE = 'application/vnd.bokehjs_exec.v0+json';\n",
       "  var CLASS_NAME = 'output_bokeh rendered_html';\n",
       "\n",
       "  /**\n",
       "   * Render data to the DOM node\n",
       "   */\n",
       "  function render(props, node) {\n",
       "    var script = document.createElement(\"script\");\n",
       "    node.appendChild(script);\n",
       "  }\n",
       "\n",
       "  /**\n",
       "   * Handle when an output is cleared or removed\n",
       "   */\n",
       "  function handleClearOutput(event, handle) {\n",
       "    var cell = handle.cell;\n",
       "\n",
       "    var id = cell.output_area._bokeh_element_id;\n",
       "    var server_id = cell.output_area._bokeh_server_id;\n",
       "    // Clean up Bokeh references\n",
       "    if (id != null && id in Bokeh.index) {\n",
       "      Bokeh.index[id].model.document.clear();\n",
       "      delete Bokeh.index[id];\n",
       "    }\n",
       "\n",
       "    if (server_id !== undefined) {\n",
       "      // Clean up Bokeh references\n",
       "      var cmd = \"from bokeh.io.state import curstate; print(curstate().uuid_to_server['\" + server_id + \"'].get_sessions()[0].document.roots[0]._id)\";\n",
       "      cell.notebook.kernel.execute(cmd, {\n",
       "        iopub: {\n",
       "          output: function(msg) {\n",
       "            var id = msg.content.text.trim();\n",
       "            if (id in Bokeh.index) {\n",
       "              Bokeh.index[id].model.document.clear();\n",
       "              delete Bokeh.index[id];\n",
       "            }\n",
       "          }\n",
       "        }\n",
       "      });\n",
       "      // Destroy server and session\n",
       "      var cmd = \"import bokeh.io.notebook as ion; ion.destroy_server('\" + server_id + \"')\";\n",
       "      cell.notebook.kernel.execute(cmd);\n",
       "    }\n",
       "  }\n",
       "\n",
       "  /**\n",
       "   * Handle when a new output is added\n",
       "   */\n",
       "  function handleAddOutput(event, handle) {\n",
       "    var output_area = handle.output_area;\n",
       "    var output = handle.output;\n",
       "\n",
       "    // limit handleAddOutput to display_data with EXEC_MIME_TYPE content only\n",
       "    if ((output.output_type != \"display_data\") || (!output.data.hasOwnProperty(EXEC_MIME_TYPE))) {\n",
       "      return\n",
       "    }\n",
       "\n",
       "    var toinsert = output_area.element.find(\".\" + CLASS_NAME.split(' ')[0]);\n",
       "\n",
       "    if (output.metadata[EXEC_MIME_TYPE][\"id\"] !== undefined) {\n",
       "      toinsert[toinsert.length - 1].firstChild.textContent = output.data[JS_MIME_TYPE];\n",
       "      // store reference to embed id on output_area\n",
       "      output_area._bokeh_element_id = output.metadata[EXEC_MIME_TYPE][\"id\"];\n",
       "    }\n",
       "    if (output.metadata[EXEC_MIME_TYPE][\"server_id\"] !== undefined) {\n",
       "      var bk_div = document.createElement(\"div\");\n",
       "      bk_div.innerHTML = output.data[HTML_MIME_TYPE];\n",
       "      var script_attrs = bk_div.children[0].attributes;\n",
       "      for (var i = 0; i < script_attrs.length; i++) {\n",
       "        toinsert[toinsert.length - 1].firstChild.setAttribute(script_attrs[i].name, script_attrs[i].value);\n",
       "        toinsert[toinsert.length - 1].firstChild.textContent = bk_div.children[0].textContent\n",
       "      }\n",
       "      // store reference to server id on output_area\n",
       "      output_area._bokeh_server_id = output.metadata[EXEC_MIME_TYPE][\"server_id\"];\n",
       "    }\n",
       "  }\n",
       "\n",
       "  function register_renderer(events, OutputArea) {\n",
       "\n",
       "    function append_mime(data, metadata, element) {\n",
       "      // create a DOM node to render to\n",
       "      var toinsert = this.create_output_subarea(\n",
       "        metadata,\n",
       "        CLASS_NAME,\n",
       "        EXEC_MIME_TYPE\n",
       "      );\n",
       "      this.keyboard_manager.register_events(toinsert);\n",
       "      // Render to node\n",
       "      var props = {data: data, metadata: metadata[EXEC_MIME_TYPE]};\n",
       "      render(props, toinsert[toinsert.length - 1]);\n",
       "      element.append(toinsert);\n",
       "      return toinsert\n",
       "    }\n",
       "\n",
       "    /* Handle when an output is cleared or removed */\n",
       "    events.on('clear_output.CodeCell', handleClearOutput);\n",
       "    events.on('delete.Cell', handleClearOutput);\n",
       "\n",
       "    /* Handle when a new output is added */\n",
       "    events.on('output_added.OutputArea', handleAddOutput);\n",
       "\n",
       "    /**\n",
       "     * Register the mime type and append_mime function with output_area\n",
       "     */\n",
       "    OutputArea.prototype.register_mime_type(EXEC_MIME_TYPE, append_mime, {\n",
       "      /* Is output safe? */\n",
       "      safe: true,\n",
       "      /* Index of renderer in `output_area.display_order` */\n",
       "      index: 0\n",
       "    });\n",
       "  }\n",
       "\n",
       "  // register the mime type if in Jupyter Notebook environment and previously unregistered\n",
       "  if (root.Jupyter !== undefined) {\n",
       "    var events = require('base/js/events');\n",
       "    var OutputArea = require('notebook/js/outputarea').OutputArea;\n",
       "\n",
       "    if (OutputArea.prototype.mime_types().indexOf(EXEC_MIME_TYPE) == -1) {\n",
       "      register_renderer(events, OutputArea);\n",
       "    }\n",
       "  }\n",
       "\n",
       "  \n",
       "  if (typeof (root._bokeh_timeout) === \"undefined\" || force === true) {\n",
       "    root._bokeh_timeout = Date.now() + 5000;\n",
       "    root._bokeh_failed_load = false;\n",
       "  }\n",
       "\n",
       "  var NB_LOAD_WARNING = {'data': {'text/html':\n",
       "     \"<div style='background-color: #fdd'>\\n\"+\n",
       "     \"<p>\\n\"+\n",
       "     \"BokehJS does not appear to have successfully loaded. If loading BokehJS from CDN, this \\n\"+\n",
       "     \"may be due to a slow or bad network connection. Possible fixes:\\n\"+\n",
       "     \"</p>\\n\"+\n",
       "     \"<ul>\\n\"+\n",
       "     \"<li>re-rerun `output_notebook()` to attempt to load from CDN again, or</li>\\n\"+\n",
       "     \"<li>use INLINE resources instead, as so:</li>\\n\"+\n",
       "     \"</ul>\\n\"+\n",
       "     \"<code>\\n\"+\n",
       "     \"from bokeh.resources import INLINE\\n\"+\n",
       "     \"output_notebook(resources=INLINE)\\n\"+\n",
       "     \"</code>\\n\"+\n",
       "     \"</div>\"}};\n",
       "\n",
       "  function display_loaded() {\n",
       "    var el = document.getElementById(\"1077\");\n",
       "    if (el != null) {\n",
       "      el.textContent = \"BokehJS is loading...\";\n",
       "    }\n",
       "    if (root.Bokeh !== undefined) {\n",
       "      if (el != null) {\n",
       "        el.textContent = \"BokehJS \" + root.Bokeh.version + \" successfully loaded.\";\n",
       "      }\n",
       "    } else if (Date.now() < root._bokeh_timeout) {\n",
       "      setTimeout(display_loaded, 100)\n",
       "    }\n",
       "  }\n",
       "\n",
       "\n",
       "  function run_callbacks() {\n",
       "    try {\n",
       "      root._bokeh_onload_callbacks.forEach(function(callback) {\n",
       "        if (callback != null)\n",
       "          callback();\n",
       "      });\n",
       "    } finally {\n",
       "      delete root._bokeh_onload_callbacks\n",
       "    }\n",
       "    console.debug(\"Bokeh: all callbacks have finished\");\n",
       "  }\n",
       "\n",
       "  function load_libs(css_urls, js_urls, callback) {\n",
       "    if (css_urls == null) css_urls = [];\n",
       "    if (js_urls == null) js_urls = [];\n",
       "\n",
       "    root._bokeh_onload_callbacks.push(callback);\n",
       "    if (root._bokeh_is_loading > 0) {\n",
       "      console.debug(\"Bokeh: BokehJS is being loaded, scheduling callback at\", now());\n",
       "      return null;\n",
       "    }\n",
       "    if (js_urls == null || js_urls.length === 0) {\n",
       "      run_callbacks();\n",
       "      return null;\n",
       "    }\n",
       "    console.debug(\"Bokeh: BokehJS not loaded, scheduling load and callback at\", now());\n",
       "    root._bokeh_is_loading = css_urls.length + js_urls.length;\n",
       "\n",
       "    function on_load() {\n",
       "      root._bokeh_is_loading--;\n",
       "      if (root._bokeh_is_loading === 0) {\n",
       "        console.debug(\"Bokeh: all BokehJS libraries/stylesheets loaded\");\n",
       "        run_callbacks()\n",
       "      }\n",
       "    }\n",
       "\n",
       "    function on_error() {\n",
       "      console.error(\"failed to load \" + url);\n",
       "    }\n",
       "\n",
       "    for (var i = 0; i < css_urls.length; i++) {\n",
       "      var url = css_urls[i];\n",
       "      const element = document.createElement(\"link\");\n",
       "      element.onload = on_load;\n",
       "      element.onerror = on_error;\n",
       "      element.rel = \"stylesheet\";\n",
       "      element.type = \"text/css\";\n",
       "      element.href = url;\n",
       "      console.debug(\"Bokeh: injecting link tag for BokehJS stylesheet: \", url);\n",
       "      document.body.appendChild(element);\n",
       "    }\n",
       "\n",
       "    const hashes = {\"https://cdn.bokeh.org/bokeh/release/bokeh-2.1.1.min.js\": \"kLr4fYcqcSpbuI95brIH3vnnYCquzzSxHPU6XGQCIkQRGJwhg0StNbj1eegrHs12\", \"https://cdn.bokeh.org/bokeh/release/bokeh-widgets-2.1.1.min.js\": \"xIGPmVtaOm+z0BqfSOMn4lOR6ciex448GIKG4eE61LsAvmGj48XcMQZtKcE/UXZe\", \"https://cdn.bokeh.org/bokeh/release/bokeh-tables-2.1.1.min.js\": \"Dc9u1wF/0zApGIWoBbH77iWEHtdmkuYWG839Uzmv8y8yBLXebjO9ZnERsde5Ln/P\", \"https://cdn.bokeh.org/bokeh/release/bokeh-gl-2.1.1.min.js\": \"cT9JaBz7GiRXdENrJLZNSC6eMNF3nh3fa5fTF51Svp+ukxPdwcU5kGXGPBgDCa2j\"};\n",
       "\n",
       "    for (var i = 0; i < js_urls.length; i++) {\n",
       "      var url = js_urls[i];\n",
       "      var element = document.createElement('script');\n",
       "      element.onload = on_load;\n",
       "      element.onerror = on_error;\n",
       "      element.async = false;\n",
       "      element.src = url;\n",
       "      if (url in hashes) {\n",
       "        element.crossOrigin = \"anonymous\";\n",
       "        element.integrity = \"sha384-\" + hashes[url];\n",
       "      }\n",
       "      console.debug(\"Bokeh: injecting script tag for BokehJS library: \", url);\n",
       "      document.head.appendChild(element);\n",
       "    }\n",
       "  };\n",
       "\n",
       "  function inject_raw_css(css) {\n",
       "    const element = document.createElement(\"style\");\n",
       "    element.appendChild(document.createTextNode(css));\n",
       "    document.body.appendChild(element);\n",
       "  }\n",
       "\n",
       "  \n",
       "  var js_urls = [\"https://cdn.bokeh.org/bokeh/release/bokeh-2.1.1.min.js\", \"https://cdn.bokeh.org/bokeh/release/bokeh-widgets-2.1.1.min.js\", \"https://cdn.bokeh.org/bokeh/release/bokeh-tables-2.1.1.min.js\", \"https://cdn.bokeh.org/bokeh/release/bokeh-gl-2.1.1.min.js\"];\n",
       "  var css_urls = [];\n",
       "  \n",
       "\n",
       "  var inline_js = [\n",
       "    function(Bokeh) {\n",
       "      Bokeh.set_log_level(\"info\");\n",
       "    },\n",
       "    function(Bokeh) {\n",
       "    \n",
       "    \n",
       "    }\n",
       "  ];\n",
       "\n",
       "  function run_inline_js() {\n",
       "    \n",
       "    if (root.Bokeh !== undefined || force === true) {\n",
       "      \n",
       "    for (var i = 0; i < inline_js.length; i++) {\n",
       "      inline_js[i].call(root, root.Bokeh);\n",
       "    }\n",
       "    if (force === true) {\n",
       "        display_loaded();\n",
       "      }} else if (Date.now() < root._bokeh_timeout) {\n",
       "      setTimeout(run_inline_js, 100);\n",
       "    } else if (!root._bokeh_failed_load) {\n",
       "      console.log(\"Bokeh: BokehJS failed to load within specified timeout.\");\n",
       "      root._bokeh_failed_load = true;\n",
       "    } else if (force !== true) {\n",
       "      var cell = $(document.getElementById(\"1077\")).parents('.cell').data().cell;\n",
       "      cell.output_area.append_execute_result(NB_LOAD_WARNING)\n",
       "    }\n",
       "\n",
       "  }\n",
       "\n",
       "  if (root._bokeh_is_loading === 0) {\n",
       "    console.debug(\"Bokeh: BokehJS loaded, going straight to plotting\");\n",
       "    run_inline_js();\n",
       "  } else {\n",
       "    load_libs(css_urls, js_urls, function() {\n",
       "      console.debug(\"Bokeh: BokehJS plotting callback run at\", now());\n",
       "      run_inline_js();\n",
       "    });\n",
       "  }\n",
       "}(window));"
      ],
      "application/vnd.bokehjs_load.v0+json": "\n(function(root) {\n  function now() {\n    return new Date();\n  }\n\n  var force = true;\n\n  if (typeof root._bokeh_onload_callbacks === \"undefined\" || force === true) {\n    root._bokeh_onload_callbacks = [];\n    root._bokeh_is_loading = undefined;\n  }\n\n  \n\n  \n  if (typeof (root._bokeh_timeout) === \"undefined\" || force === true) {\n    root._bokeh_timeout = Date.now() + 5000;\n    root._bokeh_failed_load = false;\n  }\n\n  var NB_LOAD_WARNING = {'data': {'text/html':\n     \"<div style='background-color: #fdd'>\\n\"+\n     \"<p>\\n\"+\n     \"BokehJS does not appear to have successfully loaded. If loading BokehJS from CDN, this \\n\"+\n     \"may be due to a slow or bad network connection. Possible fixes:\\n\"+\n     \"</p>\\n\"+\n     \"<ul>\\n\"+\n     \"<li>re-rerun `output_notebook()` to attempt to load from CDN again, or</li>\\n\"+\n     \"<li>use INLINE resources instead, as so:</li>\\n\"+\n     \"</ul>\\n\"+\n     \"<code>\\n\"+\n     \"from bokeh.resources import INLINE\\n\"+\n     \"output_notebook(resources=INLINE)\\n\"+\n     \"</code>\\n\"+\n     \"</div>\"}};\n\n  function display_loaded() {\n    var el = document.getElementById(\"1077\");\n    if (el != null) {\n      el.textContent = \"BokehJS is loading...\";\n    }\n    if (root.Bokeh !== undefined) {\n      if (el != null) {\n        el.textContent = \"BokehJS \" + root.Bokeh.version + \" successfully loaded.\";\n      }\n    } else if (Date.now() < root._bokeh_timeout) {\n      setTimeout(display_loaded, 100)\n    }\n  }\n\n\n  function run_callbacks() {\n    try {\n      root._bokeh_onload_callbacks.forEach(function(callback) {\n        if (callback != null)\n          callback();\n      });\n    } finally {\n      delete root._bokeh_onload_callbacks\n    }\n    console.debug(\"Bokeh: all callbacks have finished\");\n  }\n\n  function load_libs(css_urls, js_urls, callback) {\n    if (css_urls == null) css_urls = [];\n    if (js_urls == null) js_urls = [];\n\n    root._bokeh_onload_callbacks.push(callback);\n    if (root._bokeh_is_loading > 0) {\n      console.debug(\"Bokeh: BokehJS is being loaded, scheduling callback at\", now());\n      return null;\n    }\n    if (js_urls == null || js_urls.length === 0) {\n      run_callbacks();\n      return null;\n    }\n    console.debug(\"Bokeh: BokehJS not loaded, scheduling load and callback at\", now());\n    root._bokeh_is_loading = css_urls.length + js_urls.length;\n\n    function on_load() {\n      root._bokeh_is_loading--;\n      if (root._bokeh_is_loading === 0) {\n        console.debug(\"Bokeh: all BokehJS libraries/stylesheets loaded\");\n        run_callbacks()\n      }\n    }\n\n    function on_error() {\n      console.error(\"failed to load \" + url);\n    }\n\n    for (var i = 0; i < css_urls.length; i++) {\n      var url = css_urls[i];\n      const element = document.createElement(\"link\");\n      element.onload = on_load;\n      element.onerror = on_error;\n      element.rel = \"stylesheet\";\n      element.type = \"text/css\";\n      element.href = url;\n      console.debug(\"Bokeh: injecting link tag for BokehJS stylesheet: \", url);\n      document.body.appendChild(element);\n    }\n\n    const hashes = {\"https://cdn.bokeh.org/bokeh/release/bokeh-2.1.1.min.js\": \"kLr4fYcqcSpbuI95brIH3vnnYCquzzSxHPU6XGQCIkQRGJwhg0StNbj1eegrHs12\", \"https://cdn.bokeh.org/bokeh/release/bokeh-widgets-2.1.1.min.js\": \"xIGPmVtaOm+z0BqfSOMn4lOR6ciex448GIKG4eE61LsAvmGj48XcMQZtKcE/UXZe\", \"https://cdn.bokeh.org/bokeh/release/bokeh-tables-2.1.1.min.js\": \"Dc9u1wF/0zApGIWoBbH77iWEHtdmkuYWG839Uzmv8y8yBLXebjO9ZnERsde5Ln/P\", \"https://cdn.bokeh.org/bokeh/release/bokeh-gl-2.1.1.min.js\": \"cT9JaBz7GiRXdENrJLZNSC6eMNF3nh3fa5fTF51Svp+ukxPdwcU5kGXGPBgDCa2j\"};\n\n    for (var i = 0; i < js_urls.length; i++) {\n      var url = js_urls[i];\n      var element = document.createElement('script');\n      element.onload = on_load;\n      element.onerror = on_error;\n      element.async = false;\n      element.src = url;\n      if (url in hashes) {\n        element.crossOrigin = \"anonymous\";\n        element.integrity = \"sha384-\" + hashes[url];\n      }\n      console.debug(\"Bokeh: injecting script tag for BokehJS library: \", url);\n      document.head.appendChild(element);\n    }\n  };\n\n  function inject_raw_css(css) {\n    const element = document.createElement(\"style\");\n    element.appendChild(document.createTextNode(css));\n    document.body.appendChild(element);\n  }\n\n  \n  var js_urls = [\"https://cdn.bokeh.org/bokeh/release/bokeh-2.1.1.min.js\", \"https://cdn.bokeh.org/bokeh/release/bokeh-widgets-2.1.1.min.js\", \"https://cdn.bokeh.org/bokeh/release/bokeh-tables-2.1.1.min.js\", \"https://cdn.bokeh.org/bokeh/release/bokeh-gl-2.1.1.min.js\"];\n  var css_urls = [];\n  \n\n  var inline_js = [\n    function(Bokeh) {\n      Bokeh.set_log_level(\"info\");\n    },\n    function(Bokeh) {\n    \n    \n    }\n  ];\n\n  function run_inline_js() {\n    \n    if (root.Bokeh !== undefined || force === true) {\n      \n    for (var i = 0; i < inline_js.length; i++) {\n      inline_js[i].call(root, root.Bokeh);\n    }\n    if (force === true) {\n        display_loaded();\n      }} else if (Date.now() < root._bokeh_timeout) {\n      setTimeout(run_inline_js, 100);\n    } else if (!root._bokeh_failed_load) {\n      console.log(\"Bokeh: BokehJS failed to load within specified timeout.\");\n      root._bokeh_failed_load = true;\n    } else if (force !== true) {\n      var cell = $(document.getElementById(\"1077\")).parents('.cell').data().cell;\n      cell.output_area.append_execute_result(NB_LOAD_WARNING)\n    }\n\n  }\n\n  if (root._bokeh_is_loading === 0) {\n    console.debug(\"Bokeh: BokehJS loaded, going straight to plotting\");\n    run_inline_js();\n  } else {\n    load_libs(css_urls, js_urls, function() {\n      console.debug(\"Bokeh: BokehJS plotting callback run at\", now());\n      run_inline_js();\n    });\n  }\n}(window));"
     },
     "metadata": {},
     "output_type": "display_data"
    },
    {
     "data": {
      "text/html": [
       "\n",
       "\n",
       "\n",
       "\n",
       "\n",
       "\n",
       "  <div class=\"bk-root\" id=\"3b1ab3fd-08f4-4318-aa21-a3038b40c1ba\" data-root-id=\"1079\"></div>\n"
      ]
     },
     "metadata": {},
     "output_type": "display_data"
    },
    {
     "data": {
      "application/javascript": [
       "(function(root) {\n",
       "  function embed_document(root) {\n",
       "    \n",
       "  var docs_json = {\"d7279188-68be-4d66-9eeb-3427d7ee5f6c\":{\"roots\":{\"references\":[{\"attributes\":{\"below\":[{\"id\":\"1090\"}],\"center\":[{\"id\":\"1093\"},{\"id\":\"1096\"},{\"id\":\"1103\"}],\"left\":[{\"id\":\"1094\"}],\"plot_height\":350,\"renderers\":[{\"id\":\"1101\"}],\"title\":{\"id\":\"1080\"},\"toolbar\":{\"id\":\"1097\"},\"toolbar_location\":null,\"x_range\":{\"id\":\"1082\"},\"x_scale\":{\"id\":\"1086\"},\"y_range\":{\"id\":\"1084\"},\"y_scale\":{\"id\":\"1088\"}},\"id\":\"1079\",\"subtype\":\"Figure\",\"type\":\"Plot\"},{\"attributes\":{\"text\":\"Aper\\u00e7u de la fraicheur des donn\\u00e9es sur la population\"},\"id\":\"1080\",\"type\":\"Title\"},{\"attributes\":{\"formatter\":{\"id\":\"1114\"},\"ticker\":{\"id\":\"1091\"}},\"id\":\"1090\",\"type\":\"LinearAxis\"},{\"attributes\":{\"end\":242},\"id\":\"1082\",\"type\":\"Range1d\"},{\"attributes\":{},\"id\":\"1086\",\"type\":\"LinearScale\"},{\"attributes\":{},\"id\":\"1091\",\"type\":\"BasicTicker\"},{\"attributes\":{},\"id\":\"1088\",\"type\":\"CategoricalScale\"},{\"attributes\":{\"factors\":[\"2011\",\"2013\",\"2016\"]},\"id\":\"1084\",\"type\":\"FactorRange\"},{\"attributes\":{\"data_source\":{\"id\":\"1078\"},\"glyph\":{\"id\":\"1099\"},\"hover_glyph\":null,\"muted_glyph\":null,\"nonselection_glyph\":{\"id\":\"1100\"},\"selection_glyph\":null,\"view\":{\"id\":\"1102\"}},\"id\":\"1101\",\"type\":\"GlyphRenderer\"},{\"attributes\":{\"axis\":{\"id\":\"1090\"},\"ticker\":null},\"id\":\"1093\",\"type\":\"Grid\"},{\"attributes\":{},\"id\":\"1117\",\"type\":\"Selection\"},{\"attributes\":{\"formatter\":{\"id\":\"1112\"},\"ticker\":{\"id\":\"1095\"}},\"id\":\"1094\",\"type\":\"CategoricalAxis\"},{\"attributes\":{},\"id\":\"1095\",\"type\":\"CategoricalTicker\"},{\"attributes\":{},\"id\":\"1114\",\"type\":\"BasicTickFormatter\"},{\"attributes\":{\"axis\":{\"id\":\"1094\"},\"dimension\":1,\"ticker\":null},\"id\":\"1096\",\"type\":\"Grid\"},{\"attributes\":{\"fill_alpha\":{\"value\":0.1},\"fill_color\":{\"value\":\"#b3de69\"},\"height\":{\"value\":0.5},\"line_alpha\":{\"value\":0.1},\"line_color\":{\"value\":\"#1f77b4\"},\"right\":{\"field\":\"right\"},\"y\":{\"field\":\"y\"}},\"id\":\"1100\",\"type\":\"HBar\"},{\"attributes\":{},\"id\":\"1112\",\"type\":\"CategoricalTickFormatter\"},{\"attributes\":{\"fill_color\":{\"value\":\"#b3de69\"},\"height\":{\"value\":0.5},\"line_color\":{\"value\":\"#1f77b4\"},\"right\":{\"field\":\"right\"},\"y\":{\"field\":\"y\"}},\"id\":\"1099\",\"type\":\"HBar\"},{\"attributes\":{\"active_drag\":\"auto\",\"active_inspect\":\"auto\",\"active_multi\":null,\"active_scroll\":\"auto\",\"active_tap\":\"auto\"},\"id\":\"1097\",\"type\":\"Toolbar\"},{\"attributes\":{\"text\":\"here your text\",\"x\":100,\"y\":70},\"id\":\"1103\",\"type\":\"Label\"},{\"attributes\":{},\"id\":\"1116\",\"type\":\"UnionRenderers\"},{\"attributes\":{\"source\":{\"id\":\"1078\"}},\"id\":\"1102\",\"type\":\"CDSView\"},{\"attributes\":{\"data\":{\"right\":[1,7,232],\"y\":[\"2011\",\"2013\",\"2016\"]},\"selected\":{\"id\":\"1117\"},\"selection_policy\":{\"id\":\"1116\"}},\"id\":\"1078\",\"type\":\"ColumnDataSource\"}],\"root_ids\":[\"1079\"]},\"title\":\"Bokeh Application\",\"version\":\"2.1.1\"}};\n",
       "  var render_items = [{\"docid\":\"d7279188-68be-4d66-9eeb-3427d7ee5f6c\",\"root_ids\":[\"1079\"],\"roots\":{\"1079\":\"3b1ab3fd-08f4-4318-aa21-a3038b40c1ba\"}}];\n",
       "  root.Bokeh.embed.embed_items_notebook(docs_json, render_items);\n",
       "\n",
       "  }\n",
       "  if (root.Bokeh !== undefined) {\n",
       "    embed_document(root);\n",
       "  } else {\n",
       "    var attempts = 0;\n",
       "    var timer = setInterval(function(root) {\n",
       "      if (root.Bokeh !== undefined) {\n",
       "        clearInterval(timer);\n",
       "        embed_document(root);\n",
       "      } else {\n",
       "        attempts++;\n",
       "        if (attempts > 100) {\n",
       "          clearInterval(timer);\n",
       "          console.log(\"Bokeh: ERROR: Unable to run BokehJS code because BokehJS library is missing\");\n",
       "        }\n",
       "      }\n",
       "    }, 10, root)\n",
       "  }\n",
       "})(window);"
      ],
      "application/vnd.bokehjs_exec.v0+json": ""
     },
     "metadata": {
      "application/vnd.bokehjs_exec.v0+json": {
       "id": "1079"
      }
     },
     "output_type": "display_data"
    }
   ],
   "source": [
    "output_notebook()\n",
    "\n",
    "# y= [float(statement) for statement in last_statements.index.values]\n",
    "y = list(last_statements.index.values)\n",
    "x = last_statements.values\n",
    "\n",
    "source = ColumnDataSource(data=dict(y=y, right=x,))\n",
    "\n",
    "plot = figure(x_range=(0,max(last_statements.values) + 10), y_range=y, plot_height=350, title=\"Aperçu de la fraicheur des données sur la population\",\n",
    "           toolbar_location=None, tools=\"\")\n",
    "\n",
    "plot.hbar(y=\"y\", right=\"right\", left=0, height=0.5, fill_color=\"#b3de69\", source=source)\n",
    "mytext = Label(x=100, y=70, text='here your text')\n",
    "plot.add_layout(mytext)\n",
    "\n",
    "show(plot)"
   ]
  },
  {
   "cell_type": "markdown",
   "metadata": {},
   "source": [
    "L'indicateur sur la population nationale de chaque pays est 'à jour' au regard du dataset"
   ]
  },
  {
   "cell_type": "code",
   "execution_count": 182,
   "metadata": {},
   "outputs": [
    {
     "data": {
      "text/plain": [
       "1304528.5"
      ]
     },
     "execution_count": 182,
     "metadata": {},
     "output_type": "execute_result"
    }
   ],
   "source": [
    "percentile_25 = pop_df['Population'].quantile(0.25)\n",
    "percentile_25"
   ]
  },
  {
   "cell_type": "code",
   "execution_count": 183,
   "metadata": {},
   "outputs": [],
   "source": [
    "pop_suffisantes_df = pop_df[pop_df['Population'] > percentile_25]"
   ]
  },
  {
   "cell_type": "code",
   "execution_count": 184,
   "metadata": {},
   "outputs": [],
   "source": [
    "pays_pop_suffisantes = pop_suffisantes_df.index.values"
   ]
  },
  {
   "cell_type": "code",
   "execution_count": 185,
   "metadata": {},
   "outputs": [
    {
     "data": {
      "text/plain": [
       "180"
      ]
     },
     "execution_count": 185,
     "metadata": {},
     "output_type": "execute_result"
    }
   ],
   "source": [
    "len(pays_pop_suffisantes)"
   ]
  },
  {
   "cell_type": "markdown",
   "metadata": {},
   "source": [
    "Nous avons récupéré les pays dont la population est suffisante et ou l'accès à internet est suffisant"
   ]
  },
  {
   "cell_type": "markdown",
   "metadata": {},
   "source": [
    "Pour mettre à jour notre selection on peut faire une intersection entre ces deux listes"
   ]
  },
  {
   "cell_type": "code",
   "execution_count": 186,
   "metadata": {},
   "outputs": [],
   "source": [
    "pays_selection = pays_selection.values"
   ]
  },
  {
   "cell_type": "code",
   "execution_count": 187,
   "metadata": {},
   "outputs": [],
   "source": [
    "pays_selection = [country for country in pays_pop_suffisantes if country in pays_selection]"
   ]
  },
  {
   "cell_type": "code",
   "execution_count": 188,
   "metadata": {},
   "outputs": [
    {
     "data": {
      "text/plain": [
       "43"
      ]
     },
     "execution_count": 188,
     "metadata": {},
     "output_type": "execute_result"
    }
   ],
   "source": [
    "len(pays_selection)"
   ]
  },
  {
   "cell_type": "markdown",
   "metadata": {},
   "source": [
    "### Regardons maintenant l'alphabetisation"
   ]
  },
  {
   "cell_type": "code",
   "execution_count": 189,
   "metadata": {},
   "outputs": [
    {
     "data": {
      "text/plain": [
       "47"
      ]
     },
     "execution_count": 189,
     "metadata": {},
     "output_type": "execute_result"
    }
   ],
   "source": [
    "indicateurs_literacy = []\n",
    "indicateurs = data['Indicator_name'].unique()\n",
    "for indicateur in indicateurs:\n",
    "    indicateur_clean = indicateur.replace(',', '')\n",
    "    mots = indicateur_clean.split(' ')\n",
    "    if 'literacy' in [mot.lower() for mot in mots]:\n",
    "        indicateurs_literacy.append(indicateur)\n",
    "len(indicateurs_literacy)"
   ]
  },
  {
   "cell_type": "code",
   "execution_count": 190,
   "metadata": {},
   "outputs": [
    {
     "data": {
      "text/plain": [
       "['Adult literacy rate, population 15+ years, both sexes (%)',\n",
       " 'Adult literacy rate, population 15+ years, female (%)',\n",
       " 'Adult literacy rate, population 15+ years, male (%)',\n",
       " 'Elderly literacy rate, population 65+ years, both sexes (%)',\n",
       " 'Elderly literacy rate, population 65+ years, gender parity index (GPI)',\n",
       " 'Literacy rate, population 25-64 years, both sexes (%)',\n",
       " 'Literacy rate, population 25-64 years, female (%)',\n",
       " 'Literacy rate, population 25-64 years, gender parity index (GPI)',\n",
       " 'Literacy rate, population 25-64 years, male (%)',\n",
       " 'PIAAC: Adults by literacy proficiency level (%). Below Level 1',\n",
       " 'PIAAC: Adults by literacy proficiency level (%). Level 1',\n",
       " 'PIAAC: Adults by literacy proficiency level (%). Level 2',\n",
       " 'PIAAC: Adults by literacy proficiency level (%). Level 3',\n",
       " 'PIAAC: Adults by literacy proficiency level (%). Level 4',\n",
       " 'PIAAC: Adults by literacy proficiency level (%). Level 5',\n",
       " 'PIAAC: Distribution of Adult Literacy Scores: 10th Percentile Score',\n",
       " 'PIAAC: Distribution of Adult Literacy Scores: 25th Percentile Score',\n",
       " 'PIAAC: Distribution of Adult Literacy Scores: 50th Percentile Score',\n",
       " 'PIAAC: Distribution of Adult Literacy Scores: 5th Percentile Score',\n",
       " 'PIAAC: Distribution of Adult Literacy Scores: 75th Percentile Score',\n",
       " 'PIAAC: Distribution of Adult Literacy Scores: 90th Percentile Score',\n",
       " 'PIAAC: Distribution of Adult Literacy Scores: 95th Percentile Score',\n",
       " 'PIAAC: Female adults by literacy proficiency level (%). Below Level 1',\n",
       " 'PIAAC: Female adults by literacy proficiency level (%). Level 1',\n",
       " 'PIAAC: Female adults by literacy proficiency level (%). Level 2',\n",
       " 'PIAAC: Female adults by literacy proficiency level (%). Level 3',\n",
       " 'PIAAC: Female adults by literacy proficiency level (%). Level 4 & 5',\n",
       " 'PIAAC: Male adults by literacy proficiency level (%). Below Level 1',\n",
       " 'PIAAC: Male adults by literacy proficiency level (%). Level 1',\n",
       " 'PIAAC: Male adults by literacy proficiency level (%). Level 2',\n",
       " 'PIAAC: Male adults by literacy proficiency level (%). Level 3',\n",
       " 'PIAAC: Male adults by literacy proficiency level (%). Level 4 & 5',\n",
       " 'PIAAC: Mean Adult Literacy Proficiency. Female',\n",
       " 'PIAAC: Mean Adult Literacy Proficiency. Male',\n",
       " 'PIAAC: Mean Adult Literacy Proficiency. Total',\n",
       " 'PIAAC: Mean Young Adult Literacy Proficiency. Female',\n",
       " 'PIAAC: Mean Young Adult Literacy Proficiency. Male',\n",
       " 'PIAAC: Mean Young Adult Literacy Proficiency. Total',\n",
       " 'PIAAC: Young adults by literacy proficiency level (%). Below Level 1',\n",
       " 'PIAAC: Young adults by literacy proficiency level (%). Level 1',\n",
       " 'PIAAC: Young adults by literacy proficiency level (%). Level 2',\n",
       " 'PIAAC: Young adults by literacy proficiency level (%). Level 3',\n",
       " 'PIAAC: Young adults by literacy proficiency level (%). Level 4 & 5',\n",
       " 'Youth literacy rate, population 15-24 years, both sexes (%)',\n",
       " 'Youth literacy rate, population 15-24 years, female (%)',\n",
       " 'Youth literacy rate, population 15-24 years, gender parity index (GPI)',\n",
       " 'Youth literacy rate, population 15-24 years, male (%)']"
      ]
     },
     "execution_count": 190,
     "metadata": {},
     "output_type": "execute_result"
    }
   ],
   "source": [
    "indicateurs_literacy"
   ]
  },
  {
   "cell_type": "markdown",
   "metadata": {},
   "source": [
    "#### Deux indicateurs correspondent au besoin:\n",
    "##### - Adult literacy rate, population 15+ years, both sexes (%) \n",
    "Cet indicateur permet d'evaluer largement l'alphabetisation.\n",
    "##### - Youth literacy rate, population 15-24 years, both sexes (%)\n",
    "Celui-ci est plus orienté vers les très jeunes.\n",
    "\n",
    "### Etant donné que l'on s'oriente vers un marché universitaire je décide de prendre l'indicateur qui concerne la population jeune"
   ]
  },
  {
   "cell_type": "code",
   "execution_count": 191,
   "metadata": {},
   "outputs": [],
   "source": [
    "indic_literacy = 'Youth literacy rate, population 15-24 years, both sexes (%)'"
   ]
  },
  {
   "cell_type": "code",
   "execution_count": 192,
   "metadata": {},
   "outputs": [
    {
     "data": {
      "text/plain": [
       "'SE.ADT.1524.LT.ZS'"
      ]
     },
     "execution_count": 192,
     "metadata": {},
     "output_type": "execute_result"
    }
   ],
   "source": [
    "data_literacy = data[data['Indicator_name'] == indic_literacy]\n",
    "code_indic_literacy = data_literacy['Indicator Code'].iloc[0]\n",
    "code_indic_literacy"
   ]
  },
  {
   "cell_type": "code",
   "execution_count": 193,
   "metadata": {},
   "outputs": [],
   "source": [
    "last_lit_values = []\n",
    "last_lit_years = []\n",
    "for country in data_literacy[\"Country Name\"].unique():\n",
    "    last_lit_year = get_last_statement(code_indic_literacy, country)\n",
    "    if last_lit_year == None:\n",
    "        last_lit_years.append(np.nan)\n",
    "        last_lit_values.append(np.nan)\n",
    "    else:\n",
    "        last_lit_years.append(last_lit_year)\n",
    "        last_lit_value = data[(data['Indicator Code'] == code_indic_literacy) & (data['Country Name'] == country)][last_lit_year].iloc[0]\n",
    "        last_lit_values.append(last_lit_value)"
   ]
  },
  {
   "cell_type": "code",
   "execution_count": 194,
   "metadata": {},
   "outputs": [],
   "source": [
    "lit_df = pd.DataFrame([data['Country Name'].unique(), last_lit_years, last_lit_values])"
   ]
  },
  {
   "cell_type": "code",
   "execution_count": 195,
   "metadata": {},
   "outputs": [],
   "source": [
    "lit_df = lit_df.T"
   ]
  },
  {
   "cell_type": "code",
   "execution_count": 196,
   "metadata": {},
   "outputs": [],
   "source": [
    "lit_df = lit_df.rename(columns={0: 'Country', 1: \"Last statement\", 2: \"Literacy rate\"})"
   ]
  },
  {
   "cell_type": "code",
   "execution_count": 197,
   "metadata": {},
   "outputs": [],
   "source": [
    "lit_df = lit_df.set_index('Country')"
   ]
  },
  {
   "cell_type": "code",
   "execution_count": 198,
   "metadata": {},
   "outputs": [
    {
     "data": {
      "text/html": [
       "<div>\n",
       "<style scoped>\n",
       "    .dataframe tbody tr th:only-of-type {\n",
       "        vertical-align: middle;\n",
       "    }\n",
       "\n",
       "    .dataframe tbody tr th {\n",
       "        vertical-align: top;\n",
       "    }\n",
       "\n",
       "    .dataframe thead th {\n",
       "        text-align: right;\n",
       "    }\n",
       "</style>\n",
       "<table border=\"1\" class=\"dataframe\">\n",
       "  <thead>\n",
       "    <tr style=\"text-align: right;\">\n",
       "      <th></th>\n",
       "      <th>Last statement</th>\n",
       "      <th>Literacy rate</th>\n",
       "    </tr>\n",
       "    <tr>\n",
       "      <th>Country</th>\n",
       "      <th></th>\n",
       "      <th></th>\n",
       "    </tr>\n",
       "  </thead>\n",
       "  <tbody>\n",
       "    <tr>\n",
       "      <th>Arab World</th>\n",
       "      <td>2014</td>\n",
       "      <td>88.9647</td>\n",
       "    </tr>\n",
       "    <tr>\n",
       "      <th>East Asia &amp; Pacific</th>\n",
       "      <td>2014</td>\n",
       "      <td>99.0044</td>\n",
       "    </tr>\n",
       "    <tr>\n",
       "      <th>East Asia &amp; Pacific (excluding high income)</th>\n",
       "      <td>2014</td>\n",
       "      <td>98.9691</td>\n",
       "    </tr>\n",
       "    <tr>\n",
       "      <th>Euro area</th>\n",
       "      <td>NaN</td>\n",
       "      <td>NaN</td>\n",
       "    </tr>\n",
       "    <tr>\n",
       "      <th>Europe &amp; Central Asia</th>\n",
       "      <td>2014</td>\n",
       "      <td>99.7114</td>\n",
       "    </tr>\n",
       "    <tr>\n",
       "      <th>...</th>\n",
       "      <td>...</td>\n",
       "      <td>...</td>\n",
       "    </tr>\n",
       "    <tr>\n",
       "      <th>Virgin Islands (U.S.)</th>\n",
       "      <td>NaN</td>\n",
       "      <td>NaN</td>\n",
       "    </tr>\n",
       "    <tr>\n",
       "      <th>West Bank and Gaza</th>\n",
       "      <td>2016</td>\n",
       "      <td>99.3837</td>\n",
       "    </tr>\n",
       "    <tr>\n",
       "      <th>Yemen, Rep.</th>\n",
       "      <td>1994</td>\n",
       "      <td>60.2221</td>\n",
       "    </tr>\n",
       "    <tr>\n",
       "      <th>Zambia</th>\n",
       "      <td>2010</td>\n",
       "      <td>88.7146</td>\n",
       "    </tr>\n",
       "    <tr>\n",
       "      <th>Zimbabwe</th>\n",
       "      <td>2014</td>\n",
       "      <td>90.4281</td>\n",
       "    </tr>\n",
       "  </tbody>\n",
       "</table>\n",
       "<p>241 rows × 2 columns</p>\n",
       "</div>"
      ],
      "text/plain": [
       "                                            Last statement Literacy rate\n",
       "Country                                                                 \n",
       "Arab World                                            2014       88.9647\n",
       "East Asia & Pacific                                   2014       99.0044\n",
       "East Asia & Pacific (excluding high income)           2014       98.9691\n",
       "Euro area                                              NaN           NaN\n",
       "Europe & Central Asia                                 2014       99.7114\n",
       "...                                                    ...           ...\n",
       "Virgin Islands (U.S.)                                  NaN           NaN\n",
       "West Bank and Gaza                                    2016       99.3837\n",
       "Yemen, Rep.                                           1994       60.2221\n",
       "Zambia                                                2010       88.7146\n",
       "Zimbabwe                                              2014       90.4281\n",
       "\n",
       "[241 rows x 2 columns]"
      ]
     },
     "execution_count": 198,
     "metadata": {},
     "output_type": "execute_result"
    }
   ],
   "source": [
    "lit_df"
   ]
  },
  {
   "cell_type": "code",
   "execution_count": 199,
   "metadata": {},
   "outputs": [],
   "source": [
    "lit_df['Valid'] = lit_df['Last statement'].map(data_qualification)"
   ]
  },
  {
   "cell_type": "code",
   "execution_count": 200,
   "metadata": {},
   "outputs": [
    {
     "data": {
      "text/plain": [
       "True     142\n",
       "False     99\n",
       "Name: Valid, dtype: int64"
      ]
     },
     "execution_count": 200,
     "metadata": {},
     "output_type": "execute_result"
    }
   ],
   "source": [
    "lit_df['Valid'].value_counts()"
   ]
  },
  {
   "cell_type": "code",
   "execution_count": 201,
   "metadata": {},
   "outputs": [
    {
     "data": {
      "image/png": "[encoded data removed]",
      "text/plain": [
       "<Figure size 432x432 with 1 Axes>"
      ]
     },
     "metadata": {},
     "output_type": "display_data"
    }
   ],
   "source": [
    "fig = plt.figure(figsize=(6,6))\n",
    "plt.title(\"Qualification des données de l'indicateur sur l'aphabetisation\\n{}\\n\".format(code_indic_literacy), fontsize=16)\n",
    "plt.pie(lit_df['Valid'].value_counts(), labels=['Données valides', 'Données Manquantes ou obsolètes'], \n",
    "        colors=['#68C385', '#EE7352'], autopct='%1.1f%%', textprops={'fontsize': 14},\n",
    "        shadow=True, wedgeprops={'linewidth':1, 'edgecolor':'black'})\n",
    "plt.axis('equal')\n",
    "plt.show()"
   ]
  },
  {
   "cell_type": "code",
   "execution_count": 202,
   "metadata": {},
   "outputs": [
    {
     "data": {
      "text/html": [
       "<div>\n",
       "<style scoped>\n",
       "    .dataframe tbody tr th:only-of-type {\n",
       "        vertical-align: middle;\n",
       "    }\n",
       "\n",
       "    .dataframe tbody tr th {\n",
       "        vertical-align: top;\n",
       "    }\n",
       "\n",
       "    .dataframe thead th {\n",
       "        text-align: right;\n",
       "    }\n",
       "</style>\n",
       "<table border=\"1\" class=\"dataframe\">\n",
       "  <thead>\n",
       "    <tr style=\"text-align: right;\">\n",
       "      <th></th>\n",
       "      <th>Last statement</th>\n",
       "      <th>Literacy rate</th>\n",
       "    </tr>\n",
       "  </thead>\n",
       "  <tbody>\n",
       "    <tr>\n",
       "      <th>count</th>\n",
       "      <td>184.000000</td>\n",
       "      <td>184.000000</td>\n",
       "    </tr>\n",
       "    <tr>\n",
       "      <th>mean</th>\n",
       "      <td>2009.788043</td>\n",
       "      <td>88.770548</td>\n",
       "    </tr>\n",
       "    <tr>\n",
       "      <th>std</th>\n",
       "      <td>8.258373</td>\n",
       "      <td>16.383599</td>\n",
       "    </tr>\n",
       "    <tr>\n",
       "      <th>min</th>\n",
       "      <td>1970.000000</td>\n",
       "      <td>23.523780</td>\n",
       "    </tr>\n",
       "    <tr>\n",
       "      <th>25%</th>\n",
       "      <td>2010.000000</td>\n",
       "      <td>84.931420</td>\n",
       "    </tr>\n",
       "    <tr>\n",
       "      <th>50%</th>\n",
       "      <td>2012.000000</td>\n",
       "      <td>97.928251</td>\n",
       "    </tr>\n",
       "    <tr>\n",
       "      <th>75%</th>\n",
       "      <td>2014.000000</td>\n",
       "      <td>99.237583</td>\n",
       "    </tr>\n",
       "    <tr>\n",
       "      <th>max</th>\n",
       "      <td>2016.000000</td>\n",
       "      <td>100.000000</td>\n",
       "    </tr>\n",
       "  </tbody>\n",
       "</table>\n",
       "</div>"
      ],
      "text/plain": [
       "       Last statement  Literacy rate\n",
       "count      184.000000     184.000000\n",
       "mean      2009.788043      88.770548\n",
       "std          8.258373      16.383599\n",
       "min       1970.000000      23.523780\n",
       "25%       2010.000000      84.931420\n",
       "50%       2012.000000      97.928251\n",
       "75%       2014.000000      99.237583\n",
       "max       2016.000000     100.000000"
      ]
     },
     "execution_count": 202,
     "metadata": {},
     "output_type": "execute_result"
    }
   ],
   "source": [
    "get_describe(lit_df)"
   ]
  },
  {
   "cell_type": "code",
   "execution_count": 203,
   "metadata": {},
   "outputs": [],
   "source": [
    "last_statements = pd.Series(last_lit_years).value_counts()"
   ]
  },
  {
   "cell_type": "code",
   "execution_count": 204,
   "metadata": {},
   "outputs": [],
   "source": [
    "last_statements = last_statements.sort_values()"
   ]
  },
  {
   "cell_type": "code",
   "execution_count": 205,
   "metadata": {},
   "outputs": [
    {
     "data": {
      "text/html": [
       "\n",
       "    <div class=\"bk-root\">\n",
       "        <a href=\"https://bokeh.org\" target=\"_blank\" class=\"bk-logo bk-logo-small bk-logo-notebook\"></a>\n",
       "        <span id=\"1160\">Loading BokehJS ...</span>\n",
       "    </div>"
      ]
     },
     "metadata": {},
     "output_type": "display_data"
    },
    {
     "data": {
      "application/javascript": [
       "\n",
       "(function(root) {\n",
       "  function now() {\n",
       "    return new Date();\n",
       "  }\n",
       "\n",
       "  var force = true;\n",
       "\n",
       "  if (typeof root._bokeh_onload_callbacks === \"undefined\" || force === true) {\n",
       "    root._bokeh_onload_callbacks = [];\n",
       "    root._bokeh_is_loading = undefined;\n",
       "  }\n",
       "\n",
       "  var JS_MIME_TYPE = 'application/javascript';\n",
       "  var HTML_MIME_TYPE = 'text/html';\n",
       "  var EXEC_MIME_TYPE = 'application/vnd.bokehjs_exec.v0+json';\n",
       "  var CLASS_NAME = 'output_bokeh rendered_html';\n",
       "\n",
       "  /**\n",
       "   * Render data to the DOM node\n",
       "   */\n",
       "  function render(props, node) {\n",
       "    var script = document.createElement(\"script\");\n",
       "    node.appendChild(script);\n",
       "  }\n",
       "\n",
       "  /**\n",
       "   * Handle when an output is cleared or removed\n",
       "   */\n",
       "  function handleClearOutput(event, handle) {\n",
       "    var cell = handle.cell;\n",
       "\n",
       "    var id = cell.output_area._bokeh_element_id;\n",
       "    var server_id = cell.output_area._bokeh_server_id;\n",
       "    // Clean up Bokeh references\n",
       "    if (id != null && id in Bokeh.index) {\n",
       "      Bokeh.index[id].model.document.clear();\n",
       "      delete Bokeh.index[id];\n",
       "    }\n",
       "\n",
       "    if (server_id !== undefined) {\n",
       "      // Clean up Bokeh references\n",
       "      var cmd = \"from bokeh.io.state import curstate; print(curstate().uuid_to_server['\" + server_id + \"'].get_sessions()[0].document.roots[0]._id)\";\n",
       "      cell.notebook.kernel.execute(cmd, {\n",
       "        iopub: {\n",
       "          output: function(msg) {\n",
       "            var id = msg.content.text.trim();\n",
       "            if (id in Bokeh.index) {\n",
       "              Bokeh.index[id].model.document.clear();\n",
       "              delete Bokeh.index[id];\n",
       "            }\n",
       "          }\n",
       "        }\n",
       "      });\n",
       "      // Destroy server and session\n",
       "      var cmd = \"import bokeh.io.notebook as ion; ion.destroy_server('\" + server_id + \"')\";\n",
       "      cell.notebook.kernel.execute(cmd);\n",
       "    }\n",
       "  }\n",
       "\n",
       "  /**\n",
       "   * Handle when a new output is added\n",
       "   */\n",
       "  function handleAddOutput(event, handle) {\n",
       "    var output_area = handle.output_area;\n",
       "    var output = handle.output;\n",
       "\n",
       "    // limit handleAddOutput to display_data with EXEC_MIME_TYPE content only\n",
       "    if ((output.output_type != \"display_data\") || (!output.data.hasOwnProperty(EXEC_MIME_TYPE))) {\n",
       "      return\n",
       "    }\n",
       "\n",
       "    var toinsert = output_area.element.find(\".\" + CLASS_NAME.split(' ')[0]);\n",
       "\n",
       "    if (output.metadata[EXEC_MIME_TYPE][\"id\"] !== undefined) {\n",
       "      toinsert[toinsert.length - 1].firstChild.textContent = output.data[JS_MIME_TYPE];\n",
       "      // store reference to embed id on output_area\n",
       "      output_area._bokeh_element_id = output.metadata[EXEC_MIME_TYPE][\"id\"];\n",
       "    }\n",
       "    if (output.metadata[EXEC_MIME_TYPE][\"server_id\"] !== undefined) {\n",
       "      var bk_div = document.createElement(\"div\");\n",
       "      bk_div.innerHTML = output.data[HTML_MIME_TYPE];\n",
       "      var script_attrs = bk_div.children[0].attributes;\n",
       "      for (var i = 0; i < script_attrs.length; i++) {\n",
       "        toinsert[toinsert.length - 1].firstChild.setAttribute(script_attrs[i].name, script_attrs[i].value);\n",
       "        toinsert[toinsert.length - 1].firstChild.textContent = bk_div.children[0].textContent\n",
       "      }\n",
       "      // store reference to server id on output_area\n",
       "      output_area._bokeh_server_id = output.metadata[EXEC_MIME_TYPE][\"server_id\"];\n",
       "    }\n",
       "  }\n",
       "\n",
       "  function register_renderer(events, OutputArea) {\n",
       "\n",
       "    function append_mime(data, metadata, element) {\n",
       "      // create a DOM node to render to\n",
       "      var toinsert = this.create_output_subarea(\n",
       "        metadata,\n",
       "        CLASS_NAME,\n",
       "        EXEC_MIME_TYPE\n",
       "      );\n",
       "      this.keyboard_manager.register_events(toinsert);\n",
       "      // Render to node\n",
       "      var props = {data: data, metadata: metadata[EXEC_MIME_TYPE]};\n",
       "      render(props, toinsert[toinsert.length - 1]);\n",
       "      element.append(toinsert);\n",
       "      return toinsert\n",
       "    }\n",
       "\n",
       "    /* Handle when an output is cleared or removed */\n",
       "    events.on('clear_output.CodeCell', handleClearOutput);\n",
       "    events.on('delete.Cell', handleClearOutput);\n",
       "\n",
       "    /* Handle when a new output is added */\n",
       "    events.on('output_added.OutputArea', handleAddOutput);\n",
       "\n",
       "    /**\n",
       "     * Register the mime type and append_mime function with output_area\n",
       "     */\n",
       "    OutputArea.prototype.register_mime_type(EXEC_MIME_TYPE, append_mime, {\n",
       "      /* Is output safe? */\n",
       "      safe: true,\n",
       "      /* Index of renderer in `output_area.display_order` */\n",
       "      index: 0\n",
       "    });\n",
       "  }\n",
       "\n",
       "  // register the mime type if in Jupyter Notebook environment and previously unregistered\n",
       "  if (root.Jupyter !== undefined) {\n",
       "    var events = require('base/js/events');\n",
       "    var OutputArea = require('notebook/js/outputarea').OutputArea;\n",
       "\n",
       "    if (OutputArea.prototype.mime_types().indexOf(EXEC_MIME_TYPE) == -1) {\n",
       "      register_renderer(events, OutputArea);\n",
       "    }\n",
       "  }\n",
       "\n",
       "  \n",
       "  if (typeof (root._bokeh_timeout) === \"undefined\" || force === true) {\n",
       "    root._bokeh_timeout = Date.now() + 5000;\n",
       "    root._bokeh_failed_load = false;\n",
       "  }\n",
       "\n",
       "  var NB_LOAD_WARNING = {'data': {'text/html':\n",
       "     \"<div style='background-color: #fdd'>\\n\"+\n",
       "     \"<p>\\n\"+\n",
       "     \"BokehJS does not appear to have successfully loaded. If loading BokehJS from CDN, this \\n\"+\n",
       "     \"may be due to a slow or bad network connection. Possible fixes:\\n\"+\n",
       "     \"</p>\\n\"+\n",
       "     \"<ul>\\n\"+\n",
       "     \"<li>re-rerun `output_notebook()` to attempt to load from CDN again, or</li>\\n\"+\n",
       "     \"<li>use INLINE resources instead, as so:</li>\\n\"+\n",
       "     \"</ul>\\n\"+\n",
       "     \"<code>\\n\"+\n",
       "     \"from bokeh.resources import INLINE\\n\"+\n",
       "     \"output_notebook(resources=INLINE)\\n\"+\n",
       "     \"</code>\\n\"+\n",
       "     \"</div>\"}};\n",
       "\n",
       "  function display_loaded() {\n",
       "    var el = document.getElementById(\"1160\");\n",
       "    if (el != null) {\n",
       "      el.textContent = \"BokehJS is loading...\";\n",
       "    }\n",
       "    if (root.Bokeh !== undefined) {\n",
       "      if (el != null) {\n",
       "        el.textContent = \"BokehJS \" + root.Bokeh.version + \" successfully loaded.\";\n",
       "      }\n",
       "    } else if (Date.now() < root._bokeh_timeout) {\n",
       "      setTimeout(display_loaded, 100)\n",
       "    }\n",
       "  }\n",
       "\n",
       "\n",
       "  function run_callbacks() {\n",
       "    try {\n",
       "      root._bokeh_onload_callbacks.forEach(function(callback) {\n",
       "        if (callback != null)\n",
       "          callback();\n",
       "      });\n",
       "    } finally {\n",
       "      delete root._bokeh_onload_callbacks\n",
       "    }\n",
       "    console.debug(\"Bokeh: all callbacks have finished\");\n",
       "  }\n",
       "\n",
       "  function load_libs(css_urls, js_urls, callback) {\n",
       "    if (css_urls == null) css_urls = [];\n",
       "    if (js_urls == null) js_urls = [];\n",
       "\n",
       "    root._bokeh_onload_callbacks.push(callback);\n",
       "    if (root._bokeh_is_loading > 0) {\n",
       "      console.debug(\"Bokeh: BokehJS is being loaded, scheduling callback at\", now());\n",
       "      return null;\n",
       "    }\n",
       "    if (js_urls == null || js_urls.length === 0) {\n",
       "      run_callbacks();\n",
       "      return null;\n",
       "    }\n",
       "    console.debug(\"Bokeh: BokehJS not loaded, scheduling load and callback at\", now());\n",
       "    root._bokeh_is_loading = css_urls.length + js_urls.length;\n",
       "\n",
       "    function on_load() {\n",
       "      root._bokeh_is_loading--;\n",
       "      if (root._bokeh_is_loading === 0) {\n",
       "        console.debug(\"Bokeh: all BokehJS libraries/stylesheets loaded\");\n",
       "        run_callbacks()\n",
       "      }\n",
       "    }\n",
       "\n",
       "    function on_error() {\n",
       "      console.error(\"failed to load \" + url);\n",
       "    }\n",
       "\n",
       "    for (var i = 0; i < css_urls.length; i++) {\n",
       "      var url = css_urls[i];\n",
       "      const element = document.createElement(\"link\");\n",
       "      element.onload = on_load;\n",
       "      element.onerror = on_error;\n",
       "      element.rel = \"stylesheet\";\n",
       "      element.type = \"text/css\";\n",
       "      element.href = url;\n",
       "      console.debug(\"Bokeh: injecting link tag for BokehJS stylesheet: \", url);\n",
       "      document.body.appendChild(element);\n",
       "    }\n",
       "\n",
       "    const hashes = {\"https://cdn.bokeh.org/bokeh/release/bokeh-2.1.1.min.js\": \"kLr4fYcqcSpbuI95brIH3vnnYCquzzSxHPU6XGQCIkQRGJwhg0StNbj1eegrHs12\", \"https://cdn.bokeh.org/bokeh/release/bokeh-widgets-2.1.1.min.js\": \"xIGPmVtaOm+z0BqfSOMn4lOR6ciex448GIKG4eE61LsAvmGj48XcMQZtKcE/UXZe\", \"https://cdn.bokeh.org/bokeh/release/bokeh-tables-2.1.1.min.js\": \"Dc9u1wF/0zApGIWoBbH77iWEHtdmkuYWG839Uzmv8y8yBLXebjO9ZnERsde5Ln/P\", \"https://cdn.bokeh.org/bokeh/release/bokeh-gl-2.1.1.min.js\": \"cT9JaBz7GiRXdENrJLZNSC6eMNF3nh3fa5fTF51Svp+ukxPdwcU5kGXGPBgDCa2j\"};\n",
       "\n",
       "    for (var i = 0; i < js_urls.length; i++) {\n",
       "      var url = js_urls[i];\n",
       "      var element = document.createElement('script');\n",
       "      element.onload = on_load;\n",
       "      element.onerror = on_error;\n",
       "      element.async = false;\n",
       "      element.src = url;\n",
       "      if (url in hashes) {\n",
       "        element.crossOrigin = \"anonymous\";\n",
       "        element.integrity = \"sha384-\" + hashes[url];\n",
       "      }\n",
       "      console.debug(\"Bokeh: injecting script tag for BokehJS library: \", url);\n",
       "      document.head.appendChild(element);\n",
       "    }\n",
       "  };\n",
       "\n",
       "  function inject_raw_css(css) {\n",
       "    const element = document.createElement(\"style\");\n",
       "    element.appendChild(document.createTextNode(css));\n",
       "    document.body.appendChild(element);\n",
       "  }\n",
       "\n",
       "  \n",
       "  var js_urls = [\"https://cdn.bokeh.org/bokeh/release/bokeh-2.1.1.min.js\", \"https://cdn.bokeh.org/bokeh/release/bokeh-widgets-2.1.1.min.js\", \"https://cdn.bokeh.org/bokeh/release/bokeh-tables-2.1.1.min.js\", \"https://cdn.bokeh.org/bokeh/release/bokeh-gl-2.1.1.min.js\"];\n",
       "  var css_urls = [];\n",
       "  \n",
       "\n",
       "  var inline_js = [\n",
       "    function(Bokeh) {\n",
       "      Bokeh.set_log_level(\"info\");\n",
       "    },\n",
       "    function(Bokeh) {\n",
       "    \n",
       "    \n",
       "    }\n",
       "  ];\n",
       "\n",
       "  function run_inline_js() {\n",
       "    \n",
       "    if (root.Bokeh !== undefined || force === true) {\n",
       "      \n",
       "    for (var i = 0; i < inline_js.length; i++) {\n",
       "      inline_js[i].call(root, root.Bokeh);\n",
       "    }\n",
       "    if (force === true) {\n",
       "        display_loaded();\n",
       "      }} else if (Date.now() < root._bokeh_timeout) {\n",
       "      setTimeout(run_inline_js, 100);\n",
       "    } else if (!root._bokeh_failed_load) {\n",
       "      console.log(\"Bokeh: BokehJS failed to load within specified timeout.\");\n",
       "      root._bokeh_failed_load = true;\n",
       "    } else if (force !== true) {\n",
       "      var cell = $(document.getElementById(\"1160\")).parents('.cell').data().cell;\n",
       "      cell.output_area.append_execute_result(NB_LOAD_WARNING)\n",
       "    }\n",
       "\n",
       "  }\n",
       "\n",
       "  if (root._bokeh_is_loading === 0) {\n",
       "    console.debug(\"Bokeh: BokehJS loaded, going straight to plotting\");\n",
       "    run_inline_js();\n",
       "  } else {\n",
       "    load_libs(css_urls, js_urls, function() {\n",
       "      console.debug(\"Bokeh: BokehJS plotting callback run at\", now());\n",
       "      run_inline_js();\n",
       "    });\n",
       "  }\n",
       "}(window));"
      ],
      "application/vnd.bokehjs_load.v0+json": "\n(function(root) {\n  function now() {\n    return new Date();\n  }\n\n  var force = true;\n\n  if (typeof root._bokeh_onload_callbacks === \"undefined\" || force === true) {\n    root._bokeh_onload_callbacks = [];\n    root._bokeh_is_loading = undefined;\n  }\n\n  \n\n  \n  if (typeof (root._bokeh_timeout) === \"undefined\" || force === true) {\n    root._bokeh_timeout = Date.now() + 5000;\n    root._bokeh_failed_load = false;\n  }\n\n  var NB_LOAD_WARNING = {'data': {'text/html':\n     \"<div style='background-color: #fdd'>\\n\"+\n     \"<p>\\n\"+\n     \"BokehJS does not appear to have successfully loaded. If loading BokehJS from CDN, this \\n\"+\n     \"may be due to a slow or bad network connection. Possible fixes:\\n\"+\n     \"</p>\\n\"+\n     \"<ul>\\n\"+\n     \"<li>re-rerun `output_notebook()` to attempt to load from CDN again, or</li>\\n\"+\n     \"<li>use INLINE resources instead, as so:</li>\\n\"+\n     \"</ul>\\n\"+\n     \"<code>\\n\"+\n     \"from bokeh.resources import INLINE\\n\"+\n     \"output_notebook(resources=INLINE)\\n\"+\n     \"</code>\\n\"+\n     \"</div>\"}};\n\n  function display_loaded() {\n    var el = document.getElementById(\"1160\");\n    if (el != null) {\n      el.textContent = \"BokehJS is loading...\";\n    }\n    if (root.Bokeh !== undefined) {\n      if (el != null) {\n        el.textContent = \"BokehJS \" + root.Bokeh.version + \" successfully loaded.\";\n      }\n    } else if (Date.now() < root._bokeh_timeout) {\n      setTimeout(display_loaded, 100)\n    }\n  }\n\n\n  function run_callbacks() {\n    try {\n      root._bokeh_onload_callbacks.forEach(function(callback) {\n        if (callback != null)\n          callback();\n      });\n    } finally {\n      delete root._bokeh_onload_callbacks\n    }\n    console.debug(\"Bokeh: all callbacks have finished\");\n  }\n\n  function load_libs(css_urls, js_urls, callback) {\n    if (css_urls == null) css_urls = [];\n    if (js_urls == null) js_urls = [];\n\n    root._bokeh_onload_callbacks.push(callback);\n    if (root._bokeh_is_loading > 0) {\n      console.debug(\"Bokeh: BokehJS is being loaded, scheduling callback at\", now());\n      return null;\n    }\n    if (js_urls == null || js_urls.length === 0) {\n      run_callbacks();\n      return null;\n    }\n    console.debug(\"Bokeh: BokehJS not loaded, scheduling load and callback at\", now());\n    root._bokeh_is_loading = css_urls.length + js_urls.length;\n\n    function on_load() {\n      root._bokeh_is_loading--;\n      if (root._bokeh_is_loading === 0) {\n        console.debug(\"Bokeh: all BokehJS libraries/stylesheets loaded\");\n        run_callbacks()\n      }\n    }\n\n    function on_error() {\n      console.error(\"failed to load \" + url);\n    }\n\n    for (var i = 0; i < css_urls.length; i++) {\n      var url = css_urls[i];\n      const element = document.createElement(\"link\");\n      element.onload = on_load;\n      element.onerror = on_error;\n      element.rel = \"stylesheet\";\n      element.type = \"text/css\";\n      element.href = url;\n      console.debug(\"Bokeh: injecting link tag for BokehJS stylesheet: \", url);\n      document.body.appendChild(element);\n    }\n\n    const hashes = {\"https://cdn.bokeh.org/bokeh/release/bokeh-2.1.1.min.js\": \"kLr4fYcqcSpbuI95brIH3vnnYCquzzSxHPU6XGQCIkQRGJwhg0StNbj1eegrHs12\", \"https://cdn.bokeh.org/bokeh/release/bokeh-widgets-2.1.1.min.js\": \"xIGPmVtaOm+z0BqfSOMn4lOR6ciex448GIKG4eE61LsAvmGj48XcMQZtKcE/UXZe\", \"https://cdn.bokeh.org/bokeh/release/bokeh-tables-2.1.1.min.js\": \"Dc9u1wF/0zApGIWoBbH77iWEHtdmkuYWG839Uzmv8y8yBLXebjO9ZnERsde5Ln/P\", \"https://cdn.bokeh.org/bokeh/release/bokeh-gl-2.1.1.min.js\": \"cT9JaBz7GiRXdENrJLZNSC6eMNF3nh3fa5fTF51Svp+ukxPdwcU5kGXGPBgDCa2j\"};\n\n    for (var i = 0; i < js_urls.length; i++) {\n      var url = js_urls[i];\n      var element = document.createElement('script');\n      element.onload = on_load;\n      element.onerror = on_error;\n      element.async = false;\n      element.src = url;\n      if (url in hashes) {\n        element.crossOrigin = \"anonymous\";\n        element.integrity = \"sha384-\" + hashes[url];\n      }\n      console.debug(\"Bokeh: injecting script tag for BokehJS library: \", url);\n      document.head.appendChild(element);\n    }\n  };\n\n  function inject_raw_css(css) {\n    const element = document.createElement(\"style\");\n    element.appendChild(document.createTextNode(css));\n    document.body.appendChild(element);\n  }\n\n  \n  var js_urls = [\"https://cdn.bokeh.org/bokeh/release/bokeh-2.1.1.min.js\", \"https://cdn.bokeh.org/bokeh/release/bokeh-widgets-2.1.1.min.js\", \"https://cdn.bokeh.org/bokeh/release/bokeh-tables-2.1.1.min.js\", \"https://cdn.bokeh.org/bokeh/release/bokeh-gl-2.1.1.min.js\"];\n  var css_urls = [];\n  \n\n  var inline_js = [\n    function(Bokeh) {\n      Bokeh.set_log_level(\"info\");\n    },\n    function(Bokeh) {\n    \n    \n    }\n  ];\n\n  function run_inline_js() {\n    \n    if (root.Bokeh !== undefined || force === true) {\n      \n    for (var i = 0; i < inline_js.length; i++) {\n      inline_js[i].call(root, root.Bokeh);\n    }\n    if (force === true) {\n        display_loaded();\n      }} else if (Date.now() < root._bokeh_timeout) {\n      setTimeout(run_inline_js, 100);\n    } else if (!root._bokeh_failed_load) {\n      console.log(\"Bokeh: BokehJS failed to load within specified timeout.\");\n      root._bokeh_failed_load = true;\n    } else if (force !== true) {\n      var cell = $(document.getElementById(\"1160\")).parents('.cell').data().cell;\n      cell.output_area.append_execute_result(NB_LOAD_WARNING)\n    }\n\n  }\n\n  if (root._bokeh_is_loading === 0) {\n    console.debug(\"Bokeh: BokehJS loaded, going straight to plotting\");\n    run_inline_js();\n  } else {\n    load_libs(css_urls, js_urls, function() {\n      console.debug(\"Bokeh: BokehJS plotting callback run at\", now());\n      run_inline_js();\n    });\n  }\n}(window));"
     },
     "metadata": {},
     "output_type": "display_data"
    },
    {
     "data": {
      "text/html": [
       "\n",
       "\n",
       "\n",
       "\n",
       "\n",
       "\n",
       "  <div class=\"bk-root\" id=\"adb2074e-c6b2-4ef8-aada-c426d55a3178\" data-root-id=\"1162\"></div>\n"
      ]
     },
     "metadata": {},
     "output_type": "display_data"
    },
    {
     "data": {
      "application/javascript": [
       "(function(root) {\n",
       "  function embed_document(root) {\n",
       "    \n",
       "  var docs_json = {\"2d720b04-3c9a-4fd1-9fb5-f4f143782fa4\":{\"roots\":{\"references\":[{\"attributes\":{\"below\":[{\"id\":\"1173\"}],\"center\":[{\"id\":\"1176\"},{\"id\":\"1179\"},{\"id\":\"1186\"}],\"left\":[{\"id\":\"1177\"}],\"plot_height\":350,\"renderers\":[{\"id\":\"1184\"}],\"title\":{\"id\":\"1163\"},\"toolbar\":{\"id\":\"1180\"},\"toolbar_location\":null,\"x_range\":{\"id\":\"1165\"},\"x_scale\":{\"id\":\"1169\"},\"y_range\":{\"id\":\"1167\"},\"y_scale\":{\"id\":\"1171\"}},\"id\":\"1162\",\"subtype\":\"Figure\",\"type\":\"Plot\"},{\"attributes\":{},\"id\":\"1206\",\"type\":\"UnionRenderers\"},{\"attributes\":{\"fill_alpha\":{\"value\":0.1},\"fill_color\":{\"value\":\"#b3de69\"},\"height\":{\"value\":0.5},\"line_alpha\":{\"value\":0.1},\"line_color\":{\"value\":\"#1f77b4\"},\"right\":{\"field\":\"right\"},\"y\":{\"field\":\"y\"}},\"id\":\"1183\",\"type\":\"HBar\"},{\"attributes\":{},\"id\":\"1207\",\"type\":\"Selection\"},{\"attributes\":{\"data_source\":{\"id\":\"1161\"},\"glyph\":{\"id\":\"1182\"},\"hover_glyph\":null,\"muted_glyph\":null,\"nonselection_glyph\":{\"id\":\"1183\"},\"selection_glyph\":null,\"view\":{\"id\":\"1185\"}},\"id\":\"1184\",\"type\":\"GlyphRenderer\"},{\"attributes\":{},\"id\":\"1202\",\"type\":\"CategoricalTickFormatter\"},{\"attributes\":{},\"id\":\"1204\",\"type\":\"BasicTickFormatter\"},{\"attributes\":{\"formatter\":{\"id\":\"1204\"},\"ticker\":{\"id\":\"1174\"}},\"id\":\"1173\",\"type\":\"LinearAxis\"},{\"attributes\":{\"source\":{\"id\":\"1161\"}},\"id\":\"1185\",\"type\":\"CDSView\"},{\"attributes\":{\"factors\":[\"1980\",\"2004\",\"1983\",\"2002\",\"2006\",\"1989\",\"1999\",\"2003\",\"1995\",\"1991\",\"1990\",\"2005\",\"2000\",\"1970\",\"2007\",\"1994\",\"2009\",\"2008\",\"2013\",\"2012\",\"2016\",\"2010\",\"2015\",\"2011\",\"2014\"]},\"id\":\"1167\",\"type\":\"FactorRange\"},{\"attributes\":{\"text\":\"Aper\\u00e7cu de la fraicheur des donn\\u00e9es sur l'alphabetisation\"},\"id\":\"1163\",\"type\":\"Title\"},{\"attributes\":{},\"id\":\"1174\",\"type\":\"BasicTicker\"},{\"attributes\":{},\"id\":\"1169\",\"type\":\"LinearScale\"},{\"attributes\":{},\"id\":\"1171\",\"type\":\"CategoricalScale\"},{\"attributes\":{\"end\":48},\"id\":\"1165\",\"type\":\"Range1d\"},{\"attributes\":{\"data\":{\"right\":[1,1,1,1,1,1,1,1,1,2,2,2,3,3,4,5,6,6,9,16,17,17,20,25,38],\"y\":[\"1980\",\"2004\",\"1983\",\"2002\",\"2006\",\"1989\",\"1999\",\"2003\",\"1995\",\"1991\",\"1990\",\"2005\",\"2000\",\"1970\",\"2007\",\"1994\",\"2009\",\"2008\",\"2013\",\"2012\",\"2016\",\"2010\",\"2015\",\"2011\",\"2014\"]},\"selected\":{\"id\":\"1207\"},\"selection_policy\":{\"id\":\"1206\"}},\"id\":\"1161\",\"type\":\"ColumnDataSource\"},{\"attributes\":{\"text\":\"here your text\",\"x\":100,\"y\":70},\"id\":\"1186\",\"type\":\"Label\"},{\"attributes\":{\"axis\":{\"id\":\"1173\"},\"ticker\":null},\"id\":\"1176\",\"type\":\"Grid\"},{\"attributes\":{\"formatter\":{\"id\":\"1202\"},\"ticker\":{\"id\":\"1178\"}},\"id\":\"1177\",\"type\":\"CategoricalAxis\"},{\"attributes\":{\"fill_color\":{\"value\":\"#b3de69\"},\"height\":{\"value\":0.5},\"line_color\":{\"value\":\"#1f77b4\"},\"right\":{\"field\":\"right\"},\"y\":{\"field\":\"y\"}},\"id\":\"1182\",\"type\":\"HBar\"},{\"attributes\":{\"axis\":{\"id\":\"1177\"},\"dimension\":1,\"ticker\":null},\"id\":\"1179\",\"type\":\"Grid\"},{\"attributes\":{},\"id\":\"1178\",\"type\":\"CategoricalTicker\"},{\"attributes\":{\"active_drag\":\"auto\",\"active_inspect\":\"auto\",\"active_multi\":null,\"active_scroll\":\"auto\",\"active_tap\":\"auto\"},\"id\":\"1180\",\"type\":\"Toolbar\"}],\"root_ids\":[\"1162\"]},\"title\":\"Bokeh Application\",\"version\":\"2.1.1\"}};\n",
       "  var render_items = [{\"docid\":\"2d720b04-3c9a-4fd1-9fb5-f4f143782fa4\",\"root_ids\":[\"1162\"],\"roots\":{\"1162\":\"adb2074e-c6b2-4ef8-aada-c426d55a3178\"}}];\n",
       "  root.Bokeh.embed.embed_items_notebook(docs_json, render_items);\n",
       "\n",
       "  }\n",
       "  if (root.Bokeh !== undefined) {\n",
       "    embed_document(root);\n",
       "  } else {\n",
       "    var attempts = 0;\n",
       "    var timer = setInterval(function(root) {\n",
       "      if (root.Bokeh !== undefined) {\n",
       "        clearInterval(timer);\n",
       "        embed_document(root);\n",
       "      } else {\n",
       "        attempts++;\n",
       "        if (attempts > 100) {\n",
       "          clearInterval(timer);\n",
       "          console.log(\"Bokeh: ERROR: Unable to run BokehJS code because BokehJS library is missing\");\n",
       "        }\n",
       "      }\n",
       "    }, 10, root)\n",
       "  }\n",
       "})(window);"
      ],
      "application/vnd.bokehjs_exec.v0+json": ""
     },
     "metadata": {
      "application/vnd.bokehjs_exec.v0+json": {
       "id": "1162"
      }
     },
     "output_type": "display_data"
    }
   ],
   "source": [
    "output_notebook()\n",
    "\n",
    "# y= [float(statement) for statement in last_statements.index.values]\n",
    "y = list(last_statements.index.values)\n",
    "x = last_statements.values\n",
    "\n",
    "source = ColumnDataSource(data=dict(y=y, right=x,))\n",
    "\n",
    "plot = figure(x_range=(0,max(last_statements.values) + 10), y_range=y, plot_height=350, title=\"Aperçcu de la fraicheur des données sur l'alphabetisation\",\n",
    "           toolbar_location=None, tools=\"\")\n",
    "\n",
    "plot.hbar(y=\"y\", right=\"right\", left=0, height=0.5, fill_color=\"#b3de69\", source=source)\n",
    "mytext = Label(x=100, y=70, text='here your text')\n",
    "plot.add_layout(mytext)\n",
    "\n",
    "show(plot)"
   ]
  },
  {
   "cell_type": "markdown",
   "metadata": {},
   "source": [
    "Cette donnée sur la literacy est beaucoup plus irrégulière. il faudra y faire attention"
   ]
  },
  {
   "cell_type": "markdown",
   "metadata": {},
   "source": [
    "Que faire des pays non renseignés? +50 pays sans relevés"
   ]
  },
  {
   "cell_type": "code",
   "execution_count": 206,
   "metadata": {},
   "outputs": [
    {
     "name": "stderr",
     "output_type": "stream",
     "text": [
      "<ipython-input-206-96466c2016e7>:2: SettingWithCopyWarning: \n",
      "A value is trying to be set on a copy of a slice from a DataFrame.\n",
      "Try using .loc[row_indexer,col_indexer] = value instead\n",
      "\n",
      "See the caveats in the documentation: https://pandas.pydata.org/pandas-docs/stable/user_guide/indexing.html#returning-a-view-versus-a-copy\n",
      "  lit_suffisant_df['Last statement'] = lit_suffisant_df['Last statement'].map(float)\n"
     ]
    }
   ],
   "source": [
    "lit_suffisant_df = lit_df.dropna()\n",
    "lit_suffisant_df['Last statement'] = lit_suffisant_df['Last statement'].map(float)\n",
    "lit_suffisant_df = lit_suffisant_df[lit_suffisant_df['Last statement'] >= 2010]"
   ]
  },
  {
   "cell_type": "code",
   "execution_count": 207,
   "metadata": {},
   "outputs": [
    {
     "data": {
      "text/html": [
       "<div>\n",
       "<style scoped>\n",
       "    .dataframe tbody tr th:only-of-type {\n",
       "        vertical-align: middle;\n",
       "    }\n",
       "\n",
       "    .dataframe tbody tr th {\n",
       "        vertical-align: top;\n",
       "    }\n",
       "\n",
       "    .dataframe thead th {\n",
       "        text-align: right;\n",
       "    }\n",
       "</style>\n",
       "<table border=\"1\" class=\"dataframe\">\n",
       "  <thead>\n",
       "    <tr style=\"text-align: right;\">\n",
       "      <th></th>\n",
       "      <th>Last statement</th>\n",
       "    </tr>\n",
       "  </thead>\n",
       "  <tbody>\n",
       "    <tr>\n",
       "      <th>count</th>\n",
       "      <td>142.000000</td>\n",
       "    </tr>\n",
       "    <tr>\n",
       "      <th>mean</th>\n",
       "      <td>2013.084507</td>\n",
       "    </tr>\n",
       "    <tr>\n",
       "      <th>std</th>\n",
       "      <td>1.955146</td>\n",
       "    </tr>\n",
       "    <tr>\n",
       "      <th>min</th>\n",
       "      <td>2010.000000</td>\n",
       "    </tr>\n",
       "    <tr>\n",
       "      <th>25%</th>\n",
       "      <td>2011.000000</td>\n",
       "    </tr>\n",
       "    <tr>\n",
       "      <th>50%</th>\n",
       "      <td>2014.000000</td>\n",
       "    </tr>\n",
       "    <tr>\n",
       "      <th>75%</th>\n",
       "      <td>2015.000000</td>\n",
       "    </tr>\n",
       "    <tr>\n",
       "      <th>max</th>\n",
       "      <td>2016.000000</td>\n",
       "    </tr>\n",
       "  </tbody>\n",
       "</table>\n",
       "</div>"
      ],
      "text/plain": [
       "       Last statement\n",
       "count      142.000000\n",
       "mean      2013.084507\n",
       "std          1.955146\n",
       "min       2010.000000\n",
       "25%       2011.000000\n",
       "50%       2014.000000\n",
       "75%       2015.000000\n",
       "max       2016.000000"
      ]
     },
     "execution_count": 207,
     "metadata": {},
     "output_type": "execute_result"
    }
   ],
   "source": [
    "lit_suffisant_df.describe()"
   ]
  },
  {
   "cell_type": "code",
   "execution_count": 208,
   "metadata": {},
   "outputs": [
    {
     "data": {
      "text/plain": [
       "67.5773078918457"
      ]
     },
     "execution_count": 208,
     "metadata": {},
     "output_type": "execute_result"
    }
   ],
   "source": [
    "percentile_25 = lit_suffisant_df['Literacy rate'].quantile(0.1)\n",
    "percentile_25"
   ]
  },
  {
   "cell_type": "markdown",
   "metadata": {},
   "source": [
    "J'ai ajusté ici le seuil car le taux de literacy est plutôt haut pour la plupart des pays"
   ]
  },
  {
   "cell_type": "code",
   "execution_count": 209,
   "metadata": {},
   "outputs": [],
   "source": [
    "lit_suffisant_df = lit_suffisant_df[lit_suffisant_df['Literacy rate'] > percentile_25]"
   ]
  },
  {
   "cell_type": "code",
   "execution_count": 210,
   "metadata": {},
   "outputs": [],
   "source": [
    "pays_lit_suffisantes = lit_suffisant_df.index.values"
   ]
  },
  {
   "cell_type": "code",
   "execution_count": 211,
   "metadata": {},
   "outputs": [
    {
     "data": {
      "text/plain": [
       "127"
      ]
     },
     "execution_count": 211,
     "metadata": {},
     "output_type": "execute_result"
    }
   ],
   "source": [
    "len(pays_lit_suffisantes)"
   ]
  },
  {
   "cell_type": "markdown",
   "metadata": {},
   "source": [
    "Nous avons récupéré les pays dont la population est suffisament lettrée"
   ]
  },
  {
   "cell_type": "markdown",
   "metadata": {},
   "source": [
    "Pour mettre à jour notre selection on peut faire une nouvelle intersection"
   ]
  },
  {
   "cell_type": "code",
   "execution_count": 212,
   "metadata": {},
   "outputs": [
    {
     "data": {
      "text/plain": [
       "array(['Arab World', 'East Asia & Pacific',\n",
       "       'East Asia & Pacific (excluding high income)',\n",
       "       'Europe & Central Asia',\n",
       "       'Europe & Central Asia (excluding high income)',\n",
       "       'Heavily indebted poor countries (HIPC)',\n",
       "       'Latin America & Caribbean',\n",
       "       'Latin America & Caribbean (excluding high income)',\n",
       "       'Least developed countries: UN classification',\n",
       "       'Low & middle income', 'Lower middle income',\n",
       "       'Middle East & North Africa',\n",
       "       'Middle East & North Africa (excluding high income)',\n",
       "       'Middle income', 'South Asia', 'Sub-Saharan Africa',\n",
       "       'Sub-Saharan Africa (excluding high income)',\n",
       "       'Upper middle income', 'World', 'Albania', 'Andorra', 'Angola',\n",
       "       'Argentina', 'Armenia', 'Aruba', 'Azerbaijan', 'Bahrain',\n",
       "       'Bangladesh', 'Bhutan', 'Bolivia', 'Bosnia and Herzegovina',\n",
       "       'Brazil', 'Brunei Darussalam', 'Bulgaria', 'Burundi', 'Cabo Verde',\n",
       "       'Cameroon', 'Chile', 'China', 'Colombia', 'Comoros',\n",
       "       'Congo, Dem. Rep.', 'Congo, Rep.', 'Costa Rica', 'Croatia', 'Cuba',\n",
       "       'Cyprus', 'Dominican Republic', 'Ecuador', 'Egypt, Arab Rep.',\n",
       "       'El Salvador', 'Estonia', 'Gabon', 'Georgia', 'Ghana', 'Greece',\n",
       "       'Greenland', 'Guatemala', 'Guyana', 'Honduras', 'India',\n",
       "       'Indonesia', 'Iran, Islamic Rep.', 'Italy', 'Jordan', 'Kazakhstan',\n",
       "       'Kenya', 'Kuwait', 'Lao PDR', 'Latvia', 'Lesotho', 'Lithuania',\n",
       "       'Macao SAR, China', 'Madagascar', 'Malawi', 'Malaysia', 'Maldives',\n",
       "       'Malta', 'Marshall Islands', 'Mauritius', 'Mexico', 'Moldova',\n",
       "       'Mongolia', 'Montenegro', 'Morocco', 'Myanmar', 'Namibia', 'Nepal',\n",
       "       'Oman', 'Pakistan', 'Palau', 'Panama', 'Paraguay', 'Peru',\n",
       "       'Philippines', 'Portugal', 'Puerto Rico', 'Qatar', 'Romania',\n",
       "       'Russian Federation', 'Rwanda', 'Samoa', 'Sao Tome and Principe',\n",
       "       'Saudi Arabia', 'Serbia', 'Seychelles', 'Singapore',\n",
       "       'South Africa', 'Spain', 'Sri Lanka', 'Suriname', 'Swaziland',\n",
       "       'Tanzania', 'Thailand', 'Timor-Leste', 'Togo', 'Tonga', 'Tunisia',\n",
       "       'Turkey', 'Uganda', 'Ukraine', 'Uruguay', 'Uzbekistan',\n",
       "       'Venezuela, RB', 'West Bank and Gaza', 'Zambia', 'Zimbabwe'],\n",
       "      dtype=object)"
      ]
     },
     "execution_count": 212,
     "metadata": {},
     "output_type": "execute_result"
    }
   ],
   "source": [
    "pays_lit_suffisantes"
   ]
  },
  {
   "cell_type": "code",
   "execution_count": 213,
   "metadata": {},
   "outputs": [
    {
     "data": {
      "text/plain": [
       "['Singapore',\n",
       " 'Spain',\n",
       " 'Qatar',\n",
       " 'Kuwait',\n",
       " 'Latvia',\n",
       " 'Malaysia',\n",
       " 'Russian Federation',\n",
       " 'Bahrain',\n",
       " 'Puerto Rico',\n",
       " 'Estonia',\n",
       " 'Kazakhstan',\n",
       " 'Azerbaijan']"
      ]
     },
     "execution_count": 213,
     "metadata": {},
     "output_type": "execute_result"
    }
   ],
   "source": [
    "pays_selection = list(set(pays_selection).intersection(set(pays_lit_suffisantes)))\n",
    "pays_selection"
   ]
  },
  {
   "cell_type": "code",
   "execution_count": 214,
   "metadata": {},
   "outputs": [
    {
     "data": {
      "text/plain": [
       "12"
      ]
     },
     "execution_count": 214,
     "metadata": {},
     "output_type": "execute_result"
    }
   ],
   "source": [
    "len(pays_selection)"
   ]
  },
  {
   "cell_type": "markdown",
   "metadata": {},
   "source": [
    "Cette liste constitue un premier resultat interessant. On identifie des pays emergeant et developpés. Cependant la méthode utilisée est très critiquable car elle elimine a chaque nouveau paramètre évalué les pays dont on n'a pas la donnée. Par ailleurs, je note ici l'absence du Brésil qui est à mon avis un pays très important et qui ne passe pas le filtre du paramêtre internet."
   ]
  },
  {
   "cell_type": "markdown",
   "metadata": {},
   "source": [
    "## Critère GDP "
   ]
  },
  {
   "cell_type": "markdown",
   "metadata": {},
   "source": [
    "#### On veut investir dans un pays qui a un minimum d'activités économiques"
   ]
  },
  {
   "cell_type": "code",
   "execution_count": 215,
   "metadata": {},
   "outputs": [],
   "source": [
    "code_indic_gdp = 'NY.GDP.MKTP.CD'\n",
    "data_gdp = data[data['Indicator Code'] == code_indic_gdp]"
   ]
  },
  {
   "cell_type": "code",
   "execution_count": 216,
   "metadata": {},
   "outputs": [
    {
     "data": {
      "text/plain": [
       "241"
      ]
     },
     "execution_count": 216,
     "metadata": {},
     "output_type": "execute_result"
    }
   ],
   "source": [
    "len(data_gdp['Country Name'].unique())"
   ]
  },
  {
   "cell_type": "code",
   "execution_count": 217,
   "metadata": {},
   "outputs": [],
   "source": [
    "last_gdp_values = []\n",
    "last_gdp_years = []\n",
    "for country in data_gdp[\"Country Name\"].unique():\n",
    "    last_gdp_year = get_last_statement(code_indic_gdp, country)\n",
    "    if last_gdp_year == None:\n",
    "        last_gdp_years.append(np.nan)\n",
    "        last_gdp_values.append(np.nan)\n",
    "    else:\n",
    "        last_gdp_years.append(last_gdp_year)\n",
    "        last_gdp_value = data_gdp[(data_gdp['Indicator Code'] == code_indic_gdp) & (data_gdp['Country Name'] == country)][last_gdp_year].iloc[0]\n",
    "        last_gdp_values.append(last_gdp_value)"
   ]
  },
  {
   "cell_type": "code",
   "execution_count": 218,
   "metadata": {},
   "outputs": [],
   "source": [
    "gdp_df = pd.DataFrame([data_gdp['Country Name'].unique(), last_gdp_years, last_gdp_values])"
   ]
  },
  {
   "cell_type": "code",
   "execution_count": 219,
   "metadata": {},
   "outputs": [],
   "source": [
    "gdp_df = gdp_df.T"
   ]
  },
  {
   "cell_type": "code",
   "execution_count": 220,
   "metadata": {},
   "outputs": [],
   "source": [
    "gdp_df = gdp_df.rename(columns={0: 'Country', 1: \"Last statement\", 2: \"GDP\"})"
   ]
  },
  {
   "cell_type": "code",
   "execution_count": 221,
   "metadata": {},
   "outputs": [],
   "source": [
    "gdp_df = gdp_df.set_index('Country')"
   ]
  },
  {
   "cell_type": "code",
   "execution_count": 222,
   "metadata": {},
   "outputs": [],
   "source": [
    "gdp_df['Valid'] = gdp_df['Last statement'].map(data_qualification)"
   ]
  },
  {
   "cell_type": "code",
   "execution_count": 223,
   "metadata": {},
   "outputs": [
    {
     "data": {
      "text/plain": [
       "True     229\n",
       "False     12\n",
       "Name: Valid, dtype: int64"
      ]
     },
     "execution_count": 223,
     "metadata": {},
     "output_type": "execute_result"
    }
   ],
   "source": [
    "gdp_df['Valid'].value_counts()"
   ]
  },
  {
   "cell_type": "code",
   "execution_count": 224,
   "metadata": {},
   "outputs": [
    {
     "data": {
      "image/png": "[encoded data removed]",
      "text/plain": [
       "<Figure size 432x432 with 1 Axes>"
      ]
     },
     "metadata": {},
     "output_type": "display_data"
    }
   ],
   "source": [
    "fig = plt.figure(figsize=(6,6))\n",
    "plt.title(\"Qualification des données de l'indicateur sur le PIB\\n{}\\n\".format(code_indic_gdp), fontsize=16)\n",
    "plt.pie(gdp_df['Valid'].value_counts(), labels=['Données valides', 'Données Manquantes ou obsolètes'], \n",
    "        colors=['#68C385', '#EE7352'], autopct='%1.1f%%', textprops={'fontsize': 14},\n",
    "        shadow=True, wedgeprops={'linewidth':1, 'edgecolor':'black'})\n",
    "plt.axis('equal')\n",
    "plt.show()"
   ]
  },
  {
   "cell_type": "code",
   "execution_count": 225,
   "metadata": {},
   "outputs": [
    {
     "data": {
      "text/html": [
       "<div>\n",
       "<style scoped>\n",
       "    .dataframe tbody tr th:only-of-type {\n",
       "        vertical-align: middle;\n",
       "    }\n",
       "\n",
       "    .dataframe tbody tr th {\n",
       "        vertical-align: top;\n",
       "    }\n",
       "\n",
       "    .dataframe thead th {\n",
       "        text-align: right;\n",
       "    }\n",
       "</style>\n",
       "<table border=\"1\" class=\"dataframe\">\n",
       "  <thead>\n",
       "    <tr style=\"text-align: right;\">\n",
       "      <th></th>\n",
       "      <th>Last statement</th>\n",
       "      <th>GDP</th>\n",
       "    </tr>\n",
       "  </thead>\n",
       "  <tbody>\n",
       "    <tr>\n",
       "      <th>count</th>\n",
       "      <td>234.000000</td>\n",
       "      <td>2.340000e+02</td>\n",
       "    </tr>\n",
       "    <tr>\n",
       "      <th>mean</th>\n",
       "      <td>2015.542735</td>\n",
       "      <td>1.981040e+12</td>\n",
       "    </tr>\n",
       "    <tr>\n",
       "      <th>std</th>\n",
       "      <td>1.954496</td>\n",
       "      <td>7.763468e+12</td>\n",
       "    </tr>\n",
       "    <tr>\n",
       "      <th>min</th>\n",
       "      <td>2000.000000</td>\n",
       "      <td>3.421888e+07</td>\n",
       "    </tr>\n",
       "    <tr>\n",
       "      <th>25%</th>\n",
       "      <td>2016.000000</td>\n",
       "      <td>6.674796e+09</td>\n",
       "    </tr>\n",
       "    <tr>\n",
       "      <th>50%</th>\n",
       "      <td>2016.000000</td>\n",
       "      <td>3.711016e+10</td>\n",
       "    </tr>\n",
       "    <tr>\n",
       "      <th>75%</th>\n",
       "      <td>2016.000000</td>\n",
       "      <td>3.150335e+11</td>\n",
       "    </tr>\n",
       "    <tr>\n",
       "      <th>max</th>\n",
       "      <td>2016.000000</td>\n",
       "      <td>7.584511e+13</td>\n",
       "    </tr>\n",
       "  </tbody>\n",
       "</table>\n",
       "</div>"
      ],
      "text/plain": [
       "       Last statement           GDP\n",
       "count      234.000000  2.340000e+02\n",
       "mean      2015.542735  1.981040e+12\n",
       "std          1.954496  7.763468e+12\n",
       "min       2000.000000  3.421888e+07\n",
       "25%       2016.000000  6.674796e+09\n",
       "50%       2016.000000  3.711016e+10\n",
       "75%       2016.000000  3.150335e+11\n",
       "max       2016.000000  7.584511e+13"
      ]
     },
     "execution_count": 225,
     "metadata": {},
     "output_type": "execute_result"
    }
   ],
   "source": [
    "get_describe(gdp_df)"
   ]
  },
  {
   "cell_type": "code",
   "execution_count": 226,
   "metadata": {},
   "outputs": [],
   "source": [
    "last_statements = pd.Series(last_gdp_years).value_counts()"
   ]
  },
  {
   "cell_type": "code",
   "execution_count": 227,
   "metadata": {},
   "outputs": [],
   "source": [
    "last_statements = last_statements.sort_values()"
   ]
  },
  {
   "cell_type": "code",
   "execution_count": 228,
   "metadata": {},
   "outputs": [
    {
     "data": {
      "text/html": [
       "\n",
       "    <div class=\"bk-root\">\n",
       "        <a href=\"https://bokeh.org\" target=\"_blank\" class=\"bk-logo bk-logo-small bk-logo-notebook\"></a>\n",
       "        <span id=\"1250\">Loading BokehJS ...</span>\n",
       "    </div>"
      ]
     },
     "metadata": {},
     "output_type": "display_data"
    },
    {
     "data": {
      "application/javascript": [
       "\n",
       "(function(root) {\n",
       "  function now() {\n",
       "    return new Date();\n",
       "  }\n",
       "\n",
       "  var force = true;\n",
       "\n",
       "  if (typeof root._bokeh_onload_callbacks === \"undefined\" || force === true) {\n",
       "    root._bokeh_onload_callbacks = [];\n",
       "    root._bokeh_is_loading = undefined;\n",
       "  }\n",
       "\n",
       "  var JS_MIME_TYPE = 'application/javascript';\n",
       "  var HTML_MIME_TYPE = 'text/html';\n",
       "  var EXEC_MIME_TYPE = 'application/vnd.bokehjs_exec.v0+json';\n",
       "  var CLASS_NAME = 'output_bokeh rendered_html';\n",
       "\n",
       "  /**\n",
       "   * Render data to the DOM node\n",
       "   */\n",
       "  function render(props, node) {\n",
       "    var script = document.createElement(\"script\");\n",
       "    node.appendChild(script);\n",
       "  }\n",
       "\n",
       "  /**\n",
       "   * Handle when an output is cleared or removed\n",
       "   */\n",
       "  function handleClearOutput(event, handle) {\n",
       "    var cell = handle.cell;\n",
       "\n",
       "    var id = cell.output_area._bokeh_element_id;\n",
       "    var server_id = cell.output_area._bokeh_server_id;\n",
       "    // Clean up Bokeh references\n",
       "    if (id != null && id in Bokeh.index) {\n",
       "      Bokeh.index[id].model.document.clear();\n",
       "      delete Bokeh.index[id];\n",
       "    }\n",
       "\n",
       "    if (server_id !== undefined) {\n",
       "      // Clean up Bokeh references\n",
       "      var cmd = \"from bokeh.io.state import curstate; print(curstate().uuid_to_server['\" + server_id + \"'].get_sessions()[0].document.roots[0]._id)\";\n",
       "      cell.notebook.kernel.execute(cmd, {\n",
       "        iopub: {\n",
       "          output: function(msg) {\n",
       "            var id = msg.content.text.trim();\n",
       "            if (id in Bokeh.index) {\n",
       "              Bokeh.index[id].model.document.clear();\n",
       "              delete Bokeh.index[id];\n",
       "            }\n",
       "          }\n",
       "        }\n",
       "      });\n",
       "      // Destroy server and session\n",
       "      var cmd = \"import bokeh.io.notebook as ion; ion.destroy_server('\" + server_id + \"')\";\n",
       "      cell.notebook.kernel.execute(cmd);\n",
       "    }\n",
       "  }\n",
       "\n",
       "  /**\n",
       "   * Handle when a new output is added\n",
       "   */\n",
       "  function handleAddOutput(event, handle) {\n",
       "    var output_area = handle.output_area;\n",
       "    var output = handle.output;\n",
       "\n",
       "    // limit handleAddOutput to display_data with EXEC_MIME_TYPE content only\n",
       "    if ((output.output_type != \"display_data\") || (!output.data.hasOwnProperty(EXEC_MIME_TYPE))) {\n",
       "      return\n",
       "    }\n",
       "\n",
       "    var toinsert = output_area.element.find(\".\" + CLASS_NAME.split(' ')[0]);\n",
       "\n",
       "    if (output.metadata[EXEC_MIME_TYPE][\"id\"] !== undefined) {\n",
       "      toinsert[toinsert.length - 1].firstChild.textContent = output.data[JS_MIME_TYPE];\n",
       "      // store reference to embed id on output_area\n",
       "      output_area._bokeh_element_id = output.metadata[EXEC_MIME_TYPE][\"id\"];\n",
       "    }\n",
       "    if (output.metadata[EXEC_MIME_TYPE][\"server_id\"] !== undefined) {\n",
       "      var bk_div = document.createElement(\"div\");\n",
       "      bk_div.innerHTML = output.data[HTML_MIME_TYPE];\n",
       "      var script_attrs = bk_div.children[0].attributes;\n",
       "      for (var i = 0; i < script_attrs.length; i++) {\n",
       "        toinsert[toinsert.length - 1].firstChild.setAttribute(script_attrs[i].name, script_attrs[i].value);\n",
       "        toinsert[toinsert.length - 1].firstChild.textContent = bk_div.children[0].textContent\n",
       "      }\n",
       "      // store reference to server id on output_area\n",
       "      output_area._bokeh_server_id = output.metadata[EXEC_MIME_TYPE][\"server_id\"];\n",
       "    }\n",
       "  }\n",
       "\n",
       "  function register_renderer(events, OutputArea) {\n",
       "\n",
       "    function append_mime(data, metadata, element) {\n",
       "      // create a DOM node to render to\n",
       "      var toinsert = this.create_output_subarea(\n",
       "        metadata,\n",
       "        CLASS_NAME,\n",
       "        EXEC_MIME_TYPE\n",
       "      );\n",
       "      this.keyboard_manager.register_events(toinsert);\n",
       "      // Render to node\n",
       "      var props = {data: data, metadata: metadata[EXEC_MIME_TYPE]};\n",
       "      render(props, toinsert[toinsert.length - 1]);\n",
       "      element.append(toinsert);\n",
       "      return toinsert\n",
       "    }\n",
       "\n",
       "    /* Handle when an output is cleared or removed */\n",
       "    events.on('clear_output.CodeCell', handleClearOutput);\n",
       "    events.on('delete.Cell', handleClearOutput);\n",
       "\n",
       "    /* Handle when a new output is added */\n",
       "    events.on('output_added.OutputArea', handleAddOutput);\n",
       "\n",
       "    /**\n",
       "     * Register the mime type and append_mime function with output_area\n",
       "     */\n",
       "    OutputArea.prototype.register_mime_type(EXEC_MIME_TYPE, append_mime, {\n",
       "      /* Is output safe? */\n",
       "      safe: true,\n",
       "      /* Index of renderer in `output_area.display_order` */\n",
       "      index: 0\n",
       "    });\n",
       "  }\n",
       "\n",
       "  // register the mime type if in Jupyter Notebook environment and previously unregistered\n",
       "  if (root.Jupyter !== undefined) {\n",
       "    var events = require('base/js/events');\n",
       "    var OutputArea = require('notebook/js/outputarea').OutputArea;\n",
       "\n",
       "    if (OutputArea.prototype.mime_types().indexOf(EXEC_MIME_TYPE) == -1) {\n",
       "      register_renderer(events, OutputArea);\n",
       "    }\n",
       "  }\n",
       "\n",
       "  \n",
       "  if (typeof (root._bokeh_timeout) === \"undefined\" || force === true) {\n",
       "    root._bokeh_timeout = Date.now() + 5000;\n",
       "    root._bokeh_failed_load = false;\n",
       "  }\n",
       "\n",
       "  var NB_LOAD_WARNING = {'data': {'text/html':\n",
       "     \"<div style='background-color: #fdd'>\\n\"+\n",
       "     \"<p>\\n\"+\n",
       "     \"BokehJS does not appear to have successfully loaded. If loading BokehJS from CDN, this \\n\"+\n",
       "     \"may be due to a slow or bad network connection. Possible fixes:\\n\"+\n",
       "     \"</p>\\n\"+\n",
       "     \"<ul>\\n\"+\n",
       "     \"<li>re-rerun `output_notebook()` to attempt to load from CDN again, or</li>\\n\"+\n",
       "     \"<li>use INLINE resources instead, as so:</li>\\n\"+\n",
       "     \"</ul>\\n\"+\n",
       "     \"<code>\\n\"+\n",
       "     \"from bokeh.resources import INLINE\\n\"+\n",
       "     \"output_notebook(resources=INLINE)\\n\"+\n",
       "     \"</code>\\n\"+\n",
       "     \"</div>\"}};\n",
       "\n",
       "  function display_loaded() {\n",
       "    var el = document.getElementById(\"1250\");\n",
       "    if (el != null) {\n",
       "      el.textContent = \"BokehJS is loading...\";\n",
       "    }\n",
       "    if (root.Bokeh !== undefined) {\n",
       "      if (el != null) {\n",
       "        el.textContent = \"BokehJS \" + root.Bokeh.version + \" successfully loaded.\";\n",
       "      }\n",
       "    } else if (Date.now() < root._bokeh_timeout) {\n",
       "      setTimeout(display_loaded, 100)\n",
       "    }\n",
       "  }\n",
       "\n",
       "\n",
       "  function run_callbacks() {\n",
       "    try {\n",
       "      root._bokeh_onload_callbacks.forEach(function(callback) {\n",
       "        if (callback != null)\n",
       "          callback();\n",
       "      });\n",
       "    } finally {\n",
       "      delete root._bokeh_onload_callbacks\n",
       "    }\n",
       "    console.debug(\"Bokeh: all callbacks have finished\");\n",
       "  }\n",
       "\n",
       "  function load_libs(css_urls, js_urls, callback) {\n",
       "    if (css_urls == null) css_urls = [];\n",
       "    if (js_urls == null) js_urls = [];\n",
       "\n",
       "    root._bokeh_onload_callbacks.push(callback);\n",
       "    if (root._bokeh_is_loading > 0) {\n",
       "      console.debug(\"Bokeh: BokehJS is being loaded, scheduling callback at\", now());\n",
       "      return null;\n",
       "    }\n",
       "    if (js_urls == null || js_urls.length === 0) {\n",
       "      run_callbacks();\n",
       "      return null;\n",
       "    }\n",
       "    console.debug(\"Bokeh: BokehJS not loaded, scheduling load and callback at\", now());\n",
       "    root._bokeh_is_loading = css_urls.length + js_urls.length;\n",
       "\n",
       "    function on_load() {\n",
       "      root._bokeh_is_loading--;\n",
       "      if (root._bokeh_is_loading === 0) {\n",
       "        console.debug(\"Bokeh: all BokehJS libraries/stylesheets loaded\");\n",
       "        run_callbacks()\n",
       "      }\n",
       "    }\n",
       "\n",
       "    function on_error() {\n",
       "      console.error(\"failed to load \" + url);\n",
       "    }\n",
       "\n",
       "    for (var i = 0; i < css_urls.length; i++) {\n",
       "      var url = css_urls[i];\n",
       "      const element = document.createElement(\"link\");\n",
       "      element.onload = on_load;\n",
       "      element.onerror = on_error;\n",
       "      element.rel = \"stylesheet\";\n",
       "      element.type = \"text/css\";\n",
       "      element.href = url;\n",
       "      console.debug(\"Bokeh: injecting link tag for BokehJS stylesheet: \", url);\n",
       "      document.body.appendChild(element);\n",
       "    }\n",
       "\n",
       "    const hashes = {\"https://cdn.bokeh.org/bokeh/release/bokeh-2.1.1.min.js\": \"kLr4fYcqcSpbuI95brIH3vnnYCquzzSxHPU6XGQCIkQRGJwhg0StNbj1eegrHs12\", \"https://cdn.bokeh.org/bokeh/release/bokeh-widgets-2.1.1.min.js\": \"xIGPmVtaOm+z0BqfSOMn4lOR6ciex448GIKG4eE61LsAvmGj48XcMQZtKcE/UXZe\", \"https://cdn.bokeh.org/bokeh/release/bokeh-tables-2.1.1.min.js\": \"Dc9u1wF/0zApGIWoBbH77iWEHtdmkuYWG839Uzmv8y8yBLXebjO9ZnERsde5Ln/P\", \"https://cdn.bokeh.org/bokeh/release/bokeh-gl-2.1.1.min.js\": \"cT9JaBz7GiRXdENrJLZNSC6eMNF3nh3fa5fTF51Svp+ukxPdwcU5kGXGPBgDCa2j\"};\n",
       "\n",
       "    for (var i = 0; i < js_urls.length; i++) {\n",
       "      var url = js_urls[i];\n",
       "      var element = document.createElement('script');\n",
       "      element.onload = on_load;\n",
       "      element.onerror = on_error;\n",
       "      element.async = false;\n",
       "      element.src = url;\n",
       "      if (url in hashes) {\n",
       "        element.crossOrigin = \"anonymous\";\n",
       "        element.integrity = \"sha384-\" + hashes[url];\n",
       "      }\n",
       "      console.debug(\"Bokeh: injecting script tag for BokehJS library: \", url);\n",
       "      document.head.appendChild(element);\n",
       "    }\n",
       "  };\n",
       "\n",
       "  function inject_raw_css(css) {\n",
       "    const element = document.createElement(\"style\");\n",
       "    element.appendChild(document.createTextNode(css));\n",
       "    document.body.appendChild(element);\n",
       "  }\n",
       "\n",
       "  \n",
       "  var js_urls = [\"https://cdn.bokeh.org/bokeh/release/bokeh-2.1.1.min.js\", \"https://cdn.bokeh.org/bokeh/release/bokeh-widgets-2.1.1.min.js\", \"https://cdn.bokeh.org/bokeh/release/bokeh-tables-2.1.1.min.js\", \"https://cdn.bokeh.org/bokeh/release/bokeh-gl-2.1.1.min.js\"];\n",
       "  var css_urls = [];\n",
       "  \n",
       "\n",
       "  var inline_js = [\n",
       "    function(Bokeh) {\n",
       "      Bokeh.set_log_level(\"info\");\n",
       "    },\n",
       "    function(Bokeh) {\n",
       "    \n",
       "    \n",
       "    }\n",
       "  ];\n",
       "\n",
       "  function run_inline_js() {\n",
       "    \n",
       "    if (root.Bokeh !== undefined || force === true) {\n",
       "      \n",
       "    for (var i = 0; i < inline_js.length; i++) {\n",
       "      inline_js[i].call(root, root.Bokeh);\n",
       "    }\n",
       "    if (force === true) {\n",
       "        display_loaded();\n",
       "      }} else if (Date.now() < root._bokeh_timeout) {\n",
       "      setTimeout(run_inline_js, 100);\n",
       "    } else if (!root._bokeh_failed_load) {\n",
       "      console.log(\"Bokeh: BokehJS failed to load within specified timeout.\");\n",
       "      root._bokeh_failed_load = true;\n",
       "    } else if (force !== true) {\n",
       "      var cell = $(document.getElementById(\"1250\")).parents('.cell').data().cell;\n",
       "      cell.output_area.append_execute_result(NB_LOAD_WARNING)\n",
       "    }\n",
       "\n",
       "  }\n",
       "\n",
       "  if (root._bokeh_is_loading === 0) {\n",
       "    console.debug(\"Bokeh: BokehJS loaded, going straight to plotting\");\n",
       "    run_inline_js();\n",
       "  } else {\n",
       "    load_libs(css_urls, js_urls, function() {\n",
       "      console.debug(\"Bokeh: BokehJS plotting callback run at\", now());\n",
       "      run_inline_js();\n",
       "    });\n",
       "  }\n",
       "}(window));"
      ],
      "application/vnd.bokehjs_load.v0+json": "\n(function(root) {\n  function now() {\n    return new Date();\n  }\n\n  var force = true;\n\n  if (typeof root._bokeh_onload_callbacks === \"undefined\" || force === true) {\n    root._bokeh_onload_callbacks = [];\n    root._bokeh_is_loading = undefined;\n  }\n\n  \n\n  \n  if (typeof (root._bokeh_timeout) === \"undefined\" || force === true) {\n    root._bokeh_timeout = Date.now() + 5000;\n    root._bokeh_failed_load = false;\n  }\n\n  var NB_LOAD_WARNING = {'data': {'text/html':\n     \"<div style='background-color: #fdd'>\\n\"+\n     \"<p>\\n\"+\n     \"BokehJS does not appear to have successfully loaded. If loading BokehJS from CDN, this \\n\"+\n     \"may be due to a slow or bad network connection. Possible fixes:\\n\"+\n     \"</p>\\n\"+\n     \"<ul>\\n\"+\n     \"<li>re-rerun `output_notebook()` to attempt to load from CDN again, or</li>\\n\"+\n     \"<li>use INLINE resources instead, as so:</li>\\n\"+\n     \"</ul>\\n\"+\n     \"<code>\\n\"+\n     \"from bokeh.resources import INLINE\\n\"+\n     \"output_notebook(resources=INLINE)\\n\"+\n     \"</code>\\n\"+\n     \"</div>\"}};\n\n  function display_loaded() {\n    var el = document.getElementById(\"1250\");\n    if (el != null) {\n      el.textContent = \"BokehJS is loading...\";\n    }\n    if (root.Bokeh !== undefined) {\n      if (el != null) {\n        el.textContent = \"BokehJS \" + root.Bokeh.version + \" successfully loaded.\";\n      }\n    } else if (Date.now() < root._bokeh_timeout) {\n      setTimeout(display_loaded, 100)\n    }\n  }\n\n\n  function run_callbacks() {\n    try {\n      root._bokeh_onload_callbacks.forEach(function(callback) {\n        if (callback != null)\n          callback();\n      });\n    } finally {\n      delete root._bokeh_onload_callbacks\n    }\n    console.debug(\"Bokeh: all callbacks have finished\");\n  }\n\n  function load_libs(css_urls, js_urls, callback) {\n    if (css_urls == null) css_urls = [];\n    if (js_urls == null) js_urls = [];\n\n    root._bokeh_onload_callbacks.push(callback);\n    if (root._bokeh_is_loading > 0) {\n      console.debug(\"Bokeh: BokehJS is being loaded, scheduling callback at\", now());\n      return null;\n    }\n    if (js_urls == null || js_urls.length === 0) {\n      run_callbacks();\n      return null;\n    }\n    console.debug(\"Bokeh: BokehJS not loaded, scheduling load and callback at\", now());\n    root._bokeh_is_loading = css_urls.length + js_urls.length;\n\n    function on_load() {\n      root._bokeh_is_loading--;\n      if (root._bokeh_is_loading === 0) {\n        console.debug(\"Bokeh: all BokehJS libraries/stylesheets loaded\");\n        run_callbacks()\n      }\n    }\n\n    function on_error() {\n      console.error(\"failed to load \" + url);\n    }\n\n    for (var i = 0; i < css_urls.length; i++) {\n      var url = css_urls[i];\n      const element = document.createElement(\"link\");\n      element.onload = on_load;\n      element.onerror = on_error;\n      element.rel = \"stylesheet\";\n      element.type = \"text/css\";\n      element.href = url;\n      console.debug(\"Bokeh: injecting link tag for BokehJS stylesheet: \", url);\n      document.body.appendChild(element);\n    }\n\n    const hashes = {\"https://cdn.bokeh.org/bokeh/release/bokeh-2.1.1.min.js\": \"kLr4fYcqcSpbuI95brIH3vnnYCquzzSxHPU6XGQCIkQRGJwhg0StNbj1eegrHs12\", \"https://cdn.bokeh.org/bokeh/release/bokeh-widgets-2.1.1.min.js\": \"xIGPmVtaOm+z0BqfSOMn4lOR6ciex448GIKG4eE61LsAvmGj48XcMQZtKcE/UXZe\", \"https://cdn.bokeh.org/bokeh/release/bokeh-tables-2.1.1.min.js\": \"Dc9u1wF/0zApGIWoBbH77iWEHtdmkuYWG839Uzmv8y8yBLXebjO9ZnERsde5Ln/P\", \"https://cdn.bokeh.org/bokeh/release/bokeh-gl-2.1.1.min.js\": \"cT9JaBz7GiRXdENrJLZNSC6eMNF3nh3fa5fTF51Svp+ukxPdwcU5kGXGPBgDCa2j\"};\n\n    for (var i = 0; i < js_urls.length; i++) {\n      var url = js_urls[i];\n      var element = document.createElement('script');\n      element.onload = on_load;\n      element.onerror = on_error;\n      element.async = false;\n      element.src = url;\n      if (url in hashes) {\n        element.crossOrigin = \"anonymous\";\n        element.integrity = \"sha384-\" + hashes[url];\n      }\n      console.debug(\"Bokeh: injecting script tag for BokehJS library: \", url);\n      document.head.appendChild(element);\n    }\n  };\n\n  function inject_raw_css(css) {\n    const element = document.createElement(\"style\");\n    element.appendChild(document.createTextNode(css));\n    document.body.appendChild(element);\n  }\n\n  \n  var js_urls = [\"https://cdn.bokeh.org/bokeh/release/bokeh-2.1.1.min.js\", \"https://cdn.bokeh.org/bokeh/release/bokeh-widgets-2.1.1.min.js\", \"https://cdn.bokeh.org/bokeh/release/bokeh-tables-2.1.1.min.js\", \"https://cdn.bokeh.org/bokeh/release/bokeh-gl-2.1.1.min.js\"];\n  var css_urls = [];\n  \n\n  var inline_js = [\n    function(Bokeh) {\n      Bokeh.set_log_level(\"info\");\n    },\n    function(Bokeh) {\n    \n    \n    }\n  ];\n\n  function run_inline_js() {\n    \n    if (root.Bokeh !== undefined || force === true) {\n      \n    for (var i = 0; i < inline_js.length; i++) {\n      inline_js[i].call(root, root.Bokeh);\n    }\n    if (force === true) {\n        display_loaded();\n      }} else if (Date.now() < root._bokeh_timeout) {\n      setTimeout(run_inline_js, 100);\n    } else if (!root._bokeh_failed_load) {\n      console.log(\"Bokeh: BokehJS failed to load within specified timeout.\");\n      root._bokeh_failed_load = true;\n    } else if (force !== true) {\n      var cell = $(document.getElementById(\"1250\")).parents('.cell').data().cell;\n      cell.output_area.append_execute_result(NB_LOAD_WARNING)\n    }\n\n  }\n\n  if (root._bokeh_is_loading === 0) {\n    console.debug(\"Bokeh: BokehJS loaded, going straight to plotting\");\n    run_inline_js();\n  } else {\n    load_libs(css_urls, js_urls, function() {\n      console.debug(\"Bokeh: BokehJS plotting callback run at\", now());\n      run_inline_js();\n    });\n  }\n}(window));"
     },
     "metadata": {},
     "output_type": "display_data"
    },
    {
     "data": {
      "text/html": [
       "\n",
       "\n",
       "\n",
       "\n",
       "\n",
       "\n",
       "  <div class=\"bk-root\" id=\"43f04b71-1829-4e80-bdf4-5eb51ab2be89\" data-root-id=\"1252\"></div>\n"
      ]
     },
     "metadata": {},
     "output_type": "display_data"
    },
    {
     "data": {
      "application/javascript": [
       "(function(root) {\n",
       "  function embed_document(root) {\n",
       "    \n",
       "  var docs_json = {\"15df790a-6230-471d-a48d-2d5986016b68\":{\"roots\":{\"references\":[{\"attributes\":{\"below\":[{\"id\":\"1263\"}],\"center\":[{\"id\":\"1266\"},{\"id\":\"1269\"},{\"id\":\"1276\"}],\"left\":[{\"id\":\"1267\"}],\"plot_height\":350,\"renderers\":[{\"id\":\"1274\"}],\"title\":{\"id\":\"1253\"},\"toolbar\":{\"id\":\"1270\"},\"toolbar_location\":null,\"x_range\":{\"id\":\"1255\"},\"x_scale\":{\"id\":\"1259\"},\"y_range\":{\"id\":\"1257\"},\"y_scale\":{\"id\":\"1261\"}},\"id\":\"1252\",\"subtype\":\"Figure\",\"type\":\"Plot\"},{\"attributes\":{\"factors\":[\"2014\",\"2006\",\"2007\",\"2000\",\"2011\",\"2013\",\"2015\",\"2016\"]},\"id\":\"1257\",\"type\":\"FactorRange\"},{\"attributes\":{\"fill_color\":{\"value\":\"#b3de69\"},\"height\":{\"value\":0.5},\"line_color\":{\"value\":\"#1f77b4\"},\"right\":{\"field\":\"right\"},\"y\":{\"field\":\"y\"}},\"id\":\"1272\",\"type\":\"HBar\"},{\"attributes\":{},\"id\":\"1303\",\"type\":\"UnionRenderers\"},{\"attributes\":{},\"id\":\"1261\",\"type\":\"CategoricalScale\"},{\"attributes\":{\"text\":\"here your text\",\"x\":100,\"y\":70},\"id\":\"1276\",\"type\":\"Label\"},{\"attributes\":{},\"id\":\"1259\",\"type\":\"LinearScale\"},{\"attributes\":{},\"id\":\"1268\",\"type\":\"CategoricalTicker\"},{\"attributes\":{},\"id\":\"1264\",\"type\":\"BasicTicker\"},{\"attributes\":{\"axis\":{\"id\":\"1263\"},\"ticker\":null},\"id\":\"1266\",\"type\":\"Grid\"},{\"attributes\":{},\"id\":\"1304\",\"type\":\"Selection\"},{\"attributes\":{\"formatter\":{\"id\":\"1301\"},\"ticker\":{\"id\":\"1264\"}},\"id\":\"1263\",\"type\":\"LinearAxis\"},{\"attributes\":{\"formatter\":{\"id\":\"1299\"},\"ticker\":{\"id\":\"1268\"}},\"id\":\"1267\",\"type\":\"CategoricalAxis\"},{\"attributes\":{\"axis\":{\"id\":\"1267\"},\"dimension\":1,\"ticker\":null},\"id\":\"1269\",\"type\":\"Grid\"},{\"attributes\":{\"fill_alpha\":{\"value\":0.1},\"fill_color\":{\"value\":\"#b3de69\"},\"height\":{\"value\":0.5},\"line_alpha\":{\"value\":0.1},\"line_color\":{\"value\":\"#1f77b4\"},\"right\":{\"field\":\"right\"},\"y\":{\"field\":\"y\"}},\"id\":\"1273\",\"type\":\"HBar\"},{\"attributes\":{\"data_source\":{\"id\":\"1251\"},\"glyph\":{\"id\":\"1272\"},\"hover_glyph\":null,\"muted_glyph\":null,\"nonselection_glyph\":{\"id\":\"1273\"},\"selection_glyph\":null,\"view\":{\"id\":\"1275\"}},\"id\":\"1274\",\"type\":\"GlyphRenderer\"},{\"attributes\":{\"active_drag\":\"auto\",\"active_inspect\":\"auto\",\"active_multi\":null,\"active_scroll\":\"auto\",\"active_tap\":\"auto\"},\"id\":\"1270\",\"type\":\"Toolbar\"},{\"attributes\":{},\"id\":\"1299\",\"type\":\"CategoricalTickFormatter\"},{\"attributes\":{\"text\":\"Nombres de pays ayant une donn\\u00e9e de population par ann\\u00e9e\"},\"id\":\"1253\",\"type\":\"Title\"},{\"attributes\":{\"data\":{\"right\":[1,1,2,2,4,6,7,211],\"y\":[\"2014\",\"2006\",\"2007\",\"2000\",\"2011\",\"2013\",\"2015\",\"2016\"]},\"selected\":{\"id\":\"1304\"},\"selection_policy\":{\"id\":\"1303\"}},\"id\":\"1251\",\"type\":\"ColumnDataSource\"},{\"attributes\":{},\"id\":\"1301\",\"type\":\"BasicTickFormatter\"},{\"attributes\":{\"source\":{\"id\":\"1251\"}},\"id\":\"1275\",\"type\":\"CDSView\"},{\"attributes\":{\"end\":221},\"id\":\"1255\",\"type\":\"Range1d\"}],\"root_ids\":[\"1252\"]},\"title\":\"Bokeh Application\",\"version\":\"2.1.1\"}};\n",
       "  var render_items = [{\"docid\":\"15df790a-6230-471d-a48d-2d5986016b68\",\"root_ids\":[\"1252\"],\"roots\":{\"1252\":\"43f04b71-1829-4e80-bdf4-5eb51ab2be89\"}}];\n",
       "  root.Bokeh.embed.embed_items_notebook(docs_json, render_items);\n",
       "\n",
       "  }\n",
       "  if (root.Bokeh !== undefined) {\n",
       "    embed_document(root);\n",
       "  } else {\n",
       "    var attempts = 0;\n",
       "    var timer = setInterval(function(root) {\n",
       "      if (root.Bokeh !== undefined) {\n",
       "        clearInterval(timer);\n",
       "        embed_document(root);\n",
       "      } else {\n",
       "        attempts++;\n",
       "        if (attempts > 100) {\n",
       "          clearInterval(timer);\n",
       "          console.log(\"Bokeh: ERROR: Unable to run BokehJS code because BokehJS library is missing\");\n",
       "        }\n",
       "      }\n",
       "    }, 10, root)\n",
       "  }\n",
       "})(window);"
      ],
      "application/vnd.bokehjs_exec.v0+json": ""
     },
     "metadata": {
      "application/vnd.bokehjs_exec.v0+json": {
       "id": "1252"
      }
     },
     "output_type": "display_data"
    }
   ],
   "source": [
    "output_notebook()\n",
    "\n",
    "# y= [float(statement) for statement in last_statements.index.values]\n",
    "y = list(last_statements.index.values)\n",
    "x = last_statements.values\n",
    "\n",
    "source = ColumnDataSource(data=dict(y=y, right=x,))\n",
    "\n",
    "plot = figure(x_range=(0,max(last_statements.values) + 10), y_range=y, plot_height=350, title=\"Nombres de pays ayant une donnée de population par année\",\n",
    "           toolbar_location=None, tools=\"\")\n",
    "\n",
    "plot.hbar(y=\"y\", right=\"right\", left=0, height=0.5, fill_color=\"#b3de69\", source=source)\n",
    "mytext = Label(x=100, y=70, text='here your text')\n",
    "plot.add_layout(mytext)\n",
    "\n",
    "show(plot)"
   ]
  },
  {
   "cell_type": "code",
   "execution_count": 229,
   "metadata": {},
   "outputs": [
    {
     "name": "stdout",
     "output_type": "stream",
     "text": [
      "6792417112.29947\n"
     ]
    }
   ],
   "source": [
    "gdp_suffisant_df = gdp_df[gdp_df.Valid]\n",
    "percentile = gdp_suffisant_df[\"GDP\"].quantile(0.25)\n",
    "print(percentile)\n",
    "gdp_suffisant_df = gdp_suffisant_df[gdp_suffisant_df['GDP'] > percentile]\n",
    "pays_gdp_suffisant = gdp_suffisant_df.index.values"
   ]
  },
  {
   "cell_type": "code",
   "execution_count": 230,
   "metadata": {},
   "outputs": [
    {
     "data": {
      "text/plain": [
       "171"
      ]
     },
     "execution_count": 230,
     "metadata": {},
     "output_type": "execute_result"
    }
   ],
   "source": [
    "len(pays_gdp_suffisant)"
   ]
  },
  {
   "cell_type": "code",
   "execution_count": 231,
   "metadata": {},
   "outputs": [
    {
     "data": {
      "text/plain": [
       "['Singapore',\n",
       " 'Spain',\n",
       " 'Qatar',\n",
       " 'Kuwait',\n",
       " 'Latvia',\n",
       " 'Malaysia',\n",
       " 'Russian Federation',\n",
       " 'Bahrain',\n",
       " 'Puerto Rico',\n",
       " 'Estonia',\n",
       " 'Kazakhstan',\n",
       " 'Azerbaijan']"
      ]
     },
     "execution_count": 231,
     "metadata": {},
     "output_type": "execute_result"
    }
   ],
   "source": [
    "pays_selection = list(set(pays_selection).intersection(set(pays_gdp_suffisant)))\n",
    "pays_selection"
   ]
  },
  {
   "cell_type": "markdown",
   "metadata": {},
   "source": [
    "Grace à cette première approche exclusive, on retrouve quelques pays interessants. Cependant, il reste du travail."
   ]
  },
  {
   "cell_type": "markdown",
   "metadata": {},
   "source": [
    "Il serait probablement mieux d'attribuer un score à chaque pays et selectionner les pays à partir d'un certain score. En effet ici, nous eliminons les pays dont on n'a pas les données ce qui est à mon avis une erreur"
   ]
  },
  {
   "cell_type": "markdown",
   "metadata": {},
   "source": [
    "Avant de mettre en place cette méthode qui demande une toute autre approche, nous allons rassembler les filtres 'internet users' et 'population' en un seul.\n",
    "L'idée est d'éliminer le dernier quartile non pas sur chacune des données mais sur le produit des deux. En effet, nous voulons qu'il y ait beaucoup d'internet users. Cela n'a pas de sens d'éliminer un pays entier parce que le taux d'internet users est trop faible alors que par ailleurs ce pays a beaucoup d'individus."
   ]
  },
  {
   "cell_type": "code",
   "execution_count": 232,
   "metadata": {},
   "outputs": [],
   "source": [
    "int_df['nb_users'] = int_df['Rate'] * pop_df['Population']"
   ]
  },
  {
   "cell_type": "code",
   "execution_count": 233,
   "metadata": {},
   "outputs": [
    {
     "data": {
      "text/html": [
       "<div>\n",
       "<style scoped>\n",
       "    .dataframe tbody tr th:only-of-type {\n",
       "        vertical-align: middle;\n",
       "    }\n",
       "\n",
       "    .dataframe tbody tr th {\n",
       "        vertical-align: top;\n",
       "    }\n",
       "\n",
       "    .dataframe thead th {\n",
       "        text-align: right;\n",
       "    }\n",
       "</style>\n",
       "<table border=\"1\" class=\"dataframe\">\n",
       "  <thead>\n",
       "    <tr style=\"text-align: right;\">\n",
       "      <th></th>\n",
       "      <th>Last statement</th>\n",
       "      <th>Literacy rate</th>\n",
       "      <th>Valid</th>\n",
       "    </tr>\n",
       "    <tr>\n",
       "      <th>Country</th>\n",
       "      <th></th>\n",
       "      <th></th>\n",
       "      <th></th>\n",
       "    </tr>\n",
       "  </thead>\n",
       "  <tbody>\n",
       "    <tr>\n",
       "      <th>Arab World</th>\n",
       "      <td>2014</td>\n",
       "      <td>88.9647</td>\n",
       "      <td>True</td>\n",
       "    </tr>\n",
       "    <tr>\n",
       "      <th>East Asia &amp; Pacific</th>\n",
       "      <td>2014</td>\n",
       "      <td>99.0044</td>\n",
       "      <td>True</td>\n",
       "    </tr>\n",
       "    <tr>\n",
       "      <th>East Asia &amp; Pacific (excluding high income)</th>\n",
       "      <td>2014</td>\n",
       "      <td>98.9691</td>\n",
       "      <td>True</td>\n",
       "    </tr>\n",
       "    <tr>\n",
       "      <th>Euro area</th>\n",
       "      <td>NaN</td>\n",
       "      <td>NaN</td>\n",
       "      <td>False</td>\n",
       "    </tr>\n",
       "    <tr>\n",
       "      <th>Europe &amp; Central Asia</th>\n",
       "      <td>2014</td>\n",
       "      <td>99.7114</td>\n",
       "      <td>True</td>\n",
       "    </tr>\n",
       "    <tr>\n",
       "      <th>...</th>\n",
       "      <td>...</td>\n",
       "      <td>...</td>\n",
       "      <td>...</td>\n",
       "    </tr>\n",
       "    <tr>\n",
       "      <th>Virgin Islands (U.S.)</th>\n",
       "      <td>NaN</td>\n",
       "      <td>NaN</td>\n",
       "      <td>False</td>\n",
       "    </tr>\n",
       "    <tr>\n",
       "      <th>West Bank and Gaza</th>\n",
       "      <td>2016</td>\n",
       "      <td>99.3837</td>\n",
       "      <td>True</td>\n",
       "    </tr>\n",
       "    <tr>\n",
       "      <th>Yemen, Rep.</th>\n",
       "      <td>1994</td>\n",
       "      <td>60.2221</td>\n",
       "      <td>False</td>\n",
       "    </tr>\n",
       "    <tr>\n",
       "      <th>Zambia</th>\n",
       "      <td>2010</td>\n",
       "      <td>88.7146</td>\n",
       "      <td>True</td>\n",
       "    </tr>\n",
       "    <tr>\n",
       "      <th>Zimbabwe</th>\n",
       "      <td>2014</td>\n",
       "      <td>90.4281</td>\n",
       "      <td>True</td>\n",
       "    </tr>\n",
       "  </tbody>\n",
       "</table>\n",
       "<p>241 rows × 3 columns</p>\n",
       "</div>"
      ],
      "text/plain": [
       "                                            Last statement Literacy rate  \\\n",
       "Country                                                                    \n",
       "Arab World                                            2014       88.9647   \n",
       "East Asia & Pacific                                   2014       99.0044   \n",
       "East Asia & Pacific (excluding high income)           2014       98.9691   \n",
       "Euro area                                              NaN           NaN   \n",
       "Europe & Central Asia                                 2014       99.7114   \n",
       "...                                                    ...           ...   \n",
       "Virgin Islands (U.S.)                                  NaN           NaN   \n",
       "West Bank and Gaza                                    2016       99.3837   \n",
       "Yemen, Rep.                                           1994       60.2221   \n",
       "Zambia                                                2010       88.7146   \n",
       "Zimbabwe                                              2014       90.4281   \n",
       "\n",
       "                                             Valid  \n",
       "Country                                             \n",
       "Arab World                                    True  \n",
       "East Asia & Pacific                           True  \n",
       "East Asia & Pacific (excluding high income)   True  \n",
       "Euro area                                    False  \n",
       "Europe & Central Asia                         True  \n",
       "...                                            ...  \n",
       "Virgin Islands (U.S.)                        False  \n",
       "West Bank and Gaza                            True  \n",
       "Yemen, Rep.                                  False  \n",
       "Zambia                                        True  \n",
       "Zimbabwe                                      True  \n",
       "\n",
       "[241 rows x 3 columns]"
      ]
     },
     "execution_count": 233,
     "metadata": {},
     "output_type": "execute_result"
    }
   ],
   "source": [
    "lit_df"
   ]
  },
  {
   "cell_type": "markdown",
   "metadata": {},
   "source": [
    "Nous allons maintenant refaire la selection"
   ]
  },
  {
   "cell_type": "code",
   "execution_count": 234,
   "metadata": {},
   "outputs": [],
   "source": [
    "percentile_internet = int_df['nb_users'].quantile(0.75)\n",
    "percentile_literacy = lit_df['Literacy rate'].quantile(0.50)\n",
    "percentile_gdp = gdp_df['GDP'].quantile(0.50)"
   ]
  },
  {
   "cell_type": "code",
   "execution_count": 235,
   "metadata": {},
   "outputs": [],
   "source": [
    "pays_selection_2 = np.intersect1d(list(int_df[int_df['nb_users'] > percentile_internet].index.values),\n",
    "                                  list(lit_df[lit_df['Literacy rate'] > percentile_literacy].index.values),\n",
    "                                  list(gdp_df[gdp_df['GDP'] > percentile_gdp].index.values))"
   ]
  },
  {
   "cell_type": "code",
   "execution_count": 236,
   "metadata": {},
   "outputs": [
    {
     "data": {
      "text/plain": [
       "23"
      ]
     },
     "execution_count": 236,
     "metadata": {},
     "output_type": "execute_result"
    }
   ],
   "source": [
    "len(pays_selection_2)"
   ]
  },
  {
   "cell_type": "code",
   "execution_count": 237,
   "metadata": {},
   "outputs": [
    {
     "data": {
      "text/plain": [
       "array(['Argentina', 'Brazil', 'China', 'Colombia', 'East Asia & Pacific',\n",
       "       'East Asia & Pacific (excluding high income)',\n",
       "       'Europe & Central Asia',\n",
       "       'Europe & Central Asia (excluding high income)', 'Indonesia',\n",
       "       'Iran, Islamic Rep.', 'Italy', 'Malaysia', 'Mexico', 'Philippines',\n",
       "       'Poland', 'Russian Federation', 'Saudi Arabia', 'South Africa',\n",
       "       'Spain', 'Thailand', 'Turkey', 'Ukraine', 'Upper middle income'],\n",
       "      dtype='<U50')"
      ]
     },
     "execution_count": 237,
     "metadata": {},
     "output_type": "execute_result"
    }
   ],
   "source": [
    "pays_selection_2"
   ]
  },
  {
   "cell_type": "markdown",
   "metadata": {},
   "source": [
    "#### Afin d'effectuer des projections sur la quantité de clients possibles nous allons observer cet indicateur:\n",
    "Wittgenstein Projection: Population in thousands by highest level of educational attainment. Lower Secondary. Total"
   ]
  },
  {
   "cell_type": "code",
   "execution_count": 269,
   "metadata": {},
   "outputs": [
    {
     "data": {
      "text/plain": [
       "'PRJ.POP.ALL.3.MF'"
      ]
     },
     "execution_count": 269,
     "metadata": {},
     "output_type": "execute_result"
    }
   ],
   "source": [
    "nom_indic_projection = 'Wittgenstein Projection: Population in thousands by highest level of educational attainment. Upper Secondary. Total'\n",
    "code_indic_projection = data[data[\"Indicator_name\"] == nom_indic_projection]['Indicator Code'].iloc[0]\n",
    "code_indic_projection"
   ]
  },
  {
   "cell_type": "markdown",
   "metadata": {},
   "source": [
    "Nous allons maintenant explorer l'évolution dans le temps des indicateurs observés"
   ]
  },
  {
   "cell_type": "code",
   "execution_count": 270,
   "metadata": {},
   "outputs": [],
   "source": [
    "def get_graph(country, code_indic):\n",
    "    years = ['1970', '1971', '1972', '1973', '1974', '1975', '1976', '1977', '1978',\n",
    "       '1979', '1980', '1981', '1982', '1983', '1984', '1985', '1986', '1987',\n",
    "       '1988', '1989', '1990', '1991', '1992', '1993', '1994', '1995', '1996',\n",
    "       '1997', '1998', '1999', '2000', '2001', '2002', '2003', '2004', '2005',\n",
    "       '2006', '2007', '2008', '2009', '2010', '2011', '2012', '2013', '2014',\n",
    "       '2015', '2016', '2017', '2020', '2025', '2030', '2035', '2040', '2045',\n",
    "       '2050', '2055', '2060', '2065', '2070', '2075', '2080', '2085', '2090',\n",
    "       '2095', '2100']\n",
    "    df = data[(data['Country Name'] == country) & (data['Indicator Code'] == code_indic)]\n",
    "    titre = df['Indicator_name'].values[0]\n",
    "    fig = plt.figure(figsize=(12,8))\n",
    "    plt.style.use('seaborn-whitegrid')\n",
    "    plt.title(\"Evolution de l'indicateur {}\".format(titre), fontsize=17)\n",
    "    plt.scatter(years, df[years])\n",
    "    plt.xticks(rotation=90, fontsize=15)\n",
    "    plt.yticks(fontsize=15)\n",
    "    plt.ylabel(titre, fontsize=15)\n",
    "    "
   ]
  },
  {
   "cell_type": "code",
   "execution_count": 272,
   "metadata": {},
   "outputs": [
    {
     "data": {
      "image/png": "[encoded data removed]",
      "text/plain": [
       "<Figure size 864x576 with 1 Axes>"
      ]
     },
     "metadata": {},
     "output_type": "display_data"
    }
   ],
   "source": [
    "get_graph('Colombia', code_indic_projection)"
   ]
  },
  {
   "cell_type": "code",
   "execution_count": 239,
   "metadata": {},
   "outputs": [],
   "source": [
    "years = np.array(['1970', '1971', '1972', '1973', '1974', '1975', '1976', '1977', '1978',\n",
    "       '1979', '1980', '1981', '1982', '1983', '1984', '1985', '1986', '1987',\n",
    "       '1988', '1989', '1990', '1991', '1992', '1993', '1994', '1995', '1996',\n",
    "       '1997', '1998', '1999', '2000', '2001', '2002', '2003', '2004', '2005',\n",
    "       '2006', '2007', '2008', '2009', '2010', '2011', '2012', '2013', '2014',\n",
    "       '2015', '2016', '2017', '2020', '2025', '2030', '2035', '2040', '2045',\n",
    "       '2050', '2055', '2060', '2065', '2070', '2075', '2080', '2085', '2090',\n",
    "       '2095', '2100'])"
   ]
  },
  {
   "cell_type": "code",
   "execution_count": 246,
   "metadata": {},
   "outputs": [
    {
     "data": {
      "text/html": [
       "\n",
       "    <div class=\"bk-root\">\n",
       "        <a href=\"https://bokeh.org\" target=\"_blank\" class=\"bk-logo bk-logo-small bk-logo-notebook\"></a>\n",
       "        <span id=\"2291\">Loading BokehJS ...</span>\n",
       "    </div>"
      ]
     },
     "metadata": {},
     "output_type": "display_data"
    },
    {
     "data": {
      "application/javascript": [
       "\n",
       "(function(root) {\n",
       "  function now() {\n",
       "    return new Date();\n",
       "  }\n",
       "\n",
       "  var force = true;\n",
       "\n",
       "  if (typeof root._bokeh_onload_callbacks === \"undefined\" || force === true) {\n",
       "    root._bokeh_onload_callbacks = [];\n",
       "    root._bokeh_is_loading = undefined;\n",
       "  }\n",
       "\n",
       "  var JS_MIME_TYPE = 'application/javascript';\n",
       "  var HTML_MIME_TYPE = 'text/html';\n",
       "  var EXEC_MIME_TYPE = 'application/vnd.bokehjs_exec.v0+json';\n",
       "  var CLASS_NAME = 'output_bokeh rendered_html';\n",
       "\n",
       "  /**\n",
       "   * Render data to the DOM node\n",
       "   */\n",
       "  function render(props, node) {\n",
       "    var script = document.createElement(\"script\");\n",
       "    node.appendChild(script);\n",
       "  }\n",
       "\n",
       "  /**\n",
       "   * Handle when an output is cleared or removed\n",
       "   */\n",
       "  function handleClearOutput(event, handle) {\n",
       "    var cell = handle.cell;\n",
       "\n",
       "    var id = cell.output_area._bokeh_element_id;\n",
       "    var server_id = cell.output_area._bokeh_server_id;\n",
       "    // Clean up Bokeh references\n",
       "    if (id != null && id in Bokeh.index) {\n",
       "      Bokeh.index[id].model.document.clear();\n",
       "      delete Bokeh.index[id];\n",
       "    }\n",
       "\n",
       "    if (server_id !== undefined) {\n",
       "      // Clean up Bokeh references\n",
       "      var cmd = \"from bokeh.io.state import curstate; print(curstate().uuid_to_server['\" + server_id + \"'].get_sessions()[0].document.roots[0]._id)\";\n",
       "      cell.notebook.kernel.execute(cmd, {\n",
       "        iopub: {\n",
       "          output: function(msg) {\n",
       "            var id = msg.content.text.trim();\n",
       "            if (id in Bokeh.index) {\n",
       "              Bokeh.index[id].model.document.clear();\n",
       "              delete Bokeh.index[id];\n",
       "            }\n",
       "          }\n",
       "        }\n",
       "      });\n",
       "      // Destroy server and session\n",
       "      var cmd = \"import bokeh.io.notebook as ion; ion.destroy_server('\" + server_id + \"')\";\n",
       "      cell.notebook.kernel.execute(cmd);\n",
       "    }\n",
       "  }\n",
       "\n",
       "  /**\n",
       "   * Handle when a new output is added\n",
       "   */\n",
       "  function handleAddOutput(event, handle) {\n",
       "    var output_area = handle.output_area;\n",
       "    var output = handle.output;\n",
       "\n",
       "    // limit handleAddOutput to display_data with EXEC_MIME_TYPE content only\n",
       "    if ((output.output_type != \"display_data\") || (!output.data.hasOwnProperty(EXEC_MIME_TYPE))) {\n",
       "      return\n",
       "    }\n",
       "\n",
       "    var toinsert = output_area.element.find(\".\" + CLASS_NAME.split(' ')[0]);\n",
       "\n",
       "    if (output.metadata[EXEC_MIME_TYPE][\"id\"] !== undefined) {\n",
       "      toinsert[toinsert.length - 1].firstChild.textContent = output.data[JS_MIME_TYPE];\n",
       "      // store reference to embed id on output_area\n",
       "      output_area._bokeh_element_id = output.metadata[EXEC_MIME_TYPE][\"id\"];\n",
       "    }\n",
       "    if (output.metadata[EXEC_MIME_TYPE][\"server_id\"] !== undefined) {\n",
       "      var bk_div = document.createElement(\"div\");\n",
       "      bk_div.innerHTML = output.data[HTML_MIME_TYPE];\n",
       "      var script_attrs = bk_div.children[0].attributes;\n",
       "      for (var i = 0; i < script_attrs.length; i++) {\n",
       "        toinsert[toinsert.length - 1].firstChild.setAttribute(script_attrs[i].name, script_attrs[i].value);\n",
       "        toinsert[toinsert.length - 1].firstChild.textContent = bk_div.children[0].textContent\n",
       "      }\n",
       "      // store reference to server id on output_area\n",
       "      output_area._bokeh_server_id = output.metadata[EXEC_MIME_TYPE][\"server_id\"];\n",
       "    }\n",
       "  }\n",
       "\n",
       "  function register_renderer(events, OutputArea) {\n",
       "\n",
       "    function append_mime(data, metadata, element) {\n",
       "      // create a DOM node to render to\n",
       "      var toinsert = this.create_output_subarea(\n",
       "        metadata,\n",
       "        CLASS_NAME,\n",
       "        EXEC_MIME_TYPE\n",
       "      );\n",
       "      this.keyboard_manager.register_events(toinsert);\n",
       "      // Render to node\n",
       "      var props = {data: data, metadata: metadata[EXEC_MIME_TYPE]};\n",
       "      render(props, toinsert[toinsert.length - 1]);\n",
       "      element.append(toinsert);\n",
       "      return toinsert\n",
       "    }\n",
       "\n",
       "    /* Handle when an output is cleared or removed */\n",
       "    events.on('clear_output.CodeCell', handleClearOutput);\n",
       "    events.on('delete.Cell', handleClearOutput);\n",
       "\n",
       "    /* Handle when a new output is added */\n",
       "    events.on('output_added.OutputArea', handleAddOutput);\n",
       "\n",
       "    /**\n",
       "     * Register the mime type and append_mime function with output_area\n",
       "     */\n",
       "    OutputArea.prototype.register_mime_type(EXEC_MIME_TYPE, append_mime, {\n",
       "      /* Is output safe? */\n",
       "      safe: true,\n",
       "      /* Index of renderer in `output_area.display_order` */\n",
       "      index: 0\n",
       "    });\n",
       "  }\n",
       "\n",
       "  // register the mime type if in Jupyter Notebook environment and previously unregistered\n",
       "  if (root.Jupyter !== undefined) {\n",
       "    var events = require('base/js/events');\n",
       "    var OutputArea = require('notebook/js/outputarea').OutputArea;\n",
       "\n",
       "    if (OutputArea.prototype.mime_types().indexOf(EXEC_MIME_TYPE) == -1) {\n",
       "      register_renderer(events, OutputArea);\n",
       "    }\n",
       "  }\n",
       "\n",
       "  \n",
       "  if (typeof (root._bokeh_timeout) === \"undefined\" || force === true) {\n",
       "    root._bokeh_timeout = Date.now() + 5000;\n",
       "    root._bokeh_failed_load = false;\n",
       "  }\n",
       "\n",
       "  var NB_LOAD_WARNING = {'data': {'text/html':\n",
       "     \"<div style='background-color: #fdd'>\\n\"+\n",
       "     \"<p>\\n\"+\n",
       "     \"BokehJS does not appear to have successfully loaded. If loading BokehJS from CDN, this \\n\"+\n",
       "     \"may be due to a slow or bad network connection. Possible fixes:\\n\"+\n",
       "     \"</p>\\n\"+\n",
       "     \"<ul>\\n\"+\n",
       "     \"<li>re-rerun `output_notebook()` to attempt to load from CDN again, or</li>\\n\"+\n",
       "     \"<li>use INLINE resources instead, as so:</li>\\n\"+\n",
       "     \"</ul>\\n\"+\n",
       "     \"<code>\\n\"+\n",
       "     \"from bokeh.resources import INLINE\\n\"+\n",
       "     \"output_notebook(resources=INLINE)\\n\"+\n",
       "     \"</code>\\n\"+\n",
       "     \"</div>\"}};\n",
       "\n",
       "  function display_loaded() {\n",
       "    var el = document.getElementById(\"2291\");\n",
       "    if (el != null) {\n",
       "      el.textContent = \"BokehJS is loading...\";\n",
       "    }\n",
       "    if (root.Bokeh !== undefined) {\n",
       "      if (el != null) {\n",
       "        el.textContent = \"BokehJS \" + root.Bokeh.version + \" successfully loaded.\";\n",
       "      }\n",
       "    } else if (Date.now() < root._bokeh_timeout) {\n",
       "      setTimeout(display_loaded, 100)\n",
       "    }\n",
       "  }\n",
       "\n",
       "\n",
       "  function run_callbacks() {\n",
       "    try {\n",
       "      root._bokeh_onload_callbacks.forEach(function(callback) {\n",
       "        if (callback != null)\n",
       "          callback();\n",
       "      });\n",
       "    } finally {\n",
       "      delete root._bokeh_onload_callbacks\n",
       "    }\n",
       "    console.debug(\"Bokeh: all callbacks have finished\");\n",
       "  }\n",
       "\n",
       "  function load_libs(css_urls, js_urls, callback) {\n",
       "    if (css_urls == null) css_urls = [];\n",
       "    if (js_urls == null) js_urls = [];\n",
       "\n",
       "    root._bokeh_onload_callbacks.push(callback);\n",
       "    if (root._bokeh_is_loading > 0) {\n",
       "      console.debug(\"Bokeh: BokehJS is being loaded, scheduling callback at\", now());\n",
       "      return null;\n",
       "    }\n",
       "    if (js_urls == null || js_urls.length === 0) {\n",
       "      run_callbacks();\n",
       "      return null;\n",
       "    }\n",
       "    console.debug(\"Bokeh: BokehJS not loaded, scheduling load and callback at\", now());\n",
       "    root._bokeh_is_loading = css_urls.length + js_urls.length;\n",
       "\n",
       "    function on_load() {\n",
       "      root._bokeh_is_loading--;\n",
       "      if (root._bokeh_is_loading === 0) {\n",
       "        console.debug(\"Bokeh: all BokehJS libraries/stylesheets loaded\");\n",
       "        run_callbacks()\n",
       "      }\n",
       "    }\n",
       "\n",
       "    function on_error() {\n",
       "      console.error(\"failed to load \" + url);\n",
       "    }\n",
       "\n",
       "    for (var i = 0; i < css_urls.length; i++) {\n",
       "      var url = css_urls[i];\n",
       "      const element = document.createElement(\"link\");\n",
       "      element.onload = on_load;\n",
       "      element.onerror = on_error;\n",
       "      element.rel = \"stylesheet\";\n",
       "      element.type = \"text/css\";\n",
       "      element.href = url;\n",
       "      console.debug(\"Bokeh: injecting link tag for BokehJS stylesheet: \", url);\n",
       "      document.body.appendChild(element);\n",
       "    }\n",
       "\n",
       "    const hashes = {\"https://cdn.bokeh.org/bokeh/release/bokeh-2.1.1.min.js\": \"kLr4fYcqcSpbuI95brIH3vnnYCquzzSxHPU6XGQCIkQRGJwhg0StNbj1eegrHs12\", \"https://cdn.bokeh.org/bokeh/release/bokeh-widgets-2.1.1.min.js\": \"xIGPmVtaOm+z0BqfSOMn4lOR6ciex448GIKG4eE61LsAvmGj48XcMQZtKcE/UXZe\", \"https://cdn.bokeh.org/bokeh/release/bokeh-tables-2.1.1.min.js\": \"Dc9u1wF/0zApGIWoBbH77iWEHtdmkuYWG839Uzmv8y8yBLXebjO9ZnERsde5Ln/P\", \"https://cdn.bokeh.org/bokeh/release/bokeh-gl-2.1.1.min.js\": \"cT9JaBz7GiRXdENrJLZNSC6eMNF3nh3fa5fTF51Svp+ukxPdwcU5kGXGPBgDCa2j\"};\n",
       "\n",
       "    for (var i = 0; i < js_urls.length; i++) {\n",
       "      var url = js_urls[i];\n",
       "      var element = document.createElement('script');\n",
       "      element.onload = on_load;\n",
       "      element.onerror = on_error;\n",
       "      element.async = false;\n",
       "      element.src = url;\n",
       "      if (url in hashes) {\n",
       "        element.crossOrigin = \"anonymous\";\n",
       "        element.integrity = \"sha384-\" + hashes[url];\n",
       "      }\n",
       "      console.debug(\"Bokeh: injecting script tag for BokehJS library: \", url);\n",
       "      document.head.appendChild(element);\n",
       "    }\n",
       "  };\n",
       "\n",
       "  function inject_raw_css(css) {\n",
       "    const element = document.createElement(\"style\");\n",
       "    element.appendChild(document.createTextNode(css));\n",
       "    document.body.appendChild(element);\n",
       "  }\n",
       "\n",
       "  \n",
       "  var js_urls = [\"https://cdn.bokeh.org/bokeh/release/bokeh-2.1.1.min.js\", \"https://cdn.bokeh.org/bokeh/release/bokeh-widgets-2.1.1.min.js\", \"https://cdn.bokeh.org/bokeh/release/bokeh-tables-2.1.1.min.js\", \"https://cdn.bokeh.org/bokeh/release/bokeh-gl-2.1.1.min.js\"];\n",
       "  var css_urls = [];\n",
       "  \n",
       "\n",
       "  var inline_js = [\n",
       "    function(Bokeh) {\n",
       "      Bokeh.set_log_level(\"info\");\n",
       "    },\n",
       "    function(Bokeh) {\n",
       "    \n",
       "    \n",
       "    }\n",
       "  ];\n",
       "\n",
       "  function run_inline_js() {\n",
       "    \n",
       "    if (root.Bokeh !== undefined || force === true) {\n",
       "      \n",
       "    for (var i = 0; i < inline_js.length; i++) {\n",
       "      inline_js[i].call(root, root.Bokeh);\n",
       "    }\n",
       "    if (force === true) {\n",
       "        display_loaded();\n",
       "      }} else if (Date.now() < root._bokeh_timeout) {\n",
       "      setTimeout(run_inline_js, 100);\n",
       "    } else if (!root._bokeh_failed_load) {\n",
       "      console.log(\"Bokeh: BokehJS failed to load within specified timeout.\");\n",
       "      root._bokeh_failed_load = true;\n",
       "    } else if (force !== true) {\n",
       "      var cell = $(document.getElementById(\"2291\")).parents('.cell').data().cell;\n",
       "      cell.output_area.append_execute_result(NB_LOAD_WARNING)\n",
       "    }\n",
       "\n",
       "  }\n",
       "\n",
       "  if (root._bokeh_is_loading === 0) {\n",
       "    console.debug(\"Bokeh: BokehJS loaded, going straight to plotting\");\n",
       "    run_inline_js();\n",
       "  } else {\n",
       "    load_libs(css_urls, js_urls, function() {\n",
       "      console.debug(\"Bokeh: BokehJS plotting callback run at\", now());\n",
       "      run_inline_js();\n",
       "    });\n",
       "  }\n",
       "}(window));"
      ],
      "application/vnd.bokehjs_load.v0+json": "\n(function(root) {\n  function now() {\n    return new Date();\n  }\n\n  var force = true;\n\n  if (typeof root._bokeh_onload_callbacks === \"undefined\" || force === true) {\n    root._bokeh_onload_callbacks = [];\n    root._bokeh_is_loading = undefined;\n  }\n\n  \n\n  \n  if (typeof (root._bokeh_timeout) === \"undefined\" || force === true) {\n    root._bokeh_timeout = Date.now() + 5000;\n    root._bokeh_failed_load = false;\n  }\n\n  var NB_LOAD_WARNING = {'data': {'text/html':\n     \"<div style='background-color: #fdd'>\\n\"+\n     \"<p>\\n\"+\n     \"BokehJS does not appear to have successfully loaded. If loading BokehJS from CDN, this \\n\"+\n     \"may be due to a slow or bad network connection. Possible fixes:\\n\"+\n     \"</p>\\n\"+\n     \"<ul>\\n\"+\n     \"<li>re-rerun `output_notebook()` to attempt to load from CDN again, or</li>\\n\"+\n     \"<li>use INLINE resources instead, as so:</li>\\n\"+\n     \"</ul>\\n\"+\n     \"<code>\\n\"+\n     \"from bokeh.resources import INLINE\\n\"+\n     \"output_notebook(resources=INLINE)\\n\"+\n     \"</code>\\n\"+\n     \"</div>\"}};\n\n  function display_loaded() {\n    var el = document.getElementById(\"2291\");\n    if (el != null) {\n      el.textContent = \"BokehJS is loading...\";\n    }\n    if (root.Bokeh !== undefined) {\n      if (el != null) {\n        el.textContent = \"BokehJS \" + root.Bokeh.version + \" successfully loaded.\";\n      }\n    } else if (Date.now() < root._bokeh_timeout) {\n      setTimeout(display_loaded, 100)\n    }\n  }\n\n\n  function run_callbacks() {\n    try {\n      root._bokeh_onload_callbacks.forEach(function(callback) {\n        if (callback != null)\n          callback();\n      });\n    } finally {\n      delete root._bokeh_onload_callbacks\n    }\n    console.debug(\"Bokeh: all callbacks have finished\");\n  }\n\n  function load_libs(css_urls, js_urls, callback) {\n    if (css_urls == null) css_urls = [];\n    if (js_urls == null) js_urls = [];\n\n    root._bokeh_onload_callbacks.push(callback);\n    if (root._bokeh_is_loading > 0) {\n      console.debug(\"Bokeh: BokehJS is being loaded, scheduling callback at\", now());\n      return null;\n    }\n    if (js_urls == null || js_urls.length === 0) {\n      run_callbacks();\n      return null;\n    }\n    console.debug(\"Bokeh: BokehJS not loaded, scheduling load and callback at\", now());\n    root._bokeh_is_loading = css_urls.length + js_urls.length;\n\n    function on_load() {\n      root._bokeh_is_loading--;\n      if (root._bokeh_is_loading === 0) {\n        console.debug(\"Bokeh: all BokehJS libraries/stylesheets loaded\");\n        run_callbacks()\n      }\n    }\n\n    function on_error() {\n      console.error(\"failed to load \" + url);\n    }\n\n    for (var i = 0; i < css_urls.length; i++) {\n      var url = css_urls[i];\n      const element = document.createElement(\"link\");\n      element.onload = on_load;\n      element.onerror = on_error;\n      element.rel = \"stylesheet\";\n      element.type = \"text/css\";\n      element.href = url;\n      console.debug(\"Bokeh: injecting link tag for BokehJS stylesheet: \", url);\n      document.body.appendChild(element);\n    }\n\n    const hashes = {\"https://cdn.bokeh.org/bokeh/release/bokeh-2.1.1.min.js\": \"kLr4fYcqcSpbuI95brIH3vnnYCquzzSxHPU6XGQCIkQRGJwhg0StNbj1eegrHs12\", \"https://cdn.bokeh.org/bokeh/release/bokeh-widgets-2.1.1.min.js\": \"xIGPmVtaOm+z0BqfSOMn4lOR6ciex448GIKG4eE61LsAvmGj48XcMQZtKcE/UXZe\", \"https://cdn.bokeh.org/bokeh/release/bokeh-tables-2.1.1.min.js\": \"Dc9u1wF/0zApGIWoBbH77iWEHtdmkuYWG839Uzmv8y8yBLXebjO9ZnERsde5Ln/P\", \"https://cdn.bokeh.org/bokeh/release/bokeh-gl-2.1.1.min.js\": \"cT9JaBz7GiRXdENrJLZNSC6eMNF3nh3fa5fTF51Svp+ukxPdwcU5kGXGPBgDCa2j\"};\n\n    for (var i = 0; i < js_urls.length; i++) {\n      var url = js_urls[i];\n      var element = document.createElement('script');\n      element.onload = on_load;\n      element.onerror = on_error;\n      element.async = false;\n      element.src = url;\n      if (url in hashes) {\n        element.crossOrigin = \"anonymous\";\n        element.integrity = \"sha384-\" + hashes[url];\n      }\n      console.debug(\"Bokeh: injecting script tag for BokehJS library: \", url);\n      document.head.appendChild(element);\n    }\n  };\n\n  function inject_raw_css(css) {\n    const element = document.createElement(\"style\");\n    element.appendChild(document.createTextNode(css));\n    document.body.appendChild(element);\n  }\n\n  \n  var js_urls = [\"https://cdn.bokeh.org/bokeh/release/bokeh-2.1.1.min.js\", \"https://cdn.bokeh.org/bokeh/release/bokeh-widgets-2.1.1.min.js\", \"https://cdn.bokeh.org/bokeh/release/bokeh-tables-2.1.1.min.js\", \"https://cdn.bokeh.org/bokeh/release/bokeh-gl-2.1.1.min.js\"];\n  var css_urls = [];\n  \n\n  var inline_js = [\n    function(Bokeh) {\n      Bokeh.set_log_level(\"info\");\n    },\n    function(Bokeh) {\n    \n    \n    }\n  ];\n\n  function run_inline_js() {\n    \n    if (root.Bokeh !== undefined || force === true) {\n      \n    for (var i = 0; i < inline_js.length; i++) {\n      inline_js[i].call(root, root.Bokeh);\n    }\n    if (force === true) {\n        display_loaded();\n      }} else if (Date.now() < root._bokeh_timeout) {\n      setTimeout(run_inline_js, 100);\n    } else if (!root._bokeh_failed_load) {\n      console.log(\"Bokeh: BokehJS failed to load within specified timeout.\");\n      root._bokeh_failed_load = true;\n    } else if (force !== true) {\n      var cell = $(document.getElementById(\"2291\")).parents('.cell').data().cell;\n      cell.output_area.append_execute_result(NB_LOAD_WARNING)\n    }\n\n  }\n\n  if (root._bokeh_is_loading === 0) {\n    console.debug(\"Bokeh: BokehJS loaded, going straight to plotting\");\n    run_inline_js();\n  } else {\n    load_libs(css_urls, js_urls, function() {\n      console.debug(\"Bokeh: BokehJS plotting callback run at\", now());\n      run_inline_js();\n    });\n  }\n}(window));"
     },
     "metadata": {},
     "output_type": "display_data"
    },
    {
     "data": {
      "text/html": [
       "\n",
       "\n",
       "\n",
       "\n",
       "\n",
       "\n",
       "  <div class=\"bk-root\" id=\"15b81a99-7af3-4d83-a043-0e327fe2d503\" data-root-id=\"2402\"></div>\n"
      ]
     },
     "metadata": {},
     "output_type": "display_data"
    },
    {
     "data": {
      "application/javascript": [
       "(function(root) {\n",
       "  function embed_document(root) {\n",
       "    \n",
       "  var docs_json = {\"fecd03f8-63b3-4596-8546-37a9f9f43d56\":{\"roots\":{\"references\":[{\"attributes\":{\"children\":[{\"id\":\"2356\"},{\"id\":\"2401\"}]},\"id\":\"2402\",\"type\":\"Column\"},{\"attributes\":{},\"id\":\"2398\",\"type\":\"UnionRenderers\"},{\"attributes\":{},\"id\":\"2399\",\"type\":\"Selection\"},{\"attributes\":{},\"id\":\"2383\",\"type\":\"BasicTickFormatter\"},{\"attributes\":{},\"id\":\"2385\",\"type\":\"BasicTickFormatter\"},{\"attributes\":{},\"id\":\"2387\",\"type\":\"UnionRenderers\"},{\"attributes\":{},\"id\":\"2388\",\"type\":\"Selection\"},{\"attributes\":{\"data_source\":{\"id\":\"2293\"},\"glyph\":{\"id\":\"2323\"},\"hover_glyph\":null,\"muted_glyph\":null,\"view\":{\"id\":\"2325\"}},\"id\":\"2324\",\"type\":\"GlyphRenderer\"},{\"attributes\":{},\"id\":\"2393\",\"type\":\"LinearScale\"},{\"attributes\":{\"active_drag\":\"auto\",\"active_inspect\":\"auto\",\"active_multi\":null,\"active_scroll\":\"auto\",\"active_tap\":\"auto\"},\"id\":\"2392\",\"type\":\"Toolbar\"},{\"attributes\":{},\"id\":\"2391\",\"type\":\"LinearScale\"},{\"attributes\":{\"data\":{\"xi\":[1980,1991,2000,2010],\"yi\":{\"__ndarray__\":\"AwAAQP79VUADAACgFuRXQEi/fR04T1hAhiAHJcyaWEA=\",\"dtype\":\"float64\",\"order\":\"little\",\"shape\":[4]}},\"selected\":{\"id\":\"2388\"},\"selection_policy\":{\"id\":\"2387\"}},\"id\":\"2294\",\"type\":\"ColumnDataSource\"},{\"attributes\":{\"end\":2021,\"start\":1965},\"id\":\"2311\",\"type\":\"Range1d\"},{\"attributes\":{\"data\":{\"xi\":[1990,1992,1993,1994,1995,1996,1997,1998,1999,2000,2001,2002,2003,2004,2005,2006,2007,2008,2009,2010,2011,2012,2013,2014,2015,2016],\"yi\":{\"__ndarray__\":\"AAAAAAAAAABuujVO4ipRP2fOMj/CJpo/mjt0Jt9/uT9zH+a2cKXCPyqmhsHyQ+s/WlV4lYp1AkAeVRof0AEbQEy2y8hqnChAwPPFvX1iNUBVavZAK7I6QCfVoUdKK0BA8N1JuE58QUCeYHs9SiBFQN6ul6aIUEhACKGLn6nRSUCamZmZmdlLQGZmZmZm5ktAMzMzMzPzS0BmZmZmZiZMQAAAAAAAgE5AMzMzMzNzUEDX6M2PXIdMQIpB3Kws1U9ASSvfrxnEUUCSHX6rc7JTQA==\",\"dtype\":\"float64\",\"order\":\"little\",\"shape\":[26]}},\"selected\":{\"id\":\"2366\"},\"selection_policy\":{\"id\":\"2365\"}},\"id\":\"2292\",\"type\":\"ColumnDataSource\"},{\"attributes\":{},\"id\":\"2394\",\"type\":\"BasicTickFormatter\"},{\"attributes\":{},\"id\":\"2396\",\"type\":\"BasicTickFormatter\"},{\"attributes\":{\"end\":2021,\"start\":1985},\"id\":\"2296\",\"type\":\"Range1d\"},{\"attributes\":{\"axis_line_color\":null,\"formatter\":{\"id\":\"2385\"},\"ticker\":{\"id\":\"2334\"}},\"id\":\"2332\",\"type\":\"LinearAxis\"},{\"attributes\":{\"axis_line_color\":null,\"formatter\":{\"id\":\"2396\"},\"ticker\":{\"id\":\"2349\"}},\"id\":\"2347\",\"type\":\"LinearAxis\"},{\"attributes\":{},\"id\":\"2365\",\"type\":\"UnionRenderers\"},{\"attributes\":{\"end\":348061963396.37604,\"start\":-6135829086.63269},\"id\":\"2342\",\"type\":\"Range1d\"},{\"attributes\":{},\"id\":\"2366\",\"type\":\"Selection\"},{\"attributes\":{\"end\":2021,\"start\":1965},\"id\":\"2341\",\"type\":\"Range1d\"},{\"attributes\":{\"background_fill_color\":\"#efefef\",\"below\":[{\"id\":\"2332\"}],\"center\":[{\"id\":\"2335\"},{\"id\":\"2337\"}],\"left\":[{\"id\":\"2333\"}],\"plot_height\":400,\"plot_width\":400,\"renderers\":[{\"id\":\"2339\"}],\"title\":{\"id\":\"2331\"},\"toolbar\":{\"id\":\"2381\"},\"toolbar_location\":null,\"x_range\":{\"id\":\"2326\"},\"x_scale\":{\"id\":\"2382\"},\"y_range\":{\"id\":\"2327\"},\"y_scale\":{\"id\":\"2380\"}},\"id\":\"2328\",\"type\":\"Plot\"},{\"attributes\":{},\"id\":\"2334\",\"type\":\"BasicTicker\"},{\"attributes\":{\"axis\":null,\"dimension\":1,\"ticker\":{\"id\":\"2336\"}},\"id\":\"2337\",\"type\":\"Grid\"},{\"attributes\":{\"axis_line_color\":null,\"formatter\":{\"id\":\"2383\"},\"ticker\":{\"id\":\"2336\"}},\"id\":\"2333\",\"type\":\"LinearAxis\"},{\"attributes\":{\"axis\":null,\"ticker\":{\"id\":\"2334\"}},\"id\":\"2335\",\"type\":\"Grid\"},{\"attributes\":{\"data_source\":{\"id\":\"2294\"},\"glyph\":{\"id\":\"2338\"},\"hover_glyph\":null,\"muted_glyph\":null,\"view\":{\"id\":\"2340\"}},\"id\":\"2339\",\"type\":\"GlyphRenderer\"},{\"attributes\":{},\"id\":\"2336\",\"type\":\"BasicTicker\"},{\"attributes\":{},\"id\":\"2349\",\"type\":\"BasicTicker\"},{\"attributes\":{},\"id\":\"2371\",\"type\":\"LinearScale\"},{\"attributes\":{\"data\":{\"xi\":[1970,1971,1972,1973,1974,1975,1976,1977,1978,1979,1980,1981,1982,1983,1984,1985,1986,1987,1988,1989,1990,1991,1992,1993,1994,1995,1996,1997,1998,1999,2000,2001,2002,2003,2004,2005,2006,2007,2008,2009,2010,2011,2012,2013,2014,2015,2016],\"yi\":{\"__ndarray__\":\"AAAAQGGbZEEAAABAiBllQQAAAGBrmWVBAAAAQH8cZkEAAAAggKRmQQAAACCoMmdBAAAAoFPIZ0EAAABAYmVoQQAAAKC/B2lBAAAAIF2saUEAAACgXVFqQQAAAABK9WpBAAAAIL2Za0EAAAAgp0NsQQAAACDJ+WxBAAAAwKvAbUEAAADgfppuQQAAAIDmhG9BAAAAQCA9cEEAAAAwPrlwQQAAABDjM3FBAAAA4MqrcUEAAABAxyFyQQAAAHCDl3JBAAAA4JwPc0EAAADQzotzQQAAAJClDHRBAAAA0PiQdEEAAACAyxZ1QQAAAOBRm3VBAAAAgIwcdkEAAACw3Zl2QQAAALDpE3dBAAAA8IOLd0EAAADQBQJ4QQAAABCAeHhBAAAA4LTueEEAAABQc2R5QQAAANDp2nlBAAAAcJhTekEAAAAQWs96QQAAAID/TntBAAAAgLHRe0EAAABAnlR8QQAAABDj03xBAAAAMMVMfUEAAAAQFL59QQ==\",\"dtype\":\"float64\",\"order\":\"little\",\"shape\":[47]}},\"selected\":{\"id\":\"2377\"},\"selection_policy\":{\"id\":\"2376\"}},\"id\":\"2293\",\"type\":\"ColumnDataSource\"},{\"attributes\":{\"fill_alpha\":{\"value\":0.5},\"fill_color\":{\"value\":\"#cc6633\"},\"line_color\":{\"value\":\"#cc6633\"},\"size\":{\"units\":\"screen\",\"value\":8},\"x\":{\"field\":\"xi\"},\"y\":{\"field\":\"yi\"}},\"id\":\"2338\",\"type\":\"Circle\"},{\"attributes\":{\"style\":{\"color\":\"black\",\"font-size\":\"200%\",\"text-align\":\"center\"},\"text\":\"Pays : Malaysia\"},\"id\":\"2356\",\"type\":\"Div\"},{\"attributes\":{\"source\":{\"id\":\"2294\"}},\"id\":\"2340\",\"type\":\"CDSView\"},{\"attributes\":{\"active_drag\":\"auto\",\"active_inspect\":\"auto\",\"active_multi\":null,\"active_scroll\":\"auto\",\"active_tap\":\"auto\"},\"id\":\"2370\",\"type\":\"Toolbar\"},{\"attributes\":{},\"id\":\"2369\",\"type\":\"LinearScale\"},{\"attributes\":{\"text\":\"GDP (USD)\"},\"id\":\"2346\",\"type\":\"Title\"},{\"attributes\":{\"background_fill_color\":\"#efefef\",\"below\":[{\"id\":\"2347\"}],\"center\":[{\"id\":\"2350\"},{\"id\":\"2352\"}],\"left\":[{\"id\":\"2348\"}],\"plot_height\":400,\"plot_width\":400,\"renderers\":[{\"id\":\"2354\"}],\"title\":{\"id\":\"2346\"},\"toolbar\":{\"id\":\"2392\"},\"toolbar_location\":null,\"x_range\":{\"id\":\"2341\"},\"x_scale\":{\"id\":\"2393\"},\"y_range\":{\"id\":\"2342\"},\"y_scale\":{\"id\":\"2391\"}},\"id\":\"2343\",\"type\":\"Plot\"},{\"attributes\":{\"axis\":null,\"dimension\":1,\"ticker\":{\"id\":\"2351\"}},\"id\":\"2352\",\"type\":\"Grid\"},{\"attributes\":{\"axis\":null,\"dimension\":1,\"ticker\":{\"id\":\"2306\"}},\"id\":\"2307\",\"type\":\"Grid\"},{\"attributes\":{\"axis_line_color\":null,\"formatter\":{\"id\":\"2394\"},\"ticker\":{\"id\":\"2351\"}},\"id\":\"2348\",\"type\":\"LinearAxis\"},{\"attributes\":{\"axis\":null,\"ticker\":{\"id\":\"2349\"}},\"id\":\"2350\",\"type\":\"Grid\"},{\"attributes\":{\"data_source\":{\"id\":\"2295\"},\"glyph\":{\"id\":\"2353\"},\"hover_glyph\":null,\"muted_glyph\":null,\"view\":{\"id\":\"2355\"}},\"id\":\"2354\",\"type\":\"GlyphRenderer\"},{\"attributes\":{},\"id\":\"2351\",\"type\":\"BasicTicker\"},{\"attributes\":{\"fill_alpha\":{\"value\":0.5},\"fill_color\":{\"value\":\"#cc6633\"},\"line_color\":{\"value\":\"#cc6633\"},\"size\":{\"units\":\"screen\",\"value\":8},\"x\":{\"field\":\"xi\"},\"y\":{\"field\":\"yi\"}},\"id\":\"2353\",\"type\":\"Circle\"},{\"attributes\":{\"children\":[[{\"id\":\"2298\"},0,0],[{\"id\":\"2313\"},0,1],[{\"id\":\"2328\"},1,0],[{\"id\":\"2343\"},1,1]]},\"id\":\"2401\",\"type\":\"GridBox\"},{\"attributes\":{\"source\":{\"id\":\"2295\"}},\"id\":\"2355\",\"type\":\"CDSView\"},{\"attributes\":{\"axis_line_color\":null,\"formatter\":{\"id\":\"2374\"},\"ticker\":{\"id\":\"2319\"}},\"id\":\"2317\",\"type\":\"LinearAxis\"},{\"attributes\":{},\"id\":\"2360\",\"type\":\"LinearScale\"},{\"attributes\":{},\"id\":\"2372\",\"type\":\"BasicTickFormatter\"},{\"attributes\":{\"data\":{\"xi\":[1970,1971,1972,1973,1974,1975,1976,1977,1978,1979,1980,1981,1982,1983,1984,1985,1986,1987,1988,1989,1990,1991,1992,1993,1994,1995,1996,1997,1998,1999,2000,2001,2002,2003,2004,2005,2006,2007,2008,2009,2010,2011,2012,2013,2014,2015,2016],\"yi\":{\"__ndarray__\":\"AcErNFLK7EGRm7DNb5/vQWSvS7yiyfJBQLDq0QCM/EEpohC8FLABQnW8+4QDUgFCzoiHUhyVBEIjW7lnWnkIQnbP+SFIeA5CWMpkyrvBE0LQM4jyZs4WQiCBlwyNSRdCoyNe2qr2GELTDVb5PEMcQhXM1izDnB9C4csdtbIOHUL3tUFdb9QZQsPkTNC2+B1CKP50XLxsIELV2J4yHBciQqMDTk0XgCRCQQIqw0biJkKD4PNZRo0rQsU+Qo9wJi9CG05uuTtXMULfoDIIOqc0Quebxh1tezdC9N0lIshIN0KP5CqIiM0wQs1rqBelbTJC9RqKz03WNULNa2iuWpo1Qh/lNZnYejdCkQ2lsZKoOULhGorrqQs9Qp2/KUymtUBCPRoukJHwQkJmpt+1LIhGQlTDeADI3kpCLcct7L6LR0J9b+hSFrBNQhkUtIfUV1FCickgbJFNUkKovn5+NNFSQhEYIQyErVNC5Shg+zVBUUKuR4PNukJRQg==\",\"dtype\":\"float64\",\"order\":\"little\",\"shape\":[47]}},\"selected\":{\"id\":\"2399\"},\"selection_policy\":{\"id\":\"2398\"}},\"id\":\"2295\",\"type\":\"ColumnDataSource\"},{\"attributes\":{\"active_drag\":\"auto\",\"active_inspect\":\"auto\",\"active_multi\":null,\"active_scroll\":\"auto\",\"active_tap\":\"auto\"},\"id\":\"2359\",\"type\":\"Toolbar\"},{\"attributes\":{},\"id\":\"2358\",\"type\":\"LinearScale\"},{\"attributes\":{},\"id\":\"2374\",\"type\":\"BasicTickFormatter\"},{\"attributes\":{\"end\":80.78830993,\"start\":-2.0},\"id\":\"2297\",\"type\":\"Range1d\"},{\"attributes\":{\"text\":\"Internet users per 100 people\"},\"id\":\"2301\",\"type\":\"Title\"},{\"attributes\":{\"background_fill_color\":\"#efefef\",\"below\":[{\"id\":\"2302\"}],\"center\":[{\"id\":\"2305\"},{\"id\":\"2307\"}],\"left\":[{\"id\":\"2303\"}],\"plot_height\":400,\"plot_width\":400,\"renderers\":[{\"id\":\"2309\"}],\"title\":{\"id\":\"2301\"},\"toolbar\":{\"id\":\"2359\"},\"toolbar_location\":null,\"x_range\":{\"id\":\"2296\"},\"x_scale\":{\"id\":\"2360\"},\"y_range\":{\"id\":\"2297\"},\"y_scale\":{\"id\":\"2358\"}},\"id\":\"2298\",\"type\":\"Plot\"},{\"attributes\":{\"axis_line_color\":null,\"formatter\":{\"id\":\"2363\"},\"ticker\":{\"id\":\"2304\"}},\"id\":\"2302\",\"type\":\"LinearAxis\"},{\"attributes\":{},\"id\":\"2304\",\"type\":\"BasicTicker\"},{\"attributes\":{\"axis\":null,\"ticker\":{\"id\":\"2304\"}},\"id\":\"2305\",\"type\":\"Grid\"},{\"attributes\":{\"axis_line_color\":null,\"formatter\":{\"id\":\"2361\"},\"ticker\":{\"id\":\"2306\"}},\"id\":\"2303\",\"type\":\"LinearAxis\"},{\"attributes\":{\"data_source\":{\"id\":\"2292\"},\"glyph\":{\"id\":\"2308\"},\"hover_glyph\":null,\"muted_glyph\":null,\"view\":{\"id\":\"2310\"}},\"id\":\"2309\",\"type\":\"GlyphRenderer\"},{\"attributes\":{},\"id\":\"2376\",\"type\":\"UnionRenderers\"},{\"attributes\":{},\"id\":\"2319\",\"type\":\"BasicTicker\"},{\"attributes\":{},\"id\":\"2377\",\"type\":\"Selection\"},{\"attributes\":{},\"id\":\"2306\",\"type\":\"BasicTicker\"},{\"attributes\":{\"fill_alpha\":{\"value\":0.5},\"fill_color\":{\"value\":\"#cc6633\"},\"line_color\":{\"value\":\"#cc6633\"},\"size\":{\"units\":\"screen\",\"value\":8},\"x\":{\"field\":\"xi\"},\"y\":{\"field\":\"yi\"}},\"id\":\"2308\",\"type\":\"Circle\"},{\"attributes\":{},\"id\":\"2361\",\"type\":\"BasicTickFormatter\"},{\"attributes\":{\"end\":2015,\"start\":1975},\"id\":\"2326\",\"type\":\"Range1d\"},{\"attributes\":{\"source\":{\"id\":\"2292\"}},\"id\":\"2310\",\"type\":\"CDSView\"},{\"attributes\":{\"end\":100.41871,\"start\":85.9686431884766},\"id\":\"2327\",\"type\":\"Range1d\"},{\"attributes\":{},\"id\":\"2363\",\"type\":\"BasicTickFormatter\"},{\"attributes\":{\"text\":\"Literacy Rate (%)\"},\"id\":\"2331\",\"type\":\"Title\"},{\"attributes\":{\"source\":{\"id\":\"2293\"}},\"id\":\"2325\",\"type\":\"CDSView\"},{\"attributes\":{\"text\":\"Population\"},\"id\":\"2316\",\"type\":\"Title\"},{\"attributes\":{},\"id\":\"2382\",\"type\":\"LinearScale\"},{\"attributes\":{\"background_fill_color\":\"#efefef\",\"below\":[{\"id\":\"2317\"}],\"center\":[{\"id\":\"2320\"},{\"id\":\"2322\"}],\"left\":[{\"id\":\"2318\"}],\"plot_height\":400,\"plot_width\":400,\"renderers\":[{\"id\":\"2324\"}],\"title\":{\"id\":\"2316\"},\"toolbar\":{\"id\":\"2370\"},\"toolbar_location\":null,\"x_range\":{\"id\":\"2311\"},\"x_scale\":{\"id\":\"2371\"},\"y_range\":{\"id\":\"2312\"},\"y_scale\":{\"id\":\"2369\"}},\"id\":\"2313\",\"type\":\"Plot\"},{\"attributes\":{\"active_drag\":\"auto\",\"active_inspect\":\"auto\",\"active_multi\":null,\"active_scroll\":\"auto\",\"active_tap\":\"auto\"},\"id\":\"2381\",\"type\":\"Toolbar\"},{\"attributes\":{\"fill_alpha\":{\"value\":0.5},\"fill_color\":{\"value\":\"#cc6633\"},\"line_color\":{\"value\":\"#cc6633\"},\"size\":{\"units\":\"screen\",\"value\":8},\"x\":{\"field\":\"xi\"},\"y\":{\"field\":\"yi\"}},\"id\":\"2323\",\"type\":\"Circle\"},{\"attributes\":{\"axis\":null,\"dimension\":1,\"ticker\":{\"id\":\"2321\"}},\"id\":\"2322\",\"type\":\"Grid\"},{\"attributes\":{},\"id\":\"2380\",\"type\":\"LinearScale\"},{\"attributes\":{\"axis_line_color\":null,\"formatter\":{\"id\":\"2372\"},\"ticker\":{\"id\":\"2321\"}},\"id\":\"2318\",\"type\":\"LinearAxis\"},{\"attributes\":{\"axis\":null,\"ticker\":{\"id\":\"2319\"}},\"id\":\"2320\",\"type\":\"Grid\"},{\"attributes\":{\"end\":32187265.0,\"start\":9803978.0},\"id\":\"2312\",\"type\":\"Range1d\"},{\"attributes\":{},\"id\":\"2321\",\"type\":\"BasicTicker\"}],\"root_ids\":[\"2402\"]},\"title\":\"Bokeh Application\",\"version\":\"2.1.1\"}};\n",
       "  var render_items = [{\"docid\":\"fecd03f8-63b3-4596-8546-37a9f9f43d56\",\"root_ids\":[\"2402\"],\"roots\":{\"2402\":\"15b81a99-7af3-4d83-a043-0e327fe2d503\"}}];\n",
       "  root.Bokeh.embed.embed_items_notebook(docs_json, render_items);\n",
       "\n",
       "  }\n",
       "  if (root.Bokeh !== undefined) {\n",
       "    embed_document(root);\n",
       "  } else {\n",
       "    var attempts = 0;\n",
       "    var timer = setInterval(function(root) {\n",
       "      if (root.Bokeh !== undefined) {\n",
       "        clearInterval(timer);\n",
       "        embed_document(root);\n",
       "      } else {\n",
       "        attempts++;\n",
       "        if (attempts > 100) {\n",
       "          clearInterval(timer);\n",
       "          console.log(\"Bokeh: ERROR: Unable to run BokehJS code because BokehJS library is missing\");\n",
       "        }\n",
       "      }\n",
       "    }, 10, root)\n",
       "  }\n",
       "})(window);"
      ],
      "application/vnd.bokehjs_exec.v0+json": ""
     },
     "metadata": {
      "application/vnd.bokehjs_exec.v0+json": {
       "id": "2402"
      }
     },
     "output_type": "display_data"
    }
   ],
   "source": [
    "\n",
    "\n",
    "# from bokeh.document import Document\n",
    "# from bokeh.embed import file_html\n",
    "from bokeh.layouts import column, gridplot\n",
    "from bokeh.models import (Circle, ColumnDataSource, Div, Grid,\n",
    "                          Line, LinearAxis, Plot, Range1d)\n",
    "from bokeh.models import Div\n",
    "\n",
    "\n",
    "output_notebook()\n",
    "\n",
    "country = 'Malaysia'\n",
    "indicateurs = [code_indic_internet, code_indic_pop,\n",
    "               code_indic_literacy, code_indic_gdp]\n",
    "df_source = []\n",
    "circles_sources_list = []\n",
    "for code_indic in indicateurs:\n",
    "    df = data[(data['Country Name'] == country) & (data['Indicator Code'] == code_indic)]\n",
    "    df = df[years].T\n",
    "    df = df.dropna()\n",
    "    df['Years'] = df.index.map(int)\n",
    "    df = df.rename(columns={df.columns[0]:'Data'})\n",
    "    df_source.append(df)\n",
    "    \n",
    "    circles_src = ColumnDataSource(data = dict(xi = df['Years'], yi = df['Data']))\n",
    "    circles_sources_list.append(circles_src)\n",
    "    \n",
    "\n",
    "def make_plot(title, xname, yname, circles_source, xdr, ydr):\n",
    "    plot = Plot(x_range=xdr, y_range=ydr, plot_width=400, plot_height=400,\n",
    "                background_fill_color='#efefef')\n",
    "    plot.title.text = title\n",
    "\n",
    "    xaxis = LinearAxis(axis_line_color=None)\n",
    "    plot.add_layout(xaxis, 'below')\n",
    "\n",
    "    yaxis = LinearAxis(axis_line_color=None)\n",
    "    plot.add_layout(yaxis, 'left')\n",
    "\n",
    "    plot.add_layout(Grid(dimension=0, ticker=xaxis.ticker))\n",
    "    plot.add_layout(Grid(dimension=1, ticker=yaxis.ticker))\n",
    "\n",
    "#     line = Line(x='x', y='y', line_color=\"#666699\", line_width=2)\n",
    "#     plot.add_glyph(lines_source, line)\n",
    "\n",
    "    circle = Circle(\n",
    "        x=xname, y=yname, size=8,\n",
    "        fill_color=\"#cc6633\", line_color=\"#cc6633\", fill_alpha=0.5\n",
    "    )\n",
    "    plot.add_glyph(circles_source, circle)\n",
    "\n",
    "    return plot\n",
    "\n",
    "#where will this comment show up\n",
    "I   = make_plot('Internet users per 100 people',  'xi',   'yi', circles_sources_list[0],\n",
    "                Range1d(start=min(df_source[0]['Years']) - 5, end=max(df_source[0]['Years']) + 5), \n",
    "                Range1d(start=min(df_source[0]['Data']) - 2, end=max(df_source[0]['Data']) + 2))\n",
    "\n",
    "II  = make_plot('Population',  'xi',  'yi', circles_sources_list[1],\n",
    "                Range1d(start=min(df_source[1]['Years']) - 5, end=max(df_source[1]['Years']) + 5),\n",
    "                Range1d(start=min(df_source[1]['Data']) - 1000000, end=max(df_source[1]['Data']) + 1000000))\n",
    "\n",
    "III = make_plot('Literacy Rate (%)', 'xi', 'yi', circles_sources_list[2],\n",
    "                Range1d(start=min(df_source[2]['Years']) - 5, end=max(df_source[2]['Years']) + 5),\n",
    "                Range1d(start=min(df_source[2]['Data']) - 2, end=max(df_source[2]['Data']) + 2 ))\n",
    "\n",
    "IV  = make_plot('GDP (USD)',  'xi',  'yi',  circles_sources_list[3],\n",
    "                Range1d(start=min(df_source[3]['Years']) - 5, end=max(df_source[3]['Years']) + 5),\n",
    "                Range1d(start=min(df_source[3]['Data']) - 10000000000, end=max(df_source[3]['Data']) + 10000000000))\n",
    "\n",
    "\n",
    "title = Div(text=f\"Pays : {country}\", style={'font-size': '200%', 'color': 'black', 'text-align':'center'})\n",
    "\n",
    "#title = Div(text=\"\"\" f\"Pays : {country}\" \"\"\")\n",
    "\n",
    "grid = gridplot([[I, II], [III, IV]], toolbar_location=None)\n",
    "\n",
    "show(column(title, grid))"
   ]
  },
  {
   "cell_type": "code",
   "execution_count": 241,
   "metadata": {},
   "outputs": [
    {
     "data": {
      "image/png": "[encoded data removed]",
      "text/plain": [
       "<Figure size 864x576 with 1 Axes>"
      ]
     },
     "metadata": {},
     "output_type": "display_data"
    }
   ],
   "source": [
    "get_graph('Brazil', code_indic_internet)"
   ]
  },
  {
   "cell_type": "code",
   "execution_count": 242,
   "metadata": {},
   "outputs": [
    {
     "data": {
      "text/plain": [
       "584"
      ]
     },
     "execution_count": 242,
     "metadata": {},
     "output_type": "execute_result"
    }
   ],
   "source": [
    "indicateurs_literacy = []\n",
    "indicateurs = data['Indicator_name'].unique()\n",
    "for indicateur in indicateurs:\n",
    "    indicateur_clean = indicateur.replace(',', '')\n",
    "    mots = indicateur_clean.split(' ')\n",
    "    if 'secondary' in [mot.lower() for mot in mots]:\n",
    "        indicateurs_literacy.append(indicateur)\n",
    "len(indicateurs_literacy)"
   ]
  },
  {
   "cell_type": "code",
   "execution_count": 243,
   "metadata": {},
   "outputs": [],
   "source": [
    "\n",
    "# indicateurs = indicateurs_literacy\n",
    "# for indicateur in indicateurs:\n",
    "#     indicateur_clean = indicateur.replace(',', '')\n",
    "#     mots = indicateur_clean.split(' ')\n",
    "#     if 'secondary' in [mot.lower() for mot in mots]:\n",
    "#         indicateurs_literacy.append(indicateur)\n",
    "# len(indicateurs_literacy)"
   ]
  },
  {
   "cell_type": "code",
   "execution_count": 244,
   "metadata": {},
   "outputs": [
    {
     "data": {
      "text/plain": [
       "584"
      ]
     },
     "execution_count": 244,
     "metadata": {},
     "output_type": "execute_result"
    }
   ],
   "source": [
    "len(indicateurs_literacy)"
   ]
  },
  {
   "cell_type": "code",
   "execution_count": 257,
   "metadata": {},
   "outputs": [],
   "source": [
    "indic_enrol = 'Wittgenstein Projection: Percentage of the population age 20-39 by highest level of educational attainment. Lower Secondary. Total'"
   ]
  },
  {
   "cell_type": "code",
   "execution_count": 260,
   "metadata": {},
   "outputs": [
    {
     "data": {
      "text/plain": [
       "\"Share of the population of the stated age group that has completed lower secondary or incomplete upper secondary education as the highest level of educational attainment. Projections are based on collected census and survey data for the base year (around 2010) and the Medium Shared Socioeconomic Pathways (SSP2) projection model. The SSP2 is a middle-of-the-road scenario that combines medium fertility with medium mortality, medium migration, and the Global Education Trend (GET) education scenario. For more information and other projection models, consult the Wittgenstein Centre for Demography and Global Human Capital's website: http://www.oeaw.ac.at/vid/dataexplorer/\""
      ]
     },
     "execution_count": 260,
     "metadata": {},
     "output_type": "execute_result"
    }
   ],
   "source": [
    "data[data['Indicator_name'] == indic_enrol]['Long definition'].iloc[0]"
   ]
  },
  {
   "cell_type": "code",
   "execution_count": null,
   "metadata": {},
   "outputs": [],
   "source": []
  }
 ],
 "metadata": {
  "kernelspec": {
   "display_name": "Python 3",
   "language": "python",
   "name": "python3"
  },
  "language_info": {
   "codemirror_mode": {
    "name": "ipython",
    "version": 3
   },
   "file_extension": ".py",
   "mimetype": "text/x-python",
   "name": "python",
   "nbconvert_exporter": "python",
   "pygments_lexer": "ipython3",
   "version": "3.8.3"
  }
 },
 "nbformat": 4,
 "nbformat_minor": 4
}
