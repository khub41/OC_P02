{
 "cells": [
  {
   "cell_type": "code",
   "execution_count": 1,
   "metadata": {},
   "outputs": [],
   "source": [
    "import pandas as pd\n",
    "import matplotlib.pyplot as plt\n",
    "import seaborn as sns\n",
    "import numpy as np"
   ]
  },
  {
   "cell_type": "code",
   "execution_count": 2,
   "metadata": {},
   "outputs": [
    {
     "name": "stderr",
     "output_type": "stream",
     "text": [
      "/Users/hugorebeix/opt/anaconda3/lib/python3.8/site-packages/IPython/core/interactiveshell.py:3071: DtypeWarning: Columns (95,96,97,98,100,102,103,104,105,106,107,108,109,110,111,112,113,114,115,116,117,120,122) have mixed types.Specify dtype option on import or set low_memory=False.\n",
      "  has_raised = await self.run_ast_nodes(code_ast.body, cell_name,\n"
     ]
    }
   ],
   "source": [
    "data = pd.read_csv('data/data_raw.csv')"
   ]
  },
  {
   "cell_type": "code",
   "execution_count": 3,
   "metadata": {},
   "outputs": [
    {
     "data": {
      "text/plain": [
       "(870492, 124)"
      ]
     },
     "execution_count": 3,
     "metadata": {},
     "output_type": "execute_result"
    }
   ],
   "source": [
    "data.shape"
   ]
  },
  {
   "cell_type": "code",
   "execution_count": 4,
   "metadata": {},
   "outputs": [],
   "source": [
    "describe = data.describe(include='all')"
   ]
  },
  {
   "cell_type": "code",
   "execution_count": 5,
   "metadata": {},
   "outputs": [
    {
     "data": {
      "text/html": [
       "<div>\n",
       "<style scoped>\n",
       "    .dataframe tbody tr th:only-of-type {\n",
       "        vertical-align: middle;\n",
       "    }\n",
       "\n",
       "    .dataframe tbody tr th {\n",
       "        vertical-align: top;\n",
       "    }\n",
       "\n",
       "    .dataframe thead th {\n",
       "        text-align: right;\n",
       "    }\n",
       "</style>\n",
       "<table border=\"1\" class=\"dataframe\">\n",
       "  <thead>\n",
       "    <tr style=\"text-align: right;\">\n",
       "      <th></th>\n",
       "      <th>Unnamed: 0</th>\n",
       "      <th>Country Name</th>\n",
       "      <th>Country Code</th>\n",
       "      <th>Indicator Name_x</th>\n",
       "      <th>Indicator Code</th>\n",
       "      <th>1970</th>\n",
       "      <th>1971</th>\n",
       "      <th>1972</th>\n",
       "      <th>1973</th>\n",
       "      <th>1974</th>\n",
       "      <th>...</th>\n",
       "      <th>Latest household survey</th>\n",
       "      <th>Source of most recent Income and expenditure data</th>\n",
       "      <th>Vital registration complete</th>\n",
       "      <th>Latest agricultural census</th>\n",
       "      <th>Latest industrial data</th>\n",
       "      <th>Latest trade data</th>\n",
       "      <th>Latest water withdrawal data</th>\n",
       "      <th>Unnamed: 31</th>\n",
       "      <th>DESCRIPTION</th>\n",
       "      <th>Unnamed: 3</th>\n",
       "    </tr>\n",
       "  </thead>\n",
       "  <tbody>\n",
       "    <tr>\n",
       "      <th>count</th>\n",
       "      <td>870492.000000</td>\n",
       "      <td>870492</td>\n",
       "      <td>870492</td>\n",
       "      <td>870492</td>\n",
       "      <td>870492</td>\n",
       "      <td>7.148000e+04</td>\n",
       "      <td>3.444300e+04</td>\n",
       "      <td>3.451400e+04</td>\n",
       "      <td>3.446700e+04</td>\n",
       "      <td>3.467500e+04</td>\n",
       "      <td>...</td>\n",
       "      <td>509292</td>\n",
       "      <td>577920</td>\n",
       "      <td>400932</td>\n",
       "      <td>512904.0</td>\n",
       "      <td>386484.000000</td>\n",
       "      <td>668220.000000</td>\n",
       "      <td>646548.0</td>\n",
       "      <td>0.0</td>\n",
       "      <td>613</td>\n",
       "      <td>0.0</td>\n",
       "    </tr>\n",
       "    <tr>\n",
       "      <th>unique</th>\n",
       "      <td>NaN</td>\n",
       "      <td>241</td>\n",
       "      <td>241</td>\n",
       "      <td>3612</td>\n",
       "      <td>3612</td>\n",
       "      <td>NaN</td>\n",
       "      <td>NaN</td>\n",
       "      <td>NaN</td>\n",
       "      <td>NaN</td>\n",
       "      <td>NaN</td>\n",
       "      <td>...</td>\n",
       "      <td>60</td>\n",
       "      <td>75</td>\n",
       "      <td>2</td>\n",
       "      <td>44.0</td>\n",
       "      <td>NaN</td>\n",
       "      <td>NaN</td>\n",
       "      <td>21.0</td>\n",
       "      <td>NaN</td>\n",
       "      <td>97</td>\n",
       "      <td>NaN</td>\n",
       "    </tr>\n",
       "    <tr>\n",
       "      <th>top</th>\n",
       "      <td>NaN</td>\n",
       "      <td>Qatar</td>\n",
       "      <td>HND</td>\n",
       "      <td>PASEC: Average performance gap between 6th gra...</td>\n",
       "      <td>LO.EGRA.READ.0.CIN.2GRD</td>\n",
       "      <td>NaN</td>\n",
       "      <td>NaN</td>\n",
       "      <td>NaN</td>\n",
       "      <td>NaN</td>\n",
       "      <td>NaN</td>\n",
       "      <td>...</td>\n",
       "      <td>Multiple Indicator Cluster Survey (MICS), 2012</td>\n",
       "      <td>Integrated household survey (IHS), 2012</td>\n",
       "      <td>Yes</td>\n",
       "      <td>2010.0</td>\n",
       "      <td>NaN</td>\n",
       "      <td>NaN</td>\n",
       "      <td>2005.0</td>\n",
       "      <td>NaN</td>\n",
       "      <td>Data sources : United Nations World Population...</td>\n",
       "      <td>NaN</td>\n",
       "    </tr>\n",
       "    <tr>\n",
       "      <th>freq</th>\n",
       "      <td>NaN</td>\n",
       "      <td>3612</td>\n",
       "      <td>3612</td>\n",
       "      <td>241</td>\n",
       "      <td>241</td>\n",
       "      <td>NaN</td>\n",
       "      <td>NaN</td>\n",
       "      <td>NaN</td>\n",
       "      <td>NaN</td>\n",
       "      <td>NaN</td>\n",
       "      <td>...</td>\n",
       "      <td>36120</td>\n",
       "      <td>54180</td>\n",
       "      <td>397320</td>\n",
       "      <td>82920.0</td>\n",
       "      <td>NaN</td>\n",
       "      <td>NaN</td>\n",
       "      <td>144480.0</td>\n",
       "      <td>NaN</td>\n",
       "      <td>154</td>\n",
       "      <td>NaN</td>\n",
       "    </tr>\n",
       "    <tr>\n",
       "      <th>mean</th>\n",
       "      <td>435245.500000</td>\n",
       "      <td>NaN</td>\n",
       "      <td>NaN</td>\n",
       "      <td>NaN</td>\n",
       "      <td>NaN</td>\n",
       "      <td>1.997095e+09</td>\n",
       "      <td>4.388745e+09</td>\n",
       "      <td>4.739394e+09</td>\n",
       "      <td>5.264671e+09</td>\n",
       "      <td>5.565835e+09</td>\n",
       "      <td>...</td>\n",
       "      <td>NaN</td>\n",
       "      <td>NaN</td>\n",
       "      <td>NaN</td>\n",
       "      <td>NaN</td>\n",
       "      <td>2008.102804</td>\n",
       "      <td>2010.994595</td>\n",
       "      <td>NaN</td>\n",
       "      <td>NaN</td>\n",
       "      <td>NaN</td>\n",
       "      <td>NaN</td>\n",
       "    </tr>\n",
       "    <tr>\n",
       "      <th>std</th>\n",
       "      <td>251289.539602</td>\n",
       "      <td>NaN</td>\n",
       "      <td>NaN</td>\n",
       "      <td>NaN</td>\n",
       "      <td>NaN</td>\n",
       "      <td>1.218514e+11</td>\n",
       "      <td>1.833238e+11</td>\n",
       "      <td>1.944465e+11</td>\n",
       "      <td>2.091105e+11</td>\n",
       "      <td>2.144020e+11</td>\n",
       "      <td>...</td>\n",
       "      <td>NaN</td>\n",
       "      <td>NaN</td>\n",
       "      <td>NaN</td>\n",
       "      <td>NaN</td>\n",
       "      <td>2.604581</td>\n",
       "      <td>2.562723</td>\n",
       "      <td>NaN</td>\n",
       "      <td>NaN</td>\n",
       "      <td>NaN</td>\n",
       "      <td>NaN</td>\n",
       "    </tr>\n",
       "    <tr>\n",
       "      <th>min</th>\n",
       "      <td>0.000000</td>\n",
       "      <td>NaN</td>\n",
       "      <td>NaN</td>\n",
       "      <td>NaN</td>\n",
       "      <td>NaN</td>\n",
       "      <td>-1.435564e+00</td>\n",
       "      <td>-1.594625e+00</td>\n",
       "      <td>-3.056522e+00</td>\n",
       "      <td>-4.032582e+00</td>\n",
       "      <td>-4.213563e+00</td>\n",
       "      <td>...</td>\n",
       "      <td>NaN</td>\n",
       "      <td>NaN</td>\n",
       "      <td>NaN</td>\n",
       "      <td>NaN</td>\n",
       "      <td>2000.000000</td>\n",
       "      <td>1995.000000</td>\n",
       "      <td>NaN</td>\n",
       "      <td>NaN</td>\n",
       "      <td>NaN</td>\n",
       "      <td>NaN</td>\n",
       "    </tr>\n",
       "    <tr>\n",
       "      <th>25%</th>\n",
       "      <td>217622.750000</td>\n",
       "      <td>NaN</td>\n",
       "      <td>NaN</td>\n",
       "      <td>NaN</td>\n",
       "      <td>NaN</td>\n",
       "      <td>8.700000e-01</td>\n",
       "      <td>1.045615e+01</td>\n",
       "      <td>1.076718e+01</td>\n",
       "      <td>1.116327e+01</td>\n",
       "      <td>1.131197e+01</td>\n",
       "      <td>...</td>\n",
       "      <td>NaN</td>\n",
       "      <td>NaN</td>\n",
       "      <td>NaN</td>\n",
       "      <td>NaN</td>\n",
       "      <td>2007.000000</td>\n",
       "      <td>2011.000000</td>\n",
       "      <td>NaN</td>\n",
       "      <td>NaN</td>\n",
       "      <td>NaN</td>\n",
       "      <td>NaN</td>\n",
       "    </tr>\n",
       "    <tr>\n",
       "      <th>50%</th>\n",
       "      <td>435245.500000</td>\n",
       "      <td>NaN</td>\n",
       "      <td>NaN</td>\n",
       "      <td>NaN</td>\n",
       "      <td>NaN</td>\n",
       "      <td>6.570000e+00</td>\n",
       "      <td>7.207677e+01</td>\n",
       "      <td>7.685992e+01</td>\n",
       "      <td>7.963683e+01</td>\n",
       "      <td>8.090797e+01</td>\n",
       "      <td>...</td>\n",
       "      <td>NaN</td>\n",
       "      <td>NaN</td>\n",
       "      <td>NaN</td>\n",
       "      <td>NaN</td>\n",
       "      <td>2009.000000</td>\n",
       "      <td>2012.000000</td>\n",
       "      <td>NaN</td>\n",
       "      <td>NaN</td>\n",
       "      <td>NaN</td>\n",
       "      <td>NaN</td>\n",
       "    </tr>\n",
       "    <tr>\n",
       "      <th>75%</th>\n",
       "      <td>652868.250000</td>\n",
       "      <td>NaN</td>\n",
       "      <td>NaN</td>\n",
       "      <td>NaN</td>\n",
       "      <td>NaN</td>\n",
       "      <td>6.387674e+01</td>\n",
       "      <td>6.452600e+04</td>\n",
       "      <td>6.653125e+04</td>\n",
       "      <td>6.973650e+04</td>\n",
       "      <td>7.127600e+04</td>\n",
       "      <td>...</td>\n",
       "      <td>NaN</td>\n",
       "      <td>NaN</td>\n",
       "      <td>NaN</td>\n",
       "      <td>NaN</td>\n",
       "      <td>2010.000000</td>\n",
       "      <td>2012.000000</td>\n",
       "      <td>NaN</td>\n",
       "      <td>NaN</td>\n",
       "      <td>NaN</td>\n",
       "      <td>NaN</td>\n",
       "    </tr>\n",
       "    <tr>\n",
       "      <th>max</th>\n",
       "      <td>870491.000000</td>\n",
       "      <td>NaN</td>\n",
       "      <td>NaN</td>\n",
       "      <td>NaN</td>\n",
       "      <td>NaN</td>\n",
       "      <td>1.903929e+13</td>\n",
       "      <td>1.986457e+13</td>\n",
       "      <td>2.100916e+13</td>\n",
       "      <td>2.238367e+13</td>\n",
       "      <td>2.282991e+13</td>\n",
       "      <td>...</td>\n",
       "      <td>NaN</td>\n",
       "      <td>NaN</td>\n",
       "      <td>NaN</td>\n",
       "      <td>NaN</td>\n",
       "      <td>2010.000000</td>\n",
       "      <td>2012.000000</td>\n",
       "      <td>NaN</td>\n",
       "      <td>NaN</td>\n",
       "      <td>NaN</td>\n",
       "      <td>NaN</td>\n",
       "    </tr>\n",
       "  </tbody>\n",
       "</table>\n",
       "<p>11 rows × 124 columns</p>\n",
       "</div>"
      ],
      "text/plain": [
       "           Unnamed: 0 Country Name Country Code  \\\n",
       "count   870492.000000       870492       870492   \n",
       "unique            NaN          241          241   \n",
       "top               NaN        Qatar          HND   \n",
       "freq              NaN         3612         3612   \n",
       "mean    435245.500000          NaN          NaN   \n",
       "std     251289.539602          NaN          NaN   \n",
       "min          0.000000          NaN          NaN   \n",
       "25%     217622.750000          NaN          NaN   \n",
       "50%     435245.500000          NaN          NaN   \n",
       "75%     652868.250000          NaN          NaN   \n",
       "max     870491.000000          NaN          NaN   \n",
       "\n",
       "                                         Indicator Name_x  \\\n",
       "count                                              870492   \n",
       "unique                                               3612   \n",
       "top     PASEC: Average performance gap between 6th gra...   \n",
       "freq                                                  241   \n",
       "mean                                                  NaN   \n",
       "std                                                   NaN   \n",
       "min                                                   NaN   \n",
       "25%                                                   NaN   \n",
       "50%                                                   NaN   \n",
       "75%                                                   NaN   \n",
       "max                                                   NaN   \n",
       "\n",
       "                 Indicator Code          1970          1971          1972  \\\n",
       "count                    870492  7.148000e+04  3.444300e+04  3.451400e+04   \n",
       "unique                     3612           NaN           NaN           NaN   \n",
       "top     LO.EGRA.READ.0.CIN.2GRD           NaN           NaN           NaN   \n",
       "freq                        241           NaN           NaN           NaN   \n",
       "mean                        NaN  1.997095e+09  4.388745e+09  4.739394e+09   \n",
       "std                         NaN  1.218514e+11  1.833238e+11  1.944465e+11   \n",
       "min                         NaN -1.435564e+00 -1.594625e+00 -3.056522e+00   \n",
       "25%                         NaN  8.700000e-01  1.045615e+01  1.076718e+01   \n",
       "50%                         NaN  6.570000e+00  7.207677e+01  7.685992e+01   \n",
       "75%                         NaN  6.387674e+01  6.452600e+04  6.653125e+04   \n",
       "max                         NaN  1.903929e+13  1.986457e+13  2.100916e+13   \n",
       "\n",
       "                1973          1974  ...  \\\n",
       "count   3.446700e+04  3.467500e+04  ...   \n",
       "unique           NaN           NaN  ...   \n",
       "top              NaN           NaN  ...   \n",
       "freq             NaN           NaN  ...   \n",
       "mean    5.264671e+09  5.565835e+09  ...   \n",
       "std     2.091105e+11  2.144020e+11  ...   \n",
       "min    -4.032582e+00 -4.213563e+00  ...   \n",
       "25%     1.116327e+01  1.131197e+01  ...   \n",
       "50%     7.963683e+01  8.090797e+01  ...   \n",
       "75%     6.973650e+04  7.127600e+04  ...   \n",
       "max     2.238367e+13  2.282991e+13  ...   \n",
       "\n",
       "                               Latest household survey  \\\n",
       "count                                           509292   \n",
       "unique                                              60   \n",
       "top     Multiple Indicator Cluster Survey (MICS), 2012   \n",
       "freq                                             36120   \n",
       "mean                                               NaN   \n",
       "std                                                NaN   \n",
       "min                                                NaN   \n",
       "25%                                                NaN   \n",
       "50%                                                NaN   \n",
       "75%                                                NaN   \n",
       "max                                                NaN   \n",
       "\n",
       "        Source of most recent Income and expenditure data  \\\n",
       "count                                              577920   \n",
       "unique                                                 75   \n",
       "top               Integrated household survey (IHS), 2012   \n",
       "freq                                                54180   \n",
       "mean                                                  NaN   \n",
       "std                                                   NaN   \n",
       "min                                                   NaN   \n",
       "25%                                                   NaN   \n",
       "50%                                                   NaN   \n",
       "75%                                                   NaN   \n",
       "max                                                   NaN   \n",
       "\n",
       "        Vital registration complete  Latest agricultural census  \\\n",
       "count                        400932                    512904.0   \n",
       "unique                            2                        44.0   \n",
       "top                             Yes                      2010.0   \n",
       "freq                         397320                     82920.0   \n",
       "mean                            NaN                         NaN   \n",
       "std                             NaN                         NaN   \n",
       "min                             NaN                         NaN   \n",
       "25%                             NaN                         NaN   \n",
       "50%                             NaN                         NaN   \n",
       "75%                             NaN                         NaN   \n",
       "max                             NaN                         NaN   \n",
       "\n",
       "        Latest industrial data  Latest trade data  \\\n",
       "count            386484.000000      668220.000000   \n",
       "unique                     NaN                NaN   \n",
       "top                        NaN                NaN   \n",
       "freq                       NaN                NaN   \n",
       "mean               2008.102804        2010.994595   \n",
       "std                   2.604581           2.562723   \n",
       "min                2000.000000        1995.000000   \n",
       "25%                2007.000000        2011.000000   \n",
       "50%                2009.000000        2012.000000   \n",
       "75%                2010.000000        2012.000000   \n",
       "max                2010.000000        2012.000000   \n",
       "\n",
       "        Latest water withdrawal data  Unnamed: 31  \\\n",
       "count                       646548.0          0.0   \n",
       "unique                          21.0          NaN   \n",
       "top                           2005.0          NaN   \n",
       "freq                        144480.0          NaN   \n",
       "mean                             NaN          NaN   \n",
       "std                              NaN          NaN   \n",
       "min                              NaN          NaN   \n",
       "25%                              NaN          NaN   \n",
       "50%                              NaN          NaN   \n",
       "75%                              NaN          NaN   \n",
       "max                              NaN          NaN   \n",
       "\n",
       "                                              DESCRIPTION  Unnamed: 3  \n",
       "count                                                 613         0.0  \n",
       "unique                                                 97         NaN  \n",
       "top     Data sources : United Nations World Population...         NaN  \n",
       "freq                                                  154         NaN  \n",
       "mean                                                  NaN         NaN  \n",
       "std                                                   NaN         NaN  \n",
       "min                                                   NaN         NaN  \n",
       "25%                                                   NaN         NaN  \n",
       "50%                                                   NaN         NaN  \n",
       "75%                                                   NaN         NaN  \n",
       "max                                                   NaN         NaN  \n",
       "\n",
       "[11 rows x 124 columns]"
      ]
     },
     "execution_count": 5,
     "metadata": {},
     "output_type": "execute_result"
    }
   ],
   "source": [
    "describe"
   ]
  },
  {
   "cell_type": "markdown",
   "metadata": {},
   "source": [
    "Faisons un état des lieux du set de données non nettoyé"
   ]
  },
  {
   "cell_type": "code",
   "execution_count": 6,
   "metadata": {},
   "outputs": [
    {
     "data": {
      "text/plain": [
       "870492"
      ]
     },
     "execution_count": 6,
     "metadata": {},
     "output_type": "execute_result"
    }
   ],
   "source": [
    "nb_rows = len(data)\n",
    "nb_rows"
   ]
  },
  {
   "cell_type": "code",
   "execution_count": 7,
   "metadata": {},
   "outputs": [],
   "source": [
    "counts = describe.iloc[0]"
   ]
  },
  {
   "cell_type": "code",
   "execution_count": 8,
   "metadata": {},
   "outputs": [],
   "source": [
    "counts = np.array(counts)\n",
    "counts_freq = counts/nb_rows\n",
    "xlabel1 = data.columns[:int(len(data.columns)/2)]\n",
    "xlabel2 = data.columns[int(len(data.columns)/2):]\n",
    "counts_freq1 = counts_freq[:int(len(data.columns)/2)]\n",
    "counts_freq2 = counts_freq[int(len(data.columns)/2):]"
   ]
  },
  {
   "cell_type": "code",
   "execution_count": 9,
   "metadata": {},
   "outputs": [
    {
     "data": {
      "text/plain": [
       "<BarContainer object of 62 artists>"
      ]
     },
     "execution_count": 9,
     "metadata": {},
     "output_type": "execute_result"
    },
    {
     "data": {
      "image/png": "[encoded data removed]",
      "text/plain": [
       "<Figure size 1440x216 with 1 Axes>"
      ]
     },
     "metadata": {
      "needs_background": "light"
     },
     "output_type": "display_data"
    }
   ],
   "source": [
    "fig = plt.figure(figsize=(20,3))\n",
    "plt.style.use('seaborn')\n",
    "plt.title(\"Taux de remplissage par colonnes\", fontsize=18)\n",
    "plt.xticks(rotation=90, fontsize=14)\n",
    "plt.grid(False, axis='y')\n",
    "plt.bar(xlabel1, counts_freq1, align='center')"
   ]
  },
  {
   "cell_type": "code",
   "execution_count": 10,
   "metadata": {},
   "outputs": [
    {
     "data": {
      "text/plain": [
       "<BarContainer object of 62 artists>"
      ]
     },
     "execution_count": 10,
     "metadata": {},
     "output_type": "execute_result"
    },
    {
     "data": {
      "image/png": "[encoded data removed]",
      "text/plain": [
       "<Figure size 1440x216 with 1 Axes>"
      ]
     },
     "metadata": {},
     "output_type": "display_data"
    }
   ],
   "source": [
    "fig = plt.figure(figsize=(20,3))\n",
    "plt.style.use('seaborn')\n",
    "plt.title(\"Taux de remplissage par colonnes\", fontsize=18)\n",
    "plt.xticks(rotation=90, fontsize=14)\n",
    "plt.grid(False, axis='y')\n",
    "plt.bar(xlabel2, counts_freq2, align='center')"
   ]
  },
  {
   "cell_type": "code",
   "execution_count": 11,
   "metadata": {},
   "outputs": [],
   "source": [
    "cells_total = data.size\n",
    "filled_cells = counts.sum()\n",
    "empty_cells = cells_total - filled_cells"
   ]
  },
  {
   "cell_type": "code",
   "execution_count": 12,
   "metadata": {},
   "outputs": [
    {
     "data": {
      "image/png": "[encoded data removed]",
      "text/plain": [
       "<Figure size 432x432 with 1 Axes>"
      ]
     },
     "metadata": {},
     "output_type": "display_data"
    }
   ],
   "source": [
    "fig = plt.figure(figsize=(6,6))\n",
    "plt.title('Repartition remplissage', fontsize=16)\n",
    "plt.pie([empty_cells, filled_cells], labels=['Cellules vides', 'Cellules renseignées'], colors=['#EE7352', '#68C385'], autopct='%1.1f%%', textprops={'fontsize': 14})\n",
    "plt.axis('equal')\n",
    "plt.show()"
   ]
  },
  {
   "cell_type": "markdown",
   "metadata": {},
   "source": [
    "Retirons les colonnes vides"
   ]
  },
  {
   "cell_type": "code",
   "execution_count": 13,
   "metadata": {},
   "outputs": [],
   "source": [
    "counts = describe.iloc[0]"
   ]
  },
  {
   "cell_type": "code",
   "execution_count": 14,
   "metadata": {},
   "outputs": [
    {
     "data": {
      "text/plain": [
       "Unnamed: 0                      870492\n",
       "Country Name                    870492\n",
       "Country Code                    870492\n",
       "Indicator Name_x                870492\n",
       "Indicator Code                  870492\n",
       "                                 ...  \n",
       "Latest trade data               668220\n",
       "Latest water withdrawal data    646548\n",
       "Unnamed: 31                          0\n",
       "DESCRIPTION                        613\n",
       "Unnamed: 3                           0\n",
       "Name: count, Length: 124, dtype: object"
      ]
     },
     "execution_count": 14,
     "metadata": {},
     "output_type": "execute_result"
    }
   ],
   "source": [
    "counts"
   ]
  },
  {
   "cell_type": "code",
   "execution_count": 15,
   "metadata": {},
   "outputs": [],
   "source": [
    "useless_cols = counts[counts/len(data) < 0.25]"
   ]
  },
  {
   "cell_type": "code",
   "execution_count": 16,
   "metadata": {},
   "outputs": [
    {
     "data": {
      "text/plain": [
       "Index(['1970', '1971', '1972', '1973', '1974', '1975', '1976', '1977', '1978',\n",
       "       '1979', '1980', '1981', '1982', '1983', '1984', '1985', '1986', '1987',\n",
       "       '1988', '1989', '1990', '1991', '1992', '1993', '1994', '1995', '1996',\n",
       "       '1997', '1998', '1999', '2000', '2001', '2002', '2003', '2004', '2005',\n",
       "       '2006', '2007', '2008', '2009', '2011', '2012', '2013', '2014', '2015',\n",
       "       '2016', '2017', '2020', '2025', '2030', '2035', '2040', '2045', '2050',\n",
       "       '2055', '2060', '2065', '2070', '2075', '2080', '2085', '2090', '2095',\n",
       "       '2100', 'Unnamed: 69', 'Unit of measure', 'Periodicity', 'Base Period',\n",
       "       'Other notes', 'Aggregation method', 'Limitations and exceptions',\n",
       "       'Notes from original source', 'General comments',\n",
       "       'Statistical concept and methodology', 'Development relevance',\n",
       "       'Related source links', 'Other web links', 'Related indicators',\n",
       "       'License Type', 'Unnamed: 20', 'National accounts reference year',\n",
       "       'Other groups', 'Alternative conversion factor', 'Unnamed: 31',\n",
       "       'DESCRIPTION', 'Unnamed: 3'],\n",
       "      dtype='object')"
      ]
     },
     "execution_count": 16,
     "metadata": {},
     "output_type": "execute_result"
    }
   ],
   "source": [
    "useless_cols.index"
   ]
  },
  {
   "cell_type": "markdown",
   "metadata": {},
   "source": [
    "Je ne veux pas retirer les colonnes concernant les années car c'est là ou se situe la valeur ajoutée"
   ]
  },
  {
   "cell_type": "code",
   "execution_count": 17,
   "metadata": {},
   "outputs": [
    {
     "data": {
      "text/plain": [
       "1970                              71480\n",
       "1971                              34443\n",
       "1972                              34514\n",
       "1973                              34467\n",
       "1974                              34675\n",
       "                                  ...  \n",
       "Other groups                     209496\n",
       "Alternative conversion factor    169764\n",
       "Unnamed: 31                           0\n",
       "DESCRIPTION                         613\n",
       "Unnamed: 3                            0\n",
       "Name: count, Length: 86, dtype: object"
      ]
     },
     "execution_count": 17,
     "metadata": {},
     "output_type": "execute_result"
    }
   ],
   "source": [
    "useless_cols"
   ]
  },
  {
   "cell_type": "code",
   "execution_count": 18,
   "metadata": {},
   "outputs": [],
   "source": [
    "useless_cols = pd.DataFrame(useless_cols)"
   ]
  },
  {
   "cell_type": "code",
   "execution_count": 19,
   "metadata": {},
   "outputs": [],
   "source": [
    "useless_cols['index'] = useless_cols.index"
   ]
  },
  {
   "cell_type": "code",
   "execution_count": 20,
   "metadata": {},
   "outputs": [],
   "source": [
    "year_test = lambda name : not name.isdigit()\n",
    "useless_cols = useless_cols[useless_cols['index'].map(year_test)]"
   ]
  },
  {
   "cell_type": "code",
   "execution_count": 21,
   "metadata": {},
   "outputs": [
    {
     "data": {
      "text/html": [
       "<div>\n",
       "<style scoped>\n",
       "    .dataframe tbody tr th:only-of-type {\n",
       "        vertical-align: middle;\n",
       "    }\n",
       "\n",
       "    .dataframe tbody tr th {\n",
       "        vertical-align: top;\n",
       "    }\n",
       "\n",
       "    .dataframe thead th {\n",
       "        text-align: right;\n",
       "    }\n",
       "</style>\n",
       "<table border=\"1\" class=\"dataframe\">\n",
       "  <thead>\n",
       "    <tr style=\"text-align: right;\">\n",
       "      <th></th>\n",
       "      <th>count</th>\n",
       "      <th>index</th>\n",
       "    </tr>\n",
       "  </thead>\n",
       "  <tbody>\n",
       "    <tr>\n",
       "      <th>Unnamed: 69</th>\n",
       "      <td>0</td>\n",
       "      <td>Unnamed: 69</td>\n",
       "    </tr>\n",
       "    <tr>\n",
       "      <th>Unit of measure</th>\n",
       "      <td>0</td>\n",
       "      <td>Unit of measure</td>\n",
       "    </tr>\n",
       "    <tr>\n",
       "      <th>Periodicity</th>\n",
       "      <td>23859</td>\n",
       "      <td>Periodicity</td>\n",
       "    </tr>\n",
       "    <tr>\n",
       "      <th>Base Period</th>\n",
       "      <td>75674</td>\n",
       "      <td>Base Period</td>\n",
       "    </tr>\n",
       "    <tr>\n",
       "      <th>Other notes</th>\n",
       "      <td>132068</td>\n",
       "      <td>Other notes</td>\n",
       "    </tr>\n",
       "    <tr>\n",
       "      <th>Aggregation method</th>\n",
       "      <td>11327</td>\n",
       "      <td>Aggregation method</td>\n",
       "    </tr>\n",
       "    <tr>\n",
       "      <th>Limitations and exceptions</th>\n",
       "      <td>3374</td>\n",
       "      <td>Limitations and exceptions</td>\n",
       "    </tr>\n",
       "    <tr>\n",
       "      <th>Notes from original source</th>\n",
       "      <td>0</td>\n",
       "      <td>Notes from original source</td>\n",
       "    </tr>\n",
       "    <tr>\n",
       "      <th>General comments</th>\n",
       "      <td>3374</td>\n",
       "      <td>General comments</td>\n",
       "    </tr>\n",
       "    <tr>\n",
       "      <th>Statistical concept and methodology</th>\n",
       "      <td>5543</td>\n",
       "      <td>Statistical concept and methodology</td>\n",
       "    </tr>\n",
       "    <tr>\n",
       "      <th>Development relevance</th>\n",
       "      <td>723</td>\n",
       "      <td>Development relevance</td>\n",
       "    </tr>\n",
       "    <tr>\n",
       "      <th>Related source links</th>\n",
       "      <td>51815</td>\n",
       "      <td>Related source links</td>\n",
       "    </tr>\n",
       "    <tr>\n",
       "      <th>Other web links</th>\n",
       "      <td>0</td>\n",
       "      <td>Other web links</td>\n",
       "    </tr>\n",
       "    <tr>\n",
       "      <th>Related indicators</th>\n",
       "      <td>0</td>\n",
       "      <td>Related indicators</td>\n",
       "    </tr>\n",
       "    <tr>\n",
       "      <th>License Type</th>\n",
       "      <td>0</td>\n",
       "      <td>License Type</td>\n",
       "    </tr>\n",
       "    <tr>\n",
       "      <th>Unnamed: 20</th>\n",
       "      <td>0</td>\n",
       "      <td>Unnamed: 20</td>\n",
       "    </tr>\n",
       "    <tr>\n",
       "      <th>National accounts reference year</th>\n",
       "      <td>115584</td>\n",
       "      <td>National accounts reference year</td>\n",
       "    </tr>\n",
       "    <tr>\n",
       "      <th>Other groups</th>\n",
       "      <td>209496</td>\n",
       "      <td>Other groups</td>\n",
       "    </tr>\n",
       "    <tr>\n",
       "      <th>Alternative conversion factor</th>\n",
       "      <td>169764</td>\n",
       "      <td>Alternative conversion factor</td>\n",
       "    </tr>\n",
       "    <tr>\n",
       "      <th>Unnamed: 31</th>\n",
       "      <td>0</td>\n",
       "      <td>Unnamed: 31</td>\n",
       "    </tr>\n",
       "    <tr>\n",
       "      <th>DESCRIPTION</th>\n",
       "      <td>613</td>\n",
       "      <td>DESCRIPTION</td>\n",
       "    </tr>\n",
       "    <tr>\n",
       "      <th>Unnamed: 3</th>\n",
       "      <td>0</td>\n",
       "      <td>Unnamed: 3</td>\n",
       "    </tr>\n",
       "  </tbody>\n",
       "</table>\n",
       "</div>"
      ],
      "text/plain": [
       "                                      count  \\\n",
       "Unnamed: 69                               0   \n",
       "Unit of measure                           0   \n",
       "Periodicity                           23859   \n",
       "Base Period                           75674   \n",
       "Other notes                          132068   \n",
       "Aggregation method                    11327   \n",
       "Limitations and exceptions             3374   \n",
       "Notes from original source                0   \n",
       "General comments                       3374   \n",
       "Statistical concept and methodology    5543   \n",
       "Development relevance                   723   \n",
       "Related source links                  51815   \n",
       "Other web links                           0   \n",
       "Related indicators                        0   \n",
       "License Type                              0   \n",
       "Unnamed: 20                               0   \n",
       "National accounts reference year     115584   \n",
       "Other groups                         209496   \n",
       "Alternative conversion factor        169764   \n",
       "Unnamed: 31                               0   \n",
       "DESCRIPTION                             613   \n",
       "Unnamed: 3                                0   \n",
       "\n",
       "                                                                   index  \n",
       "Unnamed: 69                                                  Unnamed: 69  \n",
       "Unit of measure                                          Unit of measure  \n",
       "Periodicity                                                  Periodicity  \n",
       "Base Period                                                  Base Period  \n",
       "Other notes                                                  Other notes  \n",
       "Aggregation method                                    Aggregation method  \n",
       "Limitations and exceptions                    Limitations and exceptions  \n",
       "Notes from original source                    Notes from original source  \n",
       "General comments                                        General comments  \n",
       "Statistical concept and methodology  Statistical concept and methodology  \n",
       "Development relevance                              Development relevance  \n",
       "Related source links                                Related source links  \n",
       "Other web links                                          Other web links  \n",
       "Related indicators                                    Related indicators  \n",
       "License Type                                                License Type  \n",
       "Unnamed: 20                                                  Unnamed: 20  \n",
       "National accounts reference year        National accounts reference year  \n",
       "Other groups                                                Other groups  \n",
       "Alternative conversion factor              Alternative conversion factor  \n",
       "Unnamed: 31                                                  Unnamed: 31  \n",
       "DESCRIPTION                                                  DESCRIPTION  \n",
       "Unnamed: 3                                                    Unnamed: 3  "
      ]
     },
     "execution_count": 21,
     "metadata": {},
     "output_type": "execute_result"
    }
   ],
   "source": [
    "useless_cols"
   ]
  },
  {
   "cell_type": "markdown",
   "metadata": {},
   "source": [
    "Je pense que la colonne 'Statistical concept and methodology' peut tout de même être pertinente"
   ]
  },
  {
   "cell_type": "code",
   "execution_count": 22,
   "metadata": {},
   "outputs": [],
   "source": [
    "useless_cols = useless_cols.drop(index='Statistical concept and methodology')"
   ]
  },
  {
   "cell_type": "code",
   "execution_count": 23,
   "metadata": {},
   "outputs": [],
   "source": [
    "data = data.drop(columns=useless_cols.index)"
   ]
  },
  {
   "cell_type": "code",
   "execution_count": 24,
   "metadata": {},
   "outputs": [
    {
     "data": {
      "text/plain": [
       "(870492, 103)"
      ]
     },
     "execution_count": 24,
     "metadata": {},
     "output_type": "execute_result"
    }
   ],
   "source": [
    "data.shape"
   ]
  },
  {
   "cell_type": "markdown",
   "metadata": {},
   "source": [
    "### Parmis les 3600 indicateurs, il faudrait selectionner ceux qui sont en relation avec notre problématique \"métier\".\n",
    "#### On va donc établir une liste de mots clés en relation avec cette problématique.\n",
    "#### On recherche des pays dont le marché est propice à un developpement de l'activité d'une plateforme d'apprentissage en ligne pour les 15 - 30 ans (en prenant large). On va donc chercher des mots clés liés à l'age, à l'accès internet, à l'éducation."
   ]
  },
  {
   "cell_type": "code",
   "execution_count": 25,
   "metadata": {},
   "outputs": [
    {
     "data": {
      "text/plain": [
       "Index(['Unnamed: 0', 'Country Name', 'Country Code', 'Indicator Name_x',\n",
       "       'Indicator Code', '1970', '1971', '1972', '1973', '1974',\n",
       "       ...\n",
       "       'Government Accounting concept', 'IMF data dissemination standard',\n",
       "       'Latest population census', 'Latest household survey',\n",
       "       'Source of most recent Income and expenditure data',\n",
       "       'Vital registration complete', 'Latest agricultural census',\n",
       "       'Latest industrial data', 'Latest trade data',\n",
       "       'Latest water withdrawal data'],\n",
       "      dtype='object', length=103)"
      ]
     },
     "execution_count": 25,
     "metadata": {},
     "output_type": "execute_result"
    }
   ],
   "source": [
    "cols = data.columns\n",
    "cols"
   ]
  },
  {
   "cell_type": "code",
   "execution_count": 26,
   "metadata": {},
   "outputs": [],
   "source": [
    "indicateurs = data['Indicator Name_x'].unique()"
   ]
  },
  {
   "cell_type": "code",
   "execution_count": 27,
   "metadata": {},
   "outputs": [
    {
     "data": {
      "text/plain": [
       "array(['Adjusted net enrolment rate, lower secondary, both sexes (%)',\n",
       "       'Adjusted net enrolment rate, lower secondary, female (%)',\n",
       "       'Adjusted net enrolment rate, lower secondary, gender parity index (GPI)',\n",
       "       'Adjusted net enrolment rate, lower secondary, male (%)',\n",
       "       'Adjusted net enrolment rate, primary, both sexes (%)'],\n",
       "      dtype=object)"
      ]
     },
     "execution_count": 27,
     "metadata": {},
     "output_type": "execute_result"
    }
   ],
   "source": [
    "indicateurs[:5]"
   ]
  },
  {
   "cell_type": "raw",
   "metadata": {},
   "source": [
    "key_words = ['internet', 'young', 'education',\n",
    "             'access', 'age', 'diploma',\n",
    "             '15', 'old', '30', \n",
    "             'enrolment', 'secondary', 'primary',\n",
    "             'literacy', 'growth', 'professor', 'population', 'gpd']"
   ]
  },
  {
   "cell_type": "raw",
   "metadata": {},
   "source": [
    "indicateurs_interessants = []\n",
    "\n",
    "for indicateur in indicateurs:\n",
    "    indicateur = indicateur.replace(',', '')\n",
    "    mots = indicateur.split(' ')\n",
    "    for mot in mots:\n",
    "        if mot.lower() in key_words:\n",
    "            indicateurs_interessants.append(indicateur)\n",
    "            break # pour éviter les doublons\n",
    "len(indicateurs_interessants)"
   ]
  },
  {
   "cell_type": "raw",
   "metadata": {},
   "source": [
    "%%time\n",
    "def test_mapper(name):\n",
    "    if name in indicateurs_interessants:\n",
    "        return True\n",
    "    else:\n",
    "        return False\n",
    "\n",
    "data['interessant'] = data['Indicator Name_x'].map(test_mapper)"
   ]
  },
  {
   "cell_type": "raw",
   "metadata": {},
   "source": [
    "%%time\n",
    "from tqdm.contrib.concurrent import process_map # or thread_map import time\n",
    "help(process_map)\n",
    "r = process_map(test_mapper,data['Indicator Name_x'], chunksize=100)"
   ]
  },
  {
   "cell_type": "raw",
   "metadata": {},
   "source": [
    "data_test = data[data['interessant']]"
   ]
  },
  {
   "cell_type": "raw",
   "metadata": {},
   "source": [
    "data_test.shape"
   ]
  },
  {
   "cell_type": "raw",
   "metadata": {},
   "source": [
    "data.shape"
   ]
  },
  {
   "cell_type": "raw",
   "metadata": {},
   "source": [
    "data = data_test.copy()"
   ]
  },
  {
   "cell_type": "raw",
   "metadata": {},
   "source": [
    "data = data.drop(columns=['interessant'])"
   ]
  },
  {
   "cell_type": "raw",
   "metadata": {},
   "source": [
    "data.shape"
   ]
  },
  {
   "cell_type": "code",
   "execution_count": 28,
   "metadata": {},
   "outputs": [
    {
     "name": "stdout",
     "output_type": "stream",
     "text": [
      "Index(['Unnamed: 0', 'Country Name', 'Country Code', 'Indicator Name_x',\n",
      "       'Indicator Code', '1970', '1971', '1972', '1973', '1974',\n",
      "       ...\n",
      "       'Government Accounting concept', 'IMF data dissemination standard',\n",
      "       'Latest population census', 'Latest household survey',\n",
      "       'Source of most recent Income and expenditure data',\n",
      "       'Vital registration complete', 'Latest agricultural census',\n",
      "       'Latest industrial data', 'Latest trade data',\n",
      "       'Latest water withdrawal data'],\n",
      "      dtype='object', length=103)\n"
     ]
    }
   ],
   "source": [
    "print(data.columns)"
   ]
  },
  {
   "cell_type": "code",
   "execution_count": 29,
   "metadata": {},
   "outputs": [],
   "source": [
    "data_pop_test = data[data['Indicator Code'] == 'SP.POP.TOTL']"
   ]
  },
  {
   "cell_type": "code",
   "execution_count": 30,
   "metadata": {},
   "outputs": [
    {
     "data": {
      "text/html": [
       "<div>\n",
       "<style scoped>\n",
       "    .dataframe tbody tr th:only-of-type {\n",
       "        vertical-align: middle;\n",
       "    }\n",
       "\n",
       "    .dataframe tbody tr th {\n",
       "        vertical-align: top;\n",
       "    }\n",
       "\n",
       "    .dataframe thead th {\n",
       "        text-align: right;\n",
       "    }\n",
       "</style>\n",
       "<table border=\"1\" class=\"dataframe\">\n",
       "  <thead>\n",
       "    <tr style=\"text-align: right;\">\n",
       "      <th></th>\n",
       "      <th>Unnamed: 0</th>\n",
       "      <th>Country Name</th>\n",
       "      <th>Country Code</th>\n",
       "      <th>Indicator Name_x</th>\n",
       "      <th>Indicator Code</th>\n",
       "      <th>1970</th>\n",
       "      <th>1971</th>\n",
       "      <th>1972</th>\n",
       "      <th>1973</th>\n",
       "      <th>1974</th>\n",
       "      <th>...</th>\n",
       "      <th>Government Accounting concept</th>\n",
       "      <th>IMF data dissemination standard</th>\n",
       "      <th>Latest population census</th>\n",
       "      <th>Latest household survey</th>\n",
       "      <th>Source of most recent Income and expenditure data</th>\n",
       "      <th>Vital registration complete</th>\n",
       "      <th>Latest agricultural census</th>\n",
       "      <th>Latest industrial data</th>\n",
       "      <th>Latest trade data</th>\n",
       "      <th>Latest water withdrawal data</th>\n",
       "    </tr>\n",
       "  </thead>\n",
       "  <tbody>\n",
       "    <tr>\n",
       "      <th>2490</th>\n",
       "      <td>2490</td>\n",
       "      <td>Arab World</td>\n",
       "      <td>ARB</td>\n",
       "      <td>Population, total</td>\n",
       "      <td>SP.POP.TOTL</td>\n",
       "      <td>1.234009e+08</td>\n",
       "      <td>1.267261e+08</td>\n",
       "      <td>1.300956e+08</td>\n",
       "      <td>1.335924e+08</td>\n",
       "      <td>1.373274e+08</td>\n",
       "      <td>...</td>\n",
       "      <td>NaN</td>\n",
       "      <td>NaN</td>\n",
       "      <td>NaN</td>\n",
       "      <td>NaN</td>\n",
       "      <td>NaN</td>\n",
       "      <td>NaN</td>\n",
       "      <td>NaN</td>\n",
       "      <td>NaN</td>\n",
       "      <td>NaN</td>\n",
       "      <td>NaN</td>\n",
       "    </tr>\n",
       "    <tr>\n",
       "      <th>6102</th>\n",
       "      <td>6102</td>\n",
       "      <td>East Asia &amp; Pacific</td>\n",
       "      <td>EAS</td>\n",
       "      <td>Population, total</td>\n",
       "      <td>SP.POP.TOTL</td>\n",
       "      <td>1.288581e+09</td>\n",
       "      <td>1.322182e+09</td>\n",
       "      <td>1.354003e+09</td>\n",
       "      <td>1.384272e+09</td>\n",
       "      <td>1.414385e+09</td>\n",
       "      <td>...</td>\n",
       "      <td>NaN</td>\n",
       "      <td>NaN</td>\n",
       "      <td>NaN</td>\n",
       "      <td>NaN</td>\n",
       "      <td>NaN</td>\n",
       "      <td>NaN</td>\n",
       "      <td>NaN</td>\n",
       "      <td>NaN</td>\n",
       "      <td>NaN</td>\n",
       "      <td>NaN</td>\n",
       "    </tr>\n",
       "    <tr>\n",
       "      <th>9714</th>\n",
       "      <td>9714</td>\n",
       "      <td>East Asia &amp; Pacific (excluding high income)</td>\n",
       "      <td>EAP</td>\n",
       "      <td>Population, total</td>\n",
       "      <td>SP.POP.TOTL</td>\n",
       "      <td>1.115427e+09</td>\n",
       "      <td>1.146090e+09</td>\n",
       "      <td>1.175063e+09</td>\n",
       "      <td>1.203125e+09</td>\n",
       "      <td>1.229693e+09</td>\n",
       "      <td>...</td>\n",
       "      <td>NaN</td>\n",
       "      <td>NaN</td>\n",
       "      <td>NaN</td>\n",
       "      <td>NaN</td>\n",
       "      <td>NaN</td>\n",
       "      <td>NaN</td>\n",
       "      <td>NaN</td>\n",
       "      <td>NaN</td>\n",
       "      <td>NaN</td>\n",
       "      <td>NaN</td>\n",
       "    </tr>\n",
       "    <tr>\n",
       "      <th>13326</th>\n",
       "      <td>13326</td>\n",
       "      <td>Euro area</td>\n",
       "      <td>EMU</td>\n",
       "      <td>Population, total</td>\n",
       "      <td>SP.POP.TOTL</td>\n",
       "      <td>2.874162e+08</td>\n",
       "      <td>2.890325e+08</td>\n",
       "      <td>2.910407e+08</td>\n",
       "      <td>2.929618e+08</td>\n",
       "      <td>2.946894e+08</td>\n",
       "      <td>...</td>\n",
       "      <td>NaN</td>\n",
       "      <td>NaN</td>\n",
       "      <td>NaN</td>\n",
       "      <td>NaN</td>\n",
       "      <td>NaN</td>\n",
       "      <td>NaN</td>\n",
       "      <td>NaN</td>\n",
       "      <td>NaN</td>\n",
       "      <td>NaN</td>\n",
       "      <td>NaN</td>\n",
       "    </tr>\n",
       "    <tr>\n",
       "      <th>16938</th>\n",
       "      <td>16938</td>\n",
       "      <td>Europe &amp; Central Asia</td>\n",
       "      <td>ECS</td>\n",
       "      <td>Population, total</td>\n",
       "      <td>SP.POP.TOTL</td>\n",
       "      <td>7.379482e+08</td>\n",
       "      <td>7.436074e+08</td>\n",
       "      <td>7.498159e+08</td>\n",
       "      <td>7.558680e+08</td>\n",
       "      <td>7.617013e+08</td>\n",
       "      <td>...</td>\n",
       "      <td>NaN</td>\n",
       "      <td>NaN</td>\n",
       "      <td>NaN</td>\n",
       "      <td>NaN</td>\n",
       "      <td>NaN</td>\n",
       "      <td>NaN</td>\n",
       "      <td>NaN</td>\n",
       "      <td>NaN</td>\n",
       "      <td>NaN</td>\n",
       "      <td>NaN</td>\n",
       "    </tr>\n",
       "    <tr>\n",
       "      <th>...</th>\n",
       "      <td>...</td>\n",
       "      <td>...</td>\n",
       "      <td>...</td>\n",
       "      <td>...</td>\n",
       "      <td>...</td>\n",
       "      <td>...</td>\n",
       "      <td>...</td>\n",
       "      <td>...</td>\n",
       "      <td>...</td>\n",
       "      <td>...</td>\n",
       "      <td>...</td>\n",
       "      <td>...</td>\n",
       "      <td>...</td>\n",
       "      <td>...</td>\n",
       "      <td>...</td>\n",
       "      <td>...</td>\n",
       "      <td>...</td>\n",
       "      <td>...</td>\n",
       "      <td>...</td>\n",
       "      <td>...</td>\n",
       "      <td>...</td>\n",
       "    </tr>\n",
       "    <tr>\n",
       "      <th>854922</th>\n",
       "      <td>854922</td>\n",
       "      <td>Virgin Islands (U.S.)</td>\n",
       "      <td>VIR</td>\n",
       "      <td>Population, total</td>\n",
       "      <td>SP.POP.TOTL</td>\n",
       "      <td>6.300000e+04</td>\n",
       "      <td>7.100000e+04</td>\n",
       "      <td>7.600000e+04</td>\n",
       "      <td>8.400000e+04</td>\n",
       "      <td>9.000000e+04</td>\n",
       "      <td>...</td>\n",
       "      <td>NaN</td>\n",
       "      <td>NaN</td>\n",
       "      <td>2010</td>\n",
       "      <td>NaN</td>\n",
       "      <td>NaN</td>\n",
       "      <td>Yes</td>\n",
       "      <td>2007</td>\n",
       "      <td>NaN</td>\n",
       "      <td>NaN</td>\n",
       "      <td>NaN</td>\n",
       "    </tr>\n",
       "    <tr>\n",
       "      <th>858534</th>\n",
       "      <td>858534</td>\n",
       "      <td>West Bank and Gaza</td>\n",
       "      <td>PSE</td>\n",
       "      <td>Population, total</td>\n",
       "      <td>SP.POP.TOTL</td>\n",
       "      <td>NaN</td>\n",
       "      <td>NaN</td>\n",
       "      <td>NaN</td>\n",
       "      <td>NaN</td>\n",
       "      <td>NaN</td>\n",
       "      <td>...</td>\n",
       "      <td>Budgetary central government</td>\n",
       "      <td>Special Data Dissemination Standard (SDDS)</td>\n",
       "      <td>2007</td>\n",
       "      <td>Multiple Indicator Cluster Survey (MICS), 2010</td>\n",
       "      <td>Integrated household survey (IHS), 2009</td>\n",
       "      <td>NaN</td>\n",
       "      <td>NaN</td>\n",
       "      <td>2010.0</td>\n",
       "      <td>NaN</td>\n",
       "      <td>2005</td>\n",
       "    </tr>\n",
       "    <tr>\n",
       "      <th>862146</th>\n",
       "      <td>862146</td>\n",
       "      <td>Yemen, Rep.</td>\n",
       "      <td>YEM</td>\n",
       "      <td>Population, total</td>\n",
       "      <td>SP.POP.TOTL</td>\n",
       "      <td>6.193810e+06</td>\n",
       "      <td>6.300554e+06</td>\n",
       "      <td>6.407295e+06</td>\n",
       "      <td>6.523452e+06</td>\n",
       "      <td>6.661566e+06</td>\n",
       "      <td>...</td>\n",
       "      <td>Budgetary central government</td>\n",
       "      <td>General Data Dissemination System (GDDS)</td>\n",
       "      <td>2004</td>\n",
       "      <td>Demographic and Health Survey (DHS), 2013</td>\n",
       "      <td>Expenditure survey/budget survey (ES/BS), 2005</td>\n",
       "      <td>NaN</td>\n",
       "      <td>NaN</td>\n",
       "      <td>2006.0</td>\n",
       "      <td>2012.0</td>\n",
       "      <td>2005</td>\n",
       "    </tr>\n",
       "    <tr>\n",
       "      <th>865758</th>\n",
       "      <td>865758</td>\n",
       "      <td>Zambia</td>\n",
       "      <td>ZMB</td>\n",
       "      <td>Population, total</td>\n",
       "      <td>SP.POP.TOTL</td>\n",
       "      <td>4.173928e+06</td>\n",
       "      <td>4.317748e+06</td>\n",
       "      <td>4.469895e+06</td>\n",
       "      <td>4.629402e+06</td>\n",
       "      <td>4.794754e+06</td>\n",
       "      <td>...</td>\n",
       "      <td>Budgetary central government</td>\n",
       "      <td>General Data Dissemination System (GDDS)</td>\n",
       "      <td>2010</td>\n",
       "      <td>Demographic and Health Survey (DHS), 2013</td>\n",
       "      <td>Integrated household survey (IHS), 2010</td>\n",
       "      <td>NaN</td>\n",
       "      <td>2010. Population and Housing Census.</td>\n",
       "      <td>NaN</td>\n",
       "      <td>2011.0</td>\n",
       "      <td>2002</td>\n",
       "    </tr>\n",
       "    <tr>\n",
       "      <th>869370</th>\n",
       "      <td>869370</td>\n",
       "      <td>Zimbabwe</td>\n",
       "      <td>ZWE</td>\n",
       "      <td>Population, total</td>\n",
       "      <td>SP.POP.TOTL</td>\n",
       "      <td>5.175618e+06</td>\n",
       "      <td>5.351195e+06</td>\n",
       "      <td>5.535874e+06</td>\n",
       "      <td>5.727044e+06</td>\n",
       "      <td>5.920943e+06</td>\n",
       "      <td>...</td>\n",
       "      <td>Consolidated central government</td>\n",
       "      <td>General Data Dissemination System (GDDS)</td>\n",
       "      <td>2012</td>\n",
       "      <td>Demographic and Health Survey (DHS), 2010/11</td>\n",
       "      <td>Integrated household survey (IHS), 2011/12</td>\n",
       "      <td>NaN</td>\n",
       "      <td>NaN</td>\n",
       "      <td>NaN</td>\n",
       "      <td>2012.0</td>\n",
       "      <td>2002</td>\n",
       "    </tr>\n",
       "  </tbody>\n",
       "</table>\n",
       "<p>241 rows × 103 columns</p>\n",
       "</div>"
      ],
      "text/plain": [
       "        Unnamed: 0                                 Country Name Country Code  \\\n",
       "2490          2490                                   Arab World          ARB   \n",
       "6102          6102                          East Asia & Pacific          EAS   \n",
       "9714          9714  East Asia & Pacific (excluding high income)          EAP   \n",
       "13326        13326                                    Euro area          EMU   \n",
       "16938        16938                        Europe & Central Asia          ECS   \n",
       "...            ...                                          ...          ...   \n",
       "854922      854922                        Virgin Islands (U.S.)          VIR   \n",
       "858534      858534                           West Bank and Gaza          PSE   \n",
       "862146      862146                                  Yemen, Rep.          YEM   \n",
       "865758      865758                                       Zambia          ZMB   \n",
       "869370      869370                                     Zimbabwe          ZWE   \n",
       "\n",
       "         Indicator Name_x Indicator Code          1970          1971  \\\n",
       "2490    Population, total    SP.POP.TOTL  1.234009e+08  1.267261e+08   \n",
       "6102    Population, total    SP.POP.TOTL  1.288581e+09  1.322182e+09   \n",
       "9714    Population, total    SP.POP.TOTL  1.115427e+09  1.146090e+09   \n",
       "13326   Population, total    SP.POP.TOTL  2.874162e+08  2.890325e+08   \n",
       "16938   Population, total    SP.POP.TOTL  7.379482e+08  7.436074e+08   \n",
       "...                   ...            ...           ...           ...   \n",
       "854922  Population, total    SP.POP.TOTL  6.300000e+04  7.100000e+04   \n",
       "858534  Population, total    SP.POP.TOTL           NaN           NaN   \n",
       "862146  Population, total    SP.POP.TOTL  6.193810e+06  6.300554e+06   \n",
       "865758  Population, total    SP.POP.TOTL  4.173928e+06  4.317748e+06   \n",
       "869370  Population, total    SP.POP.TOTL  5.175618e+06  5.351195e+06   \n",
       "\n",
       "                1972          1973          1974  ...  \\\n",
       "2490    1.300956e+08  1.335924e+08  1.373274e+08  ...   \n",
       "6102    1.354003e+09  1.384272e+09  1.414385e+09  ...   \n",
       "9714    1.175063e+09  1.203125e+09  1.229693e+09  ...   \n",
       "13326   2.910407e+08  2.929618e+08  2.946894e+08  ...   \n",
       "16938   7.498159e+08  7.558680e+08  7.617013e+08  ...   \n",
       "...              ...           ...           ...  ...   \n",
       "854922  7.600000e+04  8.400000e+04  9.000000e+04  ...   \n",
       "858534           NaN           NaN           NaN  ...   \n",
       "862146  6.407295e+06  6.523452e+06  6.661566e+06  ...   \n",
       "865758  4.469895e+06  4.629402e+06  4.794754e+06  ...   \n",
       "869370  5.535874e+06  5.727044e+06  5.920943e+06  ...   \n",
       "\n",
       "          Government Accounting concept  \\\n",
       "2490                                NaN   \n",
       "6102                                NaN   \n",
       "9714                                NaN   \n",
       "13326                               NaN   \n",
       "16938                               NaN   \n",
       "...                                 ...   \n",
       "854922                              NaN   \n",
       "858534     Budgetary central government   \n",
       "862146     Budgetary central government   \n",
       "865758     Budgetary central government   \n",
       "869370  Consolidated central government   \n",
       "\n",
       "                   IMF data dissemination standard  Latest population census  \\\n",
       "2490                                           NaN                       NaN   \n",
       "6102                                           NaN                       NaN   \n",
       "9714                                           NaN                       NaN   \n",
       "13326                                          NaN                       NaN   \n",
       "16938                                          NaN                       NaN   \n",
       "...                                            ...                       ...   \n",
       "854922                                         NaN                      2010   \n",
       "858534  Special Data Dissemination Standard (SDDS)                      2007   \n",
       "862146    General Data Dissemination System (GDDS)                      2004   \n",
       "865758    General Data Dissemination System (GDDS)                      2010   \n",
       "869370    General Data Dissemination System (GDDS)                      2012   \n",
       "\n",
       "                               Latest household survey  \\\n",
       "2490                                               NaN   \n",
       "6102                                               NaN   \n",
       "9714                                               NaN   \n",
       "13326                                              NaN   \n",
       "16938                                              NaN   \n",
       "...                                                ...   \n",
       "854922                                             NaN   \n",
       "858534  Multiple Indicator Cluster Survey (MICS), 2010   \n",
       "862146       Demographic and Health Survey (DHS), 2013   \n",
       "865758       Demographic and Health Survey (DHS), 2013   \n",
       "869370    Demographic and Health Survey (DHS), 2010/11   \n",
       "\n",
       "        Source of most recent Income and expenditure data  \\\n",
       "2490                                                  NaN   \n",
       "6102                                                  NaN   \n",
       "9714                                                  NaN   \n",
       "13326                                                 NaN   \n",
       "16938                                                 NaN   \n",
       "...                                                   ...   \n",
       "854922                                                NaN   \n",
       "858534            Integrated household survey (IHS), 2009   \n",
       "862146     Expenditure survey/budget survey (ES/BS), 2005   \n",
       "865758            Integrated household survey (IHS), 2010   \n",
       "869370         Integrated household survey (IHS), 2011/12   \n",
       "\n",
       "        Vital registration complete            Latest agricultural census  \\\n",
       "2490                            NaN                                   NaN   \n",
       "6102                            NaN                                   NaN   \n",
       "9714                            NaN                                   NaN   \n",
       "13326                           NaN                                   NaN   \n",
       "16938                           NaN                                   NaN   \n",
       "...                             ...                                   ...   \n",
       "854922                          Yes                                  2007   \n",
       "858534                          NaN                                   NaN   \n",
       "862146                          NaN                                   NaN   \n",
       "865758                          NaN  2010. Population and Housing Census.   \n",
       "869370                          NaN                                   NaN   \n",
       "\n",
       "        Latest industrial data  Latest trade data  \\\n",
       "2490                       NaN                NaN   \n",
       "6102                       NaN                NaN   \n",
       "9714                       NaN                NaN   \n",
       "13326                      NaN                NaN   \n",
       "16938                      NaN                NaN   \n",
       "...                        ...                ...   \n",
       "854922                     NaN                NaN   \n",
       "858534                  2010.0                NaN   \n",
       "862146                  2006.0             2012.0   \n",
       "865758                     NaN             2011.0   \n",
       "869370                     NaN             2012.0   \n",
       "\n",
       "        Latest water withdrawal data  \n",
       "2490                             NaN  \n",
       "6102                             NaN  \n",
       "9714                             NaN  \n",
       "13326                            NaN  \n",
       "16938                            NaN  \n",
       "...                              ...  \n",
       "854922                           NaN  \n",
       "858534                          2005  \n",
       "862146                          2005  \n",
       "865758                          2002  \n",
       "869370                          2002  \n",
       "\n",
       "[241 rows x 103 columns]"
      ]
     },
     "execution_count": 30,
     "metadata": {},
     "output_type": "execute_result"
    }
   ],
   "source": [
    "data_pop_test"
   ]
  },
  {
   "cell_type": "markdown",
   "metadata": {},
   "source": [
    "Il reste encore beaucoup trop de colonnes."
   ]
  },
  {
   "cell_type": "code",
   "execution_count": 31,
   "metadata": {},
   "outputs": [],
   "source": [
    "kpi_columns = data[['Indicator Name_x', 'Indicator Name_y']]"
   ]
  },
  {
   "cell_type": "code",
   "execution_count": 32,
   "metadata": {},
   "outputs": [
    {
     "data": {
      "text/html": [
       "<div>\n",
       "<style scoped>\n",
       "    .dataframe tbody tr th:only-of-type {\n",
       "        vertical-align: middle;\n",
       "    }\n",
       "\n",
       "    .dataframe tbody tr th {\n",
       "        vertical-align: top;\n",
       "    }\n",
       "\n",
       "    .dataframe thead th {\n",
       "        text-align: right;\n",
       "    }\n",
       "</style>\n",
       "<table border=\"1\" class=\"dataframe\">\n",
       "  <thead>\n",
       "    <tr style=\"text-align: right;\">\n",
       "      <th></th>\n",
       "      <th>Indicator Name_x</th>\n",
       "      <th>Indicator Name_y</th>\n",
       "    </tr>\n",
       "  </thead>\n",
       "  <tbody>\n",
       "    <tr>\n",
       "      <th>0</th>\n",
       "      <td>Adjusted net enrolment rate, lower secondary, ...</td>\n",
       "      <td>Adjusted net enrolment rate, lower secondary, ...</td>\n",
       "    </tr>\n",
       "    <tr>\n",
       "      <th>1</th>\n",
       "      <td>Adjusted net enrolment rate, lower secondary, ...</td>\n",
       "      <td>Adjusted net enrolment rate, lower secondary, ...</td>\n",
       "    </tr>\n",
       "    <tr>\n",
       "      <th>2</th>\n",
       "      <td>Adjusted net enrolment rate, lower secondary, ...</td>\n",
       "      <td>Adjusted net enrolment rate, lower secondary, ...</td>\n",
       "    </tr>\n",
       "    <tr>\n",
       "      <th>3</th>\n",
       "      <td>Adjusted net enrolment rate, lower secondary, ...</td>\n",
       "      <td>Adjusted net enrolment rate, lower secondary, ...</td>\n",
       "    </tr>\n",
       "    <tr>\n",
       "      <th>4</th>\n",
       "      <td>Adjusted net enrolment rate, primary, both sex...</td>\n",
       "      <td>Adjusted net enrolment rate, primary, both sex...</td>\n",
       "    </tr>\n",
       "    <tr>\n",
       "      <th>...</th>\n",
       "      <td>...</td>\n",
       "      <td>...</td>\n",
       "    </tr>\n",
       "    <tr>\n",
       "      <th>870487</th>\n",
       "      <td>Youth illiterate population, 15-24 years, % fe...</td>\n",
       "      <td>Youth illiterate population, 15-24 years, % fe...</td>\n",
       "    </tr>\n",
       "    <tr>\n",
       "      <th>870488</th>\n",
       "      <td>Youth literacy rate, population 15-24 years, b...</td>\n",
       "      <td>Youth literacy rate, population 15-24 years, b...</td>\n",
       "    </tr>\n",
       "    <tr>\n",
       "      <th>870489</th>\n",
       "      <td>Youth literacy rate, population 15-24 years, f...</td>\n",
       "      <td>Youth literacy rate, population 15-24 years, f...</td>\n",
       "    </tr>\n",
       "    <tr>\n",
       "      <th>870490</th>\n",
       "      <td>Youth literacy rate, population 15-24 years, g...</td>\n",
       "      <td>Youth literacy rate, population 15-24 years, g...</td>\n",
       "    </tr>\n",
       "    <tr>\n",
       "      <th>870491</th>\n",
       "      <td>Youth literacy rate, population 15-24 years, m...</td>\n",
       "      <td>Youth literacy rate, population 15-24 years, m...</td>\n",
       "    </tr>\n",
       "  </tbody>\n",
       "</table>\n",
       "<p>870492 rows × 2 columns</p>\n",
       "</div>"
      ],
      "text/plain": [
       "                                         Indicator Name_x  \\\n",
       "0       Adjusted net enrolment rate, lower secondary, ...   \n",
       "1       Adjusted net enrolment rate, lower secondary, ...   \n",
       "2       Adjusted net enrolment rate, lower secondary, ...   \n",
       "3       Adjusted net enrolment rate, lower secondary, ...   \n",
       "4       Adjusted net enrolment rate, primary, both sex...   \n",
       "...                                                   ...   \n",
       "870487  Youth illiterate population, 15-24 years, % fe...   \n",
       "870488  Youth literacy rate, population 15-24 years, b...   \n",
       "870489  Youth literacy rate, population 15-24 years, f...   \n",
       "870490  Youth literacy rate, population 15-24 years, g...   \n",
       "870491  Youth literacy rate, population 15-24 years, m...   \n",
       "\n",
       "                                         Indicator Name_y  \n",
       "0       Adjusted net enrolment rate, lower secondary, ...  \n",
       "1       Adjusted net enrolment rate, lower secondary, ...  \n",
       "2       Adjusted net enrolment rate, lower secondary, ...  \n",
       "3       Adjusted net enrolment rate, lower secondary, ...  \n",
       "4       Adjusted net enrolment rate, primary, both sex...  \n",
       "...                                                   ...  \n",
       "870487  Youth illiterate population, 15-24 years, % fe...  \n",
       "870488  Youth literacy rate, population 15-24 years, b...  \n",
       "870489  Youth literacy rate, population 15-24 years, f...  \n",
       "870490  Youth literacy rate, population 15-24 years, g...  \n",
       "870491  Youth literacy rate, population 15-24 years, m...  \n",
       "\n",
       "[870492 rows x 2 columns]"
      ]
     },
     "execution_count": 32,
     "metadata": {},
     "output_type": "execute_result"
    }
   ],
   "source": [
    "kpi_columns"
   ]
  },
  {
   "cell_type": "code",
   "execution_count": 33,
   "metadata": {},
   "outputs": [
    {
     "data": {
      "text/html": [
       "<div>\n",
       "<style scoped>\n",
       "    .dataframe tbody tr th:only-of-type {\n",
       "        vertical-align: middle;\n",
       "    }\n",
       "\n",
       "    .dataframe tbody tr th {\n",
       "        vertical-align: top;\n",
       "    }\n",
       "\n",
       "    .dataframe thead th {\n",
       "        text-align: right;\n",
       "    }\n",
       "</style>\n",
       "<table border=\"1\" class=\"dataframe\">\n",
       "  <thead>\n",
       "    <tr style=\"text-align: right;\">\n",
       "      <th></th>\n",
       "      <th>Indicator Name_x</th>\n",
       "      <th>Indicator Name_y</th>\n",
       "    </tr>\n",
       "  </thead>\n",
       "  <tbody>\n",
       "    <tr>\n",
       "      <th>count</th>\n",
       "      <td>870492</td>\n",
       "      <td>870492</td>\n",
       "    </tr>\n",
       "    <tr>\n",
       "      <th>unique</th>\n",
       "      <td>3612</td>\n",
       "      <td>3612</td>\n",
       "    </tr>\n",
       "    <tr>\n",
       "      <th>top</th>\n",
       "      <td>PASEC: Average performance gap between 6th gra...</td>\n",
       "      <td>Projection: Percentage of the population age 6...</td>\n",
       "    </tr>\n",
       "    <tr>\n",
       "      <th>freq</th>\n",
       "      <td>241</td>\n",
       "      <td>241</td>\n",
       "    </tr>\n",
       "  </tbody>\n",
       "</table>\n",
       "</div>"
      ],
      "text/plain": [
       "                                         Indicator Name_x  \\\n",
       "count                                              870492   \n",
       "unique                                               3612   \n",
       "top     PASEC: Average performance gap between 6th gra...   \n",
       "freq                                                  241   \n",
       "\n",
       "                                         Indicator Name_y  \n",
       "count                                              870492  \n",
       "unique                                               3612  \n",
       "top     Projection: Percentage of the population age 6...  \n",
       "freq                                                  241  "
      ]
     },
     "execution_count": 33,
     "metadata": {},
     "output_type": "execute_result"
    }
   ],
   "source": [
    "kpi_columns.describe()"
   ]
  },
  {
   "cell_type": "code",
   "execution_count": 34,
   "metadata": {},
   "outputs": [],
   "source": [
    "data = data.drop(columns=['Indicator Name_y'])"
   ]
  },
  {
   "cell_type": "code",
   "execution_count": 35,
   "metadata": {},
   "outputs": [
    {
     "data": {
      "text/plain": [
       "0              0\n",
       "1              1\n",
       "2              2\n",
       "3              3\n",
       "4              4\n",
       "           ...  \n",
       "870487    870487\n",
       "870488    870488\n",
       "870489    870489\n",
       "870490    870490\n",
       "870491    870491\n",
       "Name: Unnamed: 0, Length: 870492, dtype: int64"
      ]
     },
     "execution_count": 35,
     "metadata": {},
     "output_type": "execute_result"
    }
   ],
   "source": [
    "data['Unnamed: 0']"
   ]
  },
  {
   "cell_type": "markdown",
   "metadata": {},
   "source": [
    "c'est une copie des index"
   ]
  },
  {
   "cell_type": "code",
   "execution_count": 36,
   "metadata": {},
   "outputs": [],
   "source": [
    "data = data.drop(columns=['Unnamed: 0'])"
   ]
  },
  {
   "cell_type": "markdown",
   "metadata": {},
   "source": [
    "## Evaluons le contenu de chacunes des cols"
   ]
  },
  {
   "cell_type": "code",
   "execution_count": 37,
   "metadata": {},
   "outputs": [],
   "source": [
    "useless_cols_manual = []"
   ]
  },
  {
   "cell_type": "code",
   "execution_count": 38,
   "metadata": {},
   "outputs": [
    {
     "data": {
      "text/plain": [
       "'Topic'"
      ]
     },
     "execution_count": 38,
     "metadata": {},
     "output_type": "execute_result"
    }
   ],
   "source": [
    "data.columns[69]"
   ]
  },
  {
   "cell_type": "code",
   "execution_count": 39,
   "metadata": {},
   "outputs": [
    {
     "data": {
      "text/plain": [
       "0         Secondary\n",
       "1         Secondary\n",
       "2         Secondary\n",
       "3         Secondary\n",
       "4           Primary\n",
       "            ...    \n",
       "870487     Literacy\n",
       "870488     Literacy\n",
       "870489     Literacy\n",
       "870490     Literacy\n",
       "870491     Literacy\n",
       "Name: Topic, Length: 870492, dtype: object"
      ]
     },
     "execution_count": 39,
     "metadata": {},
     "output_type": "execute_result"
    }
   ],
   "source": [
    "data.Topic"
   ]
  },
  {
   "cell_type": "code",
   "execution_count": 40,
   "metadata": {},
   "outputs": [
    {
     "data": {
      "text/plain": [
       "array(['Secondary', 'Primary', 'Literacy', 'Teachers', 'EMIS',\n",
       "       'Expenditures', 'Attainment', 'Education Equality', 'Background',\n",
       "       'Learning Outcomes', 'Early Childhood Education', 'Tertiary',\n",
       "       'Post-Secondary/Non-Tertiary',\n",
       "       'Economic Policy & Debt: National accounts: US$ at constant 2010 prices: Aggregate indicators',\n",
       "       'Economic Policy & Debt: National accounts: US$ at current prices: Aggregate indicators',\n",
       "       'Economic Policy & Debt: Purchasing power parity',\n",
       "       'Economic Policy & Debt: National accounts: Atlas GNI & GNI per capita',\n",
       "       'Pre-Primary', 'Infrastructure: Communications',\n",
       "       'Social Protection & Labor: Labor force structure',\n",
       "       'Health: Mortality', 'Health: Population: Dynamics', 'Population',\n",
       "       'Health: Population: Structure', 'Health: Risk factors',\n",
       "       'Early Child Development (SABER)',\n",
       "       'Education Management Information Systems (SABER)',\n",
       "       'Engaging the Private Sector (SABER)',\n",
       "       'School Autonomy and Accountability (SABER)',\n",
       "       'School Finance (SABER)',\n",
       "       'School Health and School Feeding (SABER)',\n",
       "       'Student Assessment (SABER)', 'Teachers (SABER)',\n",
       "       'Tertiary Education (SABER)', 'Workforce Development (SABER)',\n",
       "       'Laber', 'Social Protection & Labor: Unemployment'], dtype=object)"
      ]
     },
     "execution_count": 40,
     "metadata": {},
     "output_type": "execute_result"
    }
   ],
   "source": [
    "data.Topic.unique()"
   ]
  },
  {
   "cell_type": "markdown",
   "metadata": {},
   "source": [
    "Topic est interessant"
   ]
  },
  {
   "cell_type": "code",
   "execution_count": 41,
   "metadata": {},
   "outputs": [
    {
     "data": {
      "text/plain": [
       "'Short definition'"
      ]
     },
     "execution_count": 41,
     "metadata": {},
     "output_type": "execute_result"
    }
   ],
   "source": [
    "data.columns[70]"
   ]
  },
  {
   "cell_type": "code",
   "execution_count": 42,
   "metadata": {},
   "outputs": [
    {
     "data": {
      "text/plain": [
       "'Long definition'"
      ]
     },
     "execution_count": 42,
     "metadata": {},
     "output_type": "execute_result"
    }
   ],
   "source": [
    "data.columns[71]"
   ]
  },
  {
   "cell_type": "markdown",
   "metadata": {},
   "source": [
    "Je ne garde que la longue définition"
   ]
  },
  {
   "cell_type": "code",
   "execution_count": 43,
   "metadata": {},
   "outputs": [],
   "source": [
    "useless_cols_manual.append(data.columns[70])"
   ]
  },
  {
   "cell_type": "code",
   "execution_count": 44,
   "metadata": {},
   "outputs": [
    {
     "data": {
      "text/plain": [
       "['Short definition']"
      ]
     },
     "execution_count": 44,
     "metadata": {},
     "output_type": "execute_result"
    }
   ],
   "source": [
    "useless_cols_manual"
   ]
  },
  {
   "cell_type": "code",
   "execution_count": 45,
   "metadata": {},
   "outputs": [
    {
     "data": {
      "text/plain": [
       "'Source'"
      ]
     },
     "execution_count": 45,
     "metadata": {},
     "output_type": "execute_result"
    }
   ],
   "source": [
    "data.columns[72]"
   ]
  },
  {
   "cell_type": "code",
   "execution_count": 46,
   "metadata": {},
   "outputs": [
    {
     "data": {
      "text/plain": [
       "0         UNESCO Institute for Statistics\n",
       "1         UNESCO Institute for Statistics\n",
       "2         UNESCO Institute for Statistics\n",
       "3         UNESCO Institute for Statistics\n",
       "4         UNESCO Institute for Statistics\n",
       "                       ...               \n",
       "870487    UNESCO Institute for Statistics\n",
       "870488    UNESCO Institute for Statistics\n",
       "870489    UNESCO Institute for Statistics\n",
       "870490    UNESCO Institute for Statistics\n",
       "870491    UNESCO Institute for Statistics\n",
       "Name: Source, Length: 870492, dtype: object"
      ]
     },
     "execution_count": 46,
     "metadata": {},
     "output_type": "execute_result"
    }
   ],
   "source": [
    "data.Source"
   ]
  },
  {
   "cell_type": "code",
   "execution_count": 47,
   "metadata": {},
   "outputs": [
    {
     "data": {
      "text/plain": [
       "'Statistical concept and methodology'"
      ]
     },
     "execution_count": 47,
     "metadata": {},
     "output_type": "execute_result"
    }
   ],
   "source": [
    "data.columns[73]"
   ]
  },
  {
   "cell_type": "code",
   "execution_count": 48,
   "metadata": {},
   "outputs": [
    {
     "data": {
      "text/plain": [
       "0         NaN\n",
       "1         NaN\n",
       "2         NaN\n",
       "3         NaN\n",
       "4         NaN\n",
       "         ... \n",
       "870487    NaN\n",
       "870488    NaN\n",
       "870489    NaN\n",
       "870490    NaN\n",
       "870491    NaN\n",
       "Name: Statistical concept and methodology, Length: 870492, dtype: object"
      ]
     },
     "execution_count": 48,
     "metadata": {},
     "output_type": "execute_result"
    }
   ],
   "source": [
    "data['Statistical concept and methodology']"
   ]
  },
  {
   "cell_type": "code",
   "execution_count": 49,
   "metadata": {},
   "outputs": [
    {
     "data": {
      "text/plain": [
       "array([nan,\n",
       "       'The standard definition of unemployed persons is those individuals without work in a recent past period, and currently available for and seeking for employment. But there may be persons who do not actively \"seek\" work because they view job opportunities as limited, or because they have restricted labour mobility, or face discrimination, or structural, social or cultural barriers. NEET rates capture more broadly untapped potential youth, including such individuals who want to work but are not seeking work (often called the \"hidden unemployed\" or \"discouraged workers\").\\n\\nYouth are defined as persons ages 15 to 24; young adults are those ages 25 to 29; and adults are those ages 25 and above. However, countries vary somewhat in their operational definitions. In particular, the lower age limit for young people is usually determined by the minimum age for leaving school, where this exists.',\n",
       "       'TIMSS'], dtype=object)"
      ]
     },
     "execution_count": 49,
     "metadata": {},
     "output_type": "execute_result"
    }
   ],
   "source": [
    "data['Statistical concept and methodology'].unique()"
   ]
  },
  {
   "cell_type": "code",
   "execution_count": 50,
   "metadata": {},
   "outputs": [],
   "source": [
    "useless_cols_manual.append(data.columns[73])"
   ]
  },
  {
   "cell_type": "code",
   "execution_count": 51,
   "metadata": {},
   "outputs": [
    {
     "data": {
      "text/plain": [
       "'Short Name'"
      ]
     },
     "execution_count": 51,
     "metadata": {},
     "output_type": "execute_result"
    }
   ],
   "source": [
    "data.columns[74]"
   ]
  },
  {
   "cell_type": "code",
   "execution_count": 52,
   "metadata": {},
   "outputs": [
    {
     "data": {
      "text/plain": [
       "0         Arab World\n",
       "1         Arab World\n",
       "2         Arab World\n",
       "3         Arab World\n",
       "4         Arab World\n",
       "             ...    \n",
       "870487      Zimbabwe\n",
       "870488      Zimbabwe\n",
       "870489      Zimbabwe\n",
       "870490      Zimbabwe\n",
       "870491      Zimbabwe\n",
       "Name: Short Name, Length: 870492, dtype: object"
      ]
     },
     "execution_count": 52,
     "metadata": {},
     "output_type": "execute_result"
    }
   ],
   "source": [
    "data['Short Name']"
   ]
  },
  {
   "cell_type": "code",
   "execution_count": 53,
   "metadata": {},
   "outputs": [
    {
     "data": {
      "text/plain": [
       "0         Arab World\n",
       "1         Arab World\n",
       "2         Arab World\n",
       "3         Arab World\n",
       "4         Arab World\n",
       "             ...    \n",
       "870487      Zimbabwe\n",
       "870488      Zimbabwe\n",
       "870489      Zimbabwe\n",
       "870490      Zimbabwe\n",
       "870491      Zimbabwe\n",
       "Name: Country Name, Length: 870492, dtype: object"
      ]
     },
     "execution_count": 53,
     "metadata": {},
     "output_type": "execute_result"
    }
   ],
   "source": [
    "data['Country Name']"
   ]
  },
  {
   "cell_type": "markdown",
   "metadata": {},
   "source": [
    "C'est un doublon"
   ]
  },
  {
   "cell_type": "code",
   "execution_count": 54,
   "metadata": {},
   "outputs": [],
   "source": [
    "useless_cols_manual.append(data.columns[74])"
   ]
  },
  {
   "cell_type": "code",
   "execution_count": 55,
   "metadata": {},
   "outputs": [
    {
     "data": {
      "text/plain": [
       "'Table Name'"
      ]
     },
     "execution_count": 55,
     "metadata": {},
     "output_type": "execute_result"
    }
   ],
   "source": [
    "data.columns[75]"
   ]
  },
  {
   "cell_type": "code",
   "execution_count": 56,
   "metadata": {},
   "outputs": [
    {
     "data": {
      "text/plain": [
       "0         Arab World\n",
       "1         Arab World\n",
       "2         Arab World\n",
       "3         Arab World\n",
       "4         Arab World\n",
       "             ...    \n",
       "870487      Zimbabwe\n",
       "870488      Zimbabwe\n",
       "870489      Zimbabwe\n",
       "870490      Zimbabwe\n",
       "870491      Zimbabwe\n",
       "Name: Table Name, Length: 870492, dtype: object"
      ]
     },
     "execution_count": 56,
     "metadata": {},
     "output_type": "execute_result"
    }
   ],
   "source": [
    "data[data.columns[75]]"
   ]
  },
  {
   "cell_type": "markdown",
   "metadata": {},
   "source": [
    "encore un doublon "
   ]
  },
  {
   "cell_type": "code",
   "execution_count": 57,
   "metadata": {},
   "outputs": [],
   "source": [
    "useless_cols_manual.append(data.columns[75])"
   ]
  },
  {
   "cell_type": "code",
   "execution_count": 58,
   "metadata": {},
   "outputs": [
    {
     "data": {
      "text/plain": [
       "'Long Name'"
      ]
     },
     "execution_count": 58,
     "metadata": {},
     "output_type": "execute_result"
    }
   ],
   "source": [
    "data.columns[76]"
   ]
  },
  {
   "cell_type": "code",
   "execution_count": 59,
   "metadata": {},
   "outputs": [
    {
     "data": {
      "text/plain": [
       "0                   Arab World\n",
       "1                   Arab World\n",
       "2                   Arab World\n",
       "3                   Arab World\n",
       "4                   Arab World\n",
       "                  ...         \n",
       "870487    Republic of Zimbabwe\n",
       "870488    Republic of Zimbabwe\n",
       "870489    Republic of Zimbabwe\n",
       "870490    Republic of Zimbabwe\n",
       "870491    Republic of Zimbabwe\n",
       "Name: Long Name, Length: 870492, dtype: object"
      ]
     },
     "execution_count": 59,
     "metadata": {},
     "output_type": "execute_result"
    }
   ],
   "source": [
    "data[data.columns[76]]"
   ]
  },
  {
   "cell_type": "markdown",
   "metadata": {},
   "source": [
    "encore un doublon"
   ]
  },
  {
   "cell_type": "code",
   "execution_count": 60,
   "metadata": {},
   "outputs": [],
   "source": [
    "useless_cols_manual.append(data.columns[76])"
   ]
  },
  {
   "cell_type": "code",
   "execution_count": 61,
   "metadata": {},
   "outputs": [
    {
     "data": {
      "text/plain": [
       "0         1A\n",
       "1         1A\n",
       "2         1A\n",
       "3         1A\n",
       "4         1A\n",
       "          ..\n",
       "870487    ZW\n",
       "870488    ZW\n",
       "870489    ZW\n",
       "870490    ZW\n",
       "870491    ZW\n",
       "Name: 2-alpha code, Length: 870492, dtype: object"
      ]
     },
     "execution_count": 61,
     "metadata": {},
     "output_type": "execute_result"
    }
   ],
   "source": [
    "data[data.columns[77]]"
   ]
  },
  {
   "cell_type": "code",
   "execution_count": 62,
   "metadata": {},
   "outputs": [],
   "source": [
    "useless_cols_manual.append(data.columns[77])"
   ]
  },
  {
   "cell_type": "code",
   "execution_count": 63,
   "metadata": {},
   "outputs": [
    {
     "data": {
      "text/plain": [
       "0                 NaN\n",
       "1                 NaN\n",
       "2                 NaN\n",
       "3                 NaN\n",
       "4                 NaN\n",
       "             ...     \n",
       "870487    U.S. dollar\n",
       "870488    U.S. dollar\n",
       "870489    U.S. dollar\n",
       "870490    U.S. dollar\n",
       "870491    U.S. dollar\n",
       "Name: Currency Unit, Length: 870492, dtype: object"
      ]
     },
     "execution_count": 63,
     "metadata": {},
     "output_type": "execute_result"
    }
   ],
   "source": [
    "data[data.columns[78]]"
   ]
  },
  {
   "cell_type": "code",
   "execution_count": 64,
   "metadata": {},
   "outputs": [],
   "source": [
    "useless_cols_manual.append(data.columns[78])"
   ]
  },
  {
   "cell_type": "code",
   "execution_count": 65,
   "metadata": {},
   "outputs": [
    {
     "data": {
      "text/plain": [
       "0         Arab World aggregate. Arab World is composed o...\n",
       "1         Arab World aggregate. Arab World is composed o...\n",
       "2         Arab World aggregate. Arab World is composed o...\n",
       "3         Arab World aggregate. Arab World is composed o...\n",
       "4         Arab World aggregate. Arab World is composed o...\n",
       "                                ...                        \n",
       "870487    Fiscal year end: June 30; reporting period for...\n",
       "870488    Fiscal year end: June 30; reporting period for...\n",
       "870489    Fiscal year end: June 30; reporting period for...\n",
       "870490    Fiscal year end: June 30; reporting period for...\n",
       "870491    Fiscal year end: June 30; reporting period for...\n",
       "Name: Special Notes, Length: 870492, dtype: object"
      ]
     },
     "execution_count": 65,
     "metadata": {},
     "output_type": "execute_result"
    }
   ],
   "source": [
    "data[data.columns[79]]"
   ]
  },
  {
   "cell_type": "code",
   "execution_count": 66,
   "metadata": {},
   "outputs": [
    {
     "data": {
      "text/plain": [
       "'Arab World aggregate. Arab World is composed of members of the League of Arab States.'"
      ]
     },
     "execution_count": 66,
     "metadata": {},
     "output_type": "execute_result"
    }
   ],
   "source": [
    "data[data.columns[79]].iloc[0]"
   ]
  },
  {
   "cell_type": "code",
   "execution_count": 67,
   "metadata": {},
   "outputs": [
    {
     "data": {
      "text/plain": [
       "'Fiscal year end: June 30; reporting period for national accounts data: CY. As of January 2009, multiple hard currencies, such as rand, pound sterling, euro and U.S. dollar are in use. Data are reported in U.S. dollars, the most-used currency.'"
      ]
     },
     "execution_count": 67,
     "metadata": {},
     "output_type": "execute_result"
    }
   ],
   "source": [
    "data[data.columns[79]][870466]"
   ]
  },
  {
   "cell_type": "markdown",
   "metadata": {},
   "source": [
    "Cette colonne contient des informations à propos du pays concerné par la ligne. Je décide de la garder pour l'instant"
   ]
  },
  {
   "cell_type": "code",
   "execution_count": 68,
   "metadata": {},
   "outputs": [
    {
     "data": {
      "text/plain": [
       "0                        NaN\n",
       "1                        NaN\n",
       "2                        NaN\n",
       "3                        NaN\n",
       "4                        NaN\n",
       "                 ...        \n",
       "870487    Sub-Saharan Africa\n",
       "870488    Sub-Saharan Africa\n",
       "870489    Sub-Saharan Africa\n",
       "870490    Sub-Saharan Africa\n",
       "870491    Sub-Saharan Africa\n",
       "Name: Region, Length: 870492, dtype: object"
      ]
     },
     "execution_count": 68,
     "metadata": {},
     "output_type": "execute_result"
    }
   ],
   "source": [
    "data[data.columns[80]]"
   ]
  },
  {
   "cell_type": "markdown",
   "metadata": {},
   "source": [
    "La région m'interesse dans l'idée de détecter des zones géographiques plus que des pays"
   ]
  },
  {
   "cell_type": "code",
   "execution_count": 69,
   "metadata": {},
   "outputs": [
    {
     "data": {
      "text/plain": [
       "0                NaN\n",
       "1                NaN\n",
       "2                NaN\n",
       "3                NaN\n",
       "4                NaN\n",
       "             ...    \n",
       "870487    Low income\n",
       "870488    Low income\n",
       "870489    Low income\n",
       "870490    Low income\n",
       "870491    Low income\n",
       "Name: Income Group, Length: 870492, dtype: object"
      ]
     },
     "execution_count": 69,
     "metadata": {},
     "output_type": "execute_result"
    }
   ],
   "source": [
    "data[data.columns[81]]"
   ]
  },
  {
   "cell_type": "code",
   "execution_count": 70,
   "metadata": {},
   "outputs": [
    {
     "data": {
      "text/plain": [
       "array([nan, 'Low income', 'Upper middle income', 'High income: nonOECD',\n",
       "       'Lower middle income', 'High income: OECD'], dtype=object)"
      ]
     },
     "execution_count": 70,
     "metadata": {},
     "output_type": "execute_result"
    }
   ],
   "source": [
    "data[data.columns[81]].unique()"
   ]
  },
  {
   "cell_type": "code",
   "execution_count": 71,
   "metadata": {},
   "outputs": [
    {
     "data": {
      "text/plain": [
       "0         1A\n",
       "1         1A\n",
       "2         1A\n",
       "3         1A\n",
       "4         1A\n",
       "          ..\n",
       "870487    ZW\n",
       "870488    ZW\n",
       "870489    ZW\n",
       "870490    ZW\n",
       "870491    ZW\n",
       "Name: WB-2 code, Length: 870492, dtype: object"
      ]
     },
     "execution_count": 71,
     "metadata": {},
     "output_type": "execute_result"
    }
   ],
   "source": [
    "data[data.columns[82]]"
   ]
  },
  {
   "cell_type": "code",
   "execution_count": 72,
   "metadata": {},
   "outputs": [],
   "source": [
    "useless_cols_manual.append(data.columns[82])"
   ]
  },
  {
   "cell_type": "code",
   "execution_count": 73,
   "metadata": {},
   "outputs": [
    {
     "data": {
      "text/plain": [
       "0          NaN\n",
       "1          NaN\n",
       "2          NaN\n",
       "3          NaN\n",
       "4          NaN\n",
       "          ... \n",
       "870487    2009\n",
       "870488    2009\n",
       "870489    2009\n",
       "870490    2009\n",
       "870491    2009\n",
       "Name: National accounts base year, Length: 870492, dtype: object"
      ]
     },
     "execution_count": 73,
     "metadata": {},
     "output_type": "execute_result"
    }
   ],
   "source": [
    "data[data.columns[83]]"
   ]
  },
  {
   "cell_type": "code",
   "execution_count": 74,
   "metadata": {},
   "outputs": [],
   "source": [
    "useless_cols_manual.append(data.columns[83])"
   ]
  },
  {
   "cell_type": "code",
   "execution_count": 75,
   "metadata": {},
   "outputs": [
    {
     "data": {
      "text/plain": [
       "0                                       NaN\n",
       "1                                       NaN\n",
       "2                                       NaN\n",
       "3                                       NaN\n",
       "4                                       NaN\n",
       "                        ...                \n",
       "870487    Value added at basic prices (VAB)\n",
       "870488    Value added at basic prices (VAB)\n",
       "870489    Value added at basic prices (VAB)\n",
       "870490    Value added at basic prices (VAB)\n",
       "870491    Value added at basic prices (VAB)\n",
       "Name: SNA price valuation, Length: 870492, dtype: object"
      ]
     },
     "execution_count": 75,
     "metadata": {},
     "output_type": "execute_result"
    }
   ],
   "source": [
    "data[data.columns[84]]"
   ]
  },
  {
   "cell_type": "code",
   "execution_count": 76,
   "metadata": {},
   "outputs": [
    {
     "data": {
      "text/plain": [
       "array([nan, 'Value added at basic prices (VAB)',\n",
       "       'Value added at producer prices (VAP)'], dtype=object)"
      ]
     },
     "execution_count": 76,
     "metadata": {},
     "output_type": "execute_result"
    }
   ],
   "source": [
    "data[data.columns[84]].unique()"
   ]
  },
  {
   "cell_type": "code",
   "execution_count": 77,
   "metadata": {},
   "outputs": [],
   "source": [
    "useless_cols_manual.append(data.columns[84])"
   ]
  },
  {
   "cell_type": "code",
   "execution_count": 78,
   "metadata": {},
   "outputs": [
    {
     "data": {
      "text/plain": [
       "0           NaN\n",
       "1           NaN\n",
       "2           NaN\n",
       "3           NaN\n",
       "4           NaN\n",
       "          ...  \n",
       "870487    Blend\n",
       "870488    Blend\n",
       "870489    Blend\n",
       "870490    Blend\n",
       "870491    Blend\n",
       "Name: Lending category, Length: 870492, dtype: object"
      ]
     },
     "execution_count": 78,
     "metadata": {},
     "output_type": "execute_result"
    }
   ],
   "source": [
    "data[data.columns[85]]"
   ]
  },
  {
   "cell_type": "code",
   "execution_count": 79,
   "metadata": {},
   "outputs": [
    {
     "data": {
      "text/plain": [
       "array([nan, 'IDA', 'IBRD', 'Blend'], dtype=object)"
      ]
     },
     "execution_count": 79,
     "metadata": {},
     "output_type": "execute_result"
    }
   ],
   "source": [
    "data[data.columns[85]].unique()"
   ]
  },
  {
   "cell_type": "markdown",
   "metadata": {},
   "source": [
    "Lending veut dire prêt. Cette donnée n'apporte rien"
   ]
  },
  {
   "cell_type": "code",
   "execution_count": 80,
   "metadata": {},
   "outputs": [],
   "source": [
    "useless_cols_manual.append(data.columns[85])"
   ]
  },
  {
   "cell_type": "code",
   "execution_count": 81,
   "metadata": {},
   "outputs": [
    {
     "data": {
      "text/plain": [
       "0                                                       NaN\n",
       "1                                                       NaN\n",
       "2                                                       NaN\n",
       "3                                                       NaN\n",
       "4                                                       NaN\n",
       "                                ...                        \n",
       "870487    Country uses the 1993 System of National Accou...\n",
       "870488    Country uses the 1993 System of National Accou...\n",
       "870489    Country uses the 1993 System of National Accou...\n",
       "870490    Country uses the 1993 System of National Accou...\n",
       "870491    Country uses the 1993 System of National Accou...\n",
       "Name: System of National Accounts, Length: 870492, dtype: object"
      ]
     },
     "execution_count": 81,
     "metadata": {},
     "output_type": "execute_result"
    }
   ],
   "source": [
    "data[data.columns[86]]"
   ]
  },
  {
   "cell_type": "code",
   "execution_count": 82,
   "metadata": {},
   "outputs": [],
   "source": [
    "useless_cols_manual.append(data.columns[86])"
   ]
  },
  {
   "cell_type": "code",
   "execution_count": 83,
   "metadata": {},
   "outputs": [
    {
     "data": {
      "text/plain": [
       "0          NaN\n",
       "1          NaN\n",
       "2          NaN\n",
       "3          NaN\n",
       "4          NaN\n",
       "          ... \n",
       "870487    2005\n",
       "870488    2005\n",
       "870489    2005\n",
       "870490    2005\n",
       "870491    2005\n",
       "Name: PPP survey year, Length: 870492, dtype: object"
      ]
     },
     "execution_count": 83,
     "metadata": {},
     "output_type": "execute_result"
    }
   ],
   "source": [
    "data[data.columns[87]]"
   ]
  },
  {
   "cell_type": "code",
   "execution_count": 84,
   "metadata": {},
   "outputs": [],
   "source": [
    "useless_cols_manual.append(data.columns[87])"
   ]
  },
  {
   "cell_type": "code",
   "execution_count": 85,
   "metadata": {},
   "outputs": [
    {
     "data": {
      "text/plain": [
       "0                                                  NaN\n",
       "1                                                  NaN\n",
       "2                                                  NaN\n",
       "3                                                  NaN\n",
       "4                                                  NaN\n",
       "                              ...                     \n",
       "870487    IMF Balance of Payments Manual, 6th edition.\n",
       "870488    IMF Balance of Payments Manual, 6th edition.\n",
       "870489    IMF Balance of Payments Manual, 6th edition.\n",
       "870490    IMF Balance of Payments Manual, 6th edition.\n",
       "870491    IMF Balance of Payments Manual, 6th edition.\n",
       "Name: Balance of Payments Manual in use, Length: 870492, dtype: object"
      ]
     },
     "execution_count": 85,
     "metadata": {},
     "output_type": "execute_result"
    }
   ],
   "source": [
    "data[data.columns[88]]"
   ]
  },
  {
   "cell_type": "code",
   "execution_count": 86,
   "metadata": {},
   "outputs": [],
   "source": [
    "useless_cols_manual.append(data.columns[88])"
   ]
  },
  {
   "cell_type": "code",
   "execution_count": 87,
   "metadata": {},
   "outputs": [
    {
     "data": {
      "text/plain": [
       "0            NaN\n",
       "1            NaN\n",
       "2            NaN\n",
       "3            NaN\n",
       "4            NaN\n",
       "           ...  \n",
       "870487    Actual\n",
       "870488    Actual\n",
       "870489    Actual\n",
       "870490    Actual\n",
       "870491    Actual\n",
       "Name: External debt Reporting status, Length: 870492, dtype: object"
      ]
     },
     "execution_count": 87,
     "metadata": {},
     "output_type": "execute_result"
    }
   ],
   "source": [
    "data[data.columns[89]]"
   ]
  },
  {
   "cell_type": "code",
   "execution_count": 88,
   "metadata": {},
   "outputs": [],
   "source": [
    "useless_cols_manual.append(data.columns[89])"
   ]
  },
  {
   "cell_type": "code",
   "execution_count": 89,
   "metadata": {},
   "outputs": [
    {
     "data": {
      "text/plain": [
       "0                          NaN\n",
       "1                          NaN\n",
       "2                          NaN\n",
       "3                          NaN\n",
       "4                          NaN\n",
       "                  ...         \n",
       "870487    General trade system\n",
       "870488    General trade system\n",
       "870489    General trade system\n",
       "870490    General trade system\n",
       "870491    General trade system\n",
       "Name: System of trade, Length: 870492, dtype: object"
      ]
     },
     "execution_count": 89,
     "metadata": {},
     "output_type": "execute_result"
    }
   ],
   "source": [
    "data[data.columns[90]]"
   ]
  },
  {
   "cell_type": "code",
   "execution_count": 90,
   "metadata": {},
   "outputs": [
    {
     "data": {
      "text/plain": [
       "array([nan, 'General trade system', 'Special trade system'], dtype=object)"
      ]
     },
     "execution_count": 90,
     "metadata": {},
     "output_type": "execute_result"
    }
   ],
   "source": [
    "data[data.columns[90]].unique()"
   ]
  },
  {
   "cell_type": "code",
   "execution_count": 91,
   "metadata": {},
   "outputs": [],
   "source": [
    "useless_cols_manual.append(data.columns[90])"
   ]
  },
  {
   "cell_type": "code",
   "execution_count": 92,
   "metadata": {},
   "outputs": [
    {
     "data": {
      "text/plain": [
       "0                                     NaN\n",
       "1                                     NaN\n",
       "2                                     NaN\n",
       "3                                     NaN\n",
       "4                                     NaN\n",
       "                       ...               \n",
       "870487    Consolidated central government\n",
       "870488    Consolidated central government\n",
       "870489    Consolidated central government\n",
       "870490    Consolidated central government\n",
       "870491    Consolidated central government\n",
       "Name: Government Accounting concept, Length: 870492, dtype: object"
      ]
     },
     "execution_count": 92,
     "metadata": {},
     "output_type": "execute_result"
    }
   ],
   "source": [
    "data[data.columns[91]]"
   ]
  },
  {
   "cell_type": "code",
   "execution_count": 93,
   "metadata": {},
   "outputs": [],
   "source": [
    "useless_cols_manual.append(data.columns[91])"
   ]
  },
  {
   "cell_type": "code",
   "execution_count": 94,
   "metadata": {},
   "outputs": [
    {
     "data": {
      "text/plain": [
       "0                                              NaN\n",
       "1                                              NaN\n",
       "2                                              NaN\n",
       "3                                              NaN\n",
       "4                                              NaN\n",
       "                            ...                   \n",
       "870487    General Data Dissemination System (GDDS)\n",
       "870488    General Data Dissemination System (GDDS)\n",
       "870489    General Data Dissemination System (GDDS)\n",
       "870490    General Data Dissemination System (GDDS)\n",
       "870491    General Data Dissemination System (GDDS)\n",
       "Name: IMF data dissemination standard, Length: 870492, dtype: object"
      ]
     },
     "execution_count": 94,
     "metadata": {},
     "output_type": "execute_result"
    }
   ],
   "source": [
    "data[data.columns[92]]"
   ]
  },
  {
   "cell_type": "code",
   "execution_count": 95,
   "metadata": {},
   "outputs": [
    {
     "data": {
      "text/plain": [
       "array([nan, 'General Data Dissemination System (GDDS)',\n",
       "       'Special Data Dissemination Standard (SDDS)'], dtype=object)"
      ]
     },
     "execution_count": 95,
     "metadata": {},
     "output_type": "execute_result"
    }
   ],
   "source": [
    "data[data.columns[92]].unique()"
   ]
  },
  {
   "cell_type": "code",
   "execution_count": 96,
   "metadata": {},
   "outputs": [],
   "source": [
    "useless_cols_manual.append(data.columns[92])"
   ]
  },
  {
   "cell_type": "code",
   "execution_count": 97,
   "metadata": {},
   "outputs": [
    {
     "data": {
      "text/plain": [
       "0          NaN\n",
       "1          NaN\n",
       "2          NaN\n",
       "3          NaN\n",
       "4          NaN\n",
       "          ... \n",
       "870487    2012\n",
       "870488    2012\n",
       "870489    2012\n",
       "870490    2012\n",
       "870491    2012\n",
       "Name: Latest population census, Length: 870492, dtype: object"
      ]
     },
     "execution_count": 97,
     "metadata": {},
     "output_type": "execute_result"
    }
   ],
   "source": [
    "data[data.columns[93]]"
   ]
  },
  {
   "cell_type": "code",
   "execution_count": 98,
   "metadata": {},
   "outputs": [
    {
     "data": {
      "text/plain": [
       "array([nan, 1979.0, 2011.0, 2008.0, '2008', '2010',\n",
       "       '2011. Population figures compiled from administrative registers.',\n",
       "       '1970', '2011', 2010, '2009', 2009, 2013, 2005, 2012, 2006, 2003,\n",
       "       '2003', 'Guernsey: 2009; Jersey: 2011.', '2012', 1984, 2007, 1998,\n",
       "       2002, '2006. Rolling census based on continuous sample survey.',\n",
       "       '2007', 1996, '2013',\n",
       "       '2011. The population censuses for 1986 and 1996 were based on a one-in-seven sample of the population, while that for 2006 was based on a one-in-ten sample of the population.',\n",
       "       1997, 2004, 1970, 1993, 1983.0, '1987', 1987, 2001, 1989],\n",
       "      dtype=object)"
      ]
     },
     "execution_count": 98,
     "metadata": {},
     "output_type": "execute_result"
    }
   ],
   "source": [
    "data[data.columns[93]].unique()"
   ]
  },
  {
   "cell_type": "markdown",
   "metadata": {},
   "source": [
    "Cette colonne est interessante mais elle necessite un nettoyage"
   ]
  },
  {
   "cell_type": "code",
   "execution_count": 99,
   "metadata": {},
   "outputs": [
    {
     "data": {
      "text/plain": [
       "0                                                  NaN\n",
       "1                                                  NaN\n",
       "2                                                  NaN\n",
       "3                                                  NaN\n",
       "4                                                  NaN\n",
       "                              ...                     \n",
       "870487    Demographic and Health Survey (DHS), 2010/11\n",
       "870488    Demographic and Health Survey (DHS), 2010/11\n",
       "870489    Demographic and Health Survey (DHS), 2010/11\n",
       "870490    Demographic and Health Survey (DHS), 2010/11\n",
       "870491    Demographic and Health Survey (DHS), 2010/11\n",
       "Name: Latest household survey, Length: 870492, dtype: object"
      ]
     },
     "execution_count": 99,
     "metadata": {},
     "output_type": "execute_result"
    }
   ],
   "source": [
    "data[data.columns[94]]"
   ]
  },
  {
   "cell_type": "code",
   "execution_count": 100,
   "metadata": {},
   "outputs": [],
   "source": [
    "useless_cols_manual.append(data.columns[94])"
   ]
  },
  {
   "cell_type": "code",
   "execution_count": 101,
   "metadata": {},
   "outputs": [
    {
     "data": {
      "text/plain": [
       "0                                                NaN\n",
       "1                                                NaN\n",
       "2                                                NaN\n",
       "3                                                NaN\n",
       "4                                                NaN\n",
       "                             ...                    \n",
       "870487    Integrated household survey (IHS), 2011/12\n",
       "870488    Integrated household survey (IHS), 2011/12\n",
       "870489    Integrated household survey (IHS), 2011/12\n",
       "870490    Integrated household survey (IHS), 2011/12\n",
       "870491    Integrated household survey (IHS), 2011/12\n",
       "Name: Source of most recent Income and expenditure data, Length: 870492, dtype: object"
      ]
     },
     "execution_count": 101,
     "metadata": {},
     "output_type": "execute_result"
    }
   ],
   "source": [
    "data[data.columns[95]]"
   ]
  },
  {
   "cell_type": "code",
   "execution_count": 102,
   "metadata": {},
   "outputs": [],
   "source": [
    "useless_cols_manual.append(data.columns[95])"
   ]
  },
  {
   "cell_type": "code",
   "execution_count": 103,
   "metadata": {},
   "outputs": [
    {
     "data": {
      "text/plain": [
       "0         NaN\n",
       "1         NaN\n",
       "2         NaN\n",
       "3         NaN\n",
       "4         NaN\n",
       "         ... \n",
       "870487    NaN\n",
       "870488    NaN\n",
       "870489    NaN\n",
       "870490    NaN\n",
       "870491    NaN\n",
       "Name: Vital registration complete, Length: 870492, dtype: object"
      ]
     },
     "execution_count": 103,
     "metadata": {},
     "output_type": "execute_result"
    }
   ],
   "source": [
    "data[data.columns[96]]"
   ]
  },
  {
   "cell_type": "code",
   "execution_count": 104,
   "metadata": {},
   "outputs": [
    {
     "data": {
      "text/plain": [
       "array([nan, 'Yes', 'Yes. Vital registration for Guernsey and Jersey.'],\n",
       "      dtype=object)"
      ]
     },
     "execution_count": 104,
     "metadata": {},
     "output_type": "execute_result"
    }
   ],
   "source": [
    "data[data.columns[96]].unique()"
   ]
  },
  {
   "cell_type": "markdown",
   "metadata": {},
   "source": [
    "Que des 'yes' ou NaN. On supprime"
   ]
  },
  {
   "cell_type": "code",
   "execution_count": 105,
   "metadata": {},
   "outputs": [],
   "source": [
    "useless_cols_manual.append(data.columns[96])"
   ]
  },
  {
   "cell_type": "code",
   "execution_count": 106,
   "metadata": {},
   "outputs": [
    {
     "data": {
      "text/plain": [
       "0         NaN\n",
       "1         NaN\n",
       "2         NaN\n",
       "3         NaN\n",
       "4         NaN\n",
       "         ... \n",
       "870487    NaN\n",
       "870488    NaN\n",
       "870489    NaN\n",
       "870490    NaN\n",
       "870491    NaN\n",
       "Name: Latest agricultural census, Length: 870492, dtype: object"
      ]
     },
     "execution_count": 106,
     "metadata": {},
     "output_type": "execute_result"
    }
   ],
   "source": [
    "data[data.columns[97]]"
   ]
  },
  {
   "cell_type": "code",
   "execution_count": 107,
   "metadata": {},
   "outputs": [],
   "source": [
    "useless_cols_manual.append(data.columns[97])"
   ]
  },
  {
   "cell_type": "code",
   "execution_count": 108,
   "metadata": {},
   "outputs": [
    {
     "data": {
      "text/plain": [
       "0        NaN\n",
       "1        NaN\n",
       "2        NaN\n",
       "3        NaN\n",
       "4        NaN\n",
       "          ..\n",
       "870487   NaN\n",
       "870488   NaN\n",
       "870489   NaN\n",
       "870490   NaN\n",
       "870491   NaN\n",
       "Name: Latest industrial data, Length: 870492, dtype: float64"
      ]
     },
     "execution_count": 108,
     "metadata": {},
     "output_type": "execute_result"
    }
   ],
   "source": [
    "data[data.columns[98]]"
   ]
  },
  {
   "cell_type": "code",
   "execution_count": 109,
   "metadata": {},
   "outputs": [],
   "source": [
    "useless_cols_manual.append(data.columns[98])"
   ]
  },
  {
   "cell_type": "code",
   "execution_count": 110,
   "metadata": {},
   "outputs": [
    {
     "data": {
      "text/plain": [
       "0            NaN\n",
       "1            NaN\n",
       "2            NaN\n",
       "3            NaN\n",
       "4            NaN\n",
       "           ...  \n",
       "870487    2012.0\n",
       "870488    2012.0\n",
       "870489    2012.0\n",
       "870490    2012.0\n",
       "870491    2012.0\n",
       "Name: Latest trade data, Length: 870492, dtype: float64"
      ]
     },
     "execution_count": 110,
     "metadata": {},
     "output_type": "execute_result"
    }
   ],
   "source": [
    "data[data.columns[99]]"
   ]
  },
  {
   "cell_type": "code",
   "execution_count": 111,
   "metadata": {},
   "outputs": [],
   "source": [
    "useless_cols_manual.append(data.columns[99])"
   ]
  },
  {
   "cell_type": "code",
   "execution_count": 112,
   "metadata": {},
   "outputs": [
    {
     "data": {
      "text/plain": [
       "0          NaN\n",
       "1          NaN\n",
       "2          NaN\n",
       "3          NaN\n",
       "4          NaN\n",
       "          ... \n",
       "870487    2002\n",
       "870488    2002\n",
       "870489    2002\n",
       "870490    2002\n",
       "870491    2002\n",
       "Name: Latest water withdrawal data, Length: 870492, dtype: object"
      ]
     },
     "execution_count": 112,
     "metadata": {},
     "output_type": "execute_result"
    }
   ],
   "source": [
    "data[data.columns[100]]"
   ]
  },
  {
   "cell_type": "code",
   "execution_count": 113,
   "metadata": {},
   "outputs": [],
   "source": [
    "useless_cols_manual.append(data.columns[100])"
   ]
  },
  {
   "cell_type": "code",
   "execution_count": 114,
   "metadata": {},
   "outputs": [
    {
     "data": {
      "text/plain": [
       "['Short definition',\n",
       " 'Statistical concept and methodology',\n",
       " 'Short Name',\n",
       " 'Table Name',\n",
       " 'Long Name',\n",
       " '2-alpha code',\n",
       " 'Currency Unit',\n",
       " 'WB-2 code',\n",
       " 'National accounts base year',\n",
       " 'SNA price valuation',\n",
       " 'Lending category',\n",
       " 'System of National Accounts',\n",
       " 'PPP survey year',\n",
       " 'Balance of Payments Manual in use',\n",
       " 'External debt Reporting status',\n",
       " 'System of trade',\n",
       " 'Government Accounting concept',\n",
       " 'IMF data dissemination standard',\n",
       " 'Latest household survey',\n",
       " 'Source of most recent Income and expenditure data',\n",
       " 'Vital registration complete',\n",
       " 'Latest agricultural census',\n",
       " 'Latest industrial data',\n",
       " 'Latest trade data',\n",
       " 'Latest water withdrawal data']"
      ]
     },
     "execution_count": 114,
     "metadata": {},
     "output_type": "execute_result"
    }
   ],
   "source": [
    "useless_cols_manual "
   ]
  },
  {
   "cell_type": "code",
   "execution_count": 115,
   "metadata": {},
   "outputs": [],
   "source": [
    "data = data.drop(columns=useless_cols_manual)"
   ]
  },
  {
   "cell_type": "code",
   "execution_count": 116,
   "metadata": {},
   "outputs": [
    {
     "data": {
      "text/plain": [
       "(870492, 76)"
      ]
     },
     "execution_count": 116,
     "metadata": {},
     "output_type": "execute_result"
    }
   ],
   "source": [
    "data.shape"
   ]
  },
  {
   "cell_type": "markdown",
   "metadata": {},
   "source": [
    "### Explorons le taux de remplissage des colonnes années"
   ]
  },
  {
   "cell_type": "markdown",
   "metadata": {},
   "source": [
    "Il y a deux types de données pour les indicateurs par années. Il y a les données collectées (passé) et les données pour le future qui sont des predictions"
   ]
  },
  {
   "cell_type": "code",
   "execution_count": 117,
   "metadata": {},
   "outputs": [],
   "source": [
    "describe = data.describe()"
   ]
  },
  {
   "cell_type": "code",
   "execution_count": 118,
   "metadata": {},
   "outputs": [
    {
     "data": {
      "text/html": [
       "<div>\n",
       "<style scoped>\n",
       "    .dataframe tbody tr th:only-of-type {\n",
       "        vertical-align: middle;\n",
       "    }\n",
       "\n",
       "    .dataframe tbody tr th {\n",
       "        vertical-align: top;\n",
       "    }\n",
       "\n",
       "    .dataframe thead th {\n",
       "        text-align: right;\n",
       "    }\n",
       "</style>\n",
       "<table border=\"1\" class=\"dataframe\">\n",
       "  <thead>\n",
       "    <tr style=\"text-align: right;\">\n",
       "      <th></th>\n",
       "      <th>1970</th>\n",
       "      <th>1971</th>\n",
       "      <th>1972</th>\n",
       "      <th>1973</th>\n",
       "      <th>1974</th>\n",
       "      <th>1975</th>\n",
       "      <th>1976</th>\n",
       "      <th>1977</th>\n",
       "      <th>1978</th>\n",
       "      <th>1979</th>\n",
       "      <th>...</th>\n",
       "      <th>2055</th>\n",
       "      <th>2060</th>\n",
       "      <th>2065</th>\n",
       "      <th>2070</th>\n",
       "      <th>2075</th>\n",
       "      <th>2080</th>\n",
       "      <th>2085</th>\n",
       "      <th>2090</th>\n",
       "      <th>2095</th>\n",
       "      <th>2100</th>\n",
       "    </tr>\n",
       "  </thead>\n",
       "  <tbody>\n",
       "    <tr>\n",
       "      <th>count</th>\n",
       "      <td>7.148000e+04</td>\n",
       "      <td>3.444300e+04</td>\n",
       "      <td>3.451400e+04</td>\n",
       "      <td>3.446700e+04</td>\n",
       "      <td>3.467500e+04</td>\n",
       "      <td>8.618600e+04</td>\n",
       "      <td>3.629500e+04</td>\n",
       "      <td>3.646100e+04</td>\n",
       "      <td>3.647900e+04</td>\n",
       "      <td>3.562900e+04</td>\n",
       "      <td>...</td>\n",
       "      <td>5.143600e+04</td>\n",
       "      <td>5.143600e+04</td>\n",
       "      <td>5.143600e+04</td>\n",
       "      <td>5.143600e+04</td>\n",
       "      <td>5.143600e+04</td>\n",
       "      <td>5.143600e+04</td>\n",
       "      <td>5.143600e+04</td>\n",
       "      <td>5.143600e+04</td>\n",
       "      <td>5.143600e+04</td>\n",
       "      <td>5.143600e+04</td>\n",
       "    </tr>\n",
       "    <tr>\n",
       "      <th>mean</th>\n",
       "      <td>1.997095e+09</td>\n",
       "      <td>4.388745e+09</td>\n",
       "      <td>4.739394e+09</td>\n",
       "      <td>5.264671e+09</td>\n",
       "      <td>5.565835e+09</td>\n",
       "      <td>2.344362e+09</td>\n",
       "      <td>5.919418e+09</td>\n",
       "      <td>6.311390e+09</td>\n",
       "      <td>6.872114e+09</td>\n",
       "      <td>7.683021e+09</td>\n",
       "      <td>...</td>\n",
       "      <td>7.145788e+02</td>\n",
       "      <td>7.224868e+02</td>\n",
       "      <td>7.271290e+02</td>\n",
       "      <td>7.283779e+02</td>\n",
       "      <td>7.266484e+02</td>\n",
       "      <td>7.228327e+02</td>\n",
       "      <td>7.176899e+02</td>\n",
       "      <td>7.113072e+02</td>\n",
       "      <td>7.034274e+02</td>\n",
       "      <td>6.940296e+02</td>\n",
       "    </tr>\n",
       "    <tr>\n",
       "      <th>std</th>\n",
       "      <td>1.218514e+11</td>\n",
       "      <td>1.833238e+11</td>\n",
       "      <td>1.944465e+11</td>\n",
       "      <td>2.091105e+11</td>\n",
       "      <td>2.144020e+11</td>\n",
       "      <td>1.383962e+11</td>\n",
       "      <td>2.251490e+11</td>\n",
       "      <td>2.360692e+11</td>\n",
       "      <td>2.510883e+11</td>\n",
       "      <td>2.704629e+11</td>\n",
       "      <td>...</td>\n",
       "      <td>2.136851e+04</td>\n",
       "      <td>2.215845e+04</td>\n",
       "      <td>2.287990e+04</td>\n",
       "      <td>2.352338e+04</td>\n",
       "      <td>2.408149e+04</td>\n",
       "      <td>2.455897e+04</td>\n",
       "      <td>2.496587e+04</td>\n",
       "      <td>2.530183e+04</td>\n",
       "      <td>2.556069e+04</td>\n",
       "      <td>2.574189e+04</td>\n",
       "    </tr>\n",
       "    <tr>\n",
       "      <th>min</th>\n",
       "      <td>-1.435564e+00</td>\n",
       "      <td>-1.594625e+00</td>\n",
       "      <td>-3.056522e+00</td>\n",
       "      <td>-4.032582e+00</td>\n",
       "      <td>-4.213563e+00</td>\n",
       "      <td>-3.658569e+00</td>\n",
       "      <td>-2.950945e+00</td>\n",
       "      <td>-3.174870e+00</td>\n",
       "      <td>-3.558749e+00</td>\n",
       "      <td>-2.973612e+00</td>\n",
       "      <td>...</td>\n",
       "      <td>-1.830000e+00</td>\n",
       "      <td>-1.630000e+00</td>\n",
       "      <td>-1.440000e+00</td>\n",
       "      <td>-1.260000e+00</td>\n",
       "      <td>-1.090000e+00</td>\n",
       "      <td>-9.200000e-01</td>\n",
       "      <td>-7.800000e-01</td>\n",
       "      <td>-6.500000e-01</td>\n",
       "      <td>-5.500000e-01</td>\n",
       "      <td>-4.500000e-01</td>\n",
       "    </tr>\n",
       "    <tr>\n",
       "      <th>25%</th>\n",
       "      <td>8.700000e-01</td>\n",
       "      <td>1.045615e+01</td>\n",
       "      <td>1.076718e+01</td>\n",
       "      <td>1.116327e+01</td>\n",
       "      <td>1.131197e+01</td>\n",
       "      <td>1.400000e+00</td>\n",
       "      <td>1.090664e+01</td>\n",
       "      <td>1.094854e+01</td>\n",
       "      <td>1.122621e+01</td>\n",
       "      <td>1.129145e+01</td>\n",
       "      <td>...</td>\n",
       "      <td>3.000000e-02</td>\n",
       "      <td>3.000000e-02</td>\n",
       "      <td>3.000000e-02</td>\n",
       "      <td>2.000000e-02</td>\n",
       "      <td>2.000000e-02</td>\n",
       "      <td>1.000000e-02</td>\n",
       "      <td>1.000000e-02</td>\n",
       "      <td>1.000000e-02</td>\n",
       "      <td>1.000000e-02</td>\n",
       "      <td>1.000000e-02</td>\n",
       "    </tr>\n",
       "    <tr>\n",
       "      <th>50%</th>\n",
       "      <td>6.570000e+00</td>\n",
       "      <td>7.207677e+01</td>\n",
       "      <td>7.685992e+01</td>\n",
       "      <td>7.963683e+01</td>\n",
       "      <td>8.090797e+01</td>\n",
       "      <td>1.000000e+01</td>\n",
       "      <td>7.923435e+01</td>\n",
       "      <td>7.883617e+01</td>\n",
       "      <td>8.004732e+01</td>\n",
       "      <td>8.322935e+01</td>\n",
       "      <td>...</td>\n",
       "      <td>2.300000e-01</td>\n",
       "      <td>2.300000e-01</td>\n",
       "      <td>2.300000e-01</td>\n",
       "      <td>2.300000e-01</td>\n",
       "      <td>2.300000e-01</td>\n",
       "      <td>2.300000e-01</td>\n",
       "      <td>2.300000e-01</td>\n",
       "      <td>2.300000e-01</td>\n",
       "      <td>2.300000e-01</td>\n",
       "      <td>2.200000e-01</td>\n",
       "    </tr>\n",
       "    <tr>\n",
       "      <th>75%</th>\n",
       "      <td>6.387674e+01</td>\n",
       "      <td>6.452600e+04</td>\n",
       "      <td>6.653125e+04</td>\n",
       "      <td>6.973650e+04</td>\n",
       "      <td>7.127600e+04</td>\n",
       "      <td>8.009500e+01</td>\n",
       "      <td>6.440950e+04</td>\n",
       "      <td>6.504500e+04</td>\n",
       "      <td>6.682050e+04</td>\n",
       "      <td>7.146500e+04</td>\n",
       "      <td>...</td>\n",
       "      <td>7.500000e+00</td>\n",
       "      <td>7.505000e+00</td>\n",
       "      <td>7.500000e+00</td>\n",
       "      <td>7.300000e+00</td>\n",
       "      <td>7.100000e+00</td>\n",
       "      <td>6.722500e+00</td>\n",
       "      <td>6.080000e+00</td>\n",
       "      <td>5.462500e+00</td>\n",
       "      <td>4.680000e+00</td>\n",
       "      <td>4.032500e+00</td>\n",
       "    </tr>\n",
       "    <tr>\n",
       "      <th>max</th>\n",
       "      <td>1.903929e+13</td>\n",
       "      <td>1.986457e+13</td>\n",
       "      <td>2.100916e+13</td>\n",
       "      <td>2.238367e+13</td>\n",
       "      <td>2.282991e+13</td>\n",
       "      <td>2.300634e+13</td>\n",
       "      <td>2.424128e+13</td>\n",
       "      <td>2.521383e+13</td>\n",
       "      <td>2.622101e+13</td>\n",
       "      <td>2.730873e+13</td>\n",
       "      <td>...</td>\n",
       "      <td>2.813670e+06</td>\n",
       "      <td>2.951569e+06</td>\n",
       "      <td>3.070879e+06</td>\n",
       "      <td>3.169711e+06</td>\n",
       "      <td>3.246239e+06</td>\n",
       "      <td>3.301586e+06</td>\n",
       "      <td>3.337871e+06</td>\n",
       "      <td>3.354746e+06</td>\n",
       "      <td>3.351887e+06</td>\n",
       "      <td>3.330484e+06</td>\n",
       "    </tr>\n",
       "  </tbody>\n",
       "</table>\n",
       "<p>8 rows × 65 columns</p>\n",
       "</div>"
      ],
      "text/plain": [
       "               1970          1971          1972          1973          1974  \\\n",
       "count  7.148000e+04  3.444300e+04  3.451400e+04  3.446700e+04  3.467500e+04   \n",
       "mean   1.997095e+09  4.388745e+09  4.739394e+09  5.264671e+09  5.565835e+09   \n",
       "std    1.218514e+11  1.833238e+11  1.944465e+11  2.091105e+11  2.144020e+11   \n",
       "min   -1.435564e+00 -1.594625e+00 -3.056522e+00 -4.032582e+00 -4.213563e+00   \n",
       "25%    8.700000e-01  1.045615e+01  1.076718e+01  1.116327e+01  1.131197e+01   \n",
       "50%    6.570000e+00  7.207677e+01  7.685992e+01  7.963683e+01  8.090797e+01   \n",
       "75%    6.387674e+01  6.452600e+04  6.653125e+04  6.973650e+04  7.127600e+04   \n",
       "max    1.903929e+13  1.986457e+13  2.100916e+13  2.238367e+13  2.282991e+13   \n",
       "\n",
       "               1975          1976          1977          1978          1979  \\\n",
       "count  8.618600e+04  3.629500e+04  3.646100e+04  3.647900e+04  3.562900e+04   \n",
       "mean   2.344362e+09  5.919418e+09  6.311390e+09  6.872114e+09  7.683021e+09   \n",
       "std    1.383962e+11  2.251490e+11  2.360692e+11  2.510883e+11  2.704629e+11   \n",
       "min   -3.658569e+00 -2.950945e+00 -3.174870e+00 -3.558749e+00 -2.973612e+00   \n",
       "25%    1.400000e+00  1.090664e+01  1.094854e+01  1.122621e+01  1.129145e+01   \n",
       "50%    1.000000e+01  7.923435e+01  7.883617e+01  8.004732e+01  8.322935e+01   \n",
       "75%    8.009500e+01  6.440950e+04  6.504500e+04  6.682050e+04  7.146500e+04   \n",
       "max    2.300634e+13  2.424128e+13  2.521383e+13  2.622101e+13  2.730873e+13   \n",
       "\n",
       "       ...          2055          2060          2065          2070  \\\n",
       "count  ...  5.143600e+04  5.143600e+04  5.143600e+04  5.143600e+04   \n",
       "mean   ...  7.145788e+02  7.224868e+02  7.271290e+02  7.283779e+02   \n",
       "std    ...  2.136851e+04  2.215845e+04  2.287990e+04  2.352338e+04   \n",
       "min    ... -1.830000e+00 -1.630000e+00 -1.440000e+00 -1.260000e+00   \n",
       "25%    ...  3.000000e-02  3.000000e-02  3.000000e-02  2.000000e-02   \n",
       "50%    ...  2.300000e-01  2.300000e-01  2.300000e-01  2.300000e-01   \n",
       "75%    ...  7.500000e+00  7.505000e+00  7.500000e+00  7.300000e+00   \n",
       "max    ...  2.813670e+06  2.951569e+06  3.070879e+06  3.169711e+06   \n",
       "\n",
       "               2075          2080          2085          2090          2095  \\\n",
       "count  5.143600e+04  5.143600e+04  5.143600e+04  5.143600e+04  5.143600e+04   \n",
       "mean   7.266484e+02  7.228327e+02  7.176899e+02  7.113072e+02  7.034274e+02   \n",
       "std    2.408149e+04  2.455897e+04  2.496587e+04  2.530183e+04  2.556069e+04   \n",
       "min   -1.090000e+00 -9.200000e-01 -7.800000e-01 -6.500000e-01 -5.500000e-01   \n",
       "25%    2.000000e-02  1.000000e-02  1.000000e-02  1.000000e-02  1.000000e-02   \n",
       "50%    2.300000e-01  2.300000e-01  2.300000e-01  2.300000e-01  2.300000e-01   \n",
       "75%    7.100000e+00  6.722500e+00  6.080000e+00  5.462500e+00  4.680000e+00   \n",
       "max    3.246239e+06  3.301586e+06  3.337871e+06  3.354746e+06  3.351887e+06   \n",
       "\n",
       "               2100  \n",
       "count  5.143600e+04  \n",
       "mean   6.940296e+02  \n",
       "std    2.574189e+04  \n",
       "min   -4.500000e-01  \n",
       "25%    1.000000e-02  \n",
       "50%    2.200000e-01  \n",
       "75%    4.032500e+00  \n",
       "max    3.330484e+06  \n",
       "\n",
       "[8 rows x 65 columns]"
      ]
     },
     "execution_count": 118,
     "metadata": {},
     "output_type": "execute_result"
    }
   ],
   "source": [
    "describe"
   ]
  },
  {
   "cell_type": "code",
   "execution_count": 119,
   "metadata": {},
   "outputs": [],
   "source": [
    "years = describe.columns.values"
   ]
  },
  {
   "cell_type": "code",
   "execution_count": 120,
   "metadata": {},
   "outputs": [],
   "source": [
    "years = years.astype(int)"
   ]
  },
  {
   "cell_type": "code",
   "execution_count": 121,
   "metadata": {},
   "outputs": [],
   "source": [
    "filter_past = years < 2020\n",
    "filter_future = years > 2019"
   ]
  },
  {
   "cell_type": "code",
   "execution_count": 122,
   "metadata": {},
   "outputs": [],
   "source": [
    "years_past = years[filter_past]\n",
    "years_future = years[filter_future]"
   ]
  },
  {
   "cell_type": "code",
   "execution_count": 123,
   "metadata": {},
   "outputs": [],
   "source": [
    "counts_past = describe[years_past.astype(str)].iloc[0]\n",
    "counts_future = describe[years_future.astype(str)].iloc[0]"
   ]
  },
  {
   "cell_type": "code",
   "execution_count": 124,
   "metadata": {},
   "outputs": [
    {
     "data": {
      "text/plain": [
       "<matplotlib.legend.Legend at 0x11c29c610>"
      ]
     },
     "execution_count": 124,
     "metadata": {},
     "output_type": "execute_result"
    },
    {
     "data": {
      "image/png": "[encoded data removed]",
      "text/plain": [
       "<Figure size 1440x576 with 1 Axes>"
      ]
     },
     "metadata": {},
     "output_type": "display_data"
    }
   ],
   "source": [
    "fig = plt.figure(figsize=(20,8))\n",
    "plt.title(\"Nombre d'indicateurs par an\", fontsize=25)\n",
    "plt.axis([1970, 2050, 0, 200000])\n",
    "\n",
    "plt.bar(years_past, counts_past, color='g', label='Données passées')\n",
    "plt.bar(years_future, counts_future, color='orange', width=1, label='Données prédites')\n",
    "plt.xticks(years[years < 2050], rotation=90, fontsize=14)\n",
    "plt.yticks(fontsize=18)\n",
    "plt.legend(fontsize=18)"
   ]
  },
  {
   "cell_type": "markdown",
   "metadata": {},
   "source": [
    "Pas de données sures après 2017. Les predicitions ont commencées en 2020. On voit que beaucoup d'indicateurs ne sont rensignés que tous les 5 ans, tout comme les prédictions"
   ]
  },
  {
   "cell_type": "markdown",
   "metadata": {},
   "source": [
    "### Afin de faire une première sélection des pays. Nous allons regarder certains critères :\n",
    "#### L'acces à internet\n",
    "#### La population du pays\n",
    "#### Le taux d'alpabetisation"
   ]
  },
  {
   "cell_type": "code",
   "execution_count": 125,
   "metadata": {},
   "outputs": [
    {
     "data": {
      "text/plain": [
       "Index(['Country Name', 'Country Code', 'Indicator Name_x', 'Indicator Code',\n",
       "       '1970', '1971', '1972', '1973', '1974', '1975', '1976', '1977', '1978',\n",
       "       '1979', '1980', '1981', '1982', '1983', '1984', '1985', '1986', '1987',\n",
       "       '1988', '1989', '1990', '1991', '1992', '1993', '1994', '1995', '1996',\n",
       "       '1997', '1998', '1999', '2000', '2001', '2002', '2003', '2004', '2005',\n",
       "       '2006', '2007', '2008', '2009', '2010', '2011', '2012', '2013', '2014',\n",
       "       '2015', '2016', '2017', '2020', '2025', '2030', '2035', '2040', '2045',\n",
       "       '2050', '2055', '2060', '2065', '2070', '2075', '2080', '2085', '2090',\n",
       "       '2095', '2100', 'Topic', 'Long definition', 'Source', 'Special Notes',\n",
       "       'Region', 'Income Group', 'Latest population census'],\n",
       "      dtype='object')"
      ]
     },
     "execution_count": 125,
     "metadata": {},
     "output_type": "execute_result"
    }
   ],
   "source": [
    "data.columns"
   ]
  },
  {
   "cell_type": "code",
   "execution_count": 126,
   "metadata": {},
   "outputs": [],
   "source": [
    "data = data.rename(columns={'Indicator Name_x': 'Indicator_name'})"
   ]
  },
  {
   "cell_type": "code",
   "execution_count": 127,
   "metadata": {},
   "outputs": [
    {
     "data": {
      "text/plain": [
       "Index(['Country Name', 'Country Code', 'Indicator_name', 'Indicator Code',\n",
       "       '1970', '1971', '1972', '1973', '1974', '1975', '1976', '1977', '1978',\n",
       "       '1979', '1980', '1981', '1982', '1983', '1984', '1985', '1986', '1987',\n",
       "       '1988', '1989', '1990', '1991', '1992', '1993', '1994', '1995', '1996',\n",
       "       '1997', '1998', '1999', '2000', '2001', '2002', '2003', '2004', '2005',\n",
       "       '2006', '2007', '2008', '2009', '2010', '2011', '2012', '2013', '2014',\n",
       "       '2015', '2016', '2017', '2020', '2025', '2030', '2035', '2040', '2045',\n",
       "       '2050', '2055', '2060', '2065', '2070', '2075', '2080', '2085', '2090',\n",
       "       '2095', '2100', 'Topic', 'Long definition', 'Source', 'Special Notes',\n",
       "       'Region', 'Income Group', 'Latest population census'],\n",
       "      dtype='object')"
      ]
     },
     "execution_count": 127,
     "metadata": {},
     "output_type": "execute_result"
    }
   ],
   "source": [
    "data.columns"
   ]
  },
  {
   "cell_type": "code",
   "execution_count": 128,
   "metadata": {},
   "outputs": [
    {
     "data": {
      "text/plain": [
       "1"
      ]
     },
     "execution_count": 128,
     "metadata": {},
     "output_type": "execute_result"
    }
   ],
   "source": [
    "indicateurs_internet = []\n",
    "indicateurs = data['Long definition'].unique()\n",
    "for indicateur in indicateurs:\n",
    "    mots = indicateur.split(' ')\n",
    "    if 'internet' in [mot.lower() for mot in mots]:\n",
    "        indicateurs_internet.append(indicateur)\n",
    "len(indicateurs_internet)"
   ]
  },
  {
   "cell_type": "markdown",
   "metadata": {},
   "source": [
    "Un seul indicateur contient le mot internet. Recupérons le code et le nom de cet indicateur"
   ]
  },
  {
   "cell_type": "code",
   "execution_count": 129,
   "metadata": {},
   "outputs": [],
   "source": [
    "data_internet = data[data['Long definition'] == indicateurs_internet[0]]\n",
    "code_indic_internet = data_internet['Indicator Code'].unique()[0]\n",
    "nom_indic_internet = data_internet['Indicator_name'].unique()[0]\n",
    "definition_indic_internet = data_internet['Long definition'].unique()[0]"
   ]
  },
  {
   "cell_type": "code",
   "execution_count": 130,
   "metadata": {},
   "outputs": [
    {
     "data": {
      "text/plain": [
       "'IT.NET.USER.P2'"
      ]
     },
     "execution_count": 130,
     "metadata": {},
     "output_type": "execute_result"
    }
   ],
   "source": [
    "code_indic_internet"
   ]
  },
  {
   "cell_type": "code",
   "execution_count": 131,
   "metadata": {},
   "outputs": [
    {
     "data": {
      "text/plain": [
       "'Internet users (per 100 people)'"
      ]
     },
     "execution_count": 131,
     "metadata": {},
     "output_type": "execute_result"
    }
   ],
   "source": [
    "nom_indic_internet"
   ]
  },
  {
   "cell_type": "code",
   "execution_count": 132,
   "metadata": {},
   "outputs": [
    {
     "data": {
      "text/plain": [
       "'Internet users are individuals who have used the Internet (from any location) in the last 3 months. The Internet can be used via a computer, mobile phone, personal digital assistant, games machine, digital TV etc.'"
      ]
     },
     "execution_count": 132,
     "metadata": {},
     "output_type": "execute_result"
    }
   ],
   "source": [
    "definition_indic_internet"
   ]
  },
  {
   "cell_type": "markdown",
   "metadata": {},
   "source": [
    "#### Nous allons selectionner les pays dans lesquels plus de 75% de la population utilise internet selon le dernier relevé de cet indicateurs."
   ]
  },
  {
   "cell_type": "markdown",
   "metadata": {},
   "source": [
    "Regardons quand on été faits les derniers relevés"
   ]
  },
  {
   "cell_type": "code",
   "execution_count": 133,
   "metadata": {},
   "outputs": [
    {
     "data": {
      "text/plain": [
       "241"
      ]
     },
     "execution_count": 133,
     "metadata": {},
     "output_type": "execute_result"
    }
   ],
   "source": [
    "len(data_internet['Country Name'].unique())"
   ]
  },
  {
   "cell_type": "code",
   "execution_count": 134,
   "metadata": {},
   "outputs": [
    {
     "data": {
      "text/plain": [
       "241"
      ]
     },
     "execution_count": 134,
     "metadata": {},
     "output_type": "execute_result"
    }
   ],
   "source": [
    "len(data_internet['Country Code'].unique())"
   ]
  },
  {
   "cell_type": "code",
   "execution_count": 135,
   "metadata": {},
   "outputs": [],
   "source": [
    "data_internet_2020 = data_internet[['Country Name', '2020']]"
   ]
  },
  {
   "cell_type": "code",
   "execution_count": 136,
   "metadata": {},
   "outputs": [
    {
     "data": {
      "text/plain": [
       "Country Name      0\n",
       "2020            241\n",
       "dtype: int64"
      ]
     },
     "execution_count": 136,
     "metadata": {},
     "output_type": "execute_result"
    }
   ],
   "source": [
    "data_internet_2020.isnull().sum()"
   ]
  },
  {
   "cell_type": "markdown",
   "metadata": {},
   "source": [
    "Aucune infos pour 2020. Nous avions vu plus haut que 2020 est une année \"prédictive\"."
   ]
  },
  {
   "cell_type": "code",
   "execution_count": 137,
   "metadata": {},
   "outputs": [],
   "source": [
    "data_internet_2017 = data_internet[['Country Name', '2017']]"
   ]
  },
  {
   "cell_type": "code",
   "execution_count": 138,
   "metadata": {},
   "outputs": [
    {
     "data": {
      "text/plain": [
       "Country Name      0\n",
       "2017            241\n",
       "dtype: int64"
      ]
     },
     "execution_count": 138,
     "metadata": {},
     "output_type": "execute_result"
    }
   ],
   "source": [
    "data_internet_2017.isnull().sum()"
   ]
  },
  {
   "cell_type": "markdown",
   "metadata": {},
   "source": [
    "Pareil pour 2017"
   ]
  },
  {
   "cell_type": "code",
   "execution_count": 139,
   "metadata": {},
   "outputs": [],
   "source": [
    "data_internet_2016 = data_internet[['Country Name', '2016']]"
   ]
  },
  {
   "cell_type": "code",
   "execution_count": 140,
   "metadata": {},
   "outputs": [
    {
     "data": {
      "text/plain": [
       "Country Name     0\n",
       "2016            18\n",
       "dtype: int64"
      ]
     },
     "execution_count": 140,
     "metadata": {},
     "output_type": "execute_result"
    }
   ],
   "source": [
    "data_internet_2016.isnull().sum()"
   ]
  },
  {
   "cell_type": "markdown",
   "metadata": {},
   "source": [
    "Basons nous sur les données de 2016"
   ]
  },
  {
   "cell_type": "markdown",
   "metadata": {},
   "source": [
    "Filtrons les pays dont le taux d'internet user est de moins de 75%"
   ]
  },
  {
   "cell_type": "code",
   "execution_count": 141,
   "metadata": {},
   "outputs": [
    {
     "data": {
      "text/plain": [
       "59"
      ]
     },
     "execution_count": 141,
     "metadata": {},
     "output_type": "execute_result"
    }
   ],
   "source": [
    "pays_internet_suffisant = data_internet_2016[data_internet_2016['2016'] >= 75]['Country Name']\n",
    "len(pays_internet_suffisant)"
   ]
  },
  {
   "cell_type": "markdown",
   "metadata": {},
   "source": [
    "Quid des pays sans relevés? Regardons s'ils ont des relevés antérieurs"
   ]
  },
  {
   "cell_type": "code",
   "execution_count": 142,
   "metadata": {},
   "outputs": [],
   "source": [
    "pays_sans_releves_2016 = data_internet_2016[data_internet_2016['2016'].isnull()]['Country Name']"
   ]
  },
  {
   "cell_type": "code",
   "execution_count": 143,
   "metadata": {},
   "outputs": [
    {
     "data": {
      "text/plain": [
       "1343                     Arab World\n",
       "23015                European Union\n",
       "69971                  OECD members\n",
       "102479               American Samoa\n",
       "228899              Channel Islands\n",
       "268631                      Curacao\n",
       "423947                  Isle of Man\n",
       "456455    Korea, Dem. People’s Rep.\n",
       "463679                       Kosovo\n",
       "582875                        Nauru\n",
       "593711                New Caledonia\n",
       "611771     Northern Mariana Islands\n",
       "626219                        Palau\n",
       "676787                   San Marino\n",
       "705683    Sint Maarten (Dutch part)\n",
       "727355                  South Sudan\n",
       "745415     St. Martin (French part)\n",
       "810431     Turks and Caicos Islands\n",
       "Name: Country Name, dtype: object"
      ]
     },
     "execution_count": 143,
     "metadata": {},
     "output_type": "execute_result"
    }
   ],
   "source": [
    "pays_sans_releves_2016"
   ]
  },
  {
   "cell_type": "markdown",
   "metadata": {},
   "source": [
    "J'identifie ici la necessité d'avoir une fonction qui retrouve l'année du dernier relevé pour un indicateur et un pays donné. cela me servira pour analyser d'autres indicateurs"
   ]
  },
  {
   "cell_type": "code",
   "execution_count": 144,
   "metadata": {},
   "outputs": [],
   "source": [
    "years = ['1970', '1971', '1972', '1973', '1974', '1975', '1976', '1977', '1978',\n",
    "       '1979', '1980', '1981', '1982', '1983', '1984', '1985', '1986', '1987',\n",
    "       '1988', '1989', '1990', '1991', '1992', '1993', '1994', '1995', '1996',\n",
    "       '1997', '1998', '1999', '2000', '2001', '2002', '2003', '2004', '2005',\n",
    "       '2006', '2007', '2008', '2009', '2010', '2011', '2012', '2013', '2014',\n",
    "       '2015', '2016', '2017', '2020']\n",
    "\n",
    "def get_last_statement(indicateur, country):\n",
    "    \"\"\"Cette fonction prends un indicateur (code) et un pays et retourne l'année du dernier relevé\n",
    "    \"\"\"\n",
    "    data_focus = data[(data['Indicator Code'] == indicateur) & (data['Country Name'] == country)]\n",
    "    data_focus_bool = data_focus.isnull()\n",
    "    #print(country, indicateur, data_focus.shape)\n",
    "    last_statement = None\n",
    "    for year in years:\n",
    "        if not data_focus_bool[year].iloc[0]:\n",
    "            #print(year, data_focus[year].iloc[0])\n",
    "            last_statement = year\n",
    "    return last_statement"
   ]
  },
  {
   "cell_type": "code",
   "execution_count": 145,
   "metadata": {},
   "outputs": [
    {
     "data": {
      "text/plain": [
       "'2013'"
      ]
     },
     "execution_count": 145,
     "metadata": {},
     "output_type": "execute_result"
    }
   ],
   "source": [
    "get_last_statement(code_indic_internet, \"Arab World\")"
   ]
  },
  {
   "cell_type": "code",
   "execution_count": 146,
   "metadata": {},
   "outputs": [
    {
     "data": {
      "text/plain": [
       "'2013'"
      ]
     },
     "execution_count": 146,
     "metadata": {},
     "output_type": "execute_result"
    }
   ],
   "source": [
    "get_last_statement(code_indic_internet, \"European Union\")"
   ]
  },
  {
   "cell_type": "code",
   "execution_count": 147,
   "metadata": {},
   "outputs": [
    {
     "data": {
      "text/plain": [
       "pandas.core.series.Series"
      ]
     },
     "execution_count": 147,
     "metadata": {},
     "output_type": "execute_result"
    }
   ],
   "source": [
    "type(pays_internet_suffisant)"
   ]
  },
  {
   "cell_type": "code",
   "execution_count": 148,
   "metadata": {},
   "outputs": [
    {
     "name": "stdout",
     "output_type": "stream",
     "text": [
      "Arab World 36.8686015566291 2013\n",
      "European Union 75.4976231672564 2013\n",
      "OECD members 75.3900096548774 2013\n",
      "American Samoa 0.0 1990\n",
      "Korea, Dem. People’s Rep. 0.0 2012\n",
      "New Caledonia 74.00175279 2015\n",
      "Northern Mariana Islands 0.0 1990\n",
      "Palau 26.97033263 2004\n",
      "San Marino 49.6 2011\n",
      "Turks and Caicos Islands 0.0 1990\n",
      "['European Union', 'OECD members', 'New Caledonia']\n",
      "['Arab World', 'American Samoa', 'Channel Islands', 'Curacao', 'Isle of Man', 'Korea, Dem. People’s Rep.', 'Kosovo', 'Nauru', 'Northern Mariana Islands', 'Palau', 'San Marino', 'Sint Maarten (Dutch part)', 'South Sudan', 'St. Martin (French part)', 'Turks and Caicos Islands']\n"
     ]
    }
   ],
   "source": [
    "country_ok = []\n",
    "country_ko = []\n",
    "for country in pays_sans_releves_2016:\n",
    "    last_statement = get_last_statement(code_indic_internet, country)\n",
    "    if last_statement == None:\n",
    "        country_ko.append(country)\n",
    "    else:\n",
    "        last_value = data[(data['Indicator Code'] == code_indic_internet) & (data['Country Name'] == country)][last_statement].iloc[0]\n",
    "        print(country, last_value, last_statement)\n",
    "        if last_value >= 65: # Plus grande tolérance due à une plus grande ancienneté\n",
    "            country_ok.append(country)\n",
    "        else:\n",
    "            country_ko.append(country)\n",
    "print(country_ok)\n",
    "print(country_ko)\n",
    "country_ok = pd.Series(country_ok)\n",
    "pays_internet_suffisant = pays_internet_suffisant.append(country_ok)"
   ]
  },
  {
   "cell_type": "code",
   "execution_count": 149,
   "metadata": {},
   "outputs": [
    {
     "data": {
      "text/plain": [
       "62"
      ]
     },
     "execution_count": 149,
     "metadata": {},
     "output_type": "execute_result"
    }
   ],
   "source": [
    "len(pays_internet_suffisant)"
   ]
  },
  {
   "cell_type": "code",
   "execution_count": 150,
   "metadata": {},
   "outputs": [],
   "source": [
    "pays_selection = pays_internet_suffisant.copy()"
   ]
  },
  {
   "cell_type": "markdown",
   "metadata": {},
   "source": [
    "### Regardons maintenant la population de chacun de ces pays. En effet, si le pays est très peu peuplé il n'est pas necessaire de s'y implanter car cela demande un investissement important de s'y implanter (demarches légales, traduction eventuelles etc...)"
   ]
  },
  {
   "cell_type": "markdown",
   "metadata": {},
   "source": [
    "Après une recherche sur le site de la banque mondiale, je veux utiliser l'indicateut qui s'appelle : 'Population, total'"
   ]
  },
  {
   "cell_type": "code",
   "execution_count": 151,
   "metadata": {},
   "outputs": [],
   "source": [
    "code_indic_pop = 'SP.POP.TOTL'\n",
    "data_pop = data[data['Indicator Code'] == code_indic_pop]"
   ]
  },
  {
   "cell_type": "code",
   "execution_count": 152,
   "metadata": {},
   "outputs": [
    {
     "data": {
      "text/html": [
       "<div>\n",
       "<style scoped>\n",
       "    .dataframe tbody tr th:only-of-type {\n",
       "        vertical-align: middle;\n",
       "    }\n",
       "\n",
       "    .dataframe tbody tr th {\n",
       "        vertical-align: top;\n",
       "    }\n",
       "\n",
       "    .dataframe thead th {\n",
       "        text-align: right;\n",
       "    }\n",
       "</style>\n",
       "<table border=\"1\" class=\"dataframe\">\n",
       "  <thead>\n",
       "    <tr style=\"text-align: right;\">\n",
       "      <th></th>\n",
       "      <th>Country Name</th>\n",
       "      <th>Country Code</th>\n",
       "      <th>Indicator_name</th>\n",
       "      <th>Indicator Code</th>\n",
       "      <th>1970</th>\n",
       "      <th>1971</th>\n",
       "      <th>1972</th>\n",
       "      <th>1973</th>\n",
       "      <th>1974</th>\n",
       "      <th>1975</th>\n",
       "      <th>...</th>\n",
       "      <th>2090</th>\n",
       "      <th>2095</th>\n",
       "      <th>2100</th>\n",
       "      <th>Topic</th>\n",
       "      <th>Long definition</th>\n",
       "      <th>Source</th>\n",
       "      <th>Special Notes</th>\n",
       "      <th>Region</th>\n",
       "      <th>Income Group</th>\n",
       "      <th>Latest population census</th>\n",
       "    </tr>\n",
       "  </thead>\n",
       "  <tbody>\n",
       "    <tr>\n",
       "      <th>2490</th>\n",
       "      <td>Arab World</td>\n",
       "      <td>ARB</td>\n",
       "      <td>Population, total</td>\n",
       "      <td>SP.POP.TOTL</td>\n",
       "      <td>1.234009e+08</td>\n",
       "      <td>1.267261e+08</td>\n",
       "      <td>1.300956e+08</td>\n",
       "      <td>1.335924e+08</td>\n",
       "      <td>1.373274e+08</td>\n",
       "      <td>1.413761e+08</td>\n",
       "      <td>...</td>\n",
       "      <td>NaN</td>\n",
       "      <td>NaN</td>\n",
       "      <td>NaN</td>\n",
       "      <td>Health: Population: Structure</td>\n",
       "      <td>Total population is based on the de facto defi...</td>\n",
       "      <td>(1) United Nations Population Division. World ...</td>\n",
       "      <td>Arab World aggregate. Arab World is composed o...</td>\n",
       "      <td>NaN</td>\n",
       "      <td>NaN</td>\n",
       "      <td>NaN</td>\n",
       "    </tr>\n",
       "    <tr>\n",
       "      <th>6102</th>\n",
       "      <td>East Asia &amp; Pacific</td>\n",
       "      <td>EAS</td>\n",
       "      <td>Population, total</td>\n",
       "      <td>SP.POP.TOTL</td>\n",
       "      <td>1.288581e+09</td>\n",
       "      <td>1.322182e+09</td>\n",
       "      <td>1.354003e+09</td>\n",
       "      <td>1.384272e+09</td>\n",
       "      <td>1.414385e+09</td>\n",
       "      <td>1.441542e+09</td>\n",
       "      <td>...</td>\n",
       "      <td>NaN</td>\n",
       "      <td>NaN</td>\n",
       "      <td>NaN</td>\n",
       "      <td>Health: Population: Structure</td>\n",
       "      <td>Total population is based on the de facto defi...</td>\n",
       "      <td>(1) United Nations Population Division. World ...</td>\n",
       "      <td>East Asia and Pacific regional aggregate (incl...</td>\n",
       "      <td>NaN</td>\n",
       "      <td>NaN</td>\n",
       "      <td>NaN</td>\n",
       "    </tr>\n",
       "  </tbody>\n",
       "</table>\n",
       "<p>2 rows × 76 columns</p>\n",
       "</div>"
      ],
      "text/plain": [
       "             Country Name Country Code     Indicator_name Indicator Code  \\\n",
       "2490           Arab World          ARB  Population, total    SP.POP.TOTL   \n",
       "6102  East Asia & Pacific          EAS  Population, total    SP.POP.TOTL   \n",
       "\n",
       "              1970          1971          1972          1973          1974  \\\n",
       "2490  1.234009e+08  1.267261e+08  1.300956e+08  1.335924e+08  1.373274e+08   \n",
       "6102  1.288581e+09  1.322182e+09  1.354003e+09  1.384272e+09  1.414385e+09   \n",
       "\n",
       "              1975  ...  2090  2095  2100                          Topic  \\\n",
       "2490  1.413761e+08  ...   NaN   NaN   NaN  Health: Population: Structure   \n",
       "6102  1.441542e+09  ...   NaN   NaN   NaN  Health: Population: Structure   \n",
       "\n",
       "                                        Long definition  \\\n",
       "2490  Total population is based on the de facto defi...   \n",
       "6102  Total population is based on the de facto defi...   \n",
       "\n",
       "                                                 Source  \\\n",
       "2490  (1) United Nations Population Division. World ...   \n",
       "6102  (1) United Nations Population Division. World ...   \n",
       "\n",
       "                                          Special Notes  Region  Income Group  \\\n",
       "2490  Arab World aggregate. Arab World is composed o...     NaN           NaN   \n",
       "6102  East Asia and Pacific regional aggregate (incl...     NaN           NaN   \n",
       "\n",
       "      Latest population census  \n",
       "2490                       NaN  \n",
       "6102                       NaN  \n",
       "\n",
       "[2 rows x 76 columns]"
      ]
     },
     "execution_count": 152,
     "metadata": {},
     "output_type": "execute_result"
    }
   ],
   "source": [
    "data_pop.head(2)"
   ]
  },
  {
   "cell_type": "markdown",
   "metadata": {},
   "source": [
    "Arbitrairement, je vais eliminer les pays se situant en dessous du 25eme centile en terme de population."
   ]
  },
  {
   "cell_type": "code",
   "execution_count": 153,
   "metadata": {},
   "outputs": [
    {
     "name": "stdout",
     "output_type": "stream",
     "text": [
      "Help on function get_last_statement in module __main__:\n",
      "\n",
      "get_last_statement(indicateur, country)\n",
      "    Cette fonction prends un indicateur (code) et un pays et retourne l'année du dernier relevé\n",
      "\n"
     ]
    }
   ],
   "source": [
    "help(get_last_statement)"
   ]
  },
  {
   "cell_type": "code",
   "execution_count": 154,
   "metadata": {},
   "outputs": [],
   "source": [
    "last_pop_values = []\n",
    "last_pop_years = []\n",
    "for country in data_pop[\"Country Name\"].unique():\n",
    "    last_pop_year = get_last_statement(code_indic_pop, country)\n",
    "    if last_pop_year == None:\n",
    "        last_pop_years.append(np.nan)\n",
    "        last_pop_values.append(np.nan)\n",
    "    else:\n",
    "        last_pop_years.append(last_pop_year)\n",
    "        last_pop_value = data[(data['Indicator Code'] == code_indic_pop) & (data['Country Name'] == country)][last_pop_year].iloc[0]\n",
    "        last_pop_values.append(last_pop_value)"
   ]
  },
  {
   "cell_type": "code",
   "execution_count": 155,
   "metadata": {},
   "outputs": [
    {
     "data": {
      "text/plain": [
       "Text(0, 0.5, 'Nombre de pays')"
      ]
     },
     "execution_count": 155,
     "metadata": {},
     "output_type": "execute_result"
    },
    {
     "data": {
      "image/png": "[encoded data removed]",
      "text/plain": [
       "<Figure size 576x396 with 1 Axes>"
      ]
     },
     "metadata": {},
     "output_type": "display_data"
    }
   ],
   "source": [
    "fig = plt.figure()\n",
    "plt.title(\"Derniers recensements\")\n",
    "plt.hist(last_pop_years)\n",
    "plt.xlabel('Derniers relevés de population')\n",
    "plt.ylabel('Nombre de pays')"
   ]
  },
  {
   "cell_type": "markdown",
   "metadata": {},
   "source": [
    "L'indicateur sur la population nationale de chaque pays est 'à jour' au regard du dataset"
   ]
  },
  {
   "cell_type": "code",
   "execution_count": 156,
   "metadata": {},
   "outputs": [],
   "source": [
    "pop_df = pd.DataFrame([data['Country Name'].unique(), last_pop_years, last_pop_values])"
   ]
  },
  {
   "cell_type": "code",
   "execution_count": 157,
   "metadata": {},
   "outputs": [],
   "source": [
    "pop_df = pop_df.T"
   ]
  },
  {
   "cell_type": "code",
   "execution_count": 158,
   "metadata": {},
   "outputs": [],
   "source": [
    "pop_df = pop_df.rename(columns={0: 'Country', 1: \"Last statement\", 2: \"Population\"})"
   ]
  },
  {
   "cell_type": "code",
   "execution_count": 159,
   "metadata": {},
   "outputs": [],
   "source": [
    "pop_df = pop_df.set_index('Country')"
   ]
  },
  {
   "cell_type": "code",
   "execution_count": 160,
   "metadata": {},
   "outputs": [
    {
     "data": {
      "text/html": [
       "<div>\n",
       "<style scoped>\n",
       "    .dataframe tbody tr th:only-of-type {\n",
       "        vertical-align: middle;\n",
       "    }\n",
       "\n",
       "    .dataframe tbody tr th {\n",
       "        vertical-align: top;\n",
       "    }\n",
       "\n",
       "    .dataframe thead th {\n",
       "        text-align: right;\n",
       "    }\n",
       "</style>\n",
       "<table border=\"1\" class=\"dataframe\">\n",
       "  <thead>\n",
       "    <tr style=\"text-align: right;\">\n",
       "      <th></th>\n",
       "      <th>Last statement</th>\n",
       "      <th>Population</th>\n",
       "    </tr>\n",
       "    <tr>\n",
       "      <th>Country</th>\n",
       "      <th></th>\n",
       "      <th></th>\n",
       "    </tr>\n",
       "  </thead>\n",
       "  <tbody>\n",
       "    <tr>\n",
       "      <th>Arab World</th>\n",
       "      <td>2013</td>\n",
       "      <td>3.69762e+08</td>\n",
       "    </tr>\n",
       "    <tr>\n",
       "      <th>East Asia &amp; Pacific</th>\n",
       "      <td>2016</td>\n",
       "      <td>2.29679e+09</td>\n",
       "    </tr>\n",
       "    <tr>\n",
       "      <th>East Asia &amp; Pacific (excluding high income)</th>\n",
       "      <td>2016</td>\n",
       "      <td>2.05143e+09</td>\n",
       "    </tr>\n",
       "    <tr>\n",
       "      <th>Euro area</th>\n",
       "      <td>2016</td>\n",
       "      <td>3.40895e+08</td>\n",
       "    </tr>\n",
       "    <tr>\n",
       "      <th>Europe &amp; Central Asia</th>\n",
       "      <td>2016</td>\n",
       "      <td>9.11995e+08</td>\n",
       "    </tr>\n",
       "    <tr>\n",
       "      <th>...</th>\n",
       "      <td>...</td>\n",
       "      <td>...</td>\n",
       "    </tr>\n",
       "    <tr>\n",
       "      <th>Virgin Islands (U.S.)</th>\n",
       "      <td>2016</td>\n",
       "      <td>102951</td>\n",
       "    </tr>\n",
       "    <tr>\n",
       "      <th>West Bank and Gaza</th>\n",
       "      <td>2016</td>\n",
       "      <td>4.55157e+06</td>\n",
       "    </tr>\n",
       "    <tr>\n",
       "      <th>Yemen, Rep.</th>\n",
       "      <td>2016</td>\n",
       "      <td>2.75842e+07</td>\n",
       "    </tr>\n",
       "    <tr>\n",
       "      <th>Zambia</th>\n",
       "      <td>2016</td>\n",
       "      <td>1.65914e+07</td>\n",
       "    </tr>\n",
       "    <tr>\n",
       "      <th>Zimbabwe</th>\n",
       "      <td>2016</td>\n",
       "      <td>1.61504e+07</td>\n",
       "    </tr>\n",
       "  </tbody>\n",
       "</table>\n",
       "<p>241 rows × 2 columns</p>\n",
       "</div>"
      ],
      "text/plain": [
       "                                            Last statement   Population\n",
       "Country                                                                \n",
       "Arab World                                            2013  3.69762e+08\n",
       "East Asia & Pacific                                   2016  2.29679e+09\n",
       "East Asia & Pacific (excluding high income)           2016  2.05143e+09\n",
       "Euro area                                             2016  3.40895e+08\n",
       "Europe & Central Asia                                 2016  9.11995e+08\n",
       "...                                                    ...          ...\n",
       "Virgin Islands (U.S.)                                 2016       102951\n",
       "West Bank and Gaza                                    2016  4.55157e+06\n",
       "Yemen, Rep.                                           2016  2.75842e+07\n",
       "Zambia                                                2016  1.65914e+07\n",
       "Zimbabwe                                              2016  1.61504e+07\n",
       "\n",
       "[241 rows x 2 columns]"
      ]
     },
     "execution_count": 160,
     "metadata": {},
     "output_type": "execute_result"
    }
   ],
   "source": [
    "pop_df"
   ]
  },
  {
   "cell_type": "code",
   "execution_count": 161,
   "metadata": {},
   "outputs": [
    {
     "data": {
      "text/plain": [
       "1304528.5"
      ]
     },
     "execution_count": 161,
     "metadata": {},
     "output_type": "execute_result"
    }
   ],
   "source": [
    "percentile_25 = pop_df['Population'].quantile(0.25)\n",
    "percentile_25"
   ]
  },
  {
   "cell_type": "code",
   "execution_count": 162,
   "metadata": {},
   "outputs": [],
   "source": [
    "pop_suffisantes_df = pop_df[pop_df['Population'] > percentile_25]"
   ]
  },
  {
   "cell_type": "code",
   "execution_count": 163,
   "metadata": {},
   "outputs": [],
   "source": [
    "pays_pop_suffisantes = pop_suffisantes_df.index.values"
   ]
  },
  {
   "cell_type": "code",
   "execution_count": 164,
   "metadata": {},
   "outputs": [
    {
     "data": {
      "text/plain": [
       "180"
      ]
     },
     "execution_count": 164,
     "metadata": {},
     "output_type": "execute_result"
    }
   ],
   "source": [
    "len(pays_pop_suffisantes)"
   ]
  },
  {
   "cell_type": "markdown",
   "metadata": {},
   "source": [
    "Nous avons récupéré les pays dont la population est suffisante et ou l'accès à internet est suffisant"
   ]
  },
  {
   "cell_type": "markdown",
   "metadata": {},
   "source": [
    "Pour mettre à jour notre selection on peut faire une intersection entre ces deux listes"
   ]
  },
  {
   "cell_type": "code",
   "execution_count": 165,
   "metadata": {},
   "outputs": [],
   "source": [
    "pays_selection = pays_selection.values"
   ]
  },
  {
   "cell_type": "code",
   "execution_count": 166,
   "metadata": {},
   "outputs": [],
   "source": [
    "pays_selection = [country for country in pays_pop_suffisantes if country in pays_selection]"
   ]
  },
  {
   "cell_type": "code",
   "execution_count": 167,
   "metadata": {},
   "outputs": [
    {
     "data": {
      "text/plain": [
       "43"
      ]
     },
     "execution_count": 167,
     "metadata": {},
     "output_type": "execute_result"
    }
   ],
   "source": [
    "len(pays_selection)"
   ]
  },
  {
   "cell_type": "markdown",
   "metadata": {},
   "source": [
    "### Regardons maintenant l'alphabetisation"
   ]
  },
  {
   "cell_type": "code",
   "execution_count": 172,
   "metadata": {},
   "outputs": [
    {
     "data": {
      "text/plain": [
       "47"
      ]
     },
     "execution_count": 172,
     "metadata": {},
     "output_type": "execute_result"
    }
   ],
   "source": [
    "indicateurs_literacy = []\n",
    "indicateurs = data['Indicator_name'].unique()\n",
    "for indicateur in indicateurs:\n",
    "    indicateur_clean = indicateur.replace(',', '')\n",
    "    mots = indicateur_clean.split(' ')\n",
    "    if 'literacy' in [mot.lower() for mot in mots]:\n",
    "        indicateurs_literacy.append(indicateur)\n",
    "len(indicateurs_literacy)"
   ]
  },
  {
   "cell_type": "code",
   "execution_count": 173,
   "metadata": {},
   "outputs": [
    {
     "data": {
      "text/plain": [
       "['Adult literacy rate, population 15+ years, both sexes (%)',\n",
       " 'Adult literacy rate, population 15+ years, female (%)',\n",
       " 'Adult literacy rate, population 15+ years, male (%)',\n",
       " 'Elderly literacy rate, population 65+ years, both sexes (%)',\n",
       " 'Elderly literacy rate, population 65+ years, gender parity index (GPI)',\n",
       " 'Literacy rate, population 25-64 years, both sexes (%)',\n",
       " 'Literacy rate, population 25-64 years, female (%)',\n",
       " 'Literacy rate, population 25-64 years, gender parity index (GPI)',\n",
       " 'Literacy rate, population 25-64 years, male (%)',\n",
       " 'PIAAC: Adults by literacy proficiency level (%). Below Level 1',\n",
       " 'PIAAC: Adults by literacy proficiency level (%). Level 1',\n",
       " 'PIAAC: Adults by literacy proficiency level (%). Level 2',\n",
       " 'PIAAC: Adults by literacy proficiency level (%). Level 3',\n",
       " 'PIAAC: Adults by literacy proficiency level (%). Level 4',\n",
       " 'PIAAC: Adults by literacy proficiency level (%). Level 5',\n",
       " 'PIAAC: Distribution of Adult Literacy Scores: 10th Percentile Score',\n",
       " 'PIAAC: Distribution of Adult Literacy Scores: 25th Percentile Score',\n",
       " 'PIAAC: Distribution of Adult Literacy Scores: 50th Percentile Score',\n",
       " 'PIAAC: Distribution of Adult Literacy Scores: 5th Percentile Score',\n",
       " 'PIAAC: Distribution of Adult Literacy Scores: 75th Percentile Score',\n",
       " 'PIAAC: Distribution of Adult Literacy Scores: 90th Percentile Score',\n",
       " 'PIAAC: Distribution of Adult Literacy Scores: 95th Percentile Score',\n",
       " 'PIAAC: Female adults by literacy proficiency level (%). Below Level 1',\n",
       " 'PIAAC: Female adults by literacy proficiency level (%). Level 1',\n",
       " 'PIAAC: Female adults by literacy proficiency level (%). Level 2',\n",
       " 'PIAAC: Female adults by literacy proficiency level (%). Level 3',\n",
       " 'PIAAC: Female adults by literacy proficiency level (%). Level 4 & 5',\n",
       " 'PIAAC: Male adults by literacy proficiency level (%). Below Level 1',\n",
       " 'PIAAC: Male adults by literacy proficiency level (%). Level 1',\n",
       " 'PIAAC: Male adults by literacy proficiency level (%). Level 2',\n",
       " 'PIAAC: Male adults by literacy proficiency level (%). Level 3',\n",
       " 'PIAAC: Male adults by literacy proficiency level (%). Level 4 & 5',\n",
       " 'PIAAC: Mean Adult Literacy Proficiency. Female',\n",
       " 'PIAAC: Mean Adult Literacy Proficiency. Male',\n",
       " 'PIAAC: Mean Adult Literacy Proficiency. Total',\n",
       " 'PIAAC: Mean Young Adult Literacy Proficiency. Female',\n",
       " 'PIAAC: Mean Young Adult Literacy Proficiency. Male',\n",
       " 'PIAAC: Mean Young Adult Literacy Proficiency. Total',\n",
       " 'PIAAC: Young adults by literacy proficiency level (%). Below Level 1',\n",
       " 'PIAAC: Young adults by literacy proficiency level (%). Level 1',\n",
       " 'PIAAC: Young adults by literacy proficiency level (%). Level 2',\n",
       " 'PIAAC: Young adults by literacy proficiency level (%). Level 3',\n",
       " 'PIAAC: Young adults by literacy proficiency level (%). Level 4 & 5',\n",
       " 'Youth literacy rate, population 15-24 years, both sexes (%)',\n",
       " 'Youth literacy rate, population 15-24 years, female (%)',\n",
       " 'Youth literacy rate, population 15-24 years, gender parity index (GPI)',\n",
       " 'Youth literacy rate, population 15-24 years, male (%)']"
      ]
     },
     "execution_count": 173,
     "metadata": {},
     "output_type": "execute_result"
    }
   ],
   "source": [
    "indicateurs_literacy"
   ]
  },
  {
   "cell_type": "markdown",
   "metadata": {},
   "source": [
    "#### Deux indicateurs correspondent au besoin:\n",
    "##### - Adult literacy rate, population 15+ years, both sexes (%) \n",
    "Cet indicateur permet d'evaluer largement l'alphabetisation.\n",
    "##### - Youth literacy rate, population 15-24 years, both sexes (%)\n",
    "Celui-ci est plus orienté vers les très jeunes.\n",
    "\n",
    "### Etant donné que l'on s'oriente vers un marché universitaire et que dans de nombreux pays on va a l'université jusqu'à plus tard qu'en France. Je décide de prendre le premier"
   ]
  },
  {
   "cell_type": "code",
   "execution_count": 216,
   "metadata": {},
   "outputs": [],
   "source": [
    "indic_literacy = 'Adult literacy rate, population 15+ years, both sexes (%)'"
   ]
  },
  {
   "cell_type": "code",
   "execution_count": 217,
   "metadata": {},
   "outputs": [
    {
     "data": {
      "text/plain": [
       "'SE.ADT.LITR.ZS'"
      ]
     },
     "execution_count": 217,
     "metadata": {},
     "output_type": "execute_result"
    }
   ],
   "source": [
    "data_literacy = data[data['Indicator_name'] == indic_literacy]\n",
    "code_indic_literacy = data_literacy['Indicator Code'].iloc[0]\n",
    "code_indic_literacy"
   ]
  },
  {
   "cell_type": "code",
   "execution_count": 218,
   "metadata": {},
   "outputs": [],
   "source": [
    "last_lit_values = []\n",
    "last_lit_years = []\n",
    "for country in data_literacy[\"Country Name\"].unique():\n",
    "    last_lit_year = get_last_statement(code_indic_literacy, country)\n",
    "    if last_lit_year == None:\n",
    "        last_lit_years.append(np.nan)\n",
    "        last_lit_values.append(np.nan)\n",
    "    else:\n",
    "        last_lit_years.append(last_lit_year)\n",
    "        last_lit_value = data[(data['Indicator Code'] == code_indic_literacy) & (data['Country Name'] == country)][last_lit_year].iloc[0]\n",
    "        last_lit_values.append(last_lit_value)"
   ]
  },
  {
   "cell_type": "code",
   "execution_count": 219,
   "metadata": {},
   "outputs": [
    {
     "data": {
      "image/png": "[encoded data removed]",
      "text/plain": [
       "<Figure size 576x396 with 1 Axes>"
      ]
     },
     "metadata": {},
     "output_type": "display_data"
    }
   ],
   "source": [
    "fig = plt.figure()\n",
    "plt.title(\"Derniers recensements\\nAdult literacy rate, population 15+ years, both sexes (%)\")\n",
    "plt.hist(last_lit_years, bins=len(set(last_lit_years)), rwidth=0.8, align='mid')\n",
    "plt.xlabel(\"Derniers relevés d'alphabetisation\")\n",
    "plt.ylabel('Nombre de pays')\n",
    "plt.xticks(rotation=90)\n",
    "plt.show()"
   ]
  },
  {
   "cell_type": "markdown",
   "metadata": {},
   "source": [
    "Cet indicateur n'est pas très satisfaisant. Regardons si l'autre est mieux"
   ]
  },
  {
   "cell_type": "code",
   "execution_count": 220,
   "metadata": {},
   "outputs": [],
   "source": [
    "indic_literacy = 'Youth literacy rate, population 15-24 years, both sexes (%)'"
   ]
  },
  {
   "cell_type": "code",
   "execution_count": 221,
   "metadata": {},
   "outputs": [
    {
     "data": {
      "text/plain": [
       "'SE.ADT.1524.LT.ZS'"
      ]
     },
     "execution_count": 221,
     "metadata": {},
     "output_type": "execute_result"
    }
   ],
   "source": [
    "data_literacy = data[data['Indicator_name'] == indic_literacy]\n",
    "code_indic_literacy = data_literacy['Indicator Code'].iloc[0]\n",
    "code_indic_literacy"
   ]
  },
  {
   "cell_type": "code",
   "execution_count": 222,
   "metadata": {},
   "outputs": [],
   "source": [
    "last_lit_values = []\n",
    "last_lit_years = []\n",
    "for country in data_literacy[\"Country Name\"].unique():\n",
    "    last_lit_year = get_last_statement(code_indic_literacy, country)\n",
    "    if last_lit_year == None:\n",
    "        last_lit_years.append(np.nan)\n",
    "        last_lit_values.append(np.nan)\n",
    "    else:\n",
    "        last_lit_years.append(last_lit_year)\n",
    "        last_lit_value = data[(data['Indicator Code'] == code_indic_literacy) & (data['Country Name'] == country)][last_lit_year].iloc[0]\n",
    "        last_lit_values.append(last_lit_value)"
   ]
  },
  {
   "cell_type": "code",
   "execution_count": 223,
   "metadata": {},
   "outputs": [
    {
     "data": {
      "image/png": "[encoded data removed]",
      "text/plain": [
       "<Figure size 576x396 with 1 Axes>"
      ]
     },
     "metadata": {},
     "output_type": "display_data"
    }
   ],
   "source": [
    "fig = plt.figure()\n",
    "plt.title(\"Derniers recensements\\nYouth literacy rate, population 15-24 years, both sexes (%)\")\n",
    "plt.hist(last_lit_years, bins=len(set(last_lit_years)), rwidth=0.8, align='mid')\n",
    "plt.xlabel(\"Derniers relevés d'alphabetisation\")\n",
    "plt.ylabel('Nombre de pays')\n",
    "plt.xticks(rotation=90)\n",
    "plt.show()"
   ]
  },
  {
   "cell_type": "markdown",
   "metadata": {},
   "source": [
    "On obtient des resultats similaires. On va donc garder le premier indicateur: Adult literacy rate, population 15+ years, both sexes (%)\n",
    "## A VALIDER. TRACER LES DEUX ENSEMBLE"
   ]
  },
  {
   "cell_type": "markdown",
   "metadata": {},
   "source": [
    "Que faire des pays non renseignés? +50 pays sans relevés"
   ]
  },
  {
   "cell_type": "code",
   "execution_count": 231,
   "metadata": {},
   "outputs": [],
   "source": [
    "lit_df = pd.DataFrame([data['Country Name'].unique(), last_lit_years, last_lit_values])"
   ]
  },
  {
   "cell_type": "code",
   "execution_count": 232,
   "metadata": {},
   "outputs": [],
   "source": [
    "lit_df = lit_df.T"
   ]
  },
  {
   "cell_type": "code",
   "execution_count": 233,
   "metadata": {},
   "outputs": [],
   "source": [
    "lit_df = lit_df.rename(columns={0: 'Country', 1: \"Last statement\", 2: \"Literacy rate\"})"
   ]
  },
  {
   "cell_type": "code",
   "execution_count": 234,
   "metadata": {},
   "outputs": [],
   "source": [
    "lit_df = lit_df.set_index('Country')"
   ]
  },
  {
   "cell_type": "code",
   "execution_count": 235,
   "metadata": {},
   "outputs": [
    {
     "data": {
      "text/html": [
       "<div>\n",
       "<style scoped>\n",
       "    .dataframe tbody tr th:only-of-type {\n",
       "        vertical-align: middle;\n",
       "    }\n",
       "\n",
       "    .dataframe tbody tr th {\n",
       "        vertical-align: top;\n",
       "    }\n",
       "\n",
       "    .dataframe thead th {\n",
       "        text-align: right;\n",
       "    }\n",
       "</style>\n",
       "<table border=\"1\" class=\"dataframe\">\n",
       "  <thead>\n",
       "    <tr style=\"text-align: right;\">\n",
       "      <th></th>\n",
       "      <th>Last statement</th>\n",
       "      <th>Literacy rate</th>\n",
       "    </tr>\n",
       "    <tr>\n",
       "      <th>Country</th>\n",
       "      <th></th>\n",
       "      <th></th>\n",
       "    </tr>\n",
       "  </thead>\n",
       "  <tbody>\n",
       "    <tr>\n",
       "      <th>Arab World</th>\n",
       "      <td>2014</td>\n",
       "      <td>88.9647</td>\n",
       "    </tr>\n",
       "    <tr>\n",
       "      <th>East Asia &amp; Pacific</th>\n",
       "      <td>2014</td>\n",
       "      <td>99.0044</td>\n",
       "    </tr>\n",
       "    <tr>\n",
       "      <th>East Asia &amp; Pacific (excluding high income)</th>\n",
       "      <td>2014</td>\n",
       "      <td>98.9691</td>\n",
       "    </tr>\n",
       "    <tr>\n",
       "      <th>Euro area</th>\n",
       "      <td>NaN</td>\n",
       "      <td>NaN</td>\n",
       "    </tr>\n",
       "    <tr>\n",
       "      <th>Europe &amp; Central Asia</th>\n",
       "      <td>2014</td>\n",
       "      <td>99.7114</td>\n",
       "    </tr>\n",
       "    <tr>\n",
       "      <th>...</th>\n",
       "      <td>...</td>\n",
       "      <td>...</td>\n",
       "    </tr>\n",
       "    <tr>\n",
       "      <th>Virgin Islands (U.S.)</th>\n",
       "      <td>NaN</td>\n",
       "      <td>NaN</td>\n",
       "    </tr>\n",
       "    <tr>\n",
       "      <th>West Bank and Gaza</th>\n",
       "      <td>2016</td>\n",
       "      <td>99.3837</td>\n",
       "    </tr>\n",
       "    <tr>\n",
       "      <th>Yemen, Rep.</th>\n",
       "      <td>1994</td>\n",
       "      <td>60.2221</td>\n",
       "    </tr>\n",
       "    <tr>\n",
       "      <th>Zambia</th>\n",
       "      <td>2010</td>\n",
       "      <td>88.7146</td>\n",
       "    </tr>\n",
       "    <tr>\n",
       "      <th>Zimbabwe</th>\n",
       "      <td>2014</td>\n",
       "      <td>90.4281</td>\n",
       "    </tr>\n",
       "  </tbody>\n",
       "</table>\n",
       "<p>241 rows × 2 columns</p>\n",
       "</div>"
      ],
      "text/plain": [
       "                                            Last statement Literacy rate\n",
       "Country                                                                 \n",
       "Arab World                                            2014       88.9647\n",
       "East Asia & Pacific                                   2014       99.0044\n",
       "East Asia & Pacific (excluding high income)           2014       98.9691\n",
       "Euro area                                              NaN           NaN\n",
       "Europe & Central Asia                                 2014       99.7114\n",
       "...                                                    ...           ...\n",
       "Virgin Islands (U.S.)                                  NaN           NaN\n",
       "West Bank and Gaza                                    2016       99.3837\n",
       "Yemen, Rep.                                           1994       60.2221\n",
       "Zambia                                                2010       88.7146\n",
       "Zimbabwe                                              2014       90.4281\n",
       "\n",
       "[241 rows x 2 columns]"
      ]
     },
     "execution_count": 235,
     "metadata": {},
     "output_type": "execute_result"
    }
   ],
   "source": [
    "lit_df"
   ]
  },
  {
   "cell_type": "code",
   "execution_count": 244,
   "metadata": {},
   "outputs": [
    {
     "data": {
      "text/plain": [
       "62.28613500000001"
      ]
     },
     "execution_count": 244,
     "metadata": {},
     "output_type": "execute_result"
    }
   ],
   "source": [
    "percentile_25 = lit_df['Literacy rate'].quantile(0.1)\n",
    "percentile_25"
   ]
  },
  {
   "cell_type": "code",
   "execution_count": 245,
   "metadata": {},
   "outputs": [],
   "source": [
    "lit_suffisantes_df = lit_df[lit_df['Literacy rate'] > percentile_25]"
   ]
  },
  {
   "cell_type": "code",
   "execution_count": 246,
   "metadata": {},
   "outputs": [],
   "source": [
    "pays_lit_suffisantes = lit_suffisantes_df.index.values"
   ]
  },
  {
   "cell_type": "code",
   "execution_count": 247,
   "metadata": {},
   "outputs": [
    {
     "data": {
      "text/plain": [
       "165"
      ]
     },
     "execution_count": 247,
     "metadata": {},
     "output_type": "execute_result"
    }
   ],
   "source": [
    "len(pays_lit_suffisantes)"
   ]
  },
  {
   "cell_type": "markdown",
   "metadata": {},
   "source": [
    "Nous avons récupéré les pays dont la population est suffisament lettrée"
   ]
  },
  {
   "cell_type": "markdown",
   "metadata": {},
   "source": [
    "Pour mettre à jour notre selection on peut faire une nouvelle intersection"
   ]
  },
  {
   "cell_type": "code",
   "execution_count": 248,
   "metadata": {},
   "outputs": [
    {
     "data": {
      "text/plain": [
       "array(['Arab World', 'East Asia & Pacific',\n",
       "       'East Asia & Pacific (excluding high income)',\n",
       "       'Europe & Central Asia',\n",
       "       'Europe & Central Asia (excluding high income)',\n",
       "       'Heavily indebted poor countries (HIPC)',\n",
       "       'Latin America & Caribbean',\n",
       "       'Latin America & Caribbean (excluding high income)',\n",
       "       'Least developed countries: UN classification',\n",
       "       'Low & middle income', 'Low income', 'Lower middle income',\n",
       "       'Middle East & North Africa',\n",
       "       'Middle East & North Africa (excluding high income)',\n",
       "       'Middle income', 'South Asia', 'Sub-Saharan Africa',\n",
       "       'Sub-Saharan Africa (excluding high income)',\n",
       "       'Upper middle income', 'World', 'Albania', 'Algeria',\n",
       "       'American Samoa', 'Andorra', 'Angola', 'Argentina', 'Armenia',\n",
       "       'Aruba', 'Azerbaijan', 'Bahrain', 'Bangladesh', 'Barbados',\n",
       "       'Belarus', 'Belize', 'Bhutan', 'Bolivia', 'Bosnia and Herzegovina',\n",
       "       'Botswana', 'Brazil', 'Brunei Darussalam', 'Bulgaria', 'Burundi',\n",
       "       'Cabo Verde', 'Cambodia', 'Cameroon', 'Cayman Islands', 'Chile',\n",
       "       'China', 'Colombia', 'Comoros', 'Congo, Dem. Rep.', 'Congo, Rep.',\n",
       "       'Costa Rica', 'Croatia', 'Cuba', 'Cyprus', 'Dominican Republic',\n",
       "       'Ecuador', 'Egypt, Arab Rep.', 'El Salvador', 'Equatorial Guinea',\n",
       "       'Eritrea', 'Estonia', 'Gabon', 'Georgia', 'Ghana', 'Greece',\n",
       "       'Greenland', 'Grenada', 'Guam', 'Guatemala', 'Guyana', 'Haiti',\n",
       "       'Honduras', 'Hungary', 'India', 'Indonesia', 'Iran, Islamic Rep.',\n",
       "       'Israel', 'Italy', 'Jamaica', 'Jordan', 'Kazakhstan', 'Kenya',\n",
       "       'Korea, Dem. People’s Rep.', 'Kuwait', 'Kyrgyz Republic',\n",
       "       'Lao PDR', 'Latvia', 'Lebanon', 'Lesotho', 'Libya', 'Lithuania',\n",
       "       'Macao SAR, China', 'Macedonia, FYR', 'Madagascar', 'Malawi',\n",
       "       'Malaysia', 'Maldives', 'Malta', 'Marshall Islands', 'Mauritius',\n",
       "       'Mexico', 'Moldova', 'Mongolia', 'Montenegro', 'Morocco',\n",
       "       'Mozambique', 'Myanmar', 'Namibia', 'Nepal', 'New Caledonia',\n",
       "       'Nicaragua', 'Nigeria', 'Oman', 'Pakistan', 'Palau', 'Panama',\n",
       "       'Papua New Guinea', 'Paraguay', 'Peru', 'Philippines', 'Poland',\n",
       "       'Portugal', 'Puerto Rico', 'Qatar', 'Romania',\n",
       "       'Russian Federation', 'Rwanda', 'Samoa', 'Sao Tome and Principe',\n",
       "       'Saudi Arabia', 'Serbia', 'Seychelles', 'Singapore', 'Slovenia',\n",
       "       'South Africa', 'Spain', 'Sri Lanka',\n",
       "       'St. Vincent and the Grenadines', 'Sudan', 'Suriname', 'Swaziland',\n",
       "       'Syrian Arab Republic', 'Tajikistan', 'Tanzania', 'Thailand',\n",
       "       'Timor-Leste', 'Togo', 'Tonga', 'Trinidad and Tobago', 'Tunisia',\n",
       "       'Turkey', 'Turkmenistan', 'Uganda', 'Ukraine',\n",
       "       'United Arab Emirates', 'Uruguay', 'Uzbekistan', 'Vanuatu',\n",
       "       'Venezuela, RB', 'Vietnam', 'West Bank and Gaza', 'Zambia',\n",
       "       'Zimbabwe'], dtype=object)"
      ]
     },
     "execution_count": 248,
     "metadata": {},
     "output_type": "execute_result"
    }
   ],
   "source": [
    "pays_lit_suffisantes"
   ]
  },
  {
   "cell_type": "code",
   "execution_count": 249,
   "metadata": {},
   "outputs": [
    {
     "data": {
      "text/plain": [
       "['Malaysia',\n",
       " 'Estonia',\n",
       " 'Spain',\n",
       " 'Puerto Rico',\n",
       " 'Slovenia',\n",
       " 'Hungary',\n",
       " 'Russian Federation',\n",
       " 'Lebanon',\n",
       " 'Latvia',\n",
       " 'Israel',\n",
       " 'Singapore',\n",
       " 'United Arab Emirates',\n",
       " 'Azerbaijan',\n",
       " 'Qatar',\n",
       " 'Kuwait',\n",
       " 'Bahrain',\n",
       " 'Kazakhstan']"
      ]
     },
     "execution_count": 249,
     "metadata": {},
     "output_type": "execute_result"
    }
   ],
   "source": [
    "list(set(pays_selection).intersection(set(pays_lit_suffisantes)))"
   ]
  },
  {
   "cell_type": "markdown",
   "metadata": {},
   "source": [
    "Liste trop réduite. Problème venant du manque de data. A revoir"
   ]
  },
  {
   "cell_type": "code",
   "execution_count": 167,
   "metadata": {},
   "outputs": [
    {
     "data": {
      "text/plain": [
       "43"
      ]
     },
     "execution_count": 167,
     "metadata": {},
     "output_type": "execute_result"
    }
   ],
   "source": [
    "len(pays_selection)"
   ]
  }
 ],
 "metadata": {
  "kernelspec": {
   "display_name": "Python 3",
   "language": "python",
   "name": "python3"
  },
  "language_info": {
   "codemirror_mode": {
    "name": "ipython",
    "version": 3
   },
   "file_extension": ".py",
   "mimetype": "text/x-python",
   "name": "python",
   "nbconvert_exporter": "python",
   "pygments_lexer": "ipython3",
   "version": "3.8.3"
  }
 },
 "nbformat": 4,
 "nbformat_minor": 4
}
