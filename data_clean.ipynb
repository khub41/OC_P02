{
 "cells": [
  {
   "cell_type": "code",
   "execution_count": 72,
   "metadata": {},
   "outputs": [],
   "source": [
    "import pandas as pd\n",
    "import matplotlib.pyplot as plt\n",
    "import seaborn as sns\n",
    "import numpy as np"
   ]
  },
  {
   "cell_type": "code",
   "execution_count": 2,
   "metadata": {},
   "outputs": [
    {
     "name": "stderr",
     "output_type": "stream",
     "text": [
      "/Users/hugorebeix/opt/anaconda3/lib/python3.8/site-packages/IPython/core/interactiveshell.py:3071: DtypeWarning: Columns (95,96,97,98,100,102,103,104,105,106,107,108,109,110,111,112,113,114,115,116,117,120,122) have mixed types.Specify dtype option on import or set low_memory=False.\n",
      "  has_raised = await self.run_ast_nodes(code_ast.body, cell_name,\n"
     ]
    }
   ],
   "source": [
    "data = pd.read_csv('data/data_raw.csv')"
   ]
  },
  {
   "cell_type": "code",
   "execution_count": 3,
   "metadata": {},
   "outputs": [
    {
     "data": {
      "text/plain": [
       "(870492, 124)"
      ]
     },
     "execution_count": 3,
     "metadata": {},
     "output_type": "execute_result"
    }
   ],
   "source": [
    "data.shape"
   ]
  },
  {
   "cell_type": "code",
   "execution_count": 4,
   "metadata": {},
   "outputs": [],
   "source": [
    "describe = data.describe(include='all')"
   ]
  },
  {
   "cell_type": "code",
   "execution_count": 5,
   "metadata": {},
   "outputs": [
    {
     "data": {
      "text/html": [
       "<div>\n",
       "<style scoped>\n",
       "    .dataframe tbody tr th:only-of-type {\n",
       "        vertical-align: middle;\n",
       "    }\n",
       "\n",
       "    .dataframe tbody tr th {\n",
       "        vertical-align: top;\n",
       "    }\n",
       "\n",
       "    .dataframe thead th {\n",
       "        text-align: right;\n",
       "    }\n",
       "</style>\n",
       "<table border=\"1\" class=\"dataframe\">\n",
       "  <thead>\n",
       "    <tr style=\"text-align: right;\">\n",
       "      <th></th>\n",
       "      <th>Unnamed: 0</th>\n",
       "      <th>Country Name</th>\n",
       "      <th>Country Code</th>\n",
       "      <th>Indicator Name_x</th>\n",
       "      <th>Indicator Code</th>\n",
       "      <th>1970</th>\n",
       "      <th>1971</th>\n",
       "      <th>1972</th>\n",
       "      <th>1973</th>\n",
       "      <th>1974</th>\n",
       "      <th>...</th>\n",
       "      <th>Latest household survey</th>\n",
       "      <th>Source of most recent Income and expenditure data</th>\n",
       "      <th>Vital registration complete</th>\n",
       "      <th>Latest agricultural census</th>\n",
       "      <th>Latest industrial data</th>\n",
       "      <th>Latest trade data</th>\n",
       "      <th>Latest water withdrawal data</th>\n",
       "      <th>Unnamed: 31</th>\n",
       "      <th>DESCRIPTION</th>\n",
       "      <th>Unnamed: 3</th>\n",
       "    </tr>\n",
       "  </thead>\n",
       "  <tbody>\n",
       "    <tr>\n",
       "      <th>count</th>\n",
       "      <td>870492.000000</td>\n",
       "      <td>870492</td>\n",
       "      <td>870492</td>\n",
       "      <td>870492</td>\n",
       "      <td>870492</td>\n",
       "      <td>7.148000e+04</td>\n",
       "      <td>3.444300e+04</td>\n",
       "      <td>3.451400e+04</td>\n",
       "      <td>3.446700e+04</td>\n",
       "      <td>3.467500e+04</td>\n",
       "      <td>...</td>\n",
       "      <td>509292</td>\n",
       "      <td>577920</td>\n",
       "      <td>400932</td>\n",
       "      <td>512904.0</td>\n",
       "      <td>386484.000000</td>\n",
       "      <td>668220.000000</td>\n",
       "      <td>646548.0</td>\n",
       "      <td>0.0</td>\n",
       "      <td>613</td>\n",
       "      <td>0.0</td>\n",
       "    </tr>\n",
       "    <tr>\n",
       "      <th>unique</th>\n",
       "      <td>NaN</td>\n",
       "      <td>241</td>\n",
       "      <td>241</td>\n",
       "      <td>3612</td>\n",
       "      <td>3612</td>\n",
       "      <td>NaN</td>\n",
       "      <td>NaN</td>\n",
       "      <td>NaN</td>\n",
       "      <td>NaN</td>\n",
       "      <td>NaN</td>\n",
       "      <td>...</td>\n",
       "      <td>60</td>\n",
       "      <td>75</td>\n",
       "      <td>2</td>\n",
       "      <td>44.0</td>\n",
       "      <td>NaN</td>\n",
       "      <td>NaN</td>\n",
       "      <td>21.0</td>\n",
       "      <td>NaN</td>\n",
       "      <td>97</td>\n",
       "      <td>NaN</td>\n",
       "    </tr>\n",
       "    <tr>\n",
       "      <th>top</th>\n",
       "      <td>NaN</td>\n",
       "      <td>Madagascar</td>\n",
       "      <td>MRT</td>\n",
       "      <td>Population, ages 6-10, total</td>\n",
       "      <td>LO.LLECE.MAT6.2.MA</td>\n",
       "      <td>NaN</td>\n",
       "      <td>NaN</td>\n",
       "      <td>NaN</td>\n",
       "      <td>NaN</td>\n",
       "      <td>NaN</td>\n",
       "      <td>...</td>\n",
       "      <td>Demographic and Health Survey (DHS), 2013</td>\n",
       "      <td>Integrated household survey (IHS), 2012</td>\n",
       "      <td>Yes</td>\n",
       "      <td>2010.0</td>\n",
       "      <td>NaN</td>\n",
       "      <td>NaN</td>\n",
       "      <td>2005.0</td>\n",
       "      <td>NaN</td>\n",
       "      <td>Data sources : United Nations World Population...</td>\n",
       "      <td>NaN</td>\n",
       "    </tr>\n",
       "    <tr>\n",
       "      <th>freq</th>\n",
       "      <td>NaN</td>\n",
       "      <td>3612</td>\n",
       "      <td>3612</td>\n",
       "      <td>241</td>\n",
       "      <td>241</td>\n",
       "      <td>NaN</td>\n",
       "      <td>NaN</td>\n",
       "      <td>NaN</td>\n",
       "      <td>NaN</td>\n",
       "      <td>NaN</td>\n",
       "      <td>...</td>\n",
       "      <td>36120</td>\n",
       "      <td>54180</td>\n",
       "      <td>397320</td>\n",
       "      <td>82920.0</td>\n",
       "      <td>NaN</td>\n",
       "      <td>NaN</td>\n",
       "      <td>144480.0</td>\n",
       "      <td>NaN</td>\n",
       "      <td>154</td>\n",
       "      <td>NaN</td>\n",
       "    </tr>\n",
       "    <tr>\n",
       "      <th>mean</th>\n",
       "      <td>435245.500000</td>\n",
       "      <td>NaN</td>\n",
       "      <td>NaN</td>\n",
       "      <td>NaN</td>\n",
       "      <td>NaN</td>\n",
       "      <td>1.997095e+09</td>\n",
       "      <td>4.388745e+09</td>\n",
       "      <td>4.739394e+09</td>\n",
       "      <td>5.264671e+09</td>\n",
       "      <td>5.565835e+09</td>\n",
       "      <td>...</td>\n",
       "      <td>NaN</td>\n",
       "      <td>NaN</td>\n",
       "      <td>NaN</td>\n",
       "      <td>NaN</td>\n",
       "      <td>2008.102804</td>\n",
       "      <td>2010.994595</td>\n",
       "      <td>NaN</td>\n",
       "      <td>NaN</td>\n",
       "      <td>NaN</td>\n",
       "      <td>NaN</td>\n",
       "    </tr>\n",
       "    <tr>\n",
       "      <th>std</th>\n",
       "      <td>251289.539602</td>\n",
       "      <td>NaN</td>\n",
       "      <td>NaN</td>\n",
       "      <td>NaN</td>\n",
       "      <td>NaN</td>\n",
       "      <td>1.218514e+11</td>\n",
       "      <td>1.833238e+11</td>\n",
       "      <td>1.944465e+11</td>\n",
       "      <td>2.091105e+11</td>\n",
       "      <td>2.144020e+11</td>\n",
       "      <td>...</td>\n",
       "      <td>NaN</td>\n",
       "      <td>NaN</td>\n",
       "      <td>NaN</td>\n",
       "      <td>NaN</td>\n",
       "      <td>2.604581</td>\n",
       "      <td>2.562723</td>\n",
       "      <td>NaN</td>\n",
       "      <td>NaN</td>\n",
       "      <td>NaN</td>\n",
       "      <td>NaN</td>\n",
       "    </tr>\n",
       "    <tr>\n",
       "      <th>min</th>\n",
       "      <td>0.000000</td>\n",
       "      <td>NaN</td>\n",
       "      <td>NaN</td>\n",
       "      <td>NaN</td>\n",
       "      <td>NaN</td>\n",
       "      <td>-1.435564e+00</td>\n",
       "      <td>-1.594625e+00</td>\n",
       "      <td>-3.056522e+00</td>\n",
       "      <td>-4.032582e+00</td>\n",
       "      <td>-4.213563e+00</td>\n",
       "      <td>...</td>\n",
       "      <td>NaN</td>\n",
       "      <td>NaN</td>\n",
       "      <td>NaN</td>\n",
       "      <td>NaN</td>\n",
       "      <td>2000.000000</td>\n",
       "      <td>1995.000000</td>\n",
       "      <td>NaN</td>\n",
       "      <td>NaN</td>\n",
       "      <td>NaN</td>\n",
       "      <td>NaN</td>\n",
       "    </tr>\n",
       "    <tr>\n",
       "      <th>25%</th>\n",
       "      <td>217622.750000</td>\n",
       "      <td>NaN</td>\n",
       "      <td>NaN</td>\n",
       "      <td>NaN</td>\n",
       "      <td>NaN</td>\n",
       "      <td>8.700000e-01</td>\n",
       "      <td>1.045615e+01</td>\n",
       "      <td>1.076718e+01</td>\n",
       "      <td>1.116327e+01</td>\n",
       "      <td>1.131197e+01</td>\n",
       "      <td>...</td>\n",
       "      <td>NaN</td>\n",
       "      <td>NaN</td>\n",
       "      <td>NaN</td>\n",
       "      <td>NaN</td>\n",
       "      <td>2007.000000</td>\n",
       "      <td>2011.000000</td>\n",
       "      <td>NaN</td>\n",
       "      <td>NaN</td>\n",
       "      <td>NaN</td>\n",
       "      <td>NaN</td>\n",
       "    </tr>\n",
       "    <tr>\n",
       "      <th>50%</th>\n",
       "      <td>435245.500000</td>\n",
       "      <td>NaN</td>\n",
       "      <td>NaN</td>\n",
       "      <td>NaN</td>\n",
       "      <td>NaN</td>\n",
       "      <td>6.570000e+00</td>\n",
       "      <td>7.207677e+01</td>\n",
       "      <td>7.685992e+01</td>\n",
       "      <td>7.963683e+01</td>\n",
       "      <td>8.090797e+01</td>\n",
       "      <td>...</td>\n",
       "      <td>NaN</td>\n",
       "      <td>NaN</td>\n",
       "      <td>NaN</td>\n",
       "      <td>NaN</td>\n",
       "      <td>2009.000000</td>\n",
       "      <td>2012.000000</td>\n",
       "      <td>NaN</td>\n",
       "      <td>NaN</td>\n",
       "      <td>NaN</td>\n",
       "      <td>NaN</td>\n",
       "    </tr>\n",
       "    <tr>\n",
       "      <th>75%</th>\n",
       "      <td>652868.250000</td>\n",
       "      <td>NaN</td>\n",
       "      <td>NaN</td>\n",
       "      <td>NaN</td>\n",
       "      <td>NaN</td>\n",
       "      <td>6.387674e+01</td>\n",
       "      <td>6.452600e+04</td>\n",
       "      <td>6.653125e+04</td>\n",
       "      <td>6.973650e+04</td>\n",
       "      <td>7.127600e+04</td>\n",
       "      <td>...</td>\n",
       "      <td>NaN</td>\n",
       "      <td>NaN</td>\n",
       "      <td>NaN</td>\n",
       "      <td>NaN</td>\n",
       "      <td>2010.000000</td>\n",
       "      <td>2012.000000</td>\n",
       "      <td>NaN</td>\n",
       "      <td>NaN</td>\n",
       "      <td>NaN</td>\n",
       "      <td>NaN</td>\n",
       "    </tr>\n",
       "    <tr>\n",
       "      <th>max</th>\n",
       "      <td>870491.000000</td>\n",
       "      <td>NaN</td>\n",
       "      <td>NaN</td>\n",
       "      <td>NaN</td>\n",
       "      <td>NaN</td>\n",
       "      <td>1.903929e+13</td>\n",
       "      <td>1.986457e+13</td>\n",
       "      <td>2.100916e+13</td>\n",
       "      <td>2.238367e+13</td>\n",
       "      <td>2.282991e+13</td>\n",
       "      <td>...</td>\n",
       "      <td>NaN</td>\n",
       "      <td>NaN</td>\n",
       "      <td>NaN</td>\n",
       "      <td>NaN</td>\n",
       "      <td>2010.000000</td>\n",
       "      <td>2012.000000</td>\n",
       "      <td>NaN</td>\n",
       "      <td>NaN</td>\n",
       "      <td>NaN</td>\n",
       "      <td>NaN</td>\n",
       "    </tr>\n",
       "  </tbody>\n",
       "</table>\n",
       "<p>11 rows × 124 columns</p>\n",
       "</div>"
      ],
      "text/plain": [
       "           Unnamed: 0 Country Name Country Code              Indicator Name_x  \\\n",
       "count   870492.000000       870492       870492                        870492   \n",
       "unique            NaN          241          241                          3612   \n",
       "top               NaN   Madagascar          MRT  Population, ages 6-10, total   \n",
       "freq              NaN         3612         3612                           241   \n",
       "mean    435245.500000          NaN          NaN                           NaN   \n",
       "std     251289.539602          NaN          NaN                           NaN   \n",
       "min          0.000000          NaN          NaN                           NaN   \n",
       "25%     217622.750000          NaN          NaN                           NaN   \n",
       "50%     435245.500000          NaN          NaN                           NaN   \n",
       "75%     652868.250000          NaN          NaN                           NaN   \n",
       "max     870491.000000          NaN          NaN                           NaN   \n",
       "\n",
       "            Indicator Code          1970          1971          1972  \\\n",
       "count               870492  7.148000e+04  3.444300e+04  3.451400e+04   \n",
       "unique                3612           NaN           NaN           NaN   \n",
       "top     LO.LLECE.MAT6.2.MA           NaN           NaN           NaN   \n",
       "freq                   241           NaN           NaN           NaN   \n",
       "mean                   NaN  1.997095e+09  4.388745e+09  4.739394e+09   \n",
       "std                    NaN  1.218514e+11  1.833238e+11  1.944465e+11   \n",
       "min                    NaN -1.435564e+00 -1.594625e+00 -3.056522e+00   \n",
       "25%                    NaN  8.700000e-01  1.045615e+01  1.076718e+01   \n",
       "50%                    NaN  6.570000e+00  7.207677e+01  7.685992e+01   \n",
       "75%                    NaN  6.387674e+01  6.452600e+04  6.653125e+04   \n",
       "max                    NaN  1.903929e+13  1.986457e+13  2.100916e+13   \n",
       "\n",
       "                1973          1974  ...  \\\n",
       "count   3.446700e+04  3.467500e+04  ...   \n",
       "unique           NaN           NaN  ...   \n",
       "top              NaN           NaN  ...   \n",
       "freq             NaN           NaN  ...   \n",
       "mean    5.264671e+09  5.565835e+09  ...   \n",
       "std     2.091105e+11  2.144020e+11  ...   \n",
       "min    -4.032582e+00 -4.213563e+00  ...   \n",
       "25%     1.116327e+01  1.131197e+01  ...   \n",
       "50%     7.963683e+01  8.090797e+01  ...   \n",
       "75%     6.973650e+04  7.127600e+04  ...   \n",
       "max     2.238367e+13  2.282991e+13  ...   \n",
       "\n",
       "                          Latest household survey  \\\n",
       "count                                      509292   \n",
       "unique                                         60   \n",
       "top     Demographic and Health Survey (DHS), 2013   \n",
       "freq                                        36120   \n",
       "mean                                          NaN   \n",
       "std                                           NaN   \n",
       "min                                           NaN   \n",
       "25%                                           NaN   \n",
       "50%                                           NaN   \n",
       "75%                                           NaN   \n",
       "max                                           NaN   \n",
       "\n",
       "        Source of most recent Income and expenditure data  \\\n",
       "count                                              577920   \n",
       "unique                                                 75   \n",
       "top               Integrated household survey (IHS), 2012   \n",
       "freq                                                54180   \n",
       "mean                                                  NaN   \n",
       "std                                                   NaN   \n",
       "min                                                   NaN   \n",
       "25%                                                   NaN   \n",
       "50%                                                   NaN   \n",
       "75%                                                   NaN   \n",
       "max                                                   NaN   \n",
       "\n",
       "        Vital registration complete  Latest agricultural census  \\\n",
       "count                        400932                    512904.0   \n",
       "unique                            2                        44.0   \n",
       "top                             Yes                      2010.0   \n",
       "freq                         397320                     82920.0   \n",
       "mean                            NaN                         NaN   \n",
       "std                             NaN                         NaN   \n",
       "min                             NaN                         NaN   \n",
       "25%                             NaN                         NaN   \n",
       "50%                             NaN                         NaN   \n",
       "75%                             NaN                         NaN   \n",
       "max                             NaN                         NaN   \n",
       "\n",
       "        Latest industrial data  Latest trade data  \\\n",
       "count            386484.000000      668220.000000   \n",
       "unique                     NaN                NaN   \n",
       "top                        NaN                NaN   \n",
       "freq                       NaN                NaN   \n",
       "mean               2008.102804        2010.994595   \n",
       "std                   2.604581           2.562723   \n",
       "min                2000.000000        1995.000000   \n",
       "25%                2007.000000        2011.000000   \n",
       "50%                2009.000000        2012.000000   \n",
       "75%                2010.000000        2012.000000   \n",
       "max                2010.000000        2012.000000   \n",
       "\n",
       "        Latest water withdrawal data  Unnamed: 31  \\\n",
       "count                       646548.0          0.0   \n",
       "unique                          21.0          NaN   \n",
       "top                           2005.0          NaN   \n",
       "freq                        144480.0          NaN   \n",
       "mean                             NaN          NaN   \n",
       "std                              NaN          NaN   \n",
       "min                              NaN          NaN   \n",
       "25%                              NaN          NaN   \n",
       "50%                              NaN          NaN   \n",
       "75%                              NaN          NaN   \n",
       "max                              NaN          NaN   \n",
       "\n",
       "                                              DESCRIPTION  Unnamed: 3  \n",
       "count                                                 613         0.0  \n",
       "unique                                                 97         NaN  \n",
       "top     Data sources : United Nations World Population...         NaN  \n",
       "freq                                                  154         NaN  \n",
       "mean                                                  NaN         NaN  \n",
       "std                                                   NaN         NaN  \n",
       "min                                                   NaN         NaN  \n",
       "25%                                                   NaN         NaN  \n",
       "50%                                                   NaN         NaN  \n",
       "75%                                                   NaN         NaN  \n",
       "max                                                   NaN         NaN  \n",
       "\n",
       "[11 rows x 124 columns]"
      ]
     },
     "execution_count": 5,
     "metadata": {},
     "output_type": "execute_result"
    }
   ],
   "source": [
    "describe"
   ]
  },
  {
   "cell_type": "markdown",
   "metadata": {},
   "source": [
    "Faisons un état des lieux du set de données non nettoyé"
   ]
  },
  {
   "cell_type": "code",
   "execution_count": 6,
   "metadata": {},
   "outputs": [
    {
     "data": {
      "text/plain": [
       "870492"
      ]
     },
     "execution_count": 6,
     "metadata": {},
     "output_type": "execute_result"
    }
   ],
   "source": [
    "nb_rows = len(data)\n",
    "nb_rows"
   ]
  },
  {
   "cell_type": "code",
   "execution_count": 10,
   "metadata": {},
   "outputs": [],
   "source": [
    "counts = describe.iloc[0]"
   ]
  },
  {
   "cell_type": "code",
   "execution_count": 54,
   "metadata": {},
   "outputs": [],
   "source": [
    "counts = np.array(counts)\n",
    "counts_freq = counts/nb_rows\n",
    "xlabel1 = data.columns[:int(len(data.columns)/2)]\n",
    "xlabel2 = data.columns[int(len(data.columns)/2):]\n",
    "counts_freq1 = counts_freq[:int(len(data.columns)/2)]\n",
    "counts_freq2 = counts_freq[int(len(data.columns)/2):]"
   ]
  },
  {
   "cell_type": "code",
   "execution_count": 76,
   "metadata": {},
   "outputs": [
    {
     "data": {
      "text/plain": [
       "<BarContainer object of 62 artists>"
      ]
     },
     "execution_count": 76,
     "metadata": {},
     "output_type": "execute_result"
    },
    {
     "data": {
      "image/png": "[encoded data removed]",
      "text/plain": [
       "<Figure size 1440x216 with 1 Axes>"
      ]
     },
     "metadata": {},
     "output_type": "display_data"
    }
   ],
   "source": [
    "fig = plt.figure(figsize=(20,3))\n",
    "plt.style.use('seaborn')\n",
    "plt.title(\"Taux de remplissage par colonnes\", fontsize=18)\n",
    "plt.xticks(rotation=90, fontsize=14)\n",
    "plt.grid(False, axis='y')\n",
    "plt.bar(xlabel1, counts_freq1, align='center')"
   ]
  },
  {
   "cell_type": "code",
   "execution_count": 77,
   "metadata": {},
   "outputs": [
    {
     "data": {
      "text/plain": [
       "<BarContainer object of 62 artists>"
      ]
     },
     "execution_count": 77,
     "metadata": {},
     "output_type": "execute_result"
    },
    {
     "data": {
      "image/png": "[encoded data removed]",
      "text/plain": [
       "<Figure size 1440x216 with 1 Axes>"
      ]
     },
     "metadata": {},
     "output_type": "display_data"
    }
   ],
   "source": [
    "fig = plt.figure(figsize=(20,3))\n",
    "plt.style.use('seaborn')\n",
    "plt.title(\"Taux de remplissage par colonnes\", fontsize=18)\n",
    "plt.xticks(rotation=90, fontsize=14)\n",
    "plt.grid(False, axis='y')\n",
    "plt.bar(xlabel2, counts_freq2, align='center')"
   ]
  },
  {
   "cell_type": "code",
   "execution_count": 87,
   "metadata": {},
   "outputs": [],
   "source": [
    "cells_total = data.size\n",
    "filled_cells = counts.sum()\n",
    "empty_cells = cells_total - filled_cells"
   ]
  },
  {
   "cell_type": "code",
   "execution_count": 107,
   "metadata": {},
   "outputs": [
    {
     "data": {
      "image/png": "[encoded data removed]",
      "text/plain": [
       "<Figure size 432x432 with 1 Axes>"
      ]
     },
     "metadata": {},
     "output_type": "display_data"
    }
   ],
   "source": [
    "fig = plt.figure(figsize=(6,6))\n",
    "plt.title('Repartition remplissage', fontsize=16)\n",
    "plt.pie([empty_cells, filled_cells], labels=['Cellules vides', 'Cellules renseignées'], colors=['#EE7352', '#68C385'], autopct='%1.1f%%', textprops={'fontsize': 14})\n",
    "plt.axis('equal')\n",
    "plt.show()"
   ]
  },
  {
   "cell_type": "markdown",
   "metadata": {},
   "source": [
    "Retirons les colonnes vides"
   ]
  },
  {
   "cell_type": "code",
   "execution_count": 78,
   "metadata": {},
   "outputs": [],
   "source": [
    "counts = describe.iloc[0]"
   ]
  },
  {
   "cell_type": "code",
   "execution_count": 79,
   "metadata": {},
   "outputs": [
    {
     "data": {
      "text/plain": [
       "Unnamed: 0                      870492\n",
       "Country Name                    870492\n",
       "Country Code                    870492\n",
       "Indicator Name_x                870492\n",
       "Indicator Code                  870492\n",
       "                                 ...  \n",
       "Latest trade data               668220\n",
       "Latest water withdrawal data    646548\n",
       "Unnamed: 31                          0\n",
       "DESCRIPTION                        613\n",
       "Unnamed: 3                           0\n",
       "Name: count, Length: 124, dtype: object"
      ]
     },
     "execution_count": 79,
     "metadata": {},
     "output_type": "execute_result"
    }
   ],
   "source": [
    "counts"
   ]
  },
  {
   "cell_type": "code",
   "execution_count": 8,
   "metadata": {},
   "outputs": [],
   "source": [
    "useless_cols = counts[counts/len(data) < 0.25]"
   ]
  },
  {
   "cell_type": "code",
   "execution_count": 9,
   "metadata": {},
   "outputs": [
    {
     "data": {
      "text/plain": [
       "Index(['1970', '1971', '1972', '1973', '1974', '1975', '1976', '1977', '1978',\n",
       "       '1979', '1980', '1981', '1982', '1983', '1984', '1985', '1986', '1987',\n",
       "       '1988', '1989', '1990', '1991', '1992', '1993', '1994', '1995', '1996',\n",
       "       '1997', '1998', '1999', '2000', '2001', '2002', '2003', '2004', '2005',\n",
       "       '2006', '2007', '2008', '2009', '2011', '2012', '2013', '2014', '2015',\n",
       "       '2016', '2017', '2020', '2025', '2030', '2035', '2040', '2045', '2050',\n",
       "       '2055', '2060', '2065', '2070', '2075', '2080', '2085', '2090', '2095',\n",
       "       '2100', 'Unnamed: 69', 'Unit of measure', 'Periodicity', 'Base Period',\n",
       "       'Other notes', 'Aggregation method', 'Limitations and exceptions',\n",
       "       'Notes from original source', 'General comments',\n",
       "       'Statistical concept and methodology', 'Development relevance',\n",
       "       'Related source links', 'Other web links', 'Related indicators',\n",
       "       'License Type', 'Unnamed: 20', 'National accounts reference year',\n",
       "       'Other groups', 'Alternative conversion factor', 'Unnamed: 31',\n",
       "       'DESCRIPTION', 'Unnamed: 3'],\n",
       "      dtype='object')"
      ]
     },
     "execution_count": 9,
     "metadata": {},
     "output_type": "execute_result"
    }
   ],
   "source": [
    "useless_cols.index"
   ]
  },
  {
   "cell_type": "markdown",
   "metadata": {},
   "source": [
    "Je ne veux pas retirer les colonnes concernant les années car c'est là ou se situe la valeur ajoutée"
   ]
  },
  {
   "cell_type": "code",
   "execution_count": 10,
   "metadata": {},
   "outputs": [
    {
     "data": {
      "text/plain": [
       "1970                              71480\n",
       "1971                              34443\n",
       "1972                              34514\n",
       "1973                              34467\n",
       "1974                              34675\n",
       "                                  ...  \n",
       "Other groups                     209496\n",
       "Alternative conversion factor    169764\n",
       "Unnamed: 31                           0\n",
       "DESCRIPTION                         613\n",
       "Unnamed: 3                            0\n",
       "Name: count, Length: 86, dtype: object"
      ]
     },
     "execution_count": 10,
     "metadata": {},
     "output_type": "execute_result"
    }
   ],
   "source": [
    "useless_cols"
   ]
  },
  {
   "cell_type": "code",
   "execution_count": 11,
   "metadata": {},
   "outputs": [],
   "source": [
    "useless_cols = pd.DataFrame(useless_cols)"
   ]
  },
  {
   "cell_type": "code",
   "execution_count": 12,
   "metadata": {},
   "outputs": [],
   "source": [
    "useless_cols['index'] = useless_cols.index"
   ]
  },
  {
   "cell_type": "code",
   "execution_count": 13,
   "metadata": {},
   "outputs": [],
   "source": [
    "year_test = lambda name : not name.isdigit()\n",
    "useless_cols = useless_cols[useless_cols['index'].map(year_test)]"
   ]
  },
  {
   "cell_type": "code",
   "execution_count": 14,
   "metadata": {},
   "outputs": [
    {
     "data": {
      "text/html": [
       "<div>\n",
       "<style scoped>\n",
       "    .dataframe tbody tr th:only-of-type {\n",
       "        vertical-align: middle;\n",
       "    }\n",
       "\n",
       "    .dataframe tbody tr th {\n",
       "        vertical-align: top;\n",
       "    }\n",
       "\n",
       "    .dataframe thead th {\n",
       "        text-align: right;\n",
       "    }\n",
       "</style>\n",
       "<table border=\"1\" class=\"dataframe\">\n",
       "  <thead>\n",
       "    <tr style=\"text-align: right;\">\n",
       "      <th></th>\n",
       "      <th>count</th>\n",
       "      <th>index</th>\n",
       "    </tr>\n",
       "  </thead>\n",
       "  <tbody>\n",
       "    <tr>\n",
       "      <th>Unnamed: 69</th>\n",
       "      <td>0</td>\n",
       "      <td>Unnamed: 69</td>\n",
       "    </tr>\n",
       "    <tr>\n",
       "      <th>Unit of measure</th>\n",
       "      <td>0</td>\n",
       "      <td>Unit of measure</td>\n",
       "    </tr>\n",
       "    <tr>\n",
       "      <th>Periodicity</th>\n",
       "      <td>23859</td>\n",
       "      <td>Periodicity</td>\n",
       "    </tr>\n",
       "    <tr>\n",
       "      <th>Base Period</th>\n",
       "      <td>75674</td>\n",
       "      <td>Base Period</td>\n",
       "    </tr>\n",
       "    <tr>\n",
       "      <th>Other notes</th>\n",
       "      <td>132068</td>\n",
       "      <td>Other notes</td>\n",
       "    </tr>\n",
       "    <tr>\n",
       "      <th>Aggregation method</th>\n",
       "      <td>11327</td>\n",
       "      <td>Aggregation method</td>\n",
       "    </tr>\n",
       "    <tr>\n",
       "      <th>Limitations and exceptions</th>\n",
       "      <td>3374</td>\n",
       "      <td>Limitations and exceptions</td>\n",
       "    </tr>\n",
       "    <tr>\n",
       "      <th>Notes from original source</th>\n",
       "      <td>0</td>\n",
       "      <td>Notes from original source</td>\n",
       "    </tr>\n",
       "    <tr>\n",
       "      <th>General comments</th>\n",
       "      <td>3374</td>\n",
       "      <td>General comments</td>\n",
       "    </tr>\n",
       "    <tr>\n",
       "      <th>Statistical concept and methodology</th>\n",
       "      <td>5543</td>\n",
       "      <td>Statistical concept and methodology</td>\n",
       "    </tr>\n",
       "    <tr>\n",
       "      <th>Development relevance</th>\n",
       "      <td>723</td>\n",
       "      <td>Development relevance</td>\n",
       "    </tr>\n",
       "    <tr>\n",
       "      <th>Related source links</th>\n",
       "      <td>51815</td>\n",
       "      <td>Related source links</td>\n",
       "    </tr>\n",
       "    <tr>\n",
       "      <th>Other web links</th>\n",
       "      <td>0</td>\n",
       "      <td>Other web links</td>\n",
       "    </tr>\n",
       "    <tr>\n",
       "      <th>Related indicators</th>\n",
       "      <td>0</td>\n",
       "      <td>Related indicators</td>\n",
       "    </tr>\n",
       "    <tr>\n",
       "      <th>License Type</th>\n",
       "      <td>0</td>\n",
       "      <td>License Type</td>\n",
       "    </tr>\n",
       "    <tr>\n",
       "      <th>Unnamed: 20</th>\n",
       "      <td>0</td>\n",
       "      <td>Unnamed: 20</td>\n",
       "    </tr>\n",
       "    <tr>\n",
       "      <th>National accounts reference year</th>\n",
       "      <td>115584</td>\n",
       "      <td>National accounts reference year</td>\n",
       "    </tr>\n",
       "    <tr>\n",
       "      <th>Other groups</th>\n",
       "      <td>209496</td>\n",
       "      <td>Other groups</td>\n",
       "    </tr>\n",
       "    <tr>\n",
       "      <th>Alternative conversion factor</th>\n",
       "      <td>169764</td>\n",
       "      <td>Alternative conversion factor</td>\n",
       "    </tr>\n",
       "    <tr>\n",
       "      <th>Unnamed: 31</th>\n",
       "      <td>0</td>\n",
       "      <td>Unnamed: 31</td>\n",
       "    </tr>\n",
       "    <tr>\n",
       "      <th>DESCRIPTION</th>\n",
       "      <td>613</td>\n",
       "      <td>DESCRIPTION</td>\n",
       "    </tr>\n",
       "    <tr>\n",
       "      <th>Unnamed: 3</th>\n",
       "      <td>0</td>\n",
       "      <td>Unnamed: 3</td>\n",
       "    </tr>\n",
       "  </tbody>\n",
       "</table>\n",
       "</div>"
      ],
      "text/plain": [
       "                                      count  \\\n",
       "Unnamed: 69                               0   \n",
       "Unit of measure                           0   \n",
       "Periodicity                           23859   \n",
       "Base Period                           75674   \n",
       "Other notes                          132068   \n",
       "Aggregation method                    11327   \n",
       "Limitations and exceptions             3374   \n",
       "Notes from original source                0   \n",
       "General comments                       3374   \n",
       "Statistical concept and methodology    5543   \n",
       "Development relevance                   723   \n",
       "Related source links                  51815   \n",
       "Other web links                           0   \n",
       "Related indicators                        0   \n",
       "License Type                              0   \n",
       "Unnamed: 20                               0   \n",
       "National accounts reference year     115584   \n",
       "Other groups                         209496   \n",
       "Alternative conversion factor        169764   \n",
       "Unnamed: 31                               0   \n",
       "DESCRIPTION                             613   \n",
       "Unnamed: 3                                0   \n",
       "\n",
       "                                                                   index  \n",
       "Unnamed: 69                                                  Unnamed: 69  \n",
       "Unit of measure                                          Unit of measure  \n",
       "Periodicity                                                  Periodicity  \n",
       "Base Period                                                  Base Period  \n",
       "Other notes                                                  Other notes  \n",
       "Aggregation method                                    Aggregation method  \n",
       "Limitations and exceptions                    Limitations and exceptions  \n",
       "Notes from original source                    Notes from original source  \n",
       "General comments                                        General comments  \n",
       "Statistical concept and methodology  Statistical concept and methodology  \n",
       "Development relevance                              Development relevance  \n",
       "Related source links                                Related source links  \n",
       "Other web links                                          Other web links  \n",
       "Related indicators                                    Related indicators  \n",
       "License Type                                                License Type  \n",
       "Unnamed: 20                                                  Unnamed: 20  \n",
       "National accounts reference year        National accounts reference year  \n",
       "Other groups                                                Other groups  \n",
       "Alternative conversion factor              Alternative conversion factor  \n",
       "Unnamed: 31                                                  Unnamed: 31  \n",
       "DESCRIPTION                                                  DESCRIPTION  \n",
       "Unnamed: 3                                                    Unnamed: 3  "
      ]
     },
     "execution_count": 14,
     "metadata": {},
     "output_type": "execute_result"
    }
   ],
   "source": [
    "useless_cols"
   ]
  },
  {
   "cell_type": "markdown",
   "metadata": {},
   "source": [
    "Je pense que la colonne 'Statistical concept and methodology' peut tout de même être pertinente"
   ]
  },
  {
   "cell_type": "code",
   "execution_count": 15,
   "metadata": {},
   "outputs": [],
   "source": [
    "useless_cols = useless_cols.drop(index='Statistical concept and methodology')"
   ]
  },
  {
   "cell_type": "code",
   "execution_count": 16,
   "metadata": {},
   "outputs": [],
   "source": [
    "data = data.drop(columns=useless_cols.index)"
   ]
  },
  {
   "cell_type": "code",
   "execution_count": 17,
   "metadata": {},
   "outputs": [
    {
     "data": {
      "text/plain": [
       "(870492, 103)"
      ]
     },
     "execution_count": 17,
     "metadata": {},
     "output_type": "execute_result"
    }
   ],
   "source": [
    "data.shape"
   ]
  },
  {
   "cell_type": "markdown",
   "metadata": {},
   "source": [
    "### Parmis les 3600 indicateurs, il faudrait selectionner ceux qui sont en relation avec notre problématique \"métier\".\n",
    "#### On va donc établir une liste de mots clés en relation avec cette problématique.\n",
    "#### On recherche des pays dont le marché est propice à un developpement de l'activité d'une plateforme d'apprentissage en ligne pour les 15 - 30 ans (en prenant large). On va donc chercher des mots clés liés à l'age, à l'accès internet, à l'éducation."
   ]
  },
  {
   "cell_type": "code",
   "execution_count": 18,
   "metadata": {},
   "outputs": [
    {
     "data": {
      "text/plain": [
       "Index(['Unnamed: 0', 'Country Name', 'Country Code', 'Indicator Name_x',\n",
       "       'Indicator Code', '1970', '1971', '1972', '1973', '1974',\n",
       "       ...\n",
       "       'Government Accounting concept', 'IMF data dissemination standard',\n",
       "       'Latest population census', 'Latest household survey',\n",
       "       'Source of most recent Income and expenditure data',\n",
       "       'Vital registration complete', 'Latest agricultural census',\n",
       "       'Latest industrial data', 'Latest trade data',\n",
       "       'Latest water withdrawal data'],\n",
       "      dtype='object', length=103)"
      ]
     },
     "execution_count": 18,
     "metadata": {},
     "output_type": "execute_result"
    }
   ],
   "source": [
    "cols = data.columns\n",
    "cols"
   ]
  },
  {
   "cell_type": "code",
   "execution_count": 19,
   "metadata": {},
   "outputs": [],
   "source": [
    "indicateurs = data['Indicator Name_x'].unique()"
   ]
  },
  {
   "cell_type": "code",
   "execution_count": 20,
   "metadata": {},
   "outputs": [
    {
     "data": {
      "text/plain": [
       "array(['Adjusted net enrolment rate, lower secondary, both sexes (%)',\n",
       "       'Adjusted net enrolment rate, lower secondary, female (%)',\n",
       "       'Adjusted net enrolment rate, lower secondary, gender parity index (GPI)',\n",
       "       'Adjusted net enrolment rate, lower secondary, male (%)',\n",
       "       'Adjusted net enrolment rate, primary, both sexes (%)'],\n",
       "      dtype=object)"
      ]
     },
     "execution_count": 20,
     "metadata": {},
     "output_type": "execute_result"
    }
   ],
   "source": [
    "indicateurs[:5]"
   ]
  },
  {
   "cell_type": "code",
   "execution_count": 21,
   "metadata": {},
   "outputs": [],
   "source": [
    "key_words = ['internet', 'young', 'education',\n",
    "             'access', 'age', 'diploma',\n",
    "             '15', 'old', '30', \n",
    "             'enrolment', 'secondary', 'primary',\n",
    "             'illiteracy', 'growth', 'professor', '']"
   ]
  },
  {
   "cell_type": "code",
   "execution_count": 22,
   "metadata": {},
   "outputs": [
    {
     "data": {
      "text/plain": [
       "1642"
      ]
     },
     "execution_count": 22,
     "metadata": {},
     "output_type": "execute_result"
    }
   ],
   "source": [
    "indicateurs_interessants = []\n",
    "\n",
    "for indicateur in indicateurs:\n",
    "    mots = indicateur.split(' ')\n",
    "    for mot in mots:\n",
    "        if mot in key_words:\n",
    "            indicateurs_interessants.append(indicateur)\n",
    "            break # pour éviter les doublons\n",
    "len(indicateurs_interessants)"
   ]
  },
  {
   "cell_type": "code",
   "execution_count": 23,
   "metadata": {},
   "outputs": [
    {
     "name": "stdout",
     "output_type": "stream",
     "text": [
      "22.4 s ± 3.85 s per loop (mean ± std. dev. of 7 runs, 1 loop each)\n"
     ]
    }
   ],
   "source": [
    "%%timeit\n",
    "def test_mapper(name):\n",
    "    if name in indicateurs_interessants:\n",
    "        return True\n",
    "    else:\n",
    "        return False\n",
    "\n",
    "data['interessant'] = data['Indicator Name_x'].map(test_mapper)"
   ]
  },
  {
   "cell_type": "code",
   "execution_count": 24,
   "metadata": {},
   "outputs": [],
   "source": [
    "data_test = data[data['interessant']]"
   ]
  },
  {
   "cell_type": "code",
   "execution_count": 25,
   "metadata": {},
   "outputs": [
    {
     "data": {
      "text/plain": [
       "(395722, 104)"
      ]
     },
     "execution_count": 25,
     "metadata": {},
     "output_type": "execute_result"
    }
   ],
   "source": [
    "data_test.shape"
   ]
  },
  {
   "cell_type": "code",
   "execution_count": 26,
   "metadata": {},
   "outputs": [
    {
     "data": {
      "text/plain": [
       "(870492, 104)"
      ]
     },
     "execution_count": 26,
     "metadata": {},
     "output_type": "execute_result"
    }
   ],
   "source": [
    "data.shape"
   ]
  },
  {
   "cell_type": "code",
   "execution_count": 27,
   "metadata": {},
   "outputs": [],
   "source": [
    "data = data_test.copy()"
   ]
  },
  {
   "cell_type": "code",
   "execution_count": 28,
   "metadata": {},
   "outputs": [],
   "source": [
    "data = data.drop(columns=['interessant'])"
   ]
  },
  {
   "cell_type": "code",
   "execution_count": 29,
   "metadata": {},
   "outputs": [
    {
     "data": {
      "text/plain": [
       "(395722, 103)"
      ]
     },
     "execution_count": 29,
     "metadata": {},
     "output_type": "execute_result"
    }
   ],
   "source": [
    "data.shape"
   ]
  },
  {
   "cell_type": "code",
   "execution_count": 30,
   "metadata": {},
   "outputs": [
    {
     "name": "stdout",
     "output_type": "stream",
     "text": [
      "Index(['Unnamed: 0', 'Country Name', 'Country Code', 'Indicator Name_x',\n",
      "       'Indicator Code', '1970', '1971', '1972', '1973', '1974',\n",
      "       ...\n",
      "       'Government Accounting concept', 'IMF data dissemination standard',\n",
      "       'Latest population census', 'Latest household survey',\n",
      "       'Source of most recent Income and expenditure data',\n",
      "       'Vital registration complete', 'Latest agricultural census',\n",
      "       'Latest industrial data', 'Latest trade data',\n",
      "       'Latest water withdrawal data'],\n",
      "      dtype='object', length=103)\n"
     ]
    }
   ],
   "source": [
    "print(data.columns)"
   ]
  },
  {
   "cell_type": "markdown",
   "metadata": {},
   "source": [
    "Il reste encore beaucoup trop de colonnes."
   ]
  },
  {
   "cell_type": "code",
   "execution_count": 31,
   "metadata": {},
   "outputs": [],
   "source": [
    "kpi_columns = data[['Indicator Name_x', 'Indicator Name_y']]"
   ]
  },
  {
   "cell_type": "code",
   "execution_count": 32,
   "metadata": {},
   "outputs": [
    {
     "data": {
      "text/html": [
       "<div>\n",
       "<style scoped>\n",
       "    .dataframe tbody tr th:only-of-type {\n",
       "        vertical-align: middle;\n",
       "    }\n",
       "\n",
       "    .dataframe tbody tr th {\n",
       "        vertical-align: top;\n",
       "    }\n",
       "\n",
       "    .dataframe thead th {\n",
       "        text-align: right;\n",
       "    }\n",
       "</style>\n",
       "<table border=\"1\" class=\"dataframe\">\n",
       "  <thead>\n",
       "    <tr style=\"text-align: right;\">\n",
       "      <th></th>\n",
       "      <th>Indicator Name_x</th>\n",
       "      <th>Indicator Name_y</th>\n",
       "    </tr>\n",
       "  </thead>\n",
       "  <tbody>\n",
       "    <tr>\n",
       "      <th>0</th>\n",
       "      <td>Adjusted net enrolment rate, lower secondary, ...</td>\n",
       "      <td>Adjusted net enrolment rate, lower secondary, ...</td>\n",
       "    </tr>\n",
       "    <tr>\n",
       "      <th>1</th>\n",
       "      <td>Adjusted net enrolment rate, lower secondary, ...</td>\n",
       "      <td>Adjusted net enrolment rate, lower secondary, ...</td>\n",
       "    </tr>\n",
       "    <tr>\n",
       "      <th>2</th>\n",
       "      <td>Adjusted net enrolment rate, lower secondary, ...</td>\n",
       "      <td>Adjusted net enrolment rate, lower secondary, ...</td>\n",
       "    </tr>\n",
       "    <tr>\n",
       "      <th>3</th>\n",
       "      <td>Adjusted net enrolment rate, lower secondary, ...</td>\n",
       "      <td>Adjusted net enrolment rate, lower secondary, ...</td>\n",
       "    </tr>\n",
       "    <tr>\n",
       "      <th>4</th>\n",
       "      <td>Adjusted net enrolment rate, primary, both sex...</td>\n",
       "      <td>Adjusted net enrolment rate, primary, both sex...</td>\n",
       "    </tr>\n",
       "    <tr>\n",
       "      <th>...</th>\n",
       "      <td>...</td>\n",
       "      <td>...</td>\n",
       "    </tr>\n",
       "    <tr>\n",
       "      <th>870464</th>\n",
       "      <td>Wittgenstein Projection: Population age 25-29 ...</td>\n",
       "      <td>Projection: Population age 25-29 in thousands ...</td>\n",
       "    </tr>\n",
       "    <tr>\n",
       "      <th>870465</th>\n",
       "      <td>Wittgenstein Projection: Population age 25-29 ...</td>\n",
       "      <td>Projection: Population age 25-29 in thousands ...</td>\n",
       "    </tr>\n",
       "    <tr>\n",
       "      <th>870466</th>\n",
       "      <td>Wittgenstein Projection: Population age 25-29 ...</td>\n",
       "      <td>Projection: Population age 25-29 in thousands ...</td>\n",
       "    </tr>\n",
       "    <tr>\n",
       "      <th>870467</th>\n",
       "      <td>Wittgenstein Projection: Population age 25-29 ...</td>\n",
       "      <td>Projection: Population age 25-29 in thousands ...</td>\n",
       "    </tr>\n",
       "    <tr>\n",
       "      <th>870468</th>\n",
       "      <td>Wittgenstein Projection: Population age 25-29 ...</td>\n",
       "      <td>Projection: Population age 25-29 in thousands ...</td>\n",
       "    </tr>\n",
       "  </tbody>\n",
       "</table>\n",
       "<p>395722 rows × 2 columns</p>\n",
       "</div>"
      ],
      "text/plain": [
       "                                         Indicator Name_x  \\\n",
       "0       Adjusted net enrolment rate, lower secondary, ...   \n",
       "1       Adjusted net enrolment rate, lower secondary, ...   \n",
       "2       Adjusted net enrolment rate, lower secondary, ...   \n",
       "3       Adjusted net enrolment rate, lower secondary, ...   \n",
       "4       Adjusted net enrolment rate, primary, both sex...   \n",
       "...                                                   ...   \n",
       "870464  Wittgenstein Projection: Population age 25-29 ...   \n",
       "870465  Wittgenstein Projection: Population age 25-29 ...   \n",
       "870466  Wittgenstein Projection: Population age 25-29 ...   \n",
       "870467  Wittgenstein Projection: Population age 25-29 ...   \n",
       "870468  Wittgenstein Projection: Population age 25-29 ...   \n",
       "\n",
       "                                         Indicator Name_y  \n",
       "0       Adjusted net enrolment rate, lower secondary, ...  \n",
       "1       Adjusted net enrolment rate, lower secondary, ...  \n",
       "2       Adjusted net enrolment rate, lower secondary, ...  \n",
       "3       Adjusted net enrolment rate, lower secondary, ...  \n",
       "4       Adjusted net enrolment rate, primary, both sex...  \n",
       "...                                                   ...  \n",
       "870464  Projection: Population age 25-29 in thousands ...  \n",
       "870465  Projection: Population age 25-29 in thousands ...  \n",
       "870466  Projection: Population age 25-29 in thousands ...  \n",
       "870467  Projection: Population age 25-29 in thousands ...  \n",
       "870468  Projection: Population age 25-29 in thousands ...  \n",
       "\n",
       "[395722 rows x 2 columns]"
      ]
     },
     "execution_count": 32,
     "metadata": {},
     "output_type": "execute_result"
    }
   ],
   "source": [
    "kpi_columns"
   ]
  },
  {
   "cell_type": "code",
   "execution_count": 33,
   "metadata": {},
   "outputs": [],
   "source": [
    "data = data.drop(columns=['Indicator Name_y'])"
   ]
  },
  {
   "cell_type": "code",
   "execution_count": 34,
   "metadata": {},
   "outputs": [
    {
     "data": {
      "text/plain": [
       "0              0\n",
       "1              1\n",
       "2              2\n",
       "3              3\n",
       "4              4\n",
       "           ...  \n",
       "870464    870464\n",
       "870465    870465\n",
       "870466    870466\n",
       "870467    870467\n",
       "870468    870468\n",
       "Name: Unnamed: 0, Length: 395722, dtype: int64"
      ]
     },
     "execution_count": 34,
     "metadata": {},
     "output_type": "execute_result"
    }
   ],
   "source": [
    "data['Unnamed: 0']"
   ]
  },
  {
   "cell_type": "markdown",
   "metadata": {},
   "source": [
    "c'est une copie des index"
   ]
  },
  {
   "cell_type": "code",
   "execution_count": 35,
   "metadata": {},
   "outputs": [],
   "source": [
    "data = data.drop(columns=['Unnamed: 0'])"
   ]
  },
  {
   "cell_type": "markdown",
   "metadata": {},
   "source": [
    "## Evaluons le contenu de chacunes des cols"
   ]
  },
  {
   "cell_type": "code",
   "execution_count": 36,
   "metadata": {},
   "outputs": [],
   "source": [
    "useless_cols_manual = []"
   ]
  },
  {
   "cell_type": "code",
   "execution_count": 37,
   "metadata": {},
   "outputs": [
    {
     "data": {
      "text/plain": [
       "'Topic'"
      ]
     },
     "execution_count": 37,
     "metadata": {},
     "output_type": "execute_result"
    }
   ],
   "source": [
    "data.columns[69]"
   ]
  },
  {
   "cell_type": "code",
   "execution_count": 38,
   "metadata": {},
   "outputs": [
    {
     "data": {
      "text/plain": [
       "0          Secondary\n",
       "1          Secondary\n",
       "2          Secondary\n",
       "3          Secondary\n",
       "4            Primary\n",
       "             ...    \n",
       "870464    Attainment\n",
       "870465    Attainment\n",
       "870466    Attainment\n",
       "870467    Attainment\n",
       "870468    Attainment\n",
       "Name: Topic, Length: 395722, dtype: object"
      ]
     },
     "execution_count": 38,
     "metadata": {},
     "output_type": "execute_result"
    }
   ],
   "source": [
    "data.Topic"
   ]
  },
  {
   "cell_type": "code",
   "execution_count": 39,
   "metadata": {},
   "outputs": [
    {
     "data": {
      "text/plain": [
       "array(['Secondary', 'Primary', 'Teachers', 'EMIS', 'Expenditures',\n",
       "       'Attainment', 'Education Equality', 'Background', 'Tertiary',\n",
       "       'Post-Secondary/Non-Tertiary', 'Pre-Primary',\n",
       "       'Social Protection & Labor: Labor force structure',\n",
       "       'Learning Outcomes', 'Early Childhood Education',\n",
       "       'Health: Population: Dynamics', 'Population',\n",
       "       'School Autonomy and Accountability (SABER)',\n",
       "       'School Finance (SABER)', 'Teachers (SABER)'], dtype=object)"
      ]
     },
     "execution_count": 39,
     "metadata": {},
     "output_type": "execute_result"
    }
   ],
   "source": [
    "data.Topic.unique()"
   ]
  },
  {
   "cell_type": "markdown",
   "metadata": {},
   "source": [
    "Topic est interessant"
   ]
  },
  {
   "cell_type": "code",
   "execution_count": 40,
   "metadata": {},
   "outputs": [
    {
     "data": {
      "text/plain": [
       "'Short definition'"
      ]
     },
     "execution_count": 40,
     "metadata": {},
     "output_type": "execute_result"
    }
   ],
   "source": [
    "data.columns[70]"
   ]
  },
  {
   "cell_type": "code",
   "execution_count": 41,
   "metadata": {},
   "outputs": [
    {
     "data": {
      "text/plain": [
       "'Long definition'"
      ]
     },
     "execution_count": 41,
     "metadata": {},
     "output_type": "execute_result"
    }
   ],
   "source": [
    "data.columns[71]"
   ]
  },
  {
   "cell_type": "markdown",
   "metadata": {},
   "source": [
    "Je ne garde que la longue définition"
   ]
  },
  {
   "cell_type": "code",
   "execution_count": 42,
   "metadata": {},
   "outputs": [],
   "source": [
    "useless_cols_manual.append(data.columns[70])"
   ]
  },
  {
   "cell_type": "code",
   "execution_count": 43,
   "metadata": {},
   "outputs": [
    {
     "data": {
      "text/plain": [
       "['Short definition']"
      ]
     },
     "execution_count": 43,
     "metadata": {},
     "output_type": "execute_result"
    }
   ],
   "source": [
    "useless_cols_manual"
   ]
  },
  {
   "cell_type": "code",
   "execution_count": 44,
   "metadata": {},
   "outputs": [
    {
     "data": {
      "text/plain": [
       "'Source'"
      ]
     },
     "execution_count": 44,
     "metadata": {},
     "output_type": "execute_result"
    }
   ],
   "source": [
    "data.columns[72]"
   ]
  },
  {
   "cell_type": "code",
   "execution_count": 45,
   "metadata": {},
   "outputs": [
    {
     "data": {
      "text/plain": [
       "0                           UNESCO Institute for Statistics\n",
       "1                           UNESCO Institute for Statistics\n",
       "2                           UNESCO Institute for Statistics\n",
       "3                           UNESCO Institute for Statistics\n",
       "4                           UNESCO Institute for Statistics\n",
       "                                ...                        \n",
       "870464    Wittgenstein Centre for Demography and Global ...\n",
       "870465    Wittgenstein Centre for Demography and Global ...\n",
       "870466    Wittgenstein Centre for Demography and Global ...\n",
       "870467    Wittgenstein Centre for Demography and Global ...\n",
       "870468    Wittgenstein Centre for Demography and Global ...\n",
       "Name: Source, Length: 395722, dtype: object"
      ]
     },
     "execution_count": 45,
     "metadata": {},
     "output_type": "execute_result"
    }
   ],
   "source": [
    "data.Source"
   ]
  },
  {
   "cell_type": "code",
   "execution_count": 46,
   "metadata": {},
   "outputs": [
    {
     "data": {
      "text/plain": [
       "'Statistical concept and methodology'"
      ]
     },
     "execution_count": 46,
     "metadata": {},
     "output_type": "execute_result"
    }
   ],
   "source": [
    "data.columns[73]"
   ]
  },
  {
   "cell_type": "code",
   "execution_count": 47,
   "metadata": {},
   "outputs": [
    {
     "data": {
      "text/plain": [
       "0         NaN\n",
       "1         NaN\n",
       "2         NaN\n",
       "3         NaN\n",
       "4         NaN\n",
       "         ... \n",
       "870464    NaN\n",
       "870465    NaN\n",
       "870466    NaN\n",
       "870467    NaN\n",
       "870468    NaN\n",
       "Name: Statistical concept and methodology, Length: 395722, dtype: object"
      ]
     },
     "execution_count": 47,
     "metadata": {},
     "output_type": "execute_result"
    }
   ],
   "source": [
    "data['Statistical concept and methodology']"
   ]
  },
  {
   "cell_type": "code",
   "execution_count": 48,
   "metadata": {},
   "outputs": [
    {
     "data": {
      "text/plain": [
       "array([nan], dtype=object)"
      ]
     },
     "execution_count": 48,
     "metadata": {},
     "output_type": "execute_result"
    }
   ],
   "source": [
    "data['Statistical concept and methodology'].unique()"
   ]
  },
  {
   "cell_type": "code",
   "execution_count": 49,
   "metadata": {},
   "outputs": [],
   "source": [
    "useless_cols_manual.append(data.columns[73])"
   ]
  },
  {
   "cell_type": "code",
   "execution_count": 50,
   "metadata": {},
   "outputs": [
    {
     "data": {
      "text/plain": [
       "'Short Name'"
      ]
     },
     "execution_count": 50,
     "metadata": {},
     "output_type": "execute_result"
    }
   ],
   "source": [
    "data.columns[74]"
   ]
  },
  {
   "cell_type": "code",
   "execution_count": 51,
   "metadata": {},
   "outputs": [
    {
     "data": {
      "text/plain": [
       "0         Arab World\n",
       "1         Arab World\n",
       "2         Arab World\n",
       "3         Arab World\n",
       "4         Arab World\n",
       "             ...    \n",
       "870464      Zimbabwe\n",
       "870465      Zimbabwe\n",
       "870466      Zimbabwe\n",
       "870467      Zimbabwe\n",
       "870468      Zimbabwe\n",
       "Name: Short Name, Length: 395722, dtype: object"
      ]
     },
     "execution_count": 51,
     "metadata": {},
     "output_type": "execute_result"
    }
   ],
   "source": [
    "data['Short Name']"
   ]
  },
  {
   "cell_type": "code",
   "execution_count": 52,
   "metadata": {},
   "outputs": [
    {
     "data": {
      "text/plain": [
       "0         Arab World\n",
       "1         Arab World\n",
       "2         Arab World\n",
       "3         Arab World\n",
       "4         Arab World\n",
       "             ...    \n",
       "870464      Zimbabwe\n",
       "870465      Zimbabwe\n",
       "870466      Zimbabwe\n",
       "870467      Zimbabwe\n",
       "870468      Zimbabwe\n",
       "Name: Country Name, Length: 395722, dtype: object"
      ]
     },
     "execution_count": 52,
     "metadata": {},
     "output_type": "execute_result"
    }
   ],
   "source": [
    "data['Country Name']"
   ]
  },
  {
   "cell_type": "markdown",
   "metadata": {},
   "source": [
    "C'est un doublon"
   ]
  },
  {
   "cell_type": "code",
   "execution_count": 53,
   "metadata": {},
   "outputs": [],
   "source": [
    "useless_cols_manual.append(data.columns[74])"
   ]
  },
  {
   "cell_type": "code",
   "execution_count": 54,
   "metadata": {},
   "outputs": [
    {
     "data": {
      "text/plain": [
       "'Table Name'"
      ]
     },
     "execution_count": 54,
     "metadata": {},
     "output_type": "execute_result"
    }
   ],
   "source": [
    "data.columns[75]"
   ]
  },
  {
   "cell_type": "code",
   "execution_count": 55,
   "metadata": {},
   "outputs": [
    {
     "data": {
      "text/plain": [
       "0         Arab World\n",
       "1         Arab World\n",
       "2         Arab World\n",
       "3         Arab World\n",
       "4         Arab World\n",
       "             ...    \n",
       "870464      Zimbabwe\n",
       "870465      Zimbabwe\n",
       "870466      Zimbabwe\n",
       "870467      Zimbabwe\n",
       "870468      Zimbabwe\n",
       "Name: Table Name, Length: 395722, dtype: object"
      ]
     },
     "execution_count": 55,
     "metadata": {},
     "output_type": "execute_result"
    }
   ],
   "source": [
    "data[data.columns[75]]"
   ]
  },
  {
   "cell_type": "markdown",
   "metadata": {},
   "source": [
    "encore un doublon "
   ]
  },
  {
   "cell_type": "code",
   "execution_count": 56,
   "metadata": {},
   "outputs": [],
   "source": [
    "useless_cols_manual.append(data.columns[75])"
   ]
  },
  {
   "cell_type": "code",
   "execution_count": 57,
   "metadata": {},
   "outputs": [
    {
     "data": {
      "text/plain": [
       "'Long Name'"
      ]
     },
     "execution_count": 57,
     "metadata": {},
     "output_type": "execute_result"
    }
   ],
   "source": [
    "data.columns[76]"
   ]
  },
  {
   "cell_type": "code",
   "execution_count": 58,
   "metadata": {},
   "outputs": [
    {
     "data": {
      "text/plain": [
       "0                   Arab World\n",
       "1                   Arab World\n",
       "2                   Arab World\n",
       "3                   Arab World\n",
       "4                   Arab World\n",
       "                  ...         \n",
       "870464    Republic of Zimbabwe\n",
       "870465    Republic of Zimbabwe\n",
       "870466    Republic of Zimbabwe\n",
       "870467    Republic of Zimbabwe\n",
       "870468    Republic of Zimbabwe\n",
       "Name: Long Name, Length: 395722, dtype: object"
      ]
     },
     "execution_count": 58,
     "metadata": {},
     "output_type": "execute_result"
    }
   ],
   "source": [
    "data[data.columns[76]]"
   ]
  },
  {
   "cell_type": "markdown",
   "metadata": {},
   "source": [
    "encore un doublon"
   ]
  },
  {
   "cell_type": "code",
   "execution_count": 59,
   "metadata": {},
   "outputs": [],
   "source": [
    "useless_cols_manual.append(data.columns[76])"
   ]
  },
  {
   "cell_type": "code",
   "execution_count": 60,
   "metadata": {},
   "outputs": [
    {
     "data": {
      "text/plain": [
       "0         1A\n",
       "1         1A\n",
       "2         1A\n",
       "3         1A\n",
       "4         1A\n",
       "          ..\n",
       "870464    ZW\n",
       "870465    ZW\n",
       "870466    ZW\n",
       "870467    ZW\n",
       "870468    ZW\n",
       "Name: 2-alpha code, Length: 395722, dtype: object"
      ]
     },
     "execution_count": 60,
     "metadata": {},
     "output_type": "execute_result"
    }
   ],
   "source": [
    "data[data.columns[77]]"
   ]
  },
  {
   "cell_type": "code",
   "execution_count": 61,
   "metadata": {},
   "outputs": [],
   "source": [
    "useless_cols_manual.append(data.columns[77])"
   ]
  },
  {
   "cell_type": "code",
   "execution_count": 62,
   "metadata": {},
   "outputs": [
    {
     "data": {
      "text/plain": [
       "0                 NaN\n",
       "1                 NaN\n",
       "2                 NaN\n",
       "3                 NaN\n",
       "4                 NaN\n",
       "             ...     \n",
       "870464    U.S. dollar\n",
       "870465    U.S. dollar\n",
       "870466    U.S. dollar\n",
       "870467    U.S. dollar\n",
       "870468    U.S. dollar\n",
       "Name: Currency Unit, Length: 395722, dtype: object"
      ]
     },
     "execution_count": 62,
     "metadata": {},
     "output_type": "execute_result"
    }
   ],
   "source": [
    "data[data.columns[78]]"
   ]
  },
  {
   "cell_type": "code",
   "execution_count": 63,
   "metadata": {},
   "outputs": [],
   "source": [
    "useless_cols_manual.append(data.columns[78])"
   ]
  },
  {
   "cell_type": "code",
   "execution_count": 64,
   "metadata": {},
   "outputs": [
    {
     "data": {
      "text/plain": [
       "0         Arab World aggregate. Arab World is composed o...\n",
       "1         Arab World aggregate. Arab World is composed o...\n",
       "2         Arab World aggregate. Arab World is composed o...\n",
       "3         Arab World aggregate. Arab World is composed o...\n",
       "4         Arab World aggregate. Arab World is composed o...\n",
       "                                ...                        \n",
       "870464    Fiscal year end: June 30; reporting period for...\n",
       "870465    Fiscal year end: June 30; reporting period for...\n",
       "870466    Fiscal year end: June 30; reporting period for...\n",
       "870467    Fiscal year end: June 30; reporting period for...\n",
       "870468    Fiscal year end: June 30; reporting period for...\n",
       "Name: Special Notes, Length: 395722, dtype: object"
      ]
     },
     "execution_count": 64,
     "metadata": {},
     "output_type": "execute_result"
    }
   ],
   "source": [
    "data[data.columns[79]]"
   ]
  },
  {
   "cell_type": "code",
   "execution_count": 65,
   "metadata": {},
   "outputs": [
    {
     "data": {
      "text/plain": [
       "'Arab World aggregate. Arab World is composed of members of the League of Arab States.'"
      ]
     },
     "execution_count": 65,
     "metadata": {},
     "output_type": "execute_result"
    }
   ],
   "source": [
    "data[data.columns[79]][0]"
   ]
  },
  {
   "cell_type": "code",
   "execution_count": 66,
   "metadata": {},
   "outputs": [
    {
     "data": {
      "text/plain": [
       "'Fiscal year end: June 30; reporting period for national accounts data: CY. As of January 2009, multiple hard currencies, such as rand, pound sterling, euro and U.S. dollar are in use. Data are reported in U.S. dollars, the most-used currency.'"
      ]
     },
     "execution_count": 66,
     "metadata": {},
     "output_type": "execute_result"
    }
   ],
   "source": [
    "data[data.columns[79]][870466]"
   ]
  },
  {
   "cell_type": "markdown",
   "metadata": {},
   "source": [
    "Cette colonne contient des informations à propos du pays concerné par la ligne. Je décide de la garder pour l'instant"
   ]
  },
  {
   "cell_type": "code",
   "execution_count": 67,
   "metadata": {},
   "outputs": [
    {
     "data": {
      "text/plain": [
       "0                        NaN\n",
       "1                        NaN\n",
       "2                        NaN\n",
       "3                        NaN\n",
       "4                        NaN\n",
       "                 ...        \n",
       "870464    Sub-Saharan Africa\n",
       "870465    Sub-Saharan Africa\n",
       "870466    Sub-Saharan Africa\n",
       "870467    Sub-Saharan Africa\n",
       "870468    Sub-Saharan Africa\n",
       "Name: Region, Length: 395722, dtype: object"
      ]
     },
     "execution_count": 67,
     "metadata": {},
     "output_type": "execute_result"
    }
   ],
   "source": [
    "data[data.columns[80]]"
   ]
  },
  {
   "cell_type": "markdown",
   "metadata": {},
   "source": [
    "La région m'interesse dans l'idée de détecter des zones géographiques plus que des pays"
   ]
  },
  {
   "cell_type": "code",
   "execution_count": 68,
   "metadata": {},
   "outputs": [
    {
     "data": {
      "text/plain": [
       "0                NaN\n",
       "1                NaN\n",
       "2                NaN\n",
       "3                NaN\n",
       "4                NaN\n",
       "             ...    \n",
       "870464    Low income\n",
       "870465    Low income\n",
       "870466    Low income\n",
       "870467    Low income\n",
       "870468    Low income\n",
       "Name: Income Group, Length: 395722, dtype: object"
      ]
     },
     "execution_count": 68,
     "metadata": {},
     "output_type": "execute_result"
    }
   ],
   "source": [
    "data[data.columns[81]]"
   ]
  },
  {
   "cell_type": "code",
   "execution_count": 69,
   "metadata": {},
   "outputs": [
    {
     "data": {
      "text/plain": [
       "array([nan, 'Low income', 'Upper middle income', 'High income: nonOECD',\n",
       "       'Lower middle income', 'High income: OECD'], dtype=object)"
      ]
     },
     "execution_count": 69,
     "metadata": {},
     "output_type": "execute_result"
    }
   ],
   "source": [
    "data[data.columns[81]].unique()"
   ]
  },
  {
   "cell_type": "code",
   "execution_count": 70,
   "metadata": {},
   "outputs": [
    {
     "data": {
      "text/plain": [
       "0         1A\n",
       "1         1A\n",
       "2         1A\n",
       "3         1A\n",
       "4         1A\n",
       "          ..\n",
       "870464    ZW\n",
       "870465    ZW\n",
       "870466    ZW\n",
       "870467    ZW\n",
       "870468    ZW\n",
       "Name: WB-2 code, Length: 395722, dtype: object"
      ]
     },
     "execution_count": 70,
     "metadata": {},
     "output_type": "execute_result"
    }
   ],
   "source": [
    "data[data.columns[82]]"
   ]
  },
  {
   "cell_type": "code",
   "execution_count": 71,
   "metadata": {},
   "outputs": [],
   "source": [
    "useless_cols_manual.append(data.columns[82])"
   ]
  },
  {
   "cell_type": "code",
   "execution_count": 72,
   "metadata": {},
   "outputs": [
    {
     "data": {
      "text/plain": [
       "0          NaN\n",
       "1          NaN\n",
       "2          NaN\n",
       "3          NaN\n",
       "4          NaN\n",
       "          ... \n",
       "870464    2009\n",
       "870465    2009\n",
       "870466    2009\n",
       "870467    2009\n",
       "870468    2009\n",
       "Name: National accounts base year, Length: 395722, dtype: object"
      ]
     },
     "execution_count": 72,
     "metadata": {},
     "output_type": "execute_result"
    }
   ],
   "source": [
    "data[data.columns[83]]"
   ]
  },
  {
   "cell_type": "code",
   "execution_count": 73,
   "metadata": {},
   "outputs": [],
   "source": [
    "useless_cols_manual.append(data.columns[83])"
   ]
  },
  {
   "cell_type": "code",
   "execution_count": 74,
   "metadata": {},
   "outputs": [
    {
     "data": {
      "text/plain": [
       "0                                       NaN\n",
       "1                                       NaN\n",
       "2                                       NaN\n",
       "3                                       NaN\n",
       "4                                       NaN\n",
       "                        ...                \n",
       "870464    Value added at basic prices (VAB)\n",
       "870465    Value added at basic prices (VAB)\n",
       "870466    Value added at basic prices (VAB)\n",
       "870467    Value added at basic prices (VAB)\n",
       "870468    Value added at basic prices (VAB)\n",
       "Name: SNA price valuation, Length: 395722, dtype: object"
      ]
     },
     "execution_count": 74,
     "metadata": {},
     "output_type": "execute_result"
    }
   ],
   "source": [
    "data[data.columns[84]]"
   ]
  },
  {
   "cell_type": "code",
   "execution_count": 75,
   "metadata": {},
   "outputs": [
    {
     "data": {
      "text/plain": [
       "array([nan, 'Value added at basic prices (VAB)',\n",
       "       'Value added at producer prices (VAP)'], dtype=object)"
      ]
     },
     "execution_count": 75,
     "metadata": {},
     "output_type": "execute_result"
    }
   ],
   "source": [
    "data[data.columns[84]].unique()"
   ]
  },
  {
   "cell_type": "code",
   "execution_count": 76,
   "metadata": {},
   "outputs": [],
   "source": [
    "useless_cols_manual.append(data.columns[84])"
   ]
  },
  {
   "cell_type": "code",
   "execution_count": 77,
   "metadata": {},
   "outputs": [
    {
     "data": {
      "text/plain": [
       "0           NaN\n",
       "1           NaN\n",
       "2           NaN\n",
       "3           NaN\n",
       "4           NaN\n",
       "          ...  \n",
       "870464    Blend\n",
       "870465    Blend\n",
       "870466    Blend\n",
       "870467    Blend\n",
       "870468    Blend\n",
       "Name: Lending category, Length: 395722, dtype: object"
      ]
     },
     "execution_count": 77,
     "metadata": {},
     "output_type": "execute_result"
    }
   ],
   "source": [
    "data[data.columns[85]]"
   ]
  },
  {
   "cell_type": "code",
   "execution_count": 78,
   "metadata": {},
   "outputs": [
    {
     "data": {
      "text/plain": [
       "array([nan, 'IDA', 'IBRD', 'Blend'], dtype=object)"
      ]
     },
     "execution_count": 78,
     "metadata": {},
     "output_type": "execute_result"
    }
   ],
   "source": [
    "data[data.columns[85]].unique()"
   ]
  },
  {
   "cell_type": "markdown",
   "metadata": {},
   "source": [
    "Lending veut dire prêt. Cette donnée n'apporte rien"
   ]
  },
  {
   "cell_type": "code",
   "execution_count": 79,
   "metadata": {},
   "outputs": [],
   "source": [
    "useless_cols_manual.append(data.columns[85])"
   ]
  },
  {
   "cell_type": "code",
   "execution_count": 80,
   "metadata": {},
   "outputs": [
    {
     "data": {
      "text/plain": [
       "0                                                       NaN\n",
       "1                                                       NaN\n",
       "2                                                       NaN\n",
       "3                                                       NaN\n",
       "4                                                       NaN\n",
       "                                ...                        \n",
       "870464    Country uses the 1993 System of National Accou...\n",
       "870465    Country uses the 1993 System of National Accou...\n",
       "870466    Country uses the 1993 System of National Accou...\n",
       "870467    Country uses the 1993 System of National Accou...\n",
       "870468    Country uses the 1993 System of National Accou...\n",
       "Name: System of National Accounts, Length: 395722, dtype: object"
      ]
     },
     "execution_count": 80,
     "metadata": {},
     "output_type": "execute_result"
    }
   ],
   "source": [
    "data[data.columns[86]]"
   ]
  },
  {
   "cell_type": "code",
   "execution_count": 81,
   "metadata": {},
   "outputs": [],
   "source": [
    "useless_cols_manual.append(data.columns[86])"
   ]
  },
  {
   "cell_type": "code",
   "execution_count": 82,
   "metadata": {},
   "outputs": [
    {
     "data": {
      "text/plain": [
       "0          NaN\n",
       "1          NaN\n",
       "2          NaN\n",
       "3          NaN\n",
       "4          NaN\n",
       "          ... \n",
       "870464    2005\n",
       "870465    2005\n",
       "870466    2005\n",
       "870467    2005\n",
       "870468    2005\n",
       "Name: PPP survey year, Length: 395722, dtype: object"
      ]
     },
     "execution_count": 82,
     "metadata": {},
     "output_type": "execute_result"
    }
   ],
   "source": [
    "data[data.columns[87]]"
   ]
  },
  {
   "cell_type": "code",
   "execution_count": 83,
   "metadata": {},
   "outputs": [],
   "source": [
    "useless_cols_manual.append(data.columns[87])"
   ]
  },
  {
   "cell_type": "code",
   "execution_count": 84,
   "metadata": {},
   "outputs": [
    {
     "data": {
      "text/plain": [
       "0                                                  NaN\n",
       "1                                                  NaN\n",
       "2                                                  NaN\n",
       "3                                                  NaN\n",
       "4                                                  NaN\n",
       "                              ...                     \n",
       "870464    IMF Balance of Payments Manual, 6th edition.\n",
       "870465    IMF Balance of Payments Manual, 6th edition.\n",
       "870466    IMF Balance of Payments Manual, 6th edition.\n",
       "870467    IMF Balance of Payments Manual, 6th edition.\n",
       "870468    IMF Balance of Payments Manual, 6th edition.\n",
       "Name: Balance of Payments Manual in use, Length: 395722, dtype: object"
      ]
     },
     "execution_count": 84,
     "metadata": {},
     "output_type": "execute_result"
    }
   ],
   "source": [
    "data[data.columns[88]]"
   ]
  },
  {
   "cell_type": "code",
   "execution_count": 85,
   "metadata": {},
   "outputs": [],
   "source": [
    "useless_cols_manual.append(data.columns[88])"
   ]
  },
  {
   "cell_type": "code",
   "execution_count": 86,
   "metadata": {},
   "outputs": [
    {
     "data": {
      "text/plain": [
       "0            NaN\n",
       "1            NaN\n",
       "2            NaN\n",
       "3            NaN\n",
       "4            NaN\n",
       "           ...  \n",
       "870464    Actual\n",
       "870465    Actual\n",
       "870466    Actual\n",
       "870467    Actual\n",
       "870468    Actual\n",
       "Name: External debt Reporting status, Length: 395722, dtype: object"
      ]
     },
     "execution_count": 86,
     "metadata": {},
     "output_type": "execute_result"
    }
   ],
   "source": [
    "data[data.columns[89]]"
   ]
  },
  {
   "cell_type": "code",
   "execution_count": 87,
   "metadata": {},
   "outputs": [],
   "source": [
    "useless_cols_manual.append(data.columns[89])"
   ]
  },
  {
   "cell_type": "code",
   "execution_count": 88,
   "metadata": {},
   "outputs": [
    {
     "data": {
      "text/plain": [
       "0                          NaN\n",
       "1                          NaN\n",
       "2                          NaN\n",
       "3                          NaN\n",
       "4                          NaN\n",
       "                  ...         \n",
       "870464    General trade system\n",
       "870465    General trade system\n",
       "870466    General trade system\n",
       "870467    General trade system\n",
       "870468    General trade system\n",
       "Name: System of trade, Length: 395722, dtype: object"
      ]
     },
     "execution_count": 88,
     "metadata": {},
     "output_type": "execute_result"
    }
   ],
   "source": [
    "data[data.columns[90]]"
   ]
  },
  {
   "cell_type": "code",
   "execution_count": 89,
   "metadata": {},
   "outputs": [
    {
     "data": {
      "text/plain": [
       "array([nan, 'General trade system', 'Special trade system'], dtype=object)"
      ]
     },
     "execution_count": 89,
     "metadata": {},
     "output_type": "execute_result"
    }
   ],
   "source": [
    "data[data.columns[90]].unique()"
   ]
  },
  {
   "cell_type": "code",
   "execution_count": 90,
   "metadata": {},
   "outputs": [],
   "source": [
    "useless_cols_manual.append(data.columns[90])"
   ]
  },
  {
   "cell_type": "code",
   "execution_count": 91,
   "metadata": {},
   "outputs": [
    {
     "data": {
      "text/plain": [
       "0                                     NaN\n",
       "1                                     NaN\n",
       "2                                     NaN\n",
       "3                                     NaN\n",
       "4                                     NaN\n",
       "                       ...               \n",
       "870464    Consolidated central government\n",
       "870465    Consolidated central government\n",
       "870466    Consolidated central government\n",
       "870467    Consolidated central government\n",
       "870468    Consolidated central government\n",
       "Name: Government Accounting concept, Length: 395722, dtype: object"
      ]
     },
     "execution_count": 91,
     "metadata": {},
     "output_type": "execute_result"
    }
   ],
   "source": [
    "data[data.columns[91]]"
   ]
  },
  {
   "cell_type": "code",
   "execution_count": 92,
   "metadata": {},
   "outputs": [],
   "source": [
    "useless_cols_manual.append(data.columns[91])"
   ]
  },
  {
   "cell_type": "code",
   "execution_count": 93,
   "metadata": {},
   "outputs": [
    {
     "data": {
      "text/plain": [
       "0                                              NaN\n",
       "1                                              NaN\n",
       "2                                              NaN\n",
       "3                                              NaN\n",
       "4                                              NaN\n",
       "                            ...                   \n",
       "870464    General Data Dissemination System (GDDS)\n",
       "870465    General Data Dissemination System (GDDS)\n",
       "870466    General Data Dissemination System (GDDS)\n",
       "870467    General Data Dissemination System (GDDS)\n",
       "870468    General Data Dissemination System (GDDS)\n",
       "Name: IMF data dissemination standard, Length: 395722, dtype: object"
      ]
     },
     "execution_count": 93,
     "metadata": {},
     "output_type": "execute_result"
    }
   ],
   "source": [
    "data[data.columns[92]]"
   ]
  },
  {
   "cell_type": "code",
   "execution_count": 94,
   "metadata": {},
   "outputs": [
    {
     "data": {
      "text/plain": [
       "array([nan, 'General Data Dissemination System (GDDS)',\n",
       "       'Special Data Dissemination Standard (SDDS)'], dtype=object)"
      ]
     },
     "execution_count": 94,
     "metadata": {},
     "output_type": "execute_result"
    }
   ],
   "source": [
    "data[data.columns[92]].unique()"
   ]
  },
  {
   "cell_type": "code",
   "execution_count": 95,
   "metadata": {},
   "outputs": [],
   "source": [
    "useless_cols_manual.append(data.columns[92])"
   ]
  },
  {
   "cell_type": "code",
   "execution_count": 96,
   "metadata": {},
   "outputs": [
    {
     "data": {
      "text/plain": [
       "0          NaN\n",
       "1          NaN\n",
       "2          NaN\n",
       "3          NaN\n",
       "4          NaN\n",
       "          ... \n",
       "870464    2012\n",
       "870465    2012\n",
       "870466    2012\n",
       "870467    2012\n",
       "870468    2012\n",
       "Name: Latest population census, Length: 395722, dtype: object"
      ]
     },
     "execution_count": 96,
     "metadata": {},
     "output_type": "execute_result"
    }
   ],
   "source": [
    "data[data.columns[93]]"
   ]
  },
  {
   "cell_type": "code",
   "execution_count": 97,
   "metadata": {},
   "outputs": [
    {
     "data": {
      "text/plain": [
       "array([nan, 1979.0, 2011.0, 2008.0, '2008', '2010',\n",
       "       '2011. Population figures compiled from administrative registers.',\n",
       "       '1970', '2011', 2010, '2009', 2009, 2013, 2005, 2012, 2006, 2003,\n",
       "       '2003', 'Guernsey: 2009; Jersey: 2011.', '2012', 1984, 2007, 1998,\n",
       "       2002, '2006. Rolling census based on continuous sample survey.',\n",
       "       '2007', 1996, '2013',\n",
       "       '2011. The population censuses for 1986 and 1996 were based on a one-in-seven sample of the population, while that for 2006 was based on a one-in-ten sample of the population.',\n",
       "       1997, 2004, 1970, 1993, 1983.0, '1987', 1987, 2001, 1989],\n",
       "      dtype=object)"
      ]
     },
     "execution_count": 97,
     "metadata": {},
     "output_type": "execute_result"
    }
   ],
   "source": [
    "data[data.columns[93]].unique()"
   ]
  },
  {
   "cell_type": "markdown",
   "metadata": {},
   "source": [
    "Cette colonne est interessante mais elle necessite un nettoyage"
   ]
  },
  {
   "cell_type": "code",
   "execution_count": 98,
   "metadata": {},
   "outputs": [
    {
     "data": {
      "text/plain": [
       "0                                                  NaN\n",
       "1                                                  NaN\n",
       "2                                                  NaN\n",
       "3                                                  NaN\n",
       "4                                                  NaN\n",
       "                              ...                     \n",
       "870464    Demographic and Health Survey (DHS), 2010/11\n",
       "870465    Demographic and Health Survey (DHS), 2010/11\n",
       "870466    Demographic and Health Survey (DHS), 2010/11\n",
       "870467    Demographic and Health Survey (DHS), 2010/11\n",
       "870468    Demographic and Health Survey (DHS), 2010/11\n",
       "Name: Latest household survey, Length: 395722, dtype: object"
      ]
     },
     "execution_count": 98,
     "metadata": {},
     "output_type": "execute_result"
    }
   ],
   "source": [
    "data[data.columns[94]]"
   ]
  },
  {
   "cell_type": "code",
   "execution_count": 99,
   "metadata": {},
   "outputs": [],
   "source": [
    "useless_cols_manual.append(data.columns[94])"
   ]
  },
  {
   "cell_type": "code",
   "execution_count": 100,
   "metadata": {},
   "outputs": [
    {
     "data": {
      "text/plain": [
       "0                                                NaN\n",
       "1                                                NaN\n",
       "2                                                NaN\n",
       "3                                                NaN\n",
       "4                                                NaN\n",
       "                             ...                    \n",
       "870464    Integrated household survey (IHS), 2011/12\n",
       "870465    Integrated household survey (IHS), 2011/12\n",
       "870466    Integrated household survey (IHS), 2011/12\n",
       "870467    Integrated household survey (IHS), 2011/12\n",
       "870468    Integrated household survey (IHS), 2011/12\n",
       "Name: Source of most recent Income and expenditure data, Length: 395722, dtype: object"
      ]
     },
     "execution_count": 100,
     "metadata": {},
     "output_type": "execute_result"
    }
   ],
   "source": [
    "data[data.columns[95]]"
   ]
  },
  {
   "cell_type": "code",
   "execution_count": 101,
   "metadata": {},
   "outputs": [],
   "source": [
    "useless_cols_manual.append(data.columns[95])"
   ]
  },
  {
   "cell_type": "code",
   "execution_count": 102,
   "metadata": {},
   "outputs": [
    {
     "data": {
      "text/plain": [
       "0         NaN\n",
       "1         NaN\n",
       "2         NaN\n",
       "3         NaN\n",
       "4         NaN\n",
       "         ... \n",
       "870464    NaN\n",
       "870465    NaN\n",
       "870466    NaN\n",
       "870467    NaN\n",
       "870468    NaN\n",
       "Name: Vital registration complete, Length: 395722, dtype: object"
      ]
     },
     "execution_count": 102,
     "metadata": {},
     "output_type": "execute_result"
    }
   ],
   "source": [
    "data[data.columns[96]]"
   ]
  },
  {
   "cell_type": "code",
   "execution_count": 103,
   "metadata": {},
   "outputs": [
    {
     "data": {
      "text/plain": [
       "array([nan, 'Yes', 'Yes. Vital registration for Guernsey and Jersey.'],\n",
       "      dtype=object)"
      ]
     },
     "execution_count": 103,
     "metadata": {},
     "output_type": "execute_result"
    }
   ],
   "source": [
    "data[data.columns[96]].unique()"
   ]
  },
  {
   "cell_type": "markdown",
   "metadata": {},
   "source": [
    "Que des 'yes' ou NaN. On supprime"
   ]
  },
  {
   "cell_type": "code",
   "execution_count": 104,
   "metadata": {},
   "outputs": [],
   "source": [
    "useless_cols_manual.append(data.columns[96])"
   ]
  },
  {
   "cell_type": "code",
   "execution_count": 105,
   "metadata": {},
   "outputs": [
    {
     "data": {
      "text/plain": [
       "0         NaN\n",
       "1         NaN\n",
       "2         NaN\n",
       "3         NaN\n",
       "4         NaN\n",
       "         ... \n",
       "870464    NaN\n",
       "870465    NaN\n",
       "870466    NaN\n",
       "870467    NaN\n",
       "870468    NaN\n",
       "Name: Latest agricultural census, Length: 395722, dtype: object"
      ]
     },
     "execution_count": 105,
     "metadata": {},
     "output_type": "execute_result"
    }
   ],
   "source": [
    "data[data.columns[97]]"
   ]
  },
  {
   "cell_type": "code",
   "execution_count": 106,
   "metadata": {},
   "outputs": [],
   "source": [
    "useless_cols_manual.append(data.columns[97])"
   ]
  },
  {
   "cell_type": "code",
   "execution_count": 107,
   "metadata": {},
   "outputs": [
    {
     "data": {
      "text/plain": [
       "0        NaN\n",
       "1        NaN\n",
       "2        NaN\n",
       "3        NaN\n",
       "4        NaN\n",
       "          ..\n",
       "870464   NaN\n",
       "870465   NaN\n",
       "870466   NaN\n",
       "870467   NaN\n",
       "870468   NaN\n",
       "Name: Latest industrial data, Length: 395722, dtype: float64"
      ]
     },
     "execution_count": 107,
     "metadata": {},
     "output_type": "execute_result"
    }
   ],
   "source": [
    "data[data.columns[98]]"
   ]
  },
  {
   "cell_type": "code",
   "execution_count": 108,
   "metadata": {},
   "outputs": [],
   "source": [
    "useless_cols_manual.append(data.columns[98])"
   ]
  },
  {
   "cell_type": "code",
   "execution_count": 109,
   "metadata": {},
   "outputs": [
    {
     "data": {
      "text/plain": [
       "0            NaN\n",
       "1            NaN\n",
       "2            NaN\n",
       "3            NaN\n",
       "4            NaN\n",
       "           ...  \n",
       "870464    2012.0\n",
       "870465    2012.0\n",
       "870466    2012.0\n",
       "870467    2012.0\n",
       "870468    2012.0\n",
       "Name: Latest trade data, Length: 395722, dtype: float64"
      ]
     },
     "execution_count": 109,
     "metadata": {},
     "output_type": "execute_result"
    }
   ],
   "source": [
    "data[data.columns[99]]"
   ]
  },
  {
   "cell_type": "code",
   "execution_count": 110,
   "metadata": {},
   "outputs": [],
   "source": [
    "useless_cols_manual.append(data.columns[99])"
   ]
  },
  {
   "cell_type": "code",
   "execution_count": 111,
   "metadata": {},
   "outputs": [
    {
     "data": {
      "text/plain": [
       "0          NaN\n",
       "1          NaN\n",
       "2          NaN\n",
       "3          NaN\n",
       "4          NaN\n",
       "          ... \n",
       "870464    2002\n",
       "870465    2002\n",
       "870466    2002\n",
       "870467    2002\n",
       "870468    2002\n",
       "Name: Latest water withdrawal data, Length: 395722, dtype: object"
      ]
     },
     "execution_count": 111,
     "metadata": {},
     "output_type": "execute_result"
    }
   ],
   "source": [
    "data[data.columns[100]]"
   ]
  },
  {
   "cell_type": "code",
   "execution_count": 112,
   "metadata": {},
   "outputs": [],
   "source": [
    "useless_cols_manual.append(data.columns[100])"
   ]
  },
  {
   "cell_type": "code",
   "execution_count": 113,
   "metadata": {},
   "outputs": [
    {
     "data": {
      "text/plain": [
       "['Short definition',\n",
       " 'Statistical concept and methodology',\n",
       " 'Short Name',\n",
       " 'Table Name',\n",
       " 'Long Name',\n",
       " '2-alpha code',\n",
       " 'Currency Unit',\n",
       " 'WB-2 code',\n",
       " 'National accounts base year',\n",
       " 'SNA price valuation',\n",
       " 'Lending category',\n",
       " 'System of National Accounts',\n",
       " 'PPP survey year',\n",
       " 'Balance of Payments Manual in use',\n",
       " 'External debt Reporting status',\n",
       " 'System of trade',\n",
       " 'Government Accounting concept',\n",
       " 'IMF data dissemination standard',\n",
       " 'Latest household survey',\n",
       " 'Source of most recent Income and expenditure data',\n",
       " 'Vital registration complete',\n",
       " 'Latest agricultural census',\n",
       " 'Latest industrial data',\n",
       " 'Latest trade data',\n",
       " 'Latest water withdrawal data']"
      ]
     },
     "execution_count": 113,
     "metadata": {},
     "output_type": "execute_result"
    }
   ],
   "source": [
    "useless_cols_manual "
   ]
  },
  {
   "cell_type": "code",
   "execution_count": 114,
   "metadata": {},
   "outputs": [],
   "source": [
    "data = data.drop(columns=useless_cols_manual)"
   ]
  },
  {
   "cell_type": "code",
   "execution_count": 115,
   "metadata": {},
   "outputs": [
    {
     "data": {
      "text/plain": [
       "(395722, 76)"
      ]
     },
     "execution_count": 115,
     "metadata": {},
     "output_type": "execute_result"
    }
   ],
   "source": [
    "data.shape"
   ]
  },
  {
   "cell_type": "markdown",
   "metadata": {},
   "source": [
    "### Explorons le taux de remplissage des colonnes années"
   ]
  },
  {
   "cell_type": "markdown",
   "metadata": {},
   "source": [
    "Il y a deux types de données pour les indicateurs par années. Il y a les données collectées (passé) et les données pour le future qui sont des predictions"
   ]
  },
  {
   "cell_type": "code",
   "execution_count": 123,
   "metadata": {},
   "outputs": [],
   "source": [
    "describe = data.describe()"
   ]
  },
  {
   "cell_type": "code",
   "execution_count": 124,
   "metadata": {},
   "outputs": [
    {
     "data": {
      "text/html": [
       "<div>\n",
       "<style scoped>\n",
       "    .dataframe tbody tr th:only-of-type {\n",
       "        vertical-align: middle;\n",
       "    }\n",
       "\n",
       "    .dataframe tbody tr th {\n",
       "        vertical-align: top;\n",
       "    }\n",
       "\n",
       "    .dataframe thead th {\n",
       "        text-align: right;\n",
       "    }\n",
       "</style>\n",
       "<table border=\"1\" class=\"dataframe\">\n",
       "  <thead>\n",
       "    <tr style=\"text-align: right;\">\n",
       "      <th></th>\n",
       "      <th>1970</th>\n",
       "      <th>1971</th>\n",
       "      <th>1972</th>\n",
       "      <th>1973</th>\n",
       "      <th>1974</th>\n",
       "      <th>1975</th>\n",
       "      <th>1976</th>\n",
       "      <th>1977</th>\n",
       "      <th>1978</th>\n",
       "      <th>1979</th>\n",
       "      <th>...</th>\n",
       "      <th>2055</th>\n",
       "      <th>2060</th>\n",
       "      <th>2065</th>\n",
       "      <th>2070</th>\n",
       "      <th>2075</th>\n",
       "      <th>2080</th>\n",
       "      <th>2085</th>\n",
       "      <th>2090</th>\n",
       "      <th>2095</th>\n",
       "      <th>2100</th>\n",
       "    </tr>\n",
       "  </thead>\n",
       "  <tbody>\n",
       "    <tr>\n",
       "      <th>count</th>\n",
       "      <td>6.652000e+04</td>\n",
       "      <td>2.770600e+04</td>\n",
       "      <td>2.789800e+04</td>\n",
       "      <td>2.774100e+04</td>\n",
       "      <td>2.796500e+04</td>\n",
       "      <td>7.935500e+04</td>\n",
       "      <td>2.929000e+04</td>\n",
       "      <td>2.954900e+04</td>\n",
       "      <td>2.953700e+04</td>\n",
       "      <td>2.863700e+04</td>\n",
       "      <td>...</td>\n",
       "      <td>39078.000000</td>\n",
       "      <td>39078.000000</td>\n",
       "      <td>39078.00000</td>\n",
       "      <td>39078.000000</td>\n",
       "      <td>39078.000000</td>\n",
       "      <td>39078.000000</td>\n",
       "      <td>39078.000000</td>\n",
       "      <td>39078.000000</td>\n",
       "      <td>39078.000000</td>\n",
       "      <td>39078.000000</td>\n",
       "    </tr>\n",
       "    <tr>\n",
       "      <th>mean</th>\n",
       "      <td>6.290497e+05</td>\n",
       "      <td>1.565242e+06</td>\n",
       "      <td>1.594163e+06</td>\n",
       "      <td>1.652208e+06</td>\n",
       "      <td>1.681766e+06</td>\n",
       "      <td>6.078194e+05</td>\n",
       "      <td>1.693425e+06</td>\n",
       "      <td>1.738987e+06</td>\n",
       "      <td>1.793620e+06</td>\n",
       "      <td>1.912977e+06</td>\n",
       "      <td>...</td>\n",
       "      <td>177.836012</td>\n",
       "      <td>175.451029</td>\n",
       "      <td>172.26560</td>\n",
       "      <td>168.051019</td>\n",
       "      <td>163.077514</td>\n",
       "      <td>158.014110</td>\n",
       "      <td>153.281060</td>\n",
       "      <td>148.722589</td>\n",
       "      <td>143.940350</td>\n",
       "      <td>138.715487</td>\n",
       "    </tr>\n",
       "    <tr>\n",
       "      <th>std</th>\n",
       "      <td>7.952526e+06</td>\n",
       "      <td>1.255419e+07</td>\n",
       "      <td>1.284705e+07</td>\n",
       "      <td>1.328497e+07</td>\n",
       "      <td>1.356833e+07</td>\n",
       "      <td>8.303667e+06</td>\n",
       "      <td>1.395698e+07</td>\n",
       "      <td>1.443706e+07</td>\n",
       "      <td>1.492402e+07</td>\n",
       "      <td>1.550226e+07</td>\n",
       "      <td>...</td>\n",
       "      <td>3710.852786</td>\n",
       "      <td>3727.457754</td>\n",
       "      <td>3718.50334</td>\n",
       "      <td>3680.218768</td>\n",
       "      <td>3617.603800</td>\n",
       "      <td>3546.594567</td>\n",
       "      <td>3477.266798</td>\n",
       "      <td>3406.988971</td>\n",
       "      <td>3326.946673</td>\n",
       "      <td>3231.418190</td>\n",
       "    </tr>\n",
       "    <tr>\n",
       "      <th>min</th>\n",
       "      <td>-1.435564e+00</td>\n",
       "      <td>-1.594625e+00</td>\n",
       "      <td>-3.056522e+00</td>\n",
       "      <td>-4.032582e+00</td>\n",
       "      <td>-4.213563e+00</td>\n",
       "      <td>-3.658569e+00</td>\n",
       "      <td>-2.950945e+00</td>\n",
       "      <td>-3.174870e+00</td>\n",
       "      <td>-3.558749e+00</td>\n",
       "      <td>-2.973612e+00</td>\n",
       "      <td>...</td>\n",
       "      <td>0.000000</td>\n",
       "      <td>0.000000</td>\n",
       "      <td>0.00000</td>\n",
       "      <td>0.000000</td>\n",
       "      <td>0.000000</td>\n",
       "      <td>0.000000</td>\n",
       "      <td>0.000000</td>\n",
       "      <td>0.000000</td>\n",
       "      <td>0.000000</td>\n",
       "      <td>0.000000</td>\n",
       "    </tr>\n",
       "    <tr>\n",
       "      <th>25%</th>\n",
       "      <td>7.600000e-01</td>\n",
       "      <td>1.099594e+01</td>\n",
       "      <td>1.125391e+01</td>\n",
       "      <td>1.167945e+01</td>\n",
       "      <td>1.178511e+01</td>\n",
       "      <td>1.300000e+00</td>\n",
       "      <td>1.121230e+01</td>\n",
       "      <td>1.129032e+01</td>\n",
       "      <td>1.159696e+01</td>\n",
       "      <td>1.170576e+01</td>\n",
       "      <td>...</td>\n",
       "      <td>0.020000</td>\n",
       "      <td>0.020000</td>\n",
       "      <td>0.01000</td>\n",
       "      <td>0.010000</td>\n",
       "      <td>0.010000</td>\n",
       "      <td>0.010000</td>\n",
       "      <td>0.000000</td>\n",
       "      <td>0.000000</td>\n",
       "      <td>0.000000</td>\n",
       "      <td>0.000000</td>\n",
       "    </tr>\n",
       "    <tr>\n",
       "      <th>50%</th>\n",
       "      <td>5.585330e+00</td>\n",
       "      <td>6.503040e+01</td>\n",
       "      <td>6.965491e+01</td>\n",
       "      <td>7.166677e+01</td>\n",
       "      <td>7.310704e+01</td>\n",
       "      <td>8.640000e+00</td>\n",
       "      <td>7.313044e+01</td>\n",
       "      <td>7.275707e+01</td>\n",
       "      <td>7.402010e+01</td>\n",
       "      <td>7.646471e+01</td>\n",
       "      <td>...</td>\n",
       "      <td>0.150000</td>\n",
       "      <td>0.150000</td>\n",
       "      <td>0.15000</td>\n",
       "      <td>0.140000</td>\n",
       "      <td>0.140000</td>\n",
       "      <td>0.130000</td>\n",
       "      <td>0.120000</td>\n",
       "      <td>0.110000</td>\n",
       "      <td>0.100000</td>\n",
       "      <td>0.100000</td>\n",
       "    </tr>\n",
       "    <tr>\n",
       "      <th>75%</th>\n",
       "      <td>4.918288e+01</td>\n",
       "      <td>4.099575e+04</td>\n",
       "      <td>4.172500e+04</td>\n",
       "      <td>4.488700e+04</td>\n",
       "      <td>4.595100e+04</td>\n",
       "      <td>6.455620e+01</td>\n",
       "      <td>3.838875e+04</td>\n",
       "      <td>3.853800e+04</td>\n",
       "      <td>3.987600e+04</td>\n",
       "      <td>4.384200e+04</td>\n",
       "      <td>...</td>\n",
       "      <td>0.470000</td>\n",
       "      <td>0.480000</td>\n",
       "      <td>0.48000</td>\n",
       "      <td>0.480000</td>\n",
       "      <td>0.490000</td>\n",
       "      <td>0.490000</td>\n",
       "      <td>0.500000</td>\n",
       "      <td>0.500000</td>\n",
       "      <td>0.500000</td>\n",
       "      <td>0.500000</td>\n",
       "    </tr>\n",
       "    <tr>\n",
       "      <th>max</th>\n",
       "      <td>4.557170e+08</td>\n",
       "      <td>4.624530e+08</td>\n",
       "      <td>4.710336e+08</td>\n",
       "      <td>4.817901e+08</td>\n",
       "      <td>4.922423e+08</td>\n",
       "      <td>5.018025e+08</td>\n",
       "      <td>5.136911e+08</td>\n",
       "      <td>5.425503e+08</td>\n",
       "      <td>5.731843e+08</td>\n",
       "      <td>5.868360e+08</td>\n",
       "      <td>...</td>\n",
       "      <td>296385.020000</td>\n",
       "      <td>298919.310000</td>\n",
       "      <td>298400.94000</td>\n",
       "      <td>294214.750000</td>\n",
       "      <td>287515.290000</td>\n",
       "      <td>279805.970000</td>\n",
       "      <td>272636.500000</td>\n",
       "      <td>265534.890000</td>\n",
       "      <td>256931.870000</td>\n",
       "      <td>246990.270000</td>\n",
       "    </tr>\n",
       "  </tbody>\n",
       "</table>\n",
       "<p>8 rows × 65 columns</p>\n",
       "</div>"
      ],
      "text/plain": [
       "               1970          1971          1972          1973          1974  \\\n",
       "count  6.652000e+04  2.770600e+04  2.789800e+04  2.774100e+04  2.796500e+04   \n",
       "mean   6.290497e+05  1.565242e+06  1.594163e+06  1.652208e+06  1.681766e+06   \n",
       "std    7.952526e+06  1.255419e+07  1.284705e+07  1.328497e+07  1.356833e+07   \n",
       "min   -1.435564e+00 -1.594625e+00 -3.056522e+00 -4.032582e+00 -4.213563e+00   \n",
       "25%    7.600000e-01  1.099594e+01  1.125391e+01  1.167945e+01  1.178511e+01   \n",
       "50%    5.585330e+00  6.503040e+01  6.965491e+01  7.166677e+01  7.310704e+01   \n",
       "75%    4.918288e+01  4.099575e+04  4.172500e+04  4.488700e+04  4.595100e+04   \n",
       "max    4.557170e+08  4.624530e+08  4.710336e+08  4.817901e+08  4.922423e+08   \n",
       "\n",
       "               1975          1976          1977          1978          1979  \\\n",
       "count  7.935500e+04  2.929000e+04  2.954900e+04  2.953700e+04  2.863700e+04   \n",
       "mean   6.078194e+05  1.693425e+06  1.738987e+06  1.793620e+06  1.912977e+06   \n",
       "std    8.303667e+06  1.395698e+07  1.443706e+07  1.492402e+07  1.550226e+07   \n",
       "min   -3.658569e+00 -2.950945e+00 -3.174870e+00 -3.558749e+00 -2.973612e+00   \n",
       "25%    1.300000e+00  1.121230e+01  1.129032e+01  1.159696e+01  1.170576e+01   \n",
       "50%    8.640000e+00  7.313044e+01  7.275707e+01  7.402010e+01  7.646471e+01   \n",
       "75%    6.455620e+01  3.838875e+04  3.853800e+04  3.987600e+04  4.384200e+04   \n",
       "max    5.018025e+08  5.136911e+08  5.425503e+08  5.731843e+08  5.868360e+08   \n",
       "\n",
       "       ...           2055           2060          2065           2070  \\\n",
       "count  ...   39078.000000   39078.000000   39078.00000   39078.000000   \n",
       "mean   ...     177.836012     175.451029     172.26560     168.051019   \n",
       "std    ...    3710.852786    3727.457754    3718.50334    3680.218768   \n",
       "min    ...       0.000000       0.000000       0.00000       0.000000   \n",
       "25%    ...       0.020000       0.020000       0.01000       0.010000   \n",
       "50%    ...       0.150000       0.150000       0.15000       0.140000   \n",
       "75%    ...       0.470000       0.480000       0.48000       0.480000   \n",
       "max    ...  296385.020000  298919.310000  298400.94000  294214.750000   \n",
       "\n",
       "                2075           2080           2085           2090  \\\n",
       "count   39078.000000   39078.000000   39078.000000   39078.000000   \n",
       "mean      163.077514     158.014110     153.281060     148.722589   \n",
       "std      3617.603800    3546.594567    3477.266798    3406.988971   \n",
       "min         0.000000       0.000000       0.000000       0.000000   \n",
       "25%         0.010000       0.010000       0.000000       0.000000   \n",
       "50%         0.140000       0.130000       0.120000       0.110000   \n",
       "75%         0.490000       0.490000       0.500000       0.500000   \n",
       "max    287515.290000  279805.970000  272636.500000  265534.890000   \n",
       "\n",
       "                2095           2100  \n",
       "count   39078.000000   39078.000000  \n",
       "mean      143.940350     138.715487  \n",
       "std      3326.946673    3231.418190  \n",
       "min         0.000000       0.000000  \n",
       "25%         0.000000       0.000000  \n",
       "50%         0.100000       0.100000  \n",
       "75%         0.500000       0.500000  \n",
       "max    256931.870000  246990.270000  \n",
       "\n",
       "[8 rows x 65 columns]"
      ]
     },
     "execution_count": 124,
     "metadata": {},
     "output_type": "execute_result"
    }
   ],
   "source": [
    "describe"
   ]
  },
  {
   "cell_type": "code",
   "execution_count": 151,
   "metadata": {},
   "outputs": [],
   "source": [
    "years = describe.columns.values"
   ]
  },
  {
   "cell_type": "code",
   "execution_count": 153,
   "metadata": {},
   "outputs": [],
   "source": [
    "years = years.astype(int)"
   ]
  },
  {
   "cell_type": "code",
   "execution_count": 181,
   "metadata": {},
   "outputs": [],
   "source": [
    "filter_past = years < 2020\n",
    "filter_future = years > 2019"
   ]
  },
  {
   "cell_type": "code",
   "execution_count": 182,
   "metadata": {},
   "outputs": [],
   "source": [
    "years_past = years[filter_past]\n",
    "years_future = years[filter_future]"
   ]
  },
  {
   "cell_type": "code",
   "execution_count": 183,
   "metadata": {},
   "outputs": [],
   "source": [
    "counts_past = describe[years_past.astype(str)].iloc[0]\n",
    "counts_future = describe[years_future.astype(str)].iloc[0]"
   ]
  },
  {
   "cell_type": "code",
   "execution_count": 186,
   "metadata": {},
   "outputs": [
    {
     "data": {
      "text/plain": [
       "<matplotlib.legend.Legend at 0x14307c7f0>"
      ]
     },
     "execution_count": 186,
     "metadata": {},
     "output_type": "execute_result"
    },
    {
     "data": {
      "image/png": "[encoded data removed]",
      "text/plain": [
       "<Figure size 1440x576 with 1 Axes>"
      ]
     },
     "metadata": {},
     "output_type": "display_data"
    }
   ],
   "source": [
    "fig = plt.figure(figsize=(20,8))\n",
    "plt.title(\"Nombre d'indicateurs par an\", fontsize=25)\n",
    "plt.axis([1970, 2050, 0, 200000])\n",
    "\n",
    "plt.bar(years_past, counts_past, color='g', label='Données passées')\n",
    "plt.bar(years_future, counts_future, color='orange', width=1, label='Données prédites')\n",
    "plt.xticks(years[years < 2050], rotation=90, fontsize=14)\n",
    "plt.yticks(fontsize=18)\n",
    "plt.legend(fontsize=18)"
   ]
  },
  {
   "cell_type": "markdown",
   "metadata": {},
   "source": [
    "Pas de données sures après 2017. Les predicitions ont commencées en 2020. On voit que beaucoup d'indicateurs ne sont rensignés que tous les 5 ans, tout comme les prédictions"
   ]
  },
  {
   "cell_type": "markdown",
   "metadata": {},
   "source": [
    "### Afin de faire une première sélection des pays. Nous allons regarder dans quels pays l'accès à internet est assuré"
   ]
  },
  {
   "cell_type": "code",
   "execution_count": 116,
   "metadata": {},
   "outputs": [
    {
     "data": {
      "text/plain": [
       "Index(['Country Name', 'Country Code', 'Indicator Name_x', 'Indicator Code',\n",
       "       '1970', '1971', '1972', '1973', '1974', '1975', '1976', '1977', '1978',\n",
       "       '1979', '1980', '1981', '1982', '1983', '1984', '1985', '1986', '1987',\n",
       "       '1988', '1989', '1990', '1991', '1992', '1993', '1994', '1995', '1996',\n",
       "       '1997', '1998', '1999', '2000', '2001', '2002', '2003', '2004', '2005',\n",
       "       '2006', '2007', '2008', '2009', '2010', '2011', '2012', '2013', '2014',\n",
       "       '2015', '2016', '2017', '2020', '2025', '2030', '2035', '2040', '2045',\n",
       "       '2050', '2055', '2060', '2065', '2070', '2075', '2080', '2085', '2090',\n",
       "       '2095', '2100', 'Topic', 'Long definition', 'Source', 'Special Notes',\n",
       "       'Region', 'Income Group', 'Latest population census'],\n",
       "      dtype='object')"
      ]
     },
     "execution_count": 116,
     "metadata": {},
     "output_type": "execute_result"
    }
   ],
   "source": [
    "data.columns"
   ]
  },
  {
   "cell_type": "code",
   "execution_count": 117,
   "metadata": {},
   "outputs": [],
   "source": [
    "data = data.rename(columns={'Indicator Name_x': 'Indicator_name'})"
   ]
  },
  {
   "cell_type": "code",
   "execution_count": 118,
   "metadata": {},
   "outputs": [
    {
     "data": {
      "text/plain": [
       "Index(['Country Name', 'Country Code', 'Indicator_name', 'Indicator Code',\n",
       "       '1970', '1971', '1972', '1973', '1974', '1975', '1976', '1977', '1978',\n",
       "       '1979', '1980', '1981', '1982', '1983', '1984', '1985', '1986', '1987',\n",
       "       '1988', '1989', '1990', '1991', '1992', '1993', '1994', '1995', '1996',\n",
       "       '1997', '1998', '1999', '2000', '2001', '2002', '2003', '2004', '2005',\n",
       "       '2006', '2007', '2008', '2009', '2010', '2011', '2012', '2013', '2014',\n",
       "       '2015', '2016', '2017', '2020', '2025', '2030', '2035', '2040', '2045',\n",
       "       '2050', '2055', '2060', '2065', '2070', '2075', '2080', '2085', '2090',\n",
       "       '2095', '2100', 'Topic', 'Long definition', 'Source', 'Special Notes',\n",
       "       'Region', 'Income Group', 'Latest population census'],\n",
       "      dtype='object')"
      ]
     },
     "execution_count": 118,
     "metadata": {},
     "output_type": "execute_result"
    }
   ],
   "source": [
    "data.columns"
   ]
  },
  {
   "cell_type": "code",
   "execution_count": 119,
   "metadata": {},
   "outputs": [
    {
     "data": {
      "text/plain": [
       "0"
      ]
     },
     "execution_count": 119,
     "metadata": {},
     "output_type": "execute_result"
    }
   ],
   "source": [
    "indicateurs_internet = []\n",
    "indicateurs = data['Long definition'].unique()\n",
    "for indicateur in indicateurs:\n",
    "    mots = indicateur.split(' ')\n",
    "    if 'online' in [mot.lower() for mot in mots]:\n",
    "        indicateurs_internet.append(indicateur)\n",
    "len(indicateurs_internet)"
   ]
  },
  {
   "cell_type": "code",
   "execution_count": 120,
   "metadata": {},
   "outputs": [
    {
     "data": {
      "text/plain": [
       "0"
      ]
     },
     "execution_count": 120,
     "metadata": {},
     "output_type": "execute_result"
    }
   ],
   "source": [
    "indicateurs_internet = []\n",
    "indicateurs = data['Long definition'].unique()\n",
    "for indicateur in indicateurs:\n",
    "    mots = indicateur.split(' ')\n",
    "    if 'internet' in mots:\n",
    "        indicateurs_internet.append(indicateur)\n",
    "len(indicateurs_internet)"
   ]
  },
  {
   "cell_type": "markdown",
   "metadata": {},
   "source": [
    "Aucun indicateur ne parle d'accès à internet..."
   ]
  },
  {
   "cell_type": "markdown",
   "metadata": {},
   "source": [
    "### En l'absence d'informations sur l'accès à internet. Nous allons regarder les pays ou la population jeune augmente"
   ]
  },
  {
   "cell_type": "code",
   "execution_count": null,
   "metadata": {},
   "outputs": [],
   "source": []
  }
 ],
 "metadata": {
  "kernelspec": {
   "display_name": "Python 3",
   "language": "python",
   "name": "python3"
  },
  "language_info": {
   "codemirror_mode": {
    "name": "ipython",
    "version": 3
   },
   "file_extension": ".py",
   "mimetype": "text/x-python",
   "name": "python",
   "nbconvert_exporter": "python",
   "pygments_lexer": "ipython3",
   "version": "3.8.3"
  }
 },
 "nbformat": 4,
 "nbformat_minor": 4
}
